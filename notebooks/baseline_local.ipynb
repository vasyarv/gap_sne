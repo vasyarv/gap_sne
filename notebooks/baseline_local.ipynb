{
 "cells": [
  {
   "cell_type": "code",
   "execution_count": 1,
   "metadata": {},
   "outputs": [],
   "source": [
    "%load_ext autoreload\n",
    "%autoreload 2"
   ]
  },
  {
   "cell_type": "code",
   "execution_count": 2,
   "metadata": {},
   "outputs": [
    {
     "name": "stdout",
     "output_type": "stream",
     "text": [
      "Populating the interactive namespace from numpy and matplotlib\n"
     ]
    }
   ],
   "source": [
    "import pandas as pd\n",
    "import numpy as np\n",
    "np.random.seed(132)\n",
    "from functools import lru_cache\n",
    "\n",
    "import sys\n",
    "\n",
    "CODE_PATH = '../code'\n",
    "\n",
    "sys.path.append(CODE_PATH)\n",
    "import functions\n",
    "\n",
    "\n",
    "from sklearn.datasets import load_iris, load_boston, load_breast_cancer, load_wine, load_digits\n",
    "from scipy.optimize import minimize\n",
    "from tqdm import tqdm\n",
    "%pylab inline"
   ]
  },
  {
   "cell_type": "markdown",
   "metadata": {},
   "source": [
    "бостон - градиент уходит в 0  \n",
    "ирис - спустя пару итераций в 0"
   ]
  },
  {
   "cell_type": "code",
   "execution_count": 3,
   "metadata": {},
   "outputs": [
    {
     "name": "stdout",
     "output_type": "stream",
     "text": [
      "(569, 30)\n",
      "[0 0 0 0 0 0 0 0 0 0 0 0 0 0 0 0 0 0 0 1 1 1 0 0 0 0 0 0 0 0 0 0 0 0 0 0 0\n",
      " 1 0 0 0 0 0 0 0 0 1 0 1 1 1 1 1 0 0 1 0 0 1 1 1 1 0 1 0 0 1 1 1 1 0 1 0 0\n",
      " 1 0 1 0 0 1 1 1 0 0 1 0 0 0 1 1 1 0 1 1 0 0 1 1 1 0 0 1 1 1 1 0 1 1 0 1 1\n",
      " 1 1 1 1 1 1 0 0 0 1 0 0 1 1 1 0 0 1 0 1 0 0 1 0 0 1 1 0 1 1 0 1 1 1 1 0 1\n",
      " 1 1 1 1 1 1 1 1 0 1 1 1 1 0 0 1 0 1 1 0 0 1 1 0 0 1 1 1 1 0 1 1 0 0 0 1 0\n",
      " 1 0 1 1 1 0 1 1 0 0 1 0 0 0 0 1 0 0 0 1 0 1 0 1 1 0 1 0 0 0 0 1 1 0 0 1 1\n",
      " 1 0 1 1 1 1 1 0 0 1 1 0 1 1 0 0 1 0 1 1 1 1 0 1 1 1 1 1 0 1 0 0 0 0 0 0 0\n",
      " 0 0 0 0 0 0 0 1 1 1 1 1 1 0 1 0 1 1 0 1 1 0 1 0 0 1 1 1 1 1 1 1 1 1 1 1 1\n",
      " 1 0 1 1 0 1 0 1 1 1 1 1 1 1 1 1 1 1 1 1 1 0 1 1 1 0 1 0 1 1 1 1 0 0 0 1 1\n",
      " 1 1 0 1 0 1 0 1 1 1 0 1 1 1 1 1 1 1 0 0 0 1 1 1 1 1 1 1 1 1 1 1 0 0 1 0 0\n",
      " 0 1 0 0 1 1 1 1 1 0 1 1 1 1 1 0 1 1 1 0 1 1 0 0 1 1 1 1 1 1 0 1 1 1 1 1 1\n",
      " 1 0 1 1 1 1 1 0 1 1 0 1 1 1 1 1 1 1 1 1 1 1 1 0 1 0 0 1 0 1 1 1 1 1 0 1 1\n",
      " 0 1 0 1 1 0 1 0 1 1 1 1 1 1 1 1 0 0 1 1 1 1 1 1 0 1 1 1 1 1 1 1 1 1 1 0 1\n",
      " 1 1 1 1 1 1 0 1 0 1 1 0 1 1 1 1 1 0 0 1 0 1 0 1 1 1 1 1 0 1 1 0 1 0 1 0 0\n",
      " 1 1 1 0 1 1 1 1 1 1 1 1 1 1 1 0 1 0 0 1 1 1 1 1 1 1 1 1 1 1 1 1 1 1 1 1 1\n",
      " 1 1 1 1 1 1 1 0 0 0 0 0 0 1]\n"
     ]
    },
    {
     "data": {
      "text/html": [
       "<div>\n",
       "<style>\n",
       "    .dataframe thead tr:only-child th {\n",
       "        text-align: right;\n",
       "    }\n",
       "\n",
       "    .dataframe thead th {\n",
       "        text-align: left;\n",
       "    }\n",
       "\n",
       "    .dataframe tbody tr th {\n",
       "        vertical-align: top;\n",
       "    }\n",
       "</style>\n",
       "<table border=\"1\" class=\"dataframe\">\n",
       "  <thead>\n",
       "    <tr style=\"text-align: right;\">\n",
       "      <th></th>\n",
       "      <th>0</th>\n",
       "      <th>1</th>\n",
       "      <th>2</th>\n",
       "      <th>3</th>\n",
       "      <th>4</th>\n",
       "      <th>5</th>\n",
       "      <th>6</th>\n",
       "      <th>7</th>\n",
       "      <th>8</th>\n",
       "      <th>9</th>\n",
       "      <th>...</th>\n",
       "      <th>20</th>\n",
       "      <th>21</th>\n",
       "      <th>22</th>\n",
       "      <th>23</th>\n",
       "      <th>24</th>\n",
       "      <th>25</th>\n",
       "      <th>26</th>\n",
       "      <th>27</th>\n",
       "      <th>28</th>\n",
       "      <th>29</th>\n",
       "    </tr>\n",
       "  </thead>\n",
       "  <tbody>\n",
       "    <tr>\n",
       "      <th>0</th>\n",
       "      <td>0.182815</td>\n",
       "      <td>-0.301307</td>\n",
       "      <td>0.213053</td>\n",
       "      <td>0.146813</td>\n",
       "      <td>0.198968</td>\n",
       "      <td>0.531437</td>\n",
       "      <td>0.495081</td>\n",
       "      <td>0.487976</td>\n",
       "      <td>0.306758</td>\n",
       "      <td>0.335139</td>\n",
       "      <td>...</td>\n",
       "      <td>0.324113</td>\n",
       "      <td>-0.222474</td>\n",
       "      <td>0.385173</td>\n",
       "      <td>0.279792</td>\n",
       "      <td>0.196998</td>\n",
       "      <td>0.399079</td>\n",
       "      <td>0.351207</td>\n",
       "      <td>0.518192</td>\n",
       "      <td>0.335156</td>\n",
       "      <td>0.229268</td>\n",
       "    </tr>\n",
       "    <tr>\n",
       "      <th>1</th>\n",
       "      <td>0.304923</td>\n",
       "      <td>-0.051392</td>\n",
       "      <td>0.282848</td>\n",
       "      <td>0.284671</td>\n",
       "      <td>-0.104905</td>\n",
       "      <td>-0.078833</td>\n",
       "      <td>-0.004450</td>\n",
       "      <td>0.105621</td>\n",
       "      <td>0.000193</td>\n",
       "      <td>-0.129057</td>\n",
       "      <td>...</td>\n",
       "      <td>0.310239</td>\n",
       "      <td>-0.060427</td>\n",
       "      <td>0.256680</td>\n",
       "      <td>0.264308</td>\n",
       "      <td>-0.056585</td>\n",
       "      <td>-0.065649</td>\n",
       "      <td>-0.024432</td>\n",
       "      <td>0.245339</td>\n",
       "      <td>-0.029717</td>\n",
       "      <td>0.033282</td>\n",
       "    </tr>\n",
       "    <tr>\n",
       "      <th>2</th>\n",
       "      <td>0.263274</td>\n",
       "      <td>0.066295</td>\n",
       "      <td>0.262808</td>\n",
       "      <td>0.232497</td>\n",
       "      <td>0.119524</td>\n",
       "      <td>0.170416</td>\n",
       "      <td>0.254453</td>\n",
       "      <td>0.392549</td>\n",
       "      <td>0.129991</td>\n",
       "      <td>-0.059132</td>\n",
       "      <td>...</td>\n",
       "      <td>0.259723</td>\n",
       "      <td>-0.003924</td>\n",
       "      <td>0.225304</td>\n",
       "      <td>0.203602</td>\n",
       "      <td>0.079452</td>\n",
       "      <td>0.165163</td>\n",
       "      <td>0.142341</td>\n",
       "      <td>0.441216</td>\n",
       "      <td>0.140399</td>\n",
       "      <td>0.023837</td>\n",
       "    </tr>\n",
       "    <tr>\n",
       "      <th>3</th>\n",
       "      <td>-0.128132</td>\n",
       "      <td>0.036874</td>\n",
       "      <td>-0.099434</td>\n",
       "      <td>-0.114014</td>\n",
       "      <td>0.416536</td>\n",
       "      <td>0.550761</td>\n",
       "      <td>0.357546</td>\n",
       "      <td>0.279726</td>\n",
       "      <td>0.396657</td>\n",
       "      <td>0.729621</td>\n",
       "      <td>...</td>\n",
       "      <td>-0.048353</td>\n",
       "      <td>0.021929</td>\n",
       "      <td>-0.041791</td>\n",
       "      <td>-0.076898</td>\n",
       "      <td>0.511335</td>\n",
       "      <td>0.593799</td>\n",
       "      <td>0.331239</td>\n",
       "      <td>0.491044</td>\n",
       "      <td>0.736693</td>\n",
       "      <td>0.584115</td>\n",
       "    </tr>\n",
       "    <tr>\n",
       "      <th>4</th>\n",
       "      <td>0.291671</td>\n",
       "      <td>-0.167388</td>\n",
       "      <td>0.298051</td>\n",
       "      <td>0.272369</td>\n",
       "      <td>0.035567</td>\n",
       "      <td>0.087292</td>\n",
       "      <td>0.255859</td>\n",
       "      <td>0.275253</td>\n",
       "      <td>-0.001323</td>\n",
       "      <td>-0.083564</td>\n",
       "      <td>...</td>\n",
       "      <td>0.223081</td>\n",
       "      <td>-0.240065</td>\n",
       "      <td>0.223810</td>\n",
       "      <td>0.170669</td>\n",
       "      <td>0.033226</td>\n",
       "      <td>-0.047797</td>\n",
       "      <td>0.102086</td>\n",
       "      <td>0.164583</td>\n",
       "      <td>-0.105806</td>\n",
       "      <td>-0.047001</td>\n",
       "    </tr>\n",
       "  </tbody>\n",
       "</table>\n",
       "<p>5 rows × 30 columns</p>\n",
       "</div>"
      ],
      "text/plain": [
       "         0         1         2         3         4         5         6   \\\n",
       "0  0.182815 -0.301307  0.213053  0.146813  0.198968  0.531437  0.495081   \n",
       "1  0.304923 -0.051392  0.282848  0.284671 -0.104905 -0.078833 -0.004450   \n",
       "2  0.263274  0.066295  0.262808  0.232497  0.119524  0.170416  0.254453   \n",
       "3 -0.128132  0.036874 -0.099434 -0.114014  0.416536  0.550761  0.357546   \n",
       "4  0.291671 -0.167388  0.298051  0.272369  0.035567  0.087292  0.255859   \n",
       "\n",
       "         7         8         9     ...           20        21        22  \\\n",
       "0  0.487976  0.306758  0.335139    ...     0.324113 -0.222474  0.385173   \n",
       "1  0.105621  0.000193 -0.129057    ...     0.310239 -0.060427  0.256680   \n",
       "2  0.392549  0.129991 -0.059132    ...     0.259723 -0.003924  0.225304   \n",
       "3  0.279726  0.396657  0.729621    ...    -0.048353  0.021929 -0.041791   \n",
       "4  0.275253 -0.001323 -0.083564    ...     0.223081 -0.240065  0.223810   \n",
       "\n",
       "         23        24        25        26        27        28        29  \n",
       "0  0.279792  0.196998  0.399079  0.351207  0.518192  0.335156  0.229268  \n",
       "1  0.264308 -0.056585 -0.065649 -0.024432  0.245339 -0.029717  0.033282  \n",
       "2  0.203602  0.079452  0.165163  0.142341  0.441216  0.140399  0.023837  \n",
       "3 -0.076898  0.511335  0.593799  0.331239  0.491044  0.736693  0.584115  \n",
       "4  0.170669  0.033226 -0.047797  0.102086  0.164583 -0.105806 -0.047001  \n",
       "\n",
       "[5 rows x 30 columns]"
      ]
     },
     "execution_count": 3,
     "metadata": {},
     "output_type": "execute_result"
    }
   ],
   "source": [
    "dataset = load_breast_cancer()\n",
    "# dataset = load_boston()\n",
    "df = pd.DataFrame(dataset['data'])\n",
    "target = dataset['target']\n",
    "df = (df - df.mean())/(df.max() - df.min())\n",
    "df0 = df.copy()\n",
    "print(df.shape)\n",
    "print(target)\n",
    "df.head()"
   ]
  },
  {
   "cell_type": "code",
   "execution_count": 4,
   "metadata": {
    "scrolled": true
   },
   "outputs": [
    {
     "name": "stderr",
     "output_type": "stream",
     "text": [
      "/Users/kek/mlenv/lib/python3.6/site-packages/ipykernel_launcher.py:3: DeprecationWarning: This function is deprecated. Please call randint(0, 29 + 1) instead\n",
      "  This is separate from the ipykernel package so we can avoid doing imports until\n"
     ]
    }
   ],
   "source": [
    "num_nan_cols = 2\n",
    "nan_fraction = 0.3\n",
    "nan_cols = np.random.random_integers(0, df.shape[1] - 1, num_nan_cols)\n",
    "# print(df.isnull().mean())\n",
    "for col in set(nan_cols):\n",
    "    df.loc[df.sample(int(nan_fraction * len(df))).index, col] = np.nan\n",
    "# print(df.isnull().mean())\n",
    "# print(df.isnull().mean())"
   ]
  },
  {
   "cell_type": "code",
   "execution_count": 5,
   "metadata": {
    "scrolled": true
   },
   "outputs": [
    {
     "name": "stdout",
     "output_type": "stream",
     "text": [
      "Num nan places: 340\n"
     ]
    }
   ],
   "source": [
    "nan_coords = np.array(np.where(df.isnull().values)).T\n",
    "print('Num nan places: {}'.format(nan_coords.shape[0]))"
   ]
  },
  {
   "cell_type": "markdown",
   "metadata": {},
   "source": [
    "Считаем по каждой паре i_1 i_2 из coords градиент"
   ]
  },
  {
   "cell_type": "code",
   "execution_count": 6,
   "metadata": {},
   "outputs": [
    {
     "name": "stdout",
     "output_type": "stream",
     "text": [
      "(569, 28) (569, 30)\n"
     ]
    }
   ],
   "source": [
    "df1 = df.loc[:, df.isnull().sum() == 0]\n",
    "df2 = df.fillna(df.mean())\n",
    "print(df1.shape, df2.shape)\n",
    "arr_nan = df.values\n",
    "arr_raw = df0.values # исходные\n",
    "arr_known = df1.values # суженные до известных признаков\n",
    "arr_pred = df2.values # текущие предсказанные \n",
    "# print(arr0.shape, arr1.shape, arr2.shape)\n",
    "# print(np.isnan(arr0).sum(), np.isnan(arr1).sum(), np.isnan(arr2).sum())"
   ]
  },
  {
   "cell_type": "markdown",
   "metadata": {},
   "source": [
    "# Пилим необходимые функции\n",
    "\n",
    "df - исходная с прочерками    \n",
    "df0 - копия исходной таблицы без прочерков  \n",
    "df1 - сокращенная до ненулевых признаков  \n",
    "df2 - исходная с восстановленными  \n",
    "arr0,arr1,arr2 аналогично"
   ]
  },
  {
   "cell_type": "code",
   "execution_count": 7,
   "metadata": {},
   "outputs": [],
   "source": [
    "# ищем для каждого объекта соседей (по известным признакам или по всем?). Наверное по всем\n",
    "# выбираем пропуск\n",
    "# считаем среднее значение по всем соседям\n",
    "# делаем сдвиг\n",
    "from sklearn.neighbors import NearestNeighbors\n",
    "k = 3\n",
    "nbrs = NearestNeighbors(n_neighbors=k, algorithm='ball_tree').fit(arr_pred)"
   ]
  },
  {
   "cell_type": "code",
   "execution_count": 24,
   "metadata": {},
   "outputs": [],
   "source": [
    "# xt += teta(mean - xt-1)\n",
    "def get_delta_vec():\n",
    "    teta = 0.1\n",
    "    deltas = []\n",
    "    _, heighbours = nbrs.kneighbors(arr_pred)\n",
    "    for i, j in nan_coords:\n",
    "        mean_neigh = arr_pred[heighbours[i]].mean(axis=0)[j]\n",
    "        deltas.append(teta*(mean_neigh - arr_pred[i][j]))\n",
    "    return np.array(deltas)"
   ]
  },
  {
   "cell_type": "markdown",
   "metadata": {},
   "source": [
    "Тестовый прогон"
   ]
  },
  {
   "cell_type": "markdown",
   "metadata": {},
   "source": [
    "# Iterative process"
   ]
  },
  {
   "cell_type": "code",
   "execution_count": 29,
   "metadata": {
    "scrolled": false
   },
   "outputs": [
    {
     "name": "stdout",
     "output_type": "stream",
     "text": [
      "\tIteration 1  mae 0.143407 // rmse 0.0290213 \n",
      "\tIteration 2  mae 0.143538 // rmse 0.0290651 \n",
      "\tIteration 3  mae 0.145535 // rmse 0.0297416 \n",
      "\tIteration 4  mae 0.144018 // rmse 0.0292271 \n",
      "\tIteration 5  mae 0.1548 // rmse 0.0330899 \n",
      "\tIteration 6  mae 0.152044 // rmse 0.0320564 \n",
      "\tIteration 7  mae 0.152044 // rmse 0.0320564 \n",
      "\tIteration 8  mae 0.152074 // rmse 0.0320674 \n",
      "\tIteration 9  mae 0.153302 // rmse 0.0325251 \n",
      "\tIteration 10  mae 0.157322 // rmse 0.0340395 \n",
      "\tIteration 11  mae 0.155155 // rmse 0.0332229 \n",
      "\tIteration 12  mae 0.155307 // rmse 0.0332793 \n",
      "\tIteration 13  mae 0.155307 // rmse 0.0332793 \n",
      "\tIteration 14  mae 0.155316 // rmse 0.0332823 \n",
      "\tIteration 15  mae 0.154607 // rmse 0.0330171 \n",
      "\tIteration 16  mae 0.151373 // rmse 0.0318089 \n",
      "\tIteration 17  mae 0.155115 // rmse 0.033208 \n",
      "\tIteration 18  mae 0.154847 // rmse 0.0331075 \n",
      "\tIteration 19  mae 0.154847 // rmse 0.0331075 \n",
      "\tIteration 20  mae 0.154847 // rmse 0.0331075 \n",
      "\tIteration 21  mae 0.1507 // rmse 0.0315635 \n",
      "\tIteration 22  mae 0.151407 // rmse 0.0318213 \n",
      "\tIteration 23  mae 0.145465 // rmse 0.0297179 \n",
      "\tIteration 24  mae 0.145465 // rmse 0.0297179 \n",
      "\tIteration 25  mae 0.14322 // rmse 0.0289589 \n",
      "\tIteration 26  mae 0.14322 // rmse 0.0289589 \n",
      "\tIteration 27  mae 0.145755 // rmse 0.0298167 \n",
      "\tIteration 28  mae 0.142982 // rmse 0.0288803 \n",
      "\tIteration 29  mae 0.14349 // rmse 0.0290491 \n",
      "\tIteration 30  mae 0.143424 // rmse 0.0290271 \n",
      "\tIteration 31  mae 0.139742 // rmse 0.0278283 \n",
      "\tIteration 32  mae 0.13948 // rmse 0.0277441 \n",
      "\tIteration 33  mae 0.138002 // rmse 0.0272639 \n",
      "\tIteration 34  mae 0.140569 // rmse 0.0280953 \n",
      "\tIteration 35  mae 0.138945 // rmse 0.0275716 \n",
      "\tIteration 36  mae 0.138945 // rmse 0.0275716 \n",
      "\tIteration 37  mae 0.136916 // rmse 0.0269166 \n",
      "\tIteration 38  mae 0.135648 // rmse 0.0265201 \n",
      "\tIteration 39  mae 0.135648 // rmse 0.0265201 \n",
      "\tIteration 40  mae 0.134854 // rmse 0.0262742 \n",
      "\tIteration 41  mae 0.131968 // rmse 0.0254206 \n",
      "\tIteration 42  mae 0.130643 // rmse 0.0250596 \n",
      "\tIteration 43  mae 0.130643 // rmse 0.0250596 \n",
      "\tIteration 44  mae 0.130694 // rmse 0.0250731 \n",
      "\tIteration 45  mae 0.129457 // rmse 0.0247494 \n",
      "\tIteration 46  mae 0.130307 // rmse 0.0249726 \n",
      "\tIteration 47  mae 0.129425 // rmse 0.0247412 \n",
      "\tIteration 48  mae 0.129425 // rmse 0.0247412 \n",
      "\tIteration 49  mae 0.12883 // rmse 0.024591 \n",
      "\tIteration 50  mae 0.129241 // rmse 0.024694 \n",
      "\tIteration 51  mae 0.131105 // rmse 0.0251823 \n",
      "\tIteration 52  mae 0.130487 // rmse 0.0250191 \n",
      "\tIteration 53  mae 0.130487 // rmse 0.0250191 \n",
      "\tIteration 54  mae 0.130583 // rmse 0.0250439 \n",
      "\tIteration 55  mae 0.131356 // rmse 0.0252506 \n",
      "\tIteration 56  mae 0.132314 // rmse 0.0255181 \n",
      "\tIteration 57  mae 0.131023 // rmse 0.0251603 \n",
      "\tIteration 58  mae 0.128136 // rmse 0.0244209 \n",
      "\tIteration 59  mae 0.127583 // rmse 0.0242902 \n",
      "\tIteration 60  mae 0.127017 // rmse 0.0241619 \n",
      "\tIteration 61  mae 0.12593 // rmse 0.0239188 \n",
      "\tIteration 62  mae 0.123823 // rmse 0.0234988 \n",
      "\tIteration 63  mae 0.124522 // rmse 0.0236294 \n",
      "\tIteration 64  mae 0.123143 // rmse 0.0233812 \n",
      "\tIteration 65  mae 0.121787 // rmse 0.0231761 \n",
      "\tIteration 66  mae 0.122295 // rmse 0.0232482 \n",
      "\tIteration 67  mae 0.121444 // rmse 0.0231312 \n",
      "\tIteration 68  mae 0.121444 // rmse 0.0231312 \n",
      "\tIteration 69  mae 0.121339 // rmse 0.023118 \n",
      "\tIteration 70  mae 0.124623 // rmse 0.0236489 \n",
      "\tIteration 71  mae 0.124623 // rmse 0.0236489 \n",
      "\tIteration 72  mae 0.124623 // rmse 0.0236489 \n",
      "\tIteration 73  mae 0.124766 // rmse 0.0236767 \n",
      "\tIteration 74  mae 0.134789 // rmse 0.0262543 \n",
      "\tIteration 75  mae 0.133438 // rmse 0.0258439 \n",
      "\tIteration 76  mae 0.131633 // rmse 0.025327 \n",
      "\tIteration 77  mae 0.131595 // rmse 0.0253165 \n",
      "\tIteration 78  mae 0.130868 // rmse 0.0251189 \n",
      "\tIteration 79  mae 0.130367 // rmse 0.0249881 \n",
      "\tIteration 80  mae 0.130367 // rmse 0.0249881 \n",
      "\tIteration 81  mae 0.12956 // rmse 0.0247764 \n",
      "\tIteration 82  mae 0.129412 // rmse 0.024738 \n",
      "\tIteration 83  mae 0.129412 // rmse 0.024738 \n",
      "\tIteration 84  mae 0.129412 // rmse 0.024738 \n",
      "\tIteration 85  mae 0.128837 // rmse 0.0245926 \n",
      "\tIteration 86  mae 0.12817 // rmse 0.0244293 \n",
      "\tIteration 87  mae 0.12817 // rmse 0.0244293 \n",
      "\tIteration 88  mae 0.128501 // rmse 0.0245104 \n",
      "\tIteration 89  mae 0.140759 // rmse 0.0281572 \n",
      "\tIteration 90  mae 0.140759 // rmse 0.0281572 \n",
      "\tIteration 91  mae 0.139296 // rmse 0.027685 \n",
      "\tIteration 92  mae 0.138491 // rmse 0.0274232 \n",
      "\tIteration 93  mae 0.138491 // rmse 0.0274232 \n",
      "\tIteration 94  mae 0.141453 // rmse 0.0283816 \n",
      "\tIteration 95  mae 0.14183 // rmse 0.0285039 \n",
      "\tIteration 96  mae 0.14183 // rmse 0.0285039 \n",
      "\tIteration 97  mae 0.139916 // rmse 0.0278848 \n",
      "\tIteration 98  mae 0.139916 // rmse 0.0278848 \n",
      "\tIteration 99  mae 0.139543 // rmse 0.0277643 \n",
      "\tIteration 100  mae 0.138034 // rmse 0.0272745 \n"
     ]
    }
   ],
   "source": [
    "max_iter = 100\n",
    "maes = []\n",
    "msqes = []\n",
    "for i in range(max_iter):\n",
    "    deltas = get_delta_vec()\n",
    "    nbrs = NearestNeighbors(n_neighbors=k, algorithm='ball_tree').fit(arr_pred) # пересчитываем\n",
    "    for j, (x,y) in enumerate(nan_coords):\n",
    "        arr_pred[x, y] += deltas[i]\n",
    "        \n",
    "    mae = functions.get_mae(arr_raw, arr_pred, nan_coords)\n",
    "    msqe = functions.get_msqe(arr_raw, arr_pred, nan_coords)\n",
    "    \n",
    "    maes.append(mae)\n",
    "    msqes.append(msqe)\n",
    "    print('\\tIteration {}  mae {:.6} // rmse {:.6} '.format(i+1, mae, msqe))"
   ]
  },
  {
   "cell_type": "code",
   "execution_count": 31,
   "metadata": {},
   "outputs": [
    {
     "data": {
      "text/plain": [
       "[<matplotlib.lines.Line2D at 0x1101dc9e8>]"
      ]
     },
     "execution_count": 31,
     "metadata": {},
     "output_type": "execute_result"
    },
    {
     "data": {
      "image/png": "[encoded data removed]",
      "text/plain": [
       "<matplotlib.figure.Figure at 0x10fe5def0>"
      ]
     },
     "metadata": {},
     "output_type": "display_data"
    }
   ],
   "source": [
    "plot(msqes)"
   ]
  },
  {
   "cell_type": "code",
   "execution_count": null,
   "metadata": {},
   "outputs": [],
   "source": [
    "grad"
   ]
  }
 ],
 "metadata": {
  "kernelspec": {
   "display_name": "Python 3",
   "language": "python",
   "name": "python3"
  },
  "language_info": {
   "codemirror_mode": {
    "name": "ipython",
    "version": 3
   },
   "file_extension": ".py",
   "mimetype": "text/x-python",
   "name": "python",
   "nbconvert_exporter": "python",
   "pygments_lexer": "ipython3",
   "version": "3.6.3"
  }
 },
 "nbformat": 4,
 "nbformat_minor": 2
}
