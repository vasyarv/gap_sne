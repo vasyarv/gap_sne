{
 "cells": [
  {
   "cell_type": "code",
   "execution_count": 73,
   "metadata": {},
   "outputs": [
    {
     "name": "stdout",
     "output_type": "stream",
     "text": [
      "The autoreload extension is already loaded. To reload it, use:\n",
      "  %reload_ext autoreload\n"
     ]
    }
   ],
   "source": [
    "%load_ext autoreload\n",
    "%autoreload 2"
   ]
  },
  {
   "cell_type": "code",
   "execution_count": 74,
   "metadata": {},
   "outputs": [
    {
     "name": "stdout",
     "output_type": "stream",
     "text": [
      "Populating the interactive namespace from numpy and matplotlib\n"
     ]
    }
   ],
   "source": [
    "import pandas as pd\n",
    "import numpy as np\n",
    "np.random.seed(132)\n",
    "from functools import lru_cache\n",
    "\n",
    "import sys\n",
    "\n",
    "CODE_PATH = '../code'\n",
    "\n",
    "sys.path.append(CODE_PATH)\n",
    "import functions\n",
    "\n",
    "from sklearn.model_selection import train_test_split\n",
    "from sklearn.metrics import accuracy_score, f1_score\n",
    "from sklearn.datasets import load_iris, load_boston, load_breast_cancer, load_wine, load_digits\n",
    "from scipy.optimize import minimize\n",
    "from sklearn.linear_model import LogisticRegression\n",
    "from tqdm import tqdm\n",
    "\n",
    "%pylab inline"
   ]
  },
  {
   "cell_type": "markdown",
   "metadata": {},
   "source": [
    "# Берем выборку"
   ]
  },
  {
   "cell_type": "code",
   "execution_count": 65,
   "metadata": {
    "scrolled": true
   },
   "outputs": [
    {
     "name": "stdout",
     "output_type": "stream",
     "text": [
      "(6335, 100) (2263, 100) (2716, 100)\n"
     ]
    }
   ],
   "source": [
    "from sklearn.feature_extraction.text import TfidfVectorizer, CountVectorizer\n",
    "from sklearn.datasets import fetch_20newsgroups\n",
    "\n",
    "twenty_train = fetch_20newsgroups(subset='train', shuffle=True, random_state=42)\n",
    "cv = TfidfVectorizer(max_features=100)\n",
    "cv = CountVectorizer(max_features=100)\n",
    "\n",
    "X = cv.fit_transform(twenty_train.data).toarray()\n",
    "target = twenty_train.target\n",
    "\n",
    "X_train, X_test, y_train, y_test = train_test_split(X, target, test_size=0.2, random_state=42, stratify=y)\n",
    "X_train, X_val, y_train, y_val = train_test_split(X_train, y_train, test_size=0.3, \n",
    "                                                  random_state=42, stratify=y_train)\n",
    "print(X_train.shape, X_test.shape, X_val.shape)"
   ]
  },
  {
   "cell_type": "code",
   "execution_count": 75,
   "metadata": {},
   "outputs": [
    {
     "name": "stdout",
     "output_type": "stream",
     "text": [
      "(1005, 64) (360, 64) (432, 64)\n"
     ]
    }
   ],
   "source": [
    "# dataset = load_breast_cancer()\n",
    "dataset = load_digits()\n",
    "df = pd.DataFrame(dataset['data'])\n",
    "target = dataset['target']\n",
    "\n",
    "# df = pd.read_csv('../data/model_25_25.csv')\n",
    "# target = df['target'].astype(int).values\n",
    "# del df['target']\n",
    "\n",
    "X_train, X_test, y_train, y_test = train_test_split(df.values, target, test_size=0.2, random_state=42)\n",
    "X_train, X_val, y_train, y_val = train_test_split(X_train, y_train, test_size=0.3, random_state=42)\n",
    "print(X_train.shape, X_test.shape, X_val.shape)"
   ]
  },
  {
   "cell_type": "markdown",
   "metadata": {},
   "source": [
    "# N случайных дихотомий (без отбора)"
   ]
  },
  {
   "cell_type": "code",
   "execution_count": 66,
   "metadata": {
    "scrolled": true
   },
   "outputs": [
    {
     "name": "stderr",
     "output_type": "stream",
     "text": [
      "  0%|          | 0/5 [00:00<?, ?it/s]\n",
      "Adding dich:   0%|          | 0/100 [00:00<?, ?it/s]\u001b[A\n",
      "Adding dich: 100%|██████████| 100/100 [00:00<00:00, 28759.63it/s]\u001b[A\n",
      "Training dich classifiers:   0%|          | 0/100 [00:00<?, ?it/s]\u001b[A"
     ]
    },
    {
     "name": "stdout",
     "output_type": "stream",
     "text": [
      "Code Matrix shape == (20,100)\n"
     ]
    },
    {
     "name": "stderr",
     "output_type": "stream",
     "text": [
      "\n",
      "Training dich classifiers:   1%|          | 1/100 [00:00<00:21,  4.70it/s]\u001b[A\n",
      "Training dich classifiers:   2%|▏         | 2/100 [00:00<00:19,  5.10it/s]\u001b[A\n",
      "Training dich classifiers:   3%|▎         | 3/100 [00:00<00:17,  5.68it/s]\u001b[A\n",
      "Training dich classifiers:   4%|▍         | 4/100 [00:00<00:18,  5.26it/s]\u001b[A\n",
      "Training dich classifiers:   5%|▌         | 5/100 [00:00<00:17,  5.34it/s]\u001b[A\n",
      "Training dich classifiers:   6%|▌         | 6/100 [00:01<00:17,  5.41it/s]\u001b[A\n",
      "Training dich classifiers:   7%|▋         | 7/100 [00:01<00:17,  5.33it/s]\u001b[A\n",
      "Training dich classifiers:   8%|▊         | 8/100 [00:01<00:16,  5.43it/s]\u001b[A\n",
      "Training dich classifiers:   9%|▉         | 9/100 [00:01<00:16,  5.52it/s]\u001b[A\n",
      "Training dich classifiers:  10%|█         | 10/100 [00:01<00:15,  5.63it/s]\u001b[A\n",
      "Training dich classifiers:  11%|█         | 11/100 [00:01<00:15,  5.74it/s]\u001b[A\n",
      "Training dich classifiers:  12%|█▏        | 12/100 [00:02<00:14,  5.91it/s]\u001b[A\n",
      "Training dich classifiers:  13%|█▎        | 13/100 [00:02<00:14,  5.97it/s]\u001b[A\n",
      "Training dich classifiers:  14%|█▍        | 14/100 [00:02<00:14,  6.02it/s]\u001b[A\n",
      "Training dich classifiers:  15%|█▌        | 15/100 [00:02<00:13,  6.08it/s]\u001b[A\n",
      "Training dich classifiers:  16%|█▌        | 16/100 [00:02<00:13,  6.04it/s]\u001b[A\n",
      "Training dich classifiers:  17%|█▋        | 17/100 [00:02<00:13,  5.95it/s]\u001b[A\n",
      "Training dich classifiers:  18%|█▊        | 18/100 [00:03<00:13,  5.91it/s]\u001b[A\n",
      "Training dich classifiers:  19%|█▉        | 19/100 [00:03<00:13,  5.83it/s]\u001b[A\n",
      "Training dich classifiers:  20%|██        | 20/100 [00:03<00:14,  5.66it/s]\u001b[A\n",
      "Training dich classifiers:  21%|██        | 21/100 [00:03<00:13,  5.68it/s]\u001b[A\n",
      "Training dich classifiers:  22%|██▏       | 22/100 [00:03<00:13,  5.73it/s]\u001b[A\n",
      "Training dich classifiers:  23%|██▎       | 23/100 [00:03<00:13,  5.78it/s]\u001b[A\n",
      "Training dich classifiers:  24%|██▍       | 24/100 [00:04<00:13,  5.78it/s]\u001b[A\n",
      "Training dich classifiers:  25%|██▌       | 25/100 [00:04<00:12,  5.78it/s]\u001b[A\n",
      "Training dich classifiers:  26%|██▌       | 26/100 [00:04<00:12,  5.80it/s]\u001b[A\n",
      "Training dich classifiers:  27%|██▋       | 27/100 [00:04<00:12,  5.79it/s]\u001b[A\n",
      "Training dich classifiers:  28%|██▊       | 28/100 [00:04<00:12,  5.85it/s]\u001b[A\n",
      "Training dich classifiers:  29%|██▉       | 29/100 [00:04<00:12,  5.86it/s]\u001b[A\n",
      "Training dich classifiers:  30%|███       | 30/100 [00:05<00:11,  5.88it/s]\u001b[A\n",
      "Training dich classifiers:  31%|███       | 31/100 [00:05<00:11,  5.91it/s]\u001b[A\n",
      "Training dich classifiers:  32%|███▏      | 32/100 [00:05<00:11,  5.93it/s]\u001b[A\n",
      "Training dich classifiers:  33%|███▎      | 33/100 [00:05<00:11,  5.95it/s]\u001b[A\n",
      "Training dich classifiers:  34%|███▍      | 34/100 [00:05<00:11,  5.93it/s]\u001b[A\n",
      "Training dich classifiers:  35%|███▌      | 35/100 [00:05<00:11,  5.91it/s]\u001b[A\n",
      "Training dich classifiers:  36%|███▌      | 36/100 [00:06<00:10,  5.90it/s]\u001b[A\n",
      "Training dich classifiers:  37%|███▋      | 37/100 [00:06<00:10,  5.94it/s]\u001b[A\n",
      "Training dich classifiers:  38%|███▊      | 38/100 [00:06<00:10,  5.93it/s]\u001b[A\n",
      "Training dich classifiers:  39%|███▉      | 39/100 [00:06<00:10,  5.93it/s]\u001b[A\n",
      "Training dich classifiers:  40%|████      | 40/100 [00:06<00:10,  5.95it/s]\u001b[A\n",
      "Training dich classifiers:  41%|████      | 41/100 [00:06<00:09,  5.98it/s]\u001b[A\n",
      "Training dich classifiers:  42%|████▏     | 42/100 [00:07<00:09,  5.97it/s]\u001b[A\n",
      "Training dich classifiers:  43%|████▎     | 43/100 [00:07<00:09,  5.94it/s]\u001b[A\n",
      "Training dich classifiers:  44%|████▍     | 44/100 [00:07<00:09,  5.91it/s]\u001b[A\n",
      "Training dich classifiers:  45%|████▌     | 45/100 [00:07<00:09,  5.92it/s]\u001b[A\n",
      "Training dich classifiers:  46%|████▌     | 46/100 [00:07<00:09,  5.90it/s]\u001b[A\n",
      "Training dich classifiers:  47%|████▋     | 47/100 [00:07<00:08,  5.92it/s]\u001b[A\n",
      "Training dich classifiers:  48%|████▊     | 48/100 [00:08<00:08,  5.93it/s]\u001b[A\n",
      "Training dich classifiers:  49%|████▉     | 49/100 [00:08<00:08,  5.96it/s]\u001b[A\n",
      "Training dich classifiers:  50%|█████     | 50/100 [00:08<00:08,  5.97it/s]\u001b[A\n",
      "Training dich classifiers:  51%|█████     | 51/100 [00:08<00:08,  5.95it/s]\u001b[A\n",
      "Training dich classifiers:  52%|█████▏    | 52/100 [00:08<00:08,  5.96it/s]\u001b[A\n",
      "Training dich classifiers:  53%|█████▎    | 53/100 [00:08<00:07,  5.98it/s]\u001b[A\n",
      "Training dich classifiers:  54%|█████▍    | 54/100 [00:09<00:07,  5.98it/s]\u001b[A\n",
      "Training dich classifiers:  55%|█████▌    | 55/100 [00:09<00:07,  5.99it/s]\u001b[A\n",
      "Training dich classifiers:  56%|█████▌    | 56/100 [00:09<00:07,  5.95it/s]\u001b[A\n",
      "Training dich classifiers:  57%|█████▋    | 57/100 [00:09<00:07,  5.96it/s]\u001b[A\n",
      "Training dich classifiers:  58%|█████▊    | 58/100 [00:09<00:07,  5.92it/s]\u001b[A\n",
      "Training dich classifiers:  59%|█████▉    | 59/100 [00:09<00:06,  5.93it/s]\u001b[A\n",
      "Training dich classifiers:  60%|██████    | 60/100 [00:10<00:06,  5.95it/s]\u001b[A\n",
      "Training dich classifiers:  61%|██████    | 61/100 [00:10<00:06,  5.96it/s]\u001b[A\n",
      "Training dich classifiers:  62%|██████▏   | 62/100 [00:10<00:06,  5.96it/s]\u001b[A\n",
      "Training dich classifiers:  63%|██████▎   | 63/100 [00:10<00:06,  5.97it/s]\u001b[A\n",
      "Training dich classifiers:  64%|██████▍   | 64/100 [00:10<00:06,  5.95it/s]\u001b[A\n",
      "Training dich classifiers:  65%|██████▌   | 65/100 [00:10<00:05,  5.95it/s]\u001b[A\n",
      "Training dich classifiers:  66%|██████▌   | 66/100 [00:11<00:05,  5.97it/s]\u001b[A\n",
      "Training dich classifiers:  67%|██████▋   | 67/100 [00:11<00:05,  5.95it/s]\u001b[A\n",
      "Training dich classifiers:  68%|██████▊   | 68/100 [00:11<00:05,  5.95it/s]\u001b[A\n",
      "Training dich classifiers:  69%|██████▉   | 69/100 [00:11<00:05,  5.94it/s]\u001b[A\n",
      "Training dich classifiers:  70%|███████   | 70/100 [00:11<00:05,  5.96it/s]\u001b[A\n",
      "Training dich classifiers:  71%|███████   | 71/100 [00:11<00:04,  5.97it/s]\u001b[A\n",
      "Training dich classifiers:  72%|███████▏  | 72/100 [00:12<00:04,  5.98it/s]\u001b[A\n",
      "Training dich classifiers:  73%|███████▎  | 73/100 [00:12<00:04,  6.00it/s]\u001b[A\n",
      "Training dich classifiers:  74%|███████▍  | 74/100 [00:12<00:04,  6.01it/s]\u001b[A\n",
      "Training dich classifiers:  75%|███████▌  | 75/100 [00:12<00:04,  6.01it/s]\u001b[A\n",
      "Training dich classifiers:  76%|███████▌  | 76/100 [00:12<00:03,  6.01it/s]\u001b[A\n",
      "Training dich classifiers:  77%|███████▋  | 77/100 [00:12<00:03,  6.00it/s]\u001b[A\n",
      "Training dich classifiers:  78%|███████▊  | 78/100 [00:12<00:03,  6.01it/s]\u001b[A\n",
      "Training dich classifiers:  79%|███████▉  | 79/100 [00:13<00:03,  6.01it/s]\u001b[A\n",
      "Training dich classifiers:  80%|████████  | 80/100 [00:13<00:03,  6.01it/s]\u001b[A\n",
      "Training dich classifiers:  81%|████████  | 81/100 [00:13<00:03,  6.02it/s]\u001b[A\n",
      "Training dich classifiers:  82%|████████▏ | 82/100 [00:13<00:02,  6.02it/s]\u001b[A\n",
      "Training dich classifiers:  83%|████████▎ | 83/100 [00:13<00:02,  6.01it/s]\u001b[A\n",
      "Training dich classifiers:  84%|████████▍ | 84/100 [00:13<00:02,  6.02it/s]\u001b[A\n",
      "Training dich classifiers:  85%|████████▌ | 85/100 [00:14<00:02,  6.03it/s]\u001b[A\n",
      "Training dich classifiers:  86%|████████▌ | 86/100 [00:14<00:02,  6.02it/s]\u001b[A\n",
      "Training dich classifiers:  87%|████████▋ | 87/100 [00:14<00:02,  6.03it/s]\u001b[A\n",
      "Training dich classifiers:  88%|████████▊ | 88/100 [00:14<00:01,  6.03it/s]\u001b[A\n",
      "Training dich classifiers:  89%|████████▉ | 89/100 [00:14<00:01,  6.04it/s]\u001b[A\n",
      "Training dich classifiers:  90%|█████████ | 90/100 [00:14<00:01,  6.03it/s]\u001b[A\n",
      "Training dich classifiers:  91%|█████████ | 91/100 [00:15<00:01,  6.02it/s]\u001b[A\n",
      "Training dich classifiers:  92%|█████████▏| 92/100 [00:15<00:01,  6.01it/s]\u001b[A\n",
      "Training dich classifiers:  93%|█████████▎| 93/100 [00:15<00:01,  5.98it/s]\u001b[A\n",
      "Training dich classifiers:  94%|█████████▍| 94/100 [00:15<00:01,  5.99it/s]\u001b[A\n",
      "Training dich classifiers:  95%|█████████▌| 95/100 [00:15<00:00,  6.00it/s]\u001b[A\n",
      "Training dich classifiers:  96%|█████████▌| 96/100 [00:16<00:00,  6.00it/s]\u001b[A\n",
      "Training dich classifiers:  97%|█████████▋| 97/100 [00:16<00:00,  5.97it/s]\u001b[A\n",
      "Training dich classifiers:  98%|█████████▊| 98/100 [00:16<00:00,  5.97it/s]\u001b[A\n",
      "Training dich classifiers:  99%|█████████▉| 99/100 [00:16<00:00,  5.96it/s]\u001b[A\n",
      "Training dich classifiers: 100%|██████████| 100/100 [00:16<00:00,  5.95it/s]\u001b[A\n",
      " 20%|██        | 1/5 [00:35<02:23, 35.90s/it]\n",
      "Adding dich:   0%|          | 0/100 [00:00<?, ?it/s]\u001b[A\n",
      "Adding dich: 100%|██████████| 100/100 [00:00<00:00, 47457.61it/s]\u001b[A\n",
      "Training dich classifiers:   0%|          | 0/100 [00:00<?, ?it/s]\u001b[A\n"
     ]
    },
    {
     "name": "stderr",
     "output_type": "stream",
     "text": [
      "Training dich classifiers:   1%|          | 1/100 [00:00<00:12,  7.69it/s]\u001b[A"
     ]
    },
    {
     "name": "stdout",
     "output_type": "stream",
     "text": [
      "Code Matrix shape == (20,100)\n"
     ]
    },
    {
     "name": "stderr",
     "output_type": "stream",
     "text": [
      "\n",
      "Training dich classifiers:   2%|▏         | 2/100 [00:00<00:16,  6.00it/s]\u001b[A\n",
      "Training dich classifiers:   3%|▎         | 3/100 [00:00<00:17,  5.70it/s]\u001b[A\n",
      "Training dich classifiers:   4%|▍         | 4/100 [00:00<00:18,  5.29it/s]\u001b[A\n",
      "Training dich classifiers:   5%|▌         | 5/100 [00:00<00:18,  5.20it/s]\u001b[A\n",
      "Training dich classifiers:   6%|▌         | 6/100 [00:01<00:17,  5.28it/s]\u001b[A\n",
      "Training dich classifiers:   7%|▋         | 7/100 [00:01<00:17,  5.38it/s]\u001b[A\n",
      "Training dich classifiers:   8%|▊         | 8/100 [00:01<00:16,  5.45it/s]\u001b[A\n",
      "Training dich classifiers:   9%|▉         | 9/100 [00:01<00:16,  5.53it/s]\u001b[A\n",
      "Training dich classifiers:  10%|█         | 10/100 [00:01<00:16,  5.42it/s]\u001b[A\n",
      "Training dich classifiers:  11%|█         | 11/100 [00:01<00:16,  5.55it/s]\u001b[A\n",
      "Training dich classifiers:  12%|█▏        | 12/100 [00:02<00:15,  5.65it/s]\u001b[A\n",
      "Training dich classifiers:  13%|█▎        | 13/100 [00:02<00:15,  5.71it/s]\u001b[A\n",
      "Training dich classifiers:  14%|█▍        | 14/100 [00:02<00:14,  5.85it/s]\u001b[A\n",
      "Training dich classifiers:  15%|█▌        | 15/100 [00:02<00:14,  5.92it/s]\u001b[A\n",
      "Training dich classifiers:  16%|█▌        | 16/100 [00:02<00:14,  5.86it/s]\u001b[A\n",
      "Training dich classifiers:  17%|█▋        | 17/100 [00:02<00:14,  5.90it/s]\u001b[A\n",
      "Training dich classifiers:  18%|█▊        | 18/100 [00:03<00:13,  5.89it/s]\u001b[A\n",
      "Training dich classifiers:  19%|█▉        | 19/100 [00:03<00:13,  5.95it/s]\u001b[A\n",
      "Training dich classifiers:  20%|██        | 20/100 [00:03<00:13,  5.97it/s]\u001b[A\n",
      "Training dich classifiers:  21%|██        | 21/100 [00:03<00:13,  5.90it/s]\u001b[A\n",
      "Training dich classifiers:  22%|██▏       | 22/100 [00:03<00:13,  5.89it/s]\u001b[A\n",
      "Training dich classifiers:  23%|██▎       | 23/100 [00:03<00:12,  5.95it/s]\u001b[A\n",
      "Training dich classifiers:  24%|██▍       | 24/100 [00:04<00:12,  5.92it/s]\u001b[A\n",
      "Training dich classifiers:  25%|██▌       | 25/100 [00:04<00:12,  5.98it/s]\u001b[A\n",
      "Training dich classifiers:  26%|██▌       | 26/100 [00:04<00:12,  6.00it/s]\u001b[A\n",
      "Training dich classifiers:  27%|██▋       | 27/100 [00:04<00:12,  6.06it/s]\u001b[A\n",
      "Training dich classifiers:  28%|██▊       | 28/100 [00:04<00:11,  6.05it/s]\u001b[A\n",
      "Training dich classifiers:  29%|██▉       | 29/100 [00:04<00:11,  6.08it/s]\u001b[A\n",
      "Training dich classifiers:  30%|███       | 30/100 [00:05<00:11,  5.99it/s]\u001b[A\n",
      "Training dich classifiers:  31%|███       | 31/100 [00:05<00:11,  5.99it/s]\u001b[A\n",
      "Training dich classifiers:  32%|███▏      | 32/100 [00:05<00:11,  6.01it/s]\u001b[A\n",
      "Training dich classifiers:  33%|███▎      | 33/100 [00:05<00:11,  5.99it/s]\u001b[A\n",
      "Training dich classifiers:  34%|███▍      | 34/100 [00:05<00:10,  6.04it/s]\u001b[A\n",
      "Training dich classifiers:  35%|███▌      | 35/100 [00:05<00:10,  6.07it/s]\u001b[A\n",
      "Training dich classifiers:  36%|███▌      | 36/100 [00:05<00:10,  6.08it/s]\u001b[A\n",
      "Training dich classifiers:  37%|███▋      | 37/100 [00:06<00:10,  6.12it/s]\u001b[A\n",
      "Training dich classifiers:  38%|███▊      | 38/100 [00:06<00:10,  6.15it/s]\u001b[A\n",
      "Training dich classifiers:  39%|███▉      | 39/100 [00:06<00:09,  6.17it/s]\u001b[A\n",
      "Training dich classifiers:  40%|████      | 40/100 [00:06<00:09,  6.17it/s]\u001b[A\n",
      "Training dich classifiers:  41%|████      | 41/100 [00:06<00:09,  6.17it/s]\u001b[A\n",
      "Training dich classifiers:  42%|████▏     | 42/100 [00:06<00:09,  6.16it/s]\u001b[A\n",
      "Training dich classifiers:  43%|████▎     | 43/100 [00:06<00:09,  6.17it/s]\u001b[A\n",
      "Training dich classifiers:  44%|████▍     | 44/100 [00:07<00:09,  6.14it/s]\u001b[A\n",
      "Training dich classifiers:  45%|████▌     | 45/100 [00:07<00:09,  6.09it/s]\u001b[A\n",
      "Training dich classifiers:  46%|████▌     | 46/100 [00:07<00:08,  6.06it/s]\u001b[A\n",
      "Training dich classifiers:  47%|████▋     | 47/100 [00:07<00:08,  6.08it/s]\u001b[A\n",
      "Training dich classifiers:  48%|████▊     | 48/100 [00:07<00:08,  6.09it/s]\u001b[A\n",
      "Training dich classifiers:  49%|████▉     | 49/100 [00:07<00:08,  6.13it/s]\u001b[A\n",
      "Training dich classifiers:  50%|█████     | 50/100 [00:08<00:08,  6.13it/s]\u001b[A\n",
      "Training dich classifiers:  51%|█████     | 51/100 [00:08<00:07,  6.15it/s]\u001b[A\n",
      "Training dich classifiers:  52%|█████▏    | 52/100 [00:08<00:07,  6.13it/s]\u001b[A\n",
      "Training dich classifiers:  53%|█████▎    | 53/100 [00:08<00:07,  6.15it/s]\u001b[A\n",
      "Training dich classifiers:  54%|█████▍    | 54/100 [00:08<00:07,  6.16it/s]\u001b[A\n",
      "Training dich classifiers:  55%|█████▌    | 55/100 [00:08<00:07,  6.16it/s]\u001b[A\n",
      "Training dich classifiers:  56%|█████▌    | 56/100 [00:09<00:07,  6.18it/s]\u001b[A\n",
      "Training dich classifiers:  57%|█████▋    | 57/100 [00:09<00:06,  6.20it/s]\u001b[A\n",
      "Training dich classifiers:  58%|█████▊    | 58/100 [00:09<00:06,  6.22it/s]\u001b[A\n",
      "Training dich classifiers:  59%|█████▉    | 59/100 [00:09<00:06,  6.21it/s]\u001b[A\n",
      "Training dich classifiers:  60%|██████    | 60/100 [00:09<00:06,  6.19it/s]\u001b[A\n",
      "Training dich classifiers:  61%|██████    | 61/100 [00:09<00:06,  6.19it/s]\u001b[A\n",
      "Training dich classifiers:  62%|██████▏   | 62/100 [00:09<00:06,  6.22it/s]\u001b[A\n",
      "Training dich classifiers:  63%|██████▎   | 63/100 [00:10<00:05,  6.23it/s]\u001b[A\n",
      "Training dich classifiers:  64%|██████▍   | 64/100 [00:10<00:05,  6.23it/s]\u001b[A\n",
      "Training dich classifiers:  65%|██████▌   | 65/100 [00:10<00:05,  6.23it/s]\u001b[A\n",
      "Training dich classifiers:  66%|██████▌   | 66/100 [00:10<00:05,  6.21it/s]\u001b[A\n",
      "Training dich classifiers:  67%|██████▋   | 67/100 [00:10<00:05,  6.23it/s]\u001b[A\n",
      "Training dich classifiers:  68%|██████▊   | 68/100 [00:10<00:05,  6.24it/s]\u001b[A\n",
      "Training dich classifiers:  69%|██████▉   | 69/100 [00:11<00:04,  6.25it/s]\u001b[A\n",
      "Training dich classifiers:  70%|███████   | 70/100 [00:11<00:04,  6.28it/s]\u001b[A\n",
      "Training dich classifiers:  71%|███████   | 71/100 [00:11<00:04,  6.29it/s]\u001b[A\n",
      "Training dich classifiers:  72%|███████▏  | 72/100 [00:11<00:04,  6.29it/s]\u001b[A\n",
      "Training dich classifiers:  73%|███████▎  | 73/100 [00:11<00:04,  6.29it/s]\u001b[A\n",
      "Training dich classifiers:  74%|███████▍  | 74/100 [00:11<00:04,  6.29it/s]\u001b[A\n",
      "Training dich classifiers:  75%|███████▌  | 75/100 [00:11<00:03,  6.30it/s]\u001b[A\n",
      "Training dich classifiers:  76%|███████▌  | 76/100 [00:12<00:03,  6.28it/s]\u001b[A\n",
      "Training dich classifiers:  77%|███████▋  | 77/100 [00:12<00:03,  6.28it/s]\u001b[A\n",
      "Training dich classifiers:  78%|███████▊  | 78/100 [00:12<00:03,  6.27it/s]\u001b[A\n",
      "Training dich classifiers:  79%|███████▉  | 79/100 [00:12<00:03,  6.27it/s]\u001b[A\n",
      "Training dich classifiers:  80%|████████  | 80/100 [00:12<00:03,  6.27it/s]\u001b[A\n",
      "Training dich classifiers:  81%|████████  | 81/100 [00:12<00:03,  6.27it/s]\u001b[A\n",
      "Training dich classifiers:  82%|████████▏ | 82/100 [00:13<00:02,  6.24it/s]\u001b[A\n",
      "Training dich classifiers:  83%|████████▎ | 83/100 [00:13<00:02,  6.25it/s]\u001b[A\n",
      "Training dich classifiers:  84%|████████▍ | 84/100 [00:13<00:02,  6.22it/s]\u001b[A\n",
      "Training dich classifiers:  85%|████████▌ | 85/100 [00:13<00:02,  6.22it/s]\u001b[A\n",
      "Training dich classifiers:  86%|████████▌ | 86/100 [00:13<00:02,  6.22it/s]\u001b[A\n",
      "Training dich classifiers:  87%|████████▋ | 87/100 [00:13<00:02,  6.23it/s]\u001b[A\n",
      "Training dich classifiers:  88%|████████▊ | 88/100 [00:14<00:01,  6.24it/s]\u001b[A\n",
      "Training dich classifiers:  89%|████████▉ | 89/100 [00:14<00:01,  6.24it/s]\u001b[A\n",
      "Training dich classifiers:  90%|█████████ | 90/100 [00:14<00:01,  6.22it/s]\u001b[A\n",
      "Training dich classifiers:  91%|█████████ | 91/100 [00:14<00:01,  6.20it/s]\u001b[A\n",
      "Training dich classifiers:  92%|█████████▏| 92/100 [00:14<00:01,  6.21it/s]\u001b[A\n",
      "Training dich classifiers:  93%|█████████▎| 93/100 [00:15<00:01,  6.20it/s]\u001b[A\n",
      "Training dich classifiers:  94%|█████████▍| 94/100 [00:15<00:00,  6.22it/s]\u001b[A\n",
      "Training dich classifiers:  95%|█████████▌| 95/100 [00:15<00:00,  6.22it/s]\u001b[A\n",
      "Training dich classifiers:  96%|█████████▌| 96/100 [00:15<00:00,  6.22it/s]\u001b[A\n",
      "Training dich classifiers:  97%|█████████▋| 97/100 [00:15<00:00,  6.23it/s]\u001b[A\n",
      "Training dich classifiers:  98%|█████████▊| 98/100 [00:15<00:00,  6.22it/s]\u001b[A\n",
      "Training dich classifiers:  99%|█████████▉| 99/100 [00:15<00:00,  6.23it/s]\u001b[A\n",
      "Training dich classifiers: 100%|██████████| 100/100 [00:16<00:00,  6.24it/s]\u001b[A\n",
      " 40%|████      | 2/5 [01:10<01:45, 35.22s/it]\n",
      "Adding dich:   0%|          | 0/100 [00:00<?, ?it/s]\u001b[A\n",
      "Adding dich: 100%|██████████| 100/100 [00:00<00:00, 31380.40it/s]\u001b[A\n",
      "Training dich classifiers:   0%|          | 0/100 [00:00<?, ?it/s]\u001b[A\n",
      "Training dich classifiers:   1%|          | 1/100 [00:00<00:16,  6.14it/s]\u001b[A"
     ]
    },
    {
     "name": "stdout",
     "output_type": "stream",
     "text": [
      "Code Matrix shape == (20,100)\n"
     ]
    },
    {
     "name": "stderr",
     "output_type": "stream",
     "text": [
      "\n",
      "Training dich classifiers:   2%|▏         | 2/100 [00:00<00:15,  6.51it/s]\u001b[A\n",
      "Training dich classifiers:   3%|▎         | 3/100 [00:00<00:15,  6.32it/s]\u001b[A\n",
      "Training dich classifiers:   4%|▍         | 4/100 [00:00<00:15,  6.23it/s]\u001b[A\n",
      "Training dich classifiers:   5%|▌         | 5/100 [00:00<00:15,  6.05it/s]\u001b[A\n",
      "Training dich classifiers:   6%|▌         | 6/100 [00:00<00:15,  6.22it/s]\u001b[A\n",
      "Training dich classifiers:   7%|▋         | 7/100 [00:01<00:14,  6.26it/s]\u001b[A\n",
      "Training dich classifiers:   8%|▊         | 8/100 [00:01<00:14,  6.19it/s]\u001b[A\n",
      "Training dich classifiers:   9%|▉         | 9/100 [00:01<00:15,  6.04it/s]\u001b[A\n",
      "Training dich classifiers:  10%|█         | 10/100 [00:01<00:14,  6.01it/s]\u001b[A\n",
      "Training dich classifiers:  11%|█         | 11/100 [00:01<00:14,  6.14it/s]\u001b[A\n",
      "Training dich classifiers:  12%|█▏        | 12/100 [00:01<00:14,  6.18it/s]\u001b[A\n",
      "Training dich classifiers:  13%|█▎        | 13/100 [00:02<00:14,  6.19it/s]\u001b[A\n",
      "Training dich classifiers:  14%|█▍        | 14/100 [00:02<00:13,  6.25it/s]\u001b[A\n",
      "Training dich classifiers:  15%|█▌        | 15/100 [00:02<00:13,  6.21it/s]\u001b[A\n",
      "Training dich classifiers:  16%|█▌        | 16/100 [00:02<00:13,  6.23it/s]\u001b[A\n",
      "Training dich classifiers:  17%|█▋        | 17/100 [00:02<00:13,  6.31it/s]\u001b[A\n",
      "Training dich classifiers:  18%|█▊        | 18/100 [00:02<00:13,  6.26it/s]\u001b[A\n",
      "Training dich classifiers:  19%|█▉        | 19/100 [00:03<00:12,  6.32it/s]\u001b[A\n",
      "Training dich classifiers:  20%|██        | 20/100 [00:03<00:12,  6.18it/s]\u001b[A\n",
      "Training dich classifiers:  21%|██        | 21/100 [00:03<00:12,  6.18it/s]\u001b[A\n",
      "Training dich classifiers:  22%|██▏       | 22/100 [00:03<00:12,  6.21it/s]\u001b[A\n",
      "Training dich classifiers:  23%|██▎       | 23/100 [00:03<00:12,  6.21it/s]\u001b[A\n",
      "Training dich classifiers:  24%|██▍       | 24/100 [00:03<00:12,  6.19it/s]\u001b[A\n",
      "Training dich classifiers:  25%|██▌       | 25/100 [00:04<00:12,  6.20it/s]\u001b[A\n",
      "Training dich classifiers:  26%|██▌       | 26/100 [00:04<00:11,  6.28it/s]\u001b[A\n",
      "Training dich classifiers:  27%|██▋       | 27/100 [00:04<00:11,  6.25it/s]\u001b[A\n",
      "Training dich classifiers:  28%|██▊       | 28/100 [00:04<00:11,  6.26it/s]\u001b[A\n",
      "Training dich classifiers:  29%|██▉       | 29/100 [00:04<00:11,  6.27it/s]\u001b[A\n",
      "Training dich classifiers:  30%|███       | 30/100 [00:04<00:11,  6.27it/s]\u001b[A\n",
      "Training dich classifiers:  31%|███       | 31/100 [00:04<00:11,  6.25it/s]\u001b[A\n",
      "Training dich classifiers:  32%|███▏      | 32/100 [00:05<00:10,  6.26it/s]\u001b[A\n",
      "Training dich classifiers:  33%|███▎      | 33/100 [00:05<00:10,  6.20it/s]\u001b[A\n",
      "Training dich classifiers:  34%|███▍      | 34/100 [00:05<00:10,  6.22it/s]\u001b[A\n",
      "Training dich classifiers:  35%|███▌      | 35/100 [00:05<00:10,  6.21it/s]\u001b[A\n",
      "Training dich classifiers:  36%|███▌      | 36/100 [00:05<00:10,  6.19it/s]\u001b[A\n",
      "Training dich classifiers:  37%|███▋      | 37/100 [00:05<00:10,  6.19it/s]\u001b[A\n",
      "Training dich classifiers:  38%|███▊      | 38/100 [00:06<00:10,  6.17it/s]\u001b[A\n",
      "Training dich classifiers:  39%|███▉      | 39/100 [00:06<00:09,  6.21it/s]\u001b[A\n",
      "Training dich classifiers:  40%|████      | 40/100 [00:06<00:09,  6.24it/s]\u001b[A\n",
      "Training dich classifiers:  41%|████      | 41/100 [00:06<00:09,  6.25it/s]\u001b[A\n",
      "Training dich classifiers:  42%|████▏     | 42/100 [00:06<00:09,  6.27it/s]\u001b[A\n",
      "Training dich classifiers:  43%|████▎     | 43/100 [00:06<00:09,  6.16it/s]\u001b[A\n",
      "Training dich classifiers:  44%|████▍     | 44/100 [00:07<00:09,  6.17it/s]\u001b[A\n",
      "Training dich classifiers:  45%|████▌     | 45/100 [00:07<00:08,  6.18it/s]\u001b[A\n",
      "Training dich classifiers:  46%|████▌     | 46/100 [00:07<00:08,  6.19it/s]\u001b[A\n",
      "Training dich classifiers:  47%|████▋     | 47/100 [00:07<00:08,  6.24it/s]\u001b[A\n",
      "Training dich classifiers:  48%|████▊     | 48/100 [00:07<00:08,  6.26it/s]\u001b[A\n",
      "Training dich classifiers:  49%|████▉     | 49/100 [00:07<00:08,  6.26it/s]\u001b[A\n",
      "Training dich classifiers:  50%|█████     | 50/100 [00:07<00:07,  6.27it/s]\u001b[A\n",
      "Training dich classifiers:  51%|█████     | 51/100 [00:08<00:07,  6.30it/s]\u001b[A\n",
      "Training dich classifiers:  52%|█████▏    | 52/100 [00:08<00:07,  6.30it/s]\u001b[A\n",
      "Training dich classifiers:  53%|█████▎    | 53/100 [00:08<00:07,  6.31it/s]\u001b[A\n",
      "Training dich classifiers:  54%|█████▍    | 54/100 [00:08<00:07,  6.28it/s]\u001b[A\n",
      "Training dich classifiers:  55%|█████▌    | 55/100 [00:08<00:07,  6.23it/s]\u001b[A\n",
      "Training dich classifiers:  56%|█████▌    | 56/100 [00:08<00:07,  6.23it/s]\u001b[A\n",
      "Training dich classifiers:  57%|█████▋    | 57/100 [00:09<00:06,  6.24it/s]\u001b[A\n",
      "Training dich classifiers:  58%|█████▊    | 58/100 [00:09<00:06,  6.24it/s]\u001b[A\n",
      "Training dich classifiers:  59%|█████▉    | 59/100 [00:09<00:06,  6.24it/s]\u001b[A\n",
      "Training dich classifiers:  60%|██████    | 60/100 [00:09<00:06,  6.24it/s]\u001b[A\n",
      "Training dich classifiers:  61%|██████    | 61/100 [00:09<00:06,  6.23it/s]\u001b[A\n",
      "Training dich classifiers:  62%|██████▏   | 62/100 [00:09<00:06,  6.20it/s]\u001b[A\n",
      "Training dich classifiers:  63%|██████▎   | 63/100 [00:10<00:05,  6.21it/s]\u001b[A\n",
      "Training dich classifiers:  64%|██████▍   | 64/100 [00:10<00:05,  6.19it/s]\u001b[A\n",
      "Training dich classifiers:  65%|██████▌   | 65/100 [00:10<00:05,  6.18it/s]\u001b[A\n",
      "Training dich classifiers:  66%|██████▌   | 66/100 [00:10<00:05,  6.17it/s]\u001b[A\n",
      "Training dich classifiers:  67%|██████▋   | 67/100 [00:10<00:05,  6.17it/s]\u001b[A\n",
      "Training dich classifiers:  68%|██████▊   | 68/100 [00:10<00:05,  6.18it/s]\u001b[A\n",
      "Training dich classifiers:  69%|██████▉   | 69/100 [00:11<00:05,  6.16it/s]\u001b[A\n",
      "Training dich classifiers:  70%|███████   | 70/100 [00:11<00:04,  6.14it/s]\u001b[A\n",
      "Training dich classifiers:  71%|███████   | 71/100 [00:11<00:04,  6.13it/s]\u001b[A\n",
      "Training dich classifiers:  72%|███████▏  | 72/100 [00:11<00:04,  6.15it/s]\u001b[A\n",
      "Training dich classifiers:  73%|███████▎  | 73/100 [00:11<00:04,  6.14it/s]\u001b[A\n",
      "Training dich classifiers:  74%|███████▍  | 74/100 [00:12<00:04,  6.15it/s]\u001b[A\n",
      "Training dich classifiers:  75%|███████▌  | 75/100 [00:12<00:04,  6.14it/s]\u001b[A\n",
      "Training dich classifiers:  76%|███████▌  | 76/100 [00:12<00:03,  6.12it/s]\u001b[A\n",
      "Training dich classifiers:  77%|███████▋  | 77/100 [00:12<00:03,  6.12it/s]\u001b[A\n",
      "Training dich classifiers:  78%|███████▊  | 78/100 [00:12<00:03,  6.12it/s]\u001b[A\n",
      "Training dich classifiers:  79%|███████▉  | 79/100 [00:12<00:03,  6.11it/s]\u001b[A\n",
      "Training dich classifiers:  80%|████████  | 80/100 [00:13<00:03,  6.12it/s]\u001b[A\n",
      "Training dich classifiers:  81%|████████  | 81/100 [00:13<00:03,  6.12it/s]\u001b[A\n",
      "Training dich classifiers:  82%|████████▏ | 82/100 [00:13<00:02,  6.13it/s]\u001b[A\n",
      "Training dich classifiers:  83%|████████▎ | 83/100 [00:13<00:02,  6.13it/s]\u001b[A\n",
      "Training dich classifiers:  84%|████████▍ | 84/100 [00:13<00:02,  6.14it/s]\u001b[A\n",
      "Training dich classifiers:  85%|████████▌ | 85/100 [00:13<00:02,  6.14it/s]\u001b[A\n",
      "Training dich classifiers:  86%|████████▌ | 86/100 [00:13<00:02,  6.16it/s]\u001b[A\n",
      "Training dich classifiers:  87%|████████▋ | 87/100 [00:14<00:02,  6.15it/s]\u001b[A\n",
      "Training dich classifiers:  88%|████████▊ | 88/100 [00:14<00:01,  6.16it/s]\u001b[A\n",
      "Training dich classifiers:  89%|████████▉ | 89/100 [00:14<00:01,  6.17it/s]\u001b[A\n",
      "Training dich classifiers:  90%|█████████ | 90/100 [00:14<00:01,  6.15it/s]\u001b[A\n",
      "Training dich classifiers:  91%|█████████ | 91/100 [00:14<00:01,  6.15it/s]\u001b[A\n",
      "Training dich classifiers:  92%|█████████▏| 92/100 [00:14<00:01,  6.16it/s]\u001b[A\n",
      "Training dich classifiers:  93%|█████████▎| 93/100 [00:15<00:01,  6.15it/s]\u001b[A\n",
      "Training dich classifiers:  94%|█████████▍| 94/100 [00:15<00:00,  6.16it/s]\u001b[A\n",
      "Training dich classifiers:  95%|█████████▌| 95/100 [00:15<00:00,  6.15it/s]\u001b[A\n",
      "Training dich classifiers:  96%|█████████▌| 96/100 [00:15<00:00,  6.16it/s]\u001b[A\n",
      "Training dich classifiers:  97%|█████████▋| 97/100 [00:15<00:00,  6.15it/s]\u001b[A\n",
      "Training dich classifiers:  98%|█████████▊| 98/100 [00:15<00:00,  6.15it/s]\u001b[A\n",
      "Training dich classifiers:  99%|█████████▉| 99/100 [00:16<00:00,  6.14it/s]\u001b[A\n",
      "Training dich classifiers: 100%|██████████| 100/100 [00:16<00:00,  6.13it/s]\u001b[A\n",
      " 60%|██████    | 3/5 [01:45<01:10, 35.23s/it]\n",
      "Adding dich:   0%|          | 0/100 [00:00<?, ?it/s]\u001b[A\n",
      "Adding dich: 100%|██████████| 100/100 [00:00<00:00, 49896.55it/s]\u001b[A\n",
      "Training dich classifiers:   0%|          | 0/100 [00:00<?, ?it/s]\u001b[A\n",
      "Training dich classifiers:   1%|          | 1/100 [00:00<00:12,  7.77it/s]\u001b[A"
     ]
    },
    {
     "name": "stdout",
     "output_type": "stream",
     "text": [
      "Code Matrix shape == (20,100)\n"
     ]
    },
    {
     "name": "stderr",
     "output_type": "stream",
     "text": [
      "\n",
      "Training dich classifiers:   2%|▏         | 2/100 [00:00<00:15,  6.34it/s]\u001b[A\n",
      "Training dich classifiers:   3%|▎         | 3/100 [00:00<00:16,  5.72it/s]\u001b[A\n",
      "Training dich classifiers:   4%|▍         | 4/100 [00:00<00:17,  5.52it/s]\u001b[A\n",
      "Training dich classifiers:   5%|▌         | 5/100 [00:00<00:16,  5.64it/s]\u001b[A\n",
      "Training dich classifiers:   6%|▌         | 6/100 [00:01<00:16,  5.55it/s]\u001b[A\n",
      "Training dich classifiers:   7%|▋         | 7/100 [00:01<00:16,  5.50it/s]\u001b[A\n",
      "Training dich classifiers:   8%|▊         | 8/100 [00:01<00:16,  5.52it/s]\u001b[A\n",
      "Training dich classifiers:   9%|▉         | 9/100 [00:01<00:16,  5.65it/s]\u001b[A\n",
      "Training dich classifiers:  10%|█         | 10/100 [00:01<00:15,  5.67it/s]\u001b[A\n",
      "Training dich classifiers:  11%|█         | 11/100 [00:01<00:15,  5.80it/s]\u001b[A\n",
      "Training dich classifiers:  12%|█▏        | 12/100 [00:02<00:15,  5.82it/s]\u001b[A\n",
      "Training dich classifiers:  13%|█▎        | 13/100 [00:02<00:14,  5.81it/s]\u001b[A\n",
      "Training dich classifiers:  14%|█▍        | 14/100 [00:02<00:14,  5.90it/s]\u001b[A\n",
      "Training dich classifiers:  15%|█▌        | 15/100 [00:02<00:14,  5.92it/s]\u001b[A\n",
      "Training dich classifiers:  16%|█▌        | 16/100 [00:02<00:14,  5.92it/s]\u001b[A\n",
      "Training dich classifiers:  17%|█▋        | 17/100 [00:02<00:14,  5.88it/s]\u001b[A\n",
      "Training dich classifiers:  18%|█▊        | 18/100 [00:03<00:14,  5.78it/s]\u001b[A\n",
      "Training dich classifiers:  19%|█▉        | 19/100 [00:03<00:14,  5.77it/s]\u001b[A\n",
      "Training dich classifiers:  20%|██        | 20/100 [00:03<00:13,  5.81it/s]\u001b[A\n",
      "Training dich classifiers:  21%|██        | 21/100 [00:03<00:13,  5.81it/s]\u001b[A\n",
      "Training dich classifiers:  22%|██▏       | 22/100 [00:03<00:13,  5.76it/s]\u001b[A\n",
      "Training dich classifiers:  23%|██▎       | 23/100 [00:03<00:13,  5.76it/s]\u001b[A\n",
      "Training dich classifiers:  24%|██▍       | 24/100 [00:04<00:13,  5.79it/s]\u001b[A\n",
      "Training dich classifiers:  25%|██▌       | 25/100 [00:04<00:12,  5.83it/s]\u001b[A\n",
      "Training dich classifiers:  26%|██▌       | 26/100 [00:04<00:12,  5.84it/s]\u001b[A\n",
      "Training dich classifiers:  27%|██▋       | 27/100 [00:04<00:12,  5.86it/s]\u001b[A\n",
      "Training dich classifiers:  28%|██▊       | 28/100 [00:04<00:12,  5.86it/s]\u001b[A\n",
      "Training dich classifiers:  29%|██▉       | 29/100 [00:04<00:11,  5.92it/s]\u001b[A\n",
      "Training dich classifiers:  30%|███       | 30/100 [00:05<00:11,  5.93it/s]\u001b[A\n",
      "Training dich classifiers:  31%|███       | 31/100 [00:05<00:11,  5.92it/s]\u001b[A\n",
      "Training dich classifiers:  32%|███▏      | 32/100 [00:05<00:11,  5.89it/s]\u001b[A\n",
      "Training dich classifiers:  33%|███▎      | 33/100 [00:05<00:11,  5.90it/s]\u001b[A\n",
      "Training dich classifiers:  34%|███▍      | 34/100 [00:05<00:11,  5.92it/s]\u001b[A\n",
      "Training dich classifiers:  35%|███▌      | 35/100 [00:05<00:10,  5.93it/s]\u001b[A\n",
      "Training dich classifiers:  36%|███▌      | 36/100 [00:06<00:10,  5.98it/s]\u001b[A\n",
      "Training dich classifiers:  37%|███▋      | 37/100 [00:06<00:10,  6.02it/s]\u001b[A\n",
      "Training dich classifiers:  38%|███▊      | 38/100 [00:06<00:10,  5.99it/s]\u001b[A\n",
      "Training dich classifiers:  39%|███▉      | 39/100 [00:06<00:10,  5.96it/s]\u001b[A\n",
      "Training dich classifiers:  40%|████      | 40/100 [00:06<00:10,  5.97it/s]\u001b[A\n",
      "Training dich classifiers:  41%|████      | 41/100 [00:06<00:09,  5.96it/s]\u001b[A\n",
      "Training dich classifiers:  42%|████▏     | 42/100 [00:07<00:09,  5.91it/s]\u001b[A\n",
      "Training dich classifiers:  43%|████▎     | 43/100 [00:07<00:09,  5.88it/s]\u001b[A\n",
      "Training dich classifiers:  44%|████▍     | 44/100 [00:07<00:09,  5.87it/s]\u001b[A\n",
      "Training dich classifiers:  45%|████▌     | 45/100 [00:07<00:09,  5.88it/s]\u001b[A\n",
      "Training dich classifiers:  46%|████▌     | 46/100 [00:07<00:09,  5.85it/s]\u001b[A\n",
      "Training dich classifiers:  47%|████▋     | 47/100 [00:07<00:09,  5.88it/s]\u001b[A\n",
      "Training dich classifiers:  48%|████▊     | 48/100 [00:08<00:08,  5.90it/s]\u001b[A\n",
      "Training dich classifiers:  49%|████▉     | 49/100 [00:08<00:08,  5.89it/s]\u001b[A\n",
      "Training dich classifiers:  50%|█████     | 50/100 [00:08<00:08,  5.89it/s]\u001b[A\n",
      "Training dich classifiers:  51%|█████     | 51/100 [00:08<00:08,  5.90it/s]\u001b[A\n",
      "Training dich classifiers:  52%|█████▏    | 52/100 [00:08<00:08,  5.89it/s]\u001b[A\n",
      "Training dich classifiers:  53%|█████▎    | 53/100 [00:08<00:07,  5.92it/s]\u001b[A\n",
      "Training dich classifiers:  54%|█████▍    | 54/100 [00:09<00:07,  5.89it/s]\u001b[A\n",
      "Training dich classifiers:  55%|█████▌    | 55/100 [00:09<00:07,  5.92it/s]\u001b[A\n",
      "Training dich classifiers:  56%|█████▌    | 56/100 [00:09<00:07,  5.93it/s]\u001b[A\n",
      "Training dich classifiers:  57%|█████▋    | 57/100 [00:09<00:07,  5.90it/s]\u001b[A\n",
      "Training dich classifiers:  58%|█████▊    | 58/100 [00:09<00:07,  5.90it/s]\u001b[A\n",
      "Training dich classifiers:  59%|█████▉    | 59/100 [00:10<00:06,  5.87it/s]\u001b[A\n",
      "Training dich classifiers:  60%|██████    | 60/100 [00:10<00:06,  5.90it/s]\u001b[A\n",
      "Training dich classifiers:  61%|██████    | 61/100 [00:10<00:06,  5.92it/s]\u001b[A\n",
      "Training dich classifiers:  62%|██████▏   | 62/100 [00:10<00:06,  5.93it/s]\u001b[A\n",
      "Training dich classifiers:  63%|██████▎   | 63/100 [00:10<00:06,  5.93it/s]\u001b[A\n",
      "Training dich classifiers:  64%|██████▍   | 64/100 [00:10<00:06,  5.96it/s]\u001b[A\n",
      "Training dich classifiers:  65%|██████▌   | 65/100 [00:10<00:05,  5.98it/s]\u001b[A\n",
      "Training dich classifiers:  66%|██████▌   | 66/100 [00:10<00:05,  6.00it/s]\u001b[A\n",
      "Training dich classifiers:  67%|██████▋   | 67/100 [00:11<00:05,  6.01it/s]\u001b[A\n",
      "Training dich classifiers:  68%|██████▊   | 68/100 [00:11<00:05,  6.00it/s]\u001b[A\n",
      "Training dich classifiers:  69%|██████▉   | 69/100 [00:11<00:05,  6.00it/s]\u001b[A\n",
      "Training dich classifiers:  70%|███████   | 70/100 [00:11<00:05,  5.97it/s]\u001b[A\n",
      "Training dich classifiers:  71%|███████   | 71/100 [00:11<00:04,  5.95it/s]\u001b[A\n",
      "Training dich classifiers:  72%|███████▏  | 72/100 [00:12<00:04,  5.95it/s]\u001b[A\n",
      "Training dich classifiers:  73%|███████▎  | 73/100 [00:12<00:04,  5.96it/s]\u001b[A\n",
      "Training dich classifiers:  74%|███████▍  | 74/100 [00:12<00:04,  5.96it/s]\u001b[A\n",
      "Training dich classifiers:  75%|███████▌  | 75/100 [00:12<00:04,  5.96it/s]\u001b[A\n",
      "Training dich classifiers:  76%|███████▌  | 76/100 [00:12<00:04,  5.97it/s]\u001b[A\n",
      "Training dich classifiers:  77%|███████▋  | 77/100 [00:12<00:03,  5.95it/s]\u001b[A\n",
      "Training dich classifiers:  78%|███████▊  | 78/100 [00:13<00:03,  5.97it/s]\u001b[A\n",
      "Training dich classifiers:  79%|███████▉  | 79/100 [00:13<00:03,  5.98it/s]\u001b[A\n",
      "Training dich classifiers:  80%|████████  | 80/100 [00:13<00:03,  5.98it/s]\u001b[A\n",
      "Training dich classifiers:  81%|████████  | 81/100 [00:13<00:03,  5.97it/s]\u001b[A\n",
      "Training dich classifiers:  82%|████████▏ | 82/100 [00:13<00:03,  5.98it/s]\u001b[A\n",
      "Training dich classifiers:  83%|████████▎ | 83/100 [00:13<00:02,  5.98it/s]\u001b[A\n",
      "Training dich classifiers:  84%|████████▍ | 84/100 [00:14<00:02,  5.99it/s]\u001b[A\n",
      "Training dich classifiers:  85%|████████▌ | 85/100 [00:14<00:02,  5.99it/s]\u001b[A\n",
      "Training dich classifiers:  86%|████████▌ | 86/100 [00:14<00:02,  6.00it/s]\u001b[A\n",
      "Training dich classifiers:  87%|████████▋ | 87/100 [00:14<00:02,  6.02it/s]\u001b[A\n",
      "Training dich classifiers:  88%|████████▊ | 88/100 [00:14<00:01,  6.01it/s]\u001b[A\n",
      "Training dich classifiers:  89%|████████▉ | 89/100 [00:14<00:01,  6.03it/s]\u001b[A\n",
      "Training dich classifiers:  90%|█████████ | 90/100 [00:14<00:01,  6.03it/s]\u001b[A\n",
      "Training dich classifiers:  91%|█████████ | 91/100 [00:15<00:01,  5.99it/s]\u001b[A\n",
      "Training dich classifiers:  92%|█████████▏| 92/100 [00:15<00:01,  6.00it/s]\u001b[A\n",
      "Training dich classifiers:  93%|█████████▎| 93/100 [00:15<00:01,  6.00it/s]\u001b[A\n",
      "Training dich classifiers:  94%|█████████▍| 94/100 [00:15<00:00,  6.00it/s]\u001b[A\n",
      "Training dich classifiers:  95%|█████████▌| 95/100 [00:15<00:00,  5.98it/s]\u001b[A\n",
      "Training dich classifiers:  96%|█████████▌| 96/100 [00:16<00:00,  5.99it/s]\u001b[A\n",
      "Training dich classifiers:  97%|█████████▋| 97/100 [00:16<00:00,  5.99it/s]\u001b[A\n",
      "Training dich classifiers:  98%|█████████▊| 98/100 [00:16<00:00,  5.95it/s]\u001b[A\n",
      "Training dich classifiers:  99%|█████████▉| 99/100 [00:16<00:00,  5.96it/s]\u001b[A\n",
      "Training dich classifiers: 100%|██████████| 100/100 [00:16<00:00,  5.95it/s]\u001b[A\n",
      " 80%|████████  | 4/5 [02:20<00:35, 35.24s/it]\n",
      "Adding dich:   0%|          | 0/100 [00:00<?, ?it/s]\u001b[A\n",
      "Adding dich: 100%|██████████| 100/100 [00:00<00:00, 27044.32it/s]\u001b[A\n",
      "Training dich classifiers:   0%|          | 0/100 [00:00<?, ?it/s]\u001b[A\n",
      "Training dich classifiers:   1%|          | 1/100 [00:00<00:13,  7.52it/s]\u001b[A"
     ]
    },
    {
     "name": "stdout",
     "output_type": "stream",
     "text": [
      "Code Matrix shape == (20,100)\n"
     ]
    },
    {
     "name": "stderr",
     "output_type": "stream",
     "text": [
      "\n",
      "Training dich classifiers:   2%|▏         | 2/100 [00:00<00:14,  6.65it/s]\u001b[A\n",
      "Training dich classifiers:   3%|▎         | 3/100 [00:00<00:16,  5.82it/s]\u001b[A\n",
      "Training dich classifiers:   4%|▍         | 4/100 [00:00<00:15,  6.33it/s]\u001b[A\n",
      "Training dich classifiers:   5%|▌         | 5/100 [00:00<00:14,  6.33it/s]\u001b[A\n",
      "Training dich classifiers:   6%|▌         | 6/100 [00:00<00:15,  6.20it/s]\u001b[A\n",
      "Training dich classifiers:   7%|▋         | 7/100 [00:01<00:15,  5.94it/s]\u001b[A\n",
      "Training dich classifiers:   8%|▊         | 8/100 [00:01<00:15,  5.91it/s]\u001b[A\n",
      "Training dich classifiers:   9%|▉         | 9/100 [00:01<00:15,  6.03it/s]\u001b[A\n",
      "Training dich classifiers:  10%|█         | 10/100 [00:01<00:14,  6.06it/s]\u001b[A\n",
      "Training dich classifiers:  11%|█         | 11/100 [00:01<00:14,  6.11it/s]\u001b[A\n",
      "Training dich classifiers:  12%|█▏        | 12/100 [00:01<00:14,  6.20it/s]\u001b[A\n",
      "Training dich classifiers:  13%|█▎        | 13/100 [00:02<00:13,  6.24it/s]\u001b[A\n",
      "Training dich classifiers:  14%|█▍        | 14/100 [00:02<00:13,  6.35it/s]\u001b[A\n",
      "Training dich classifiers:  15%|█▌        | 15/100 [00:02<00:13,  6.40it/s]\u001b[A\n",
      "Training dich classifiers:  16%|█▌        | 16/100 [00:02<00:13,  6.45it/s]\u001b[A\n",
      "Training dich classifiers:  17%|█▋        | 17/100 [00:02<00:12,  6.47it/s]\u001b[A\n",
      "Training dich classifiers:  18%|█▊        | 18/100 [00:02<00:12,  6.47it/s]\u001b[A\n",
      "Training dich classifiers:  19%|█▉        | 19/100 [00:02<00:12,  6.49it/s]\u001b[A\n",
      "Training dich classifiers:  20%|██        | 20/100 [00:03<00:12,  6.34it/s]\u001b[A\n",
      "Training dich classifiers:  21%|██        | 21/100 [00:03<00:12,  6.40it/s]\u001b[A\n",
      "Training dich classifiers:  22%|██▏       | 22/100 [00:03<00:12,  6.39it/s]\u001b[A\n",
      "Training dich classifiers:  23%|██▎       | 23/100 [00:03<00:12,  6.38it/s]\u001b[A\n",
      "Training dich classifiers:  25%|██▌       | 25/100 [00:03<00:11,  6.43it/s]\u001b[A\n",
      "Training dich classifiers:  26%|██▌       | 26/100 [00:04<00:11,  6.34it/s]\u001b[A\n",
      "Training dich classifiers:  27%|██▋       | 27/100 [00:04<00:11,  6.33it/s]\u001b[A\n",
      "Training dich classifiers:  28%|██▊       | 28/100 [00:04<00:11,  6.35it/s]\u001b[A\n",
      "Training dich classifiers:  29%|██▉       | 29/100 [00:04<00:11,  6.36it/s]\u001b[A\n",
      "Training dich classifiers:  30%|███       | 30/100 [00:04<00:11,  6.30it/s]\u001b[A\n",
      "Training dich classifiers:  31%|███       | 31/100 [00:04<00:10,  6.28it/s]\u001b[A\n",
      "Training dich classifiers:  32%|███▏      | 32/100 [00:05<00:11,  6.09it/s]\u001b[A\n",
      "Training dich classifiers:  33%|███▎      | 33/100 [00:05<00:10,  6.13it/s]\u001b[A\n",
      "Training dich classifiers:  34%|███▍      | 34/100 [00:05<00:10,  6.13it/s]\u001b[A\n",
      "Training dich classifiers:  35%|███▌      | 35/100 [00:05<00:10,  6.04it/s]\u001b[A\n",
      "Training dich classifiers:  36%|███▌      | 36/100 [00:05<00:10,  6.04it/s]\u001b[A\n",
      "Training dich classifiers:  37%|███▋      | 37/100 [00:06<00:10,  6.05it/s]\u001b[A\n",
      "Training dich classifiers:  38%|███▊      | 38/100 [00:06<00:10,  6.08it/s]\u001b[A\n",
      "Training dich classifiers:  39%|███▉      | 39/100 [00:06<00:10,  6.07it/s]\u001b[A\n",
      "Training dich classifiers:  40%|████      | 40/100 [00:06<00:09,  6.09it/s]\u001b[A\n",
      "Training dich classifiers:  41%|████      | 41/100 [00:06<00:09,  6.14it/s]\u001b[A\n",
      "Training dich classifiers:  42%|████▏     | 42/100 [00:06<00:09,  6.16it/s]\u001b[A\n",
      "Training dich classifiers:  43%|████▎     | 43/100 [00:06<00:09,  6.14it/s]\u001b[A\n",
      "Training dich classifiers:  44%|████▍     | 44/100 [00:07<00:09,  6.16it/s]\u001b[A\n",
      "Training dich classifiers:  45%|████▌     | 45/100 [00:07<00:08,  6.15it/s]\u001b[A\n",
      "Training dich classifiers:  46%|████▌     | 46/100 [00:07<00:08,  6.10it/s]\u001b[A\n",
      "Training dich classifiers:  47%|████▋     | 47/100 [00:07<00:08,  6.09it/s]\u001b[A\n",
      "Training dich classifiers:  48%|████▊     | 48/100 [00:07<00:08,  6.10it/s]\u001b[A\n",
      "Training dich classifiers:  49%|████▉     | 49/100 [00:08<00:08,  6.12it/s]\u001b[A\n",
      "Training dich classifiers:  50%|█████     | 50/100 [00:08<00:08,  6.12it/s]\u001b[A\n",
      "Training dich classifiers:  51%|█████     | 51/100 [00:08<00:07,  6.14it/s]\u001b[A\n",
      "Training dich classifiers:  52%|█████▏    | 52/100 [00:08<00:07,  6.15it/s]\u001b[A\n",
      "Training dich classifiers:  53%|█████▎    | 53/100 [00:08<00:07,  6.17it/s]\u001b[A\n",
      "Training dich classifiers:  54%|█████▍    | 54/100 [00:08<00:07,  6.19it/s]\u001b[A\n",
      "Training dich classifiers:  55%|█████▌    | 55/100 [00:08<00:07,  6.18it/s]\u001b[A\n",
      "Training dich classifiers:  56%|█████▌    | 56/100 [00:09<00:07,  6.17it/s]\u001b[A\n",
      "Training dich classifiers:  57%|█████▋    | 57/100 [00:09<00:06,  6.16it/s]\u001b[A\n",
      "Training dich classifiers:  58%|█████▊    | 58/100 [00:09<00:06,  6.16it/s]\u001b[A\n",
      "Training dich classifiers:  59%|█████▉    | 59/100 [00:09<00:06,  6.17it/s]\u001b[A\n",
      "Training dich classifiers:  60%|██████    | 60/100 [00:09<00:06,  6.19it/s]\u001b[A\n",
      "Training dich classifiers:  61%|██████    | 61/100 [00:09<00:06,  6.18it/s]\u001b[A\n",
      "Training dich classifiers:  62%|██████▏   | 62/100 [00:10<00:06,  6.11it/s]\u001b[A\n",
      "Training dich classifiers:  63%|██████▎   | 63/100 [00:10<00:06,  6.08it/s]\u001b[A\n",
      "Training dich classifiers:  64%|██████▍   | 64/100 [00:10<00:05,  6.09it/s]\u001b[A\n",
      "Training dich classifiers:  65%|██████▌   | 65/100 [00:10<00:05,  6.11it/s]\u001b[A\n",
      "Training dich classifiers:  66%|██████▌   | 66/100 [00:10<00:05,  6.12it/s]\u001b[A\n",
      "Training dich classifiers:  67%|██████▋   | 67/100 [00:10<00:05,  6.11it/s]\u001b[A\n",
      "Training dich classifiers:  68%|██████▊   | 68/100 [00:11<00:05,  6.10it/s]\u001b[A\n",
      "Training dich classifiers:  69%|██████▉   | 69/100 [00:11<00:05,  6.09it/s]\u001b[A\n",
      "Training dich classifiers:  70%|███████   | 70/100 [00:11<00:04,  6.07it/s]\u001b[A\n",
      "Training dich classifiers:  71%|███████   | 71/100 [00:11<00:04,  6.08it/s]\u001b[A\n",
      "Training dich classifiers:  72%|███████▏  | 72/100 [00:11<00:04,  6.08it/s]\u001b[A\n",
      "Training dich classifiers:  73%|███████▎  | 73/100 [00:11<00:04,  6.10it/s]\u001b[A\n",
      "Training dich classifiers:  74%|███████▍  | 74/100 [00:12<00:04,  6.10it/s]\u001b[A\n",
      "Training dich classifiers:  75%|███████▌  | 75/100 [00:12<00:04,  6.09it/s]\u001b[A\n",
      "Training dich classifiers:  76%|███████▌  | 76/100 [00:12<00:03,  6.07it/s]\u001b[A\n",
      "Training dich classifiers:  77%|███████▋  | 77/100 [00:12<00:03,  6.06it/s]\u001b[A\n",
      "Training dich classifiers:  78%|███████▊  | 78/100 [00:12<00:03,  6.06it/s]\u001b[A\n",
      "Training dich classifiers:  79%|███████▉  | 79/100 [00:13<00:03,  6.04it/s]\u001b[A\n",
      "Training dich classifiers:  80%|████████  | 80/100 [00:13<00:03,  6.05it/s]\u001b[A\n",
      "Training dich classifiers:  81%|████████  | 81/100 [00:13<00:03,  6.06it/s]\u001b[A\n",
      "Training dich classifiers:  82%|████████▏ | 82/100 [00:13<00:02,  6.07it/s]\u001b[A\n",
      "Training dich classifiers:  83%|████████▎ | 83/100 [00:13<00:02,  6.07it/s]\u001b[A\n",
      "Training dich classifiers:  84%|████████▍ | 84/100 [00:13<00:02,  6.05it/s]\u001b[A\n",
      "Training dich classifiers:  85%|████████▌ | 85/100 [00:14<00:02,  6.06it/s]\u001b[A\n",
      "Training dich classifiers:  86%|████████▌ | 86/100 [00:14<00:02,  6.07it/s]\u001b[A\n",
      "Training dich classifiers:  87%|████████▋ | 87/100 [00:14<00:02,  6.07it/s]\u001b[A\n",
      "Training dich classifiers:  88%|████████▊ | 88/100 [00:14<00:01,  6.09it/s]\u001b[A\n",
      "Training dich classifiers:  89%|████████▉ | 89/100 [00:14<00:01,  6.10it/s]\u001b[A\n",
      "Training dich classifiers:  90%|█████████ | 90/100 [00:14<00:01,  6.10it/s]\u001b[A\n",
      "Training dich classifiers:  91%|█████████ | 91/100 [00:14<00:01,  6.09it/s]\u001b[A\n",
      "Training dich classifiers:  92%|█████████▏| 92/100 [00:15<00:01,  6.09it/s]\u001b[A\n",
      "Training dich classifiers:  93%|█████████▎| 93/100 [00:15<00:01,  6.09it/s]\u001b[A\n",
      "Training dich classifiers:  94%|█████████▍| 94/100 [00:15<00:00,  6.08it/s]\u001b[A\n",
      "Training dich classifiers:  95%|█████████▌| 95/100 [00:15<00:00,  6.08it/s]\u001b[A\n",
      "Training dich classifiers:  96%|█████████▌| 96/100 [00:15<00:00,  6.08it/s]\u001b[A\n",
      "Training dich classifiers:  97%|█████████▋| 97/100 [00:16<00:00,  6.05it/s]\u001b[A\n",
      "Training dich classifiers:  98%|█████████▊| 98/100 [00:16<00:00,  6.05it/s]\u001b[A\n",
      "Training dich classifiers:  99%|█████████▉| 99/100 [00:16<00:00,  6.05it/s]\u001b[A\n",
      "Training dich classifiers: 100%|██████████| 100/100 [00:16<00:00,  6.04it/s]\u001b[A\n",
      "100%|██████████| 5/5 [02:56<00:00, 35.35s/it]\n"
     ]
    }
   ],
   "source": [
    "attempts_data = []\n",
    "N_attempts = 5\n",
    "l = np.unique(target).size\n",
    "N = 100 # кол-во дихотомий\n",
    "wtypes = [None, 'accuracy', 'f1', 'confusion_list']\n",
    "for i in tqdm(range(N_attempts)):\n",
    "    accs = []\n",
    "    code_matrix = functions.make_random_dichs(l, N)\n",
    "    print('Code Matrix shape == ({},{})'.format(l, code_matrix.shape[1]))\n",
    "    dich_classifiers = functions.train_dichs(code_matrix, X_train, y_train, \n",
    "                                             X_test, y_test, LogisticRegression)\n",
    "    for score_type in wtypes:\n",
    "        weight_type = None\n",
    "        preds, num_real_dich = functions.predict_all(X_val, dich_classifiers, code_matrix, score_type, weight_type)\n",
    "        acc = accuracy_score(preds, y_val)\n",
    "        accs.append(acc)\n",
    "    accs.append(num_real_dich)\n",
    "    attempts_data.append(accs)\n",
    "#             print(score_type, weight_type, accuracy_score(preds, y_val))"
   ]
  },
  {
   "cell_type": "code",
   "execution_count": 67,
   "metadata": {
    "scrolled": true
   },
   "outputs": [
    {
     "data": {
      "text/html": [
       "<div>\n",
       "<style scoped>\n",
       "    .dataframe tbody tr th:only-of-type {\n",
       "        vertical-align: middle;\n",
       "    }\n",
       "\n",
       "    .dataframe tbody tr th {\n",
       "        vertical-align: top;\n",
       "    }\n",
       "\n",
       "    .dataframe thead th {\n",
       "        text-align: right;\n",
       "    }\n",
       "</style>\n",
       "<table border=\"1\" class=\"dataframe\">\n",
       "  <thead>\n",
       "    <tr style=\"text-align: right;\">\n",
       "      <th></th>\n",
       "      <th>sNone</th>\n",
       "      <th>saccuracy</th>\n",
       "      <th>sf1</th>\n",
       "      <th>sconfusion_list</th>\n",
       "      <th>snum_real_dich</th>\n",
       "    </tr>\n",
       "  </thead>\n",
       "  <tbody>\n",
       "    <tr>\n",
       "      <th>count</th>\n",
       "      <td>5.000000</td>\n",
       "      <td>5.000000</td>\n",
       "      <td>5.000000</td>\n",
       "      <td>5.000000</td>\n",
       "      <td>5.0</td>\n",
       "    </tr>\n",
       "    <tr>\n",
       "      <th>mean</th>\n",
       "      <td>0.245214</td>\n",
       "      <td>0.242121</td>\n",
       "      <td>0.136745</td>\n",
       "      <td>0.229971</td>\n",
       "      <td>100.0</td>\n",
       "    </tr>\n",
       "    <tr>\n",
       "      <th>std</th>\n",
       "      <td>0.002852</td>\n",
       "      <td>0.007412</td>\n",
       "      <td>0.015048</td>\n",
       "      <td>0.007503</td>\n",
       "      <td>0.0</td>\n",
       "    </tr>\n",
       "    <tr>\n",
       "      <th>min</th>\n",
       "      <td>0.241163</td>\n",
       "      <td>0.232695</td>\n",
       "      <td>0.121134</td>\n",
       "      <td>0.220913</td>\n",
       "      <td>100.0</td>\n",
       "    </tr>\n",
       "    <tr>\n",
       "      <th>25%</th>\n",
       "      <td>0.244109</td>\n",
       "      <td>0.237113</td>\n",
       "      <td>0.127025</td>\n",
       "      <td>0.224595</td>\n",
       "      <td>100.0</td>\n",
       "    </tr>\n",
       "    <tr>\n",
       "      <th>50%</th>\n",
       "      <td>0.245582</td>\n",
       "      <td>0.243004</td>\n",
       "      <td>0.132548</td>\n",
       "      <td>0.229381</td>\n",
       "      <td>100.0</td>\n",
       "    </tr>\n",
       "    <tr>\n",
       "      <th>75%</th>\n",
       "      <td>0.246318</td>\n",
       "      <td>0.246318</td>\n",
       "      <td>0.143962</td>\n",
       "      <td>0.236745</td>\n",
       "      <td>100.0</td>\n",
       "    </tr>\n",
       "    <tr>\n",
       "      <th>max</th>\n",
       "      <td>0.248895</td>\n",
       "      <td>0.251473</td>\n",
       "      <td>0.159057</td>\n",
       "      <td>0.238218</td>\n",
       "      <td>100.0</td>\n",
       "    </tr>\n",
       "  </tbody>\n",
       "</table>\n",
       "</div>"
      ],
      "text/plain": [
       "          sNone  saccuracy       sf1  sconfusion_list  snum_real_dich\n",
       "count  5.000000   5.000000  5.000000         5.000000             5.0\n",
       "mean   0.245214   0.242121  0.136745         0.229971           100.0\n",
       "std    0.002852   0.007412  0.015048         0.007503             0.0\n",
       "min    0.241163   0.232695  0.121134         0.220913           100.0\n",
       "25%    0.244109   0.237113  0.127025         0.224595           100.0\n",
       "50%    0.245582   0.243004  0.132548         0.229381           100.0\n",
       "75%    0.246318   0.246318  0.143962         0.236745           100.0\n",
       "max    0.248895   0.251473  0.159057         0.238218           100.0"
      ]
     },
     "execution_count": 67,
     "metadata": {},
     "output_type": "execute_result"
    }
   ],
   "source": [
    "wtypes += ['num_real_dich']\n",
    "df_attempts = pd.DataFrame(attempts_data)\n",
    "df_attempts.columns = ['s{}'.format(i1) for i1 in wtypes]\n",
    "df_attempts.describe()"
   ]
  },
  {
   "cell_type": "markdown",
   "metadata": {},
   "source": [
    "# Отбор"
   ]
  },
  {
   "cell_type": "code",
   "execution_count": null,
   "metadata": {
    "scrolled": true
   },
   "outputs": [
    {
     "name": "stderr",
     "output_type": "stream",
     "text": [
      "  0%|          | 0/5 [00:00<?, ?it/s]\n",
      "Adding dich:   0%|          | 0/80 [00:00<?, ?it/s]\u001b[A\n",
      "Adding dich: 100%|██████████| 80/80 [00:00<00:00, 29834.12it/s]\u001b[A\n",
      "Training dich classifiers:   0%|          | 0/80 [00:00<?, ?it/s]\u001b[A\n",
      "Training dich classifiers:   6%|▋         | 5/80 [00:00<00:01, 46.51it/s]\u001b[A\n",
      "Training dich classifiers:  11%|█▏        | 9/80 [00:00<00:01, 40.53it/s]\u001b[A\n",
      "Training dich classifiers:  18%|█▊        | 14/80 [00:00<00:01, 41.76it/s]\u001b[A\n",
      "Training dich classifiers:  24%|██▍       | 19/80 [00:00<00:01, 43.15it/s]\u001b[A\n",
      "Training dich classifiers:  29%|██▉       | 23/80 [00:00<00:01, 42.42it/s]\u001b[A\n",
      "Training dich classifiers:  35%|███▌      | 28/80 [00:00<00:01, 42.49it/s]\u001b[A\n",
      "Training dich classifiers:  41%|████▏     | 33/80 [00:00<00:01, 42.87it/s]\u001b[A\n",
      "Training dich classifiers:  48%|████▊     | 38/80 [00:00<00:00, 43.19it/s]\u001b[A\n",
      "Training dich classifiers:  54%|█████▍    | 43/80 [00:01<00:00, 42.94it/s]\u001b[A\n",
      "Training dich classifiers:  61%|██████▏   | 49/80 [00:01<00:00, 44.13it/s]\u001b[A\n",
      "Training dich classifiers:  68%|██████▊   | 54/80 [00:01<00:00, 44.61it/s]\u001b[A\n",
      "Training dich classifiers:  74%|███████▍  | 59/80 [00:01<00:00, 44.67it/s]\u001b[A\n",
      "Training dich classifiers:  80%|████████  | 64/80 [00:01<00:00, 44.39it/s]\u001b[A\n",
      "Training dich classifiers:  86%|████████▋ | 69/80 [00:01<00:00, 44.18it/s]\u001b[A\n",
      "Training dich classifiers:  92%|█████████▎| 74/80 [00:01<00:00, 44.39it/s]\u001b[A\n",
      "Training dich classifiers:  99%|█████████▉| 79/80 [00:01<00:00, 44.68it/s]\u001b[A\n",
      " 20%|██        | 1/5 [00:05<00:20,  5.24s/it]0/80 [00:01<00:00, 44.39it/s]\u001b[A\n",
      "Adding dich:   0%|          | 0/80 [00:00<?, ?it/s]\u001b[A\n",
      "Adding dich: 100%|██████████| 80/80 [00:00<00:00, 53902.70it/s]\u001b[A\n",
      "Training dich classifiers:   0%|          | 0/80 [00:00<?, ?it/s]\u001b[A\n",
      "Training dich classifiers:   8%|▊         | 6/80 [00:00<00:01, 50.23it/s]\u001b[A\n",
      "Training dich classifiers:  14%|█▍        | 11/80 [00:00<00:01, 47.12it/s]\u001b[A\n",
      "Training dich classifiers:  20%|██        | 16/80 [00:00<00:01, 47.48it/s]\u001b[A\n",
      "Training dich classifiers:  26%|██▋       | 21/80 [00:00<00:01, 47.08it/s]\u001b[A"
     ]
    }
   ],
   "source": [
    "attempts_data = []\n",
    "N_attempts = 5\n",
    "l = np.unique(target).size\n",
    "N = 80 # кол-во дихотомий\n",
    "wtypes = [None, 'accuracy', 'f1', 'confusion_list']\n",
    "for i in tqdm(range(N_attempts)):\n",
    "    accs = []\n",
    "    code_matrix = functions.make_random_dichs(l, N)\n",
    "#     print('Code Matrix shape == ({},{})'.format(l, code_matrix.shape[1]))\n",
    "    dich_classifiers = functions.train_dichs(code_matrix, X_train, y_train, \n",
    "                                             X_test, y_test, LogisticRegression)\n",
    "    for score_type in wtypes:\n",
    "        preds, num_real_dich = functions.predict_all(X_val, dich_classifiers, \n",
    "                                      code_matrix, score_type, weight_type=-1)\n",
    "        acc = accuracy_score(preds, y_val)\n",
    "        accs.append(acc)\n",
    "    accs.append(num_real_dich)\n",
    "    attempts_data.append(accs)"
   ]
  },
  {
   "cell_type": "code",
   "execution_count": null,
   "metadata": {},
   "outputs": [],
   "source": [
    "wtypes += ['num_real_dich']\n",
    "df_attempts = pd.DataFrame(attempts_data)\n",
    "df_attempts.columns = ['s{}'.format(i1) for i1 in wtypes]\n",
    "df_attempts.describe()"
   ]
  },
  {
   "cell_type": "markdown",
   "metadata": {},
   "source": [
    "# Дихотомии где остались лучшие по критерию"
   ]
  },
  {
   "cell_type": "code",
   "execution_count": 339,
   "metadata": {},
   "outputs": [
    {
     "name": "stderr",
     "output_type": "stream",
     "text": [
      "  0%|          | 0/5 [00:00<?, ?it/s]\n",
      "Adding dich:   0%|          | 0/100 [00:00<?, ?it/s]\u001b[A\n",
      "Adding dich: 100%|██████████| 100/100 [00:00<00:00, 44969.49it/s]\u001b[A\n",
      "Training dich classifiers:   0%|          | 0/100 [00:00<?, ?it/s]\u001b[A\n",
      "Training dich classifiers:   4%|▍         | 4/100 [00:00<00:02, 32.85it/s]\u001b[A"
     ]
    },
    {
     "name": "stdout",
     "output_type": "stream",
     "text": [
      "Code Matrix shape == (10,100)\n"
     ]
    },
    {
     "name": "stderr",
     "output_type": "stream",
     "text": [
      "\n",
      "Training dich classifiers:   9%|▉         | 9/100 [00:00<00:02, 37.86it/s]\u001b[A\n",
      "Training dich classifiers:  15%|█▌        | 15/100 [00:00<00:02, 41.77it/s]\u001b[A\n",
      "Training dich classifiers:  20%|██        | 20/100 [00:00<00:01, 42.66it/s]\u001b[A\n",
      "Training dich classifiers:  25%|██▌       | 25/100 [00:00<00:01, 43.50it/s]\u001b[A\n",
      "Training dich classifiers:  30%|███       | 30/100 [00:00<00:01, 43.96it/s]\u001b[A\n",
      "Training dich classifiers:  35%|███▌      | 35/100 [00:00<00:01, 43.88it/s]\u001b[A\n",
      "Training dich classifiers:  40%|████      | 40/100 [00:00<00:01, 44.21it/s]\u001b[A\n",
      "Training dich classifiers:  45%|████▌     | 45/100 [00:01<00:01, 44.58it/s]\u001b[A\n",
      "Training dich classifiers:  50%|█████     | 50/100 [00:01<00:01, 44.41it/s]\u001b[A\n",
      "Training dich classifiers:  55%|█████▌    | 55/100 [00:01<00:01, 44.32it/s]\u001b[A\n",
      "Training dich classifiers:  60%|██████    | 60/100 [00:01<00:00, 44.67it/s]\u001b[A\n",
      "Training dich classifiers:  66%|██████▌   | 66/100 [00:01<00:00, 45.10it/s]\u001b[A\n",
      "Training dich classifiers:  71%|███████   | 71/100 [00:01<00:00, 44.77it/s]\u001b[A\n",
      "Training dich classifiers:  76%|███████▌  | 76/100 [00:01<00:00, 44.78it/s]\u001b[A\n",
      "Training dich classifiers:  81%|████████  | 81/100 [00:01<00:00, 44.78it/s]\u001b[A\n",
      "Training dich classifiers:  86%|████████▌ | 86/100 [00:01<00:00, 44.90it/s]\u001b[A\n",
      "Training dich classifiers:  91%|█████████ | 91/100 [00:02<00:00, 45.00it/s]\u001b[A\n",
      "Training dich classifiers:  96%|█████████▌| 96/100 [00:02<00:00, 45.23it/s]\u001b[A\n",
      " 20%|██        | 1/5 [00:03<00:14,  3.63s/it]00/100 [00:02<00:00, 45.17it/s]\u001b[A\n",
      "Adding dich:   0%|          | 0/100 [00:00<?, ?it/s]\u001b[A\n",
      "Adding dich: 100%|██████████| 100/100 [00:00<00:00, 56964.61it/s]\u001b[A\n",
      "Training dich classifiers:   0%|          | 0/100 [00:00<?, ?it/s]\u001b[A\n",
      "Training dich classifiers:   5%|▌         | 5/100 [00:00<00:02, 45.84it/s]\u001b[A"
     ]
    },
    {
     "name": "stdout",
     "output_type": "stream",
     "text": [
      "Code Matrix shape == (10,100)\n"
     ]
    },
    {
     "name": "stderr",
     "output_type": "stream",
     "text": [
      "\n",
      "Training dich classifiers:   9%|▉         | 9/100 [00:00<00:02, 42.13it/s]\u001b[A\n",
      "Training dich classifiers:  14%|█▍        | 14/100 [00:00<00:01, 43.64it/s]\u001b[A\n",
      "Training dich classifiers:  18%|█▊        | 18/100 [00:00<00:02, 40.91it/s]\u001b[A\n",
      "Training dich classifiers:  23%|██▎       | 23/100 [00:00<00:01, 40.75it/s]\u001b[A\n",
      "Training dich classifiers:  27%|██▋       | 27/100 [00:00<00:01, 40.35it/s]\u001b[A\n",
      "Training dich classifiers:  33%|███▎      | 33/100 [00:00<00:01, 41.75it/s]\u001b[A\n",
      "Training dich classifiers:  38%|███▊      | 38/100 [00:00<00:01, 41.44it/s]\u001b[A\n",
      "Training dich classifiers:  43%|████▎     | 43/100 [00:01<00:01, 41.55it/s]\u001b[A\n",
      "Training dich classifiers:  48%|████▊     | 48/100 [00:01<00:01, 42.28it/s]\u001b[A\n",
      "Training dich classifiers:  54%|█████▍    | 54/100 [00:01<00:01, 43.22it/s]\u001b[A\n",
      "Training dich classifiers:  59%|█████▉    | 59/100 [00:01<00:00, 43.47it/s]\u001b[A\n",
      "Training dich classifiers:  64%|██████▍   | 64/100 [00:01<00:00, 43.57it/s]\u001b[A\n",
      "Training dich classifiers:  69%|██████▉   | 69/100 [00:01<00:00, 43.61it/s]\u001b[A\n",
      "Training dich classifiers:  75%|███████▌  | 75/100 [00:01<00:00, 44.12it/s]\u001b[A\n",
      "Training dich classifiers:  80%|████████  | 80/100 [00:01<00:00, 44.08it/s]\u001b[A\n",
      "Training dich classifiers:  85%|████████▌ | 85/100 [00:01<00:00, 43.90it/s]\u001b[A\n",
      "Training dich classifiers:  91%|█████████ | 91/100 [00:02<00:00, 44.39it/s]\u001b[A\n",
      "Training dich classifiers:  96%|█████████▌| 96/100 [00:02<00:00, 44.43it/s]\u001b[A\n",
      " 40%|████      | 2/5 [00:07<00:10,  3.65s/it]00/100 [00:02<00:00, 44.49it/s]\u001b[A\n",
      "Adding dich:   0%|          | 0/100 [00:00<?, ?it/s]\u001b[A\n",
      "Adding dich: 100%|██████████| 100/100 [00:00<00:00, 58262.31it/s]\u001b[A\n",
      "Training dich classifiers:   0%|          | 0/100 [00:00<?, ?it/s]\u001b[A\n",
      "Training dich classifiers:   6%|▌         | 6/100 [00:00<00:01, 49.51it/s]\u001b[A"
     ]
    },
    {
     "name": "stdout",
     "output_type": "stream",
     "text": [
      "Code Matrix shape == (10,100)\n"
     ]
    },
    {
     "name": "stderr",
     "output_type": "stream",
     "text": [
      "\n",
      "Training dich classifiers:  11%|█         | 11/100 [00:00<00:01, 48.31it/s]\u001b[A\n",
      "Training dich classifiers:  16%|█▌        | 16/100 [00:00<00:01, 48.66it/s]\u001b[A\n",
      "Training dich classifiers:  21%|██        | 21/100 [00:00<00:01, 48.08it/s]\u001b[A\n",
      "Training dich classifiers:  27%|██▋       | 27/100 [00:00<00:01, 48.83it/s]\u001b[A\n",
      "Training dich classifiers:  32%|███▏      | 32/100 [00:00<00:01, 48.36it/s]\u001b[A\n",
      "Training dich classifiers:  37%|███▋      | 37/100 [00:00<00:01, 48.20it/s]\u001b[A\n",
      "Training dich classifiers:  42%|████▏     | 42/100 [00:00<00:01, 47.75it/s]\u001b[A\n",
      "Training dich classifiers:  47%|████▋     | 47/100 [00:00<00:01, 47.15it/s]\u001b[A\n",
      "Training dich classifiers:  52%|█████▏    | 52/100 [00:01<00:01, 46.97it/s]\u001b[A\n",
      "Training dich classifiers:  57%|█████▋    | 57/100 [00:01<00:00, 46.36it/s]\u001b[A\n",
      "Training dich classifiers:  62%|██████▏   | 62/100 [00:01<00:00, 46.16it/s]\u001b[A\n",
      "Training dich classifiers:  68%|██████▊   | 68/100 [00:01<00:00, 46.47it/s]\u001b[A\n",
      "Training dich classifiers:  73%|███████▎  | 73/100 [00:01<00:00, 46.27it/s]\u001b[A\n",
      "Training dich classifiers:  78%|███████▊  | 78/100 [00:01<00:00, 46.00it/s]\u001b[A\n",
      "Training dich classifiers:  83%|████████▎ | 83/100 [00:01<00:00, 46.06it/s]\u001b[A\n",
      "Training dich classifiers:  88%|████████▊ | 88/100 [00:01<00:00, 45.78it/s]\u001b[A\n",
      "Training dich classifiers:  93%|█████████▎| 93/100 [00:02<00:00, 45.97it/s]\u001b[A\n",
      "Training dich classifiers:  98%|█████████▊| 98/100 [00:02<00:00, 46.03it/s]\u001b[A\n",
      " 60%|██████    | 3/5 [00:10<00:07,  3.61s/it]00/100 [00:02<00:00, 45.97it/s]\u001b[A\n",
      "Adding dich:   0%|          | 0/100 [00:00<?, ?it/s]\u001b[A\n",
      "Adding dich: 100%|██████████| 100/100 [00:00<00:00, 66798.92it/s]\u001b[A\n",
      "Training dich classifiers:   0%|          | 0/100 [00:00<?, ?it/s]\u001b[A\n",
      "Training dich classifiers:   6%|▌         | 6/100 [00:00<00:01, 51.44it/s]\u001b[A"
     ]
    },
    {
     "name": "stdout",
     "output_type": "stream",
     "text": [
      "Code Matrix shape == (10,100)\n"
     ]
    },
    {
     "name": "stderr",
     "output_type": "stream",
     "text": [
      "\n",
      "Training dich classifiers:   9%|▉         | 9/100 [00:00<00:02, 40.48it/s]\u001b[A\n",
      "Training dich classifiers:  14%|█▍        | 14/100 [00:00<00:02, 43.00it/s]\u001b[A\n",
      "Training dich classifiers:  19%|█▉        | 19/100 [00:00<00:01, 44.39it/s]\u001b[A\n",
      "Training dich classifiers:  24%|██▍       | 24/100 [00:00<00:01, 45.40it/s]\u001b[A\n",
      "Training dich classifiers:  29%|██▉       | 29/100 [00:00<00:01, 44.78it/s]\u001b[A\n",
      "Training dich classifiers:  34%|███▍      | 34/100 [00:00<00:01, 44.98it/s]\u001b[A\n",
      "Training dich classifiers:  39%|███▉      | 39/100 [00:00<00:01, 45.18it/s]\u001b[A\n",
      "Training dich classifiers:  44%|████▍     | 44/100 [00:00<00:01, 45.27it/s]\u001b[A\n",
      "Training dich classifiers:  49%|████▉     | 49/100 [00:01<00:01, 45.22it/s]\u001b[A\n",
      "Training dich classifiers:  54%|█████▍    | 54/100 [00:01<00:01, 45.27it/s]\u001b[A\n",
      "Training dich classifiers:  59%|█████▉    | 59/100 [00:01<00:00, 44.82it/s]\u001b[A\n",
      "Training dich classifiers:  64%|██████▍   | 64/100 [00:01<00:00, 45.10it/s]\u001b[A\n",
      "Training dich classifiers:  69%|██████▉   | 69/100 [00:01<00:00, 44.76it/s]\u001b[A\n",
      "Training dich classifiers:  74%|███████▍  | 74/100 [00:01<00:00, 44.70it/s]\u001b[A\n",
      "Training dich classifiers:  79%|███████▉  | 79/100 [00:01<00:00, 44.72it/s]\u001b[A\n",
      "Training dich classifiers:  84%|████████▍ | 84/100 [00:01<00:00, 44.58it/s]\u001b[A\n",
      "Training dich classifiers:  89%|████████▉ | 89/100 [00:02<00:00, 44.49it/s]\u001b[A\n",
      "Training dich classifiers:  94%|█████████▍| 94/100 [00:02<00:00, 43.65it/s]\u001b[A\n",
      "Training dich classifiers:  99%|█████████▉| 99/100 [00:02<00:00, 43.64it/s]\u001b[A\n",
      " 80%|████████  | 4/5 [00:14<00:03,  3.62s/it]00/100 [00:02<00:00, 43.57it/s]\u001b[A\n",
      "Adding dich:   0%|          | 0/100 [00:00<?, ?it/s]\u001b[A\n",
      "Adding dich: 100%|██████████| 100/100 [00:00<00:00, 67098.13it/s]\u001b[A\n",
      "Training dich classifiers:   0%|          | 0/100 [00:00<?, ?it/s]\u001b[A\n",
      "Training dich classifiers:   5%|▌         | 5/100 [00:00<00:02, 41.21it/s]\u001b[A"
     ]
    },
    {
     "name": "stdout",
     "output_type": "stream",
     "text": [
      "Code Matrix shape == (10,100)\n"
     ]
    },
    {
     "name": "stderr",
     "output_type": "stream",
     "text": [
      "\n",
      "Training dich classifiers:  10%|█         | 10/100 [00:00<00:02, 43.94it/s]\u001b[A\n",
      "Training dich classifiers:  15%|█▌        | 15/100 [00:00<00:01, 45.32it/s]\u001b[A\n",
      "Training dich classifiers:  20%|██        | 20/100 [00:00<00:01, 44.60it/s]\u001b[A\n",
      "Training dich classifiers:  25%|██▌       | 25/100 [00:00<00:01, 44.47it/s]\u001b[A\n",
      "Training dich classifiers:  30%|███       | 30/100 [00:00<00:01, 44.82it/s]\u001b[A\n",
      "Training dich classifiers:  36%|███▌      | 36/100 [00:00<00:01, 45.90it/s]\u001b[A\n",
      "Training dich classifiers:  41%|████      | 41/100 [00:00<00:01, 45.52it/s]\u001b[A\n",
      "Training dich classifiers:  46%|████▌     | 46/100 [00:01<00:01, 45.24it/s]\u001b[A\n",
      "Training dich classifiers:  51%|█████     | 51/100 [00:01<00:01, 45.62it/s]\u001b[A\n",
      "Training dich classifiers:  56%|█████▌    | 56/100 [00:01<00:00, 45.43it/s]\u001b[A\n",
      "Training dich classifiers:  61%|██████    | 61/100 [00:01<00:00, 45.40it/s]\u001b[A\n",
      "Training dich classifiers:  66%|██████▌   | 66/100 [00:01<00:00, 45.20it/s]\u001b[A\n",
      "Training dich classifiers:  72%|███████▏  | 72/100 [00:01<00:00, 45.93it/s]\u001b[A\n",
      "Training dich classifiers:  77%|███████▋  | 77/100 [00:01<00:00, 45.70it/s]\u001b[A\n",
      "Training dich classifiers:  83%|████████▎ | 83/100 [00:01<00:00, 46.10it/s]\u001b[A\n",
      "Training dich classifiers:  88%|████████▊ | 88/100 [00:01<00:00, 46.29it/s]\u001b[A\n",
      "Training dich classifiers:  93%|█████████▎| 93/100 [00:02<00:00, 46.20it/s]\u001b[A\n",
      "Training dich classifiers:  99%|█████████▉| 99/100 [00:02<00:00, 46.36it/s]\u001b[A\n",
      "100%|██████████| 5/5 [00:18<00:00,  3.62s/it]00/100 [00:02<00:00, 46.16it/s]\u001b[A\n"
     ]
    }
   ],
   "source": [
    "attempts_data = []\n",
    "N_attempts = 5\n",
    "l = np.unique(target).size\n",
    "N = 100 # кол-во дихотомий\n",
    "num_real_dich = 30 # кол-во дихотомий которые оставляем\n",
    "wtypes = [None, 'accuracy', 'f1', 'confusion_list']\n",
    "for i in tqdm(range(N_attempts)):\n",
    "    accs = []\n",
    "    code_matrix = functions.make_random_dichs(l, N)\n",
    "    print('Code Matrix shape == ({},{})'.format(l, code_matrix.shape[1]))\n",
    "    dich_classifiers = functions.train_dichs(code_matrix, X_train, y_train, \n",
    "                                             X_test, y_test, LogisticRegression)\n",
    "    \n",
    "    metric_map = np.array([d['f1'] for d in dich_classifiers])\n",
    "    top_dich = np.sort(np.argsort(metric_map)[-num_real_dich:])\n",
    "    dich_classifiers = [d for i,d in enumerate(dich_classifiers) if i in top_dich]\n",
    "    code_matrix = code_matrix.T[top_dich].T\n",
    "    \n",
    "    for score_type in wtypes:\n",
    "        weight_type = None\n",
    "        preds, _ = functions.predict_all(X_val, dich_classifiers, code_matrix, score_type, weight_type)\n",
    "        acc = accuracy_score(preds, y_val)\n",
    "        accs.append(acc)\n",
    "    accs.append(num_real_dich)\n",
    "    attempts_data.append(accs)\n",
    "#             print(score_type, weight_type, accuracy_score(preds, y_val))"
   ]
  },
  {
   "cell_type": "code",
   "execution_count": 340,
   "metadata": {},
   "outputs": [
    {
     "data": {
      "text/html": [
       "<div>\n",
       "<style scoped>\n",
       "    .dataframe tbody tr th:only-of-type {\n",
       "        vertical-align: middle;\n",
       "    }\n",
       "\n",
       "    .dataframe tbody tr th {\n",
       "        vertical-align: top;\n",
       "    }\n",
       "\n",
       "    .dataframe thead th {\n",
       "        text-align: right;\n",
       "    }\n",
       "</style>\n",
       "<table border=\"1\" class=\"dataframe\">\n",
       "  <thead>\n",
       "    <tr style=\"text-align: right;\">\n",
       "      <th></th>\n",
       "      <th>sNone</th>\n",
       "      <th>saccuracy</th>\n",
       "      <th>sf1</th>\n",
       "      <th>sconfusion_list</th>\n",
       "      <th>snum_real_dich</th>\n",
       "    </tr>\n",
       "  </thead>\n",
       "  <tbody>\n",
       "    <tr>\n",
       "      <th>count</th>\n",
       "      <td>5.000000</td>\n",
       "      <td>5.000000</td>\n",
       "      <td>5.000000</td>\n",
       "      <td>5.000000</td>\n",
       "      <td>5.0</td>\n",
       "    </tr>\n",
       "    <tr>\n",
       "      <th>mean</th>\n",
       "      <td>0.918056</td>\n",
       "      <td>0.920370</td>\n",
       "      <td>0.921759</td>\n",
       "      <td>0.921759</td>\n",
       "      <td>30.0</td>\n",
       "    </tr>\n",
       "    <tr>\n",
       "      <th>std</th>\n",
       "      <td>0.011053</td>\n",
       "      <td>0.007781</td>\n",
       "      <td>0.010010</td>\n",
       "      <td>0.008085</td>\n",
       "      <td>0.0</td>\n",
       "    </tr>\n",
       "    <tr>\n",
       "      <th>min</th>\n",
       "      <td>0.912037</td>\n",
       "      <td>0.912037</td>\n",
       "      <td>0.909722</td>\n",
       "      <td>0.912037</td>\n",
       "      <td>30.0</td>\n",
       "    </tr>\n",
       "    <tr>\n",
       "      <th>25%</th>\n",
       "      <td>0.912037</td>\n",
       "      <td>0.916667</td>\n",
       "      <td>0.918981</td>\n",
       "      <td>0.916667</td>\n",
       "      <td>30.0</td>\n",
       "    </tr>\n",
       "    <tr>\n",
       "      <th>50%</th>\n",
       "      <td>0.912037</td>\n",
       "      <td>0.918981</td>\n",
       "      <td>0.921296</td>\n",
       "      <td>0.921296</td>\n",
       "      <td>30.0</td>\n",
       "    </tr>\n",
       "    <tr>\n",
       "      <th>75%</th>\n",
       "      <td>0.916667</td>\n",
       "      <td>0.921296</td>\n",
       "      <td>0.921296</td>\n",
       "      <td>0.925926</td>\n",
       "      <td>30.0</td>\n",
       "    </tr>\n",
       "    <tr>\n",
       "      <th>max</th>\n",
       "      <td>0.937500</td>\n",
       "      <td>0.932870</td>\n",
       "      <td>0.937500</td>\n",
       "      <td>0.932870</td>\n",
       "      <td>30.0</td>\n",
       "    </tr>\n",
       "  </tbody>\n",
       "</table>\n",
       "</div>"
      ],
      "text/plain": [
       "          sNone  saccuracy       sf1  sconfusion_list  snum_real_dich\n",
       "count  5.000000   5.000000  5.000000         5.000000             5.0\n",
       "mean   0.918056   0.920370  0.921759         0.921759            30.0\n",
       "std    0.011053   0.007781  0.010010         0.008085             0.0\n",
       "min    0.912037   0.912037  0.909722         0.912037            30.0\n",
       "25%    0.912037   0.916667  0.918981         0.916667            30.0\n",
       "50%    0.912037   0.918981  0.921296         0.921296            30.0\n",
       "75%    0.916667   0.921296  0.921296         0.925926            30.0\n",
       "max    0.937500   0.932870  0.937500         0.932870            30.0"
      ]
     },
     "execution_count": 340,
     "metadata": {},
     "output_type": "execute_result"
    }
   ],
   "source": [
    "wtypes += ['num_real_dich']\n",
    "df_attempts = pd.DataFrame(attempts_data)\n",
    "df_attempts.columns = ['s{}'.format(i1) for i1 in wtypes]\n",
    "df_attempts.describe()"
   ]
  },
  {
   "cell_type": "markdown",
   "metadata": {},
   "source": [
    "# Локальный метод оптимизации"
   ]
  },
  {
   "cell_type": "code",
   "execution_count": 287,
   "metadata": {},
   "outputs": [],
   "source": [
    "def score_function(cur_dich):\n",
    "    # cluster\n",
    "    target = np.array([cur_dich[i] for i in y_train])\n",
    "    return -functions.cluster_score(X_train, target, score_type='trace_w')"
   ]
  },
  {
   "cell_type": "code",
   "execution_count": 327,
   "metadata": {},
   "outputs": [],
   "source": [
    "def score_function(cur_dich):\n",
    "    # accuracy\n",
    "    X = X_train\n",
    "    y = np.array([cur_dich[i] for i in y_train])\n",
    "    if y.max() == y.min(): #trivial dich\n",
    "        return 0\n",
    "    clf = LogisticRegression()\n",
    "    clf.fit(X, y)\n",
    "    y_pred = clf.predict(X_test)\n",
    "    y_true = np.array([cur_dich[i] for i in y_test])\n",
    "    accuracy = accuracy_score(y_true, y_pred)\n",
    "    return accuracy"
   ]
  },
  {
   "cell_type": "code",
   "execution_count": 328,
   "metadata": {},
   "outputs": [],
   "source": [
    "def score_function(cur_dich):\n",
    "    # f1\n",
    "    X = X_train\n",
    "    y = np.array([cur_dich[i] for i in y_train])\n",
    "    if y.max() == y.min(): #trivial dich\n",
    "        return 0\n",
    "    clf = LogisticRegression()\n",
    "    clf.fit(X, y)\n",
    "    y_pred = clf.predict(X_test)\n",
    "    y_true = np.array([cur_dich[i] for i in y_test])\n",
    "    accuracy = f1_score(y_true, y_pred)\n",
    "    return accuracy"
   ]
  },
  {
   "cell_type": "code",
   "execution_count": 333,
   "metadata": {},
   "outputs": [
    {
     "name": "stderr",
     "output_type": "stream",
     "text": [
      "100%|██████████| 50/50 [00:33<00:00,  1.49it/s]\n"
     ]
    }
   ],
   "source": [
    "code_matrix = functions.make_code_matrix_local(l, 50, score_function, 0)"
   ]
  },
  {
   "cell_type": "code",
   "execution_count": 334,
   "metadata": {},
   "outputs": [
    {
     "data": {
      "text/plain": [
       "array([1, 9, 9, 9, 9, 9, 9, 9, 8, 8, 9, 8, 8, 8, 8, 9, 4, 8, 3, 7, 7, 8,\n",
       "       7, 8, 8, 7, 3, 6, 8, 8, 4, 7, 8, 8, 7, 8, 2, 3, 8, 7, 5, 7, 6, 8,\n",
       "       7, 8, 7, 8, 8, 7])"
      ]
     },
     "execution_count": 334,
     "metadata": {},
     "output_type": "execute_result"
    }
   ],
   "source": [
    "code_matrix.T.sum()\n",
    "code_matrix.sum(axis=0)"
   ]
  },
  {
   "cell_type": "code",
   "execution_count": 335,
   "metadata": {
    "scrolled": true
   },
   "outputs": [
    {
     "name": "stderr",
     "output_type": "stream",
     "text": [
      "  0%|          | 0/5 [00:00<?, ?it/s]\n",
      "  0%|          | 0/30 [00:00<?, ?it/s]\u001b[A\n",
      "  3%|▎         | 1/30 [00:00<00:20,  1.42it/s]\u001b[A\n",
      "  7%|▋         | 2/30 [00:01<00:24,  1.15it/s]\u001b[A\n",
      " 10%|█         | 3/30 [00:02<00:23,  1.13it/s]\u001b[A\n",
      " 13%|█▎        | 4/30 [00:03<00:20,  1.26it/s]\u001b[A\n",
      " 17%|█▋        | 5/30 [00:04<00:22,  1.14it/s]\u001b[A\n",
      " 20%|██        | 6/30 [00:04<00:18,  1.27it/s]\u001b[A\n",
      " 23%|██▎       | 7/30 [00:05<00:18,  1.24it/s]\u001b[A\n",
      " 27%|██▋       | 8/30 [00:06<00:18,  1.18it/s]\u001b[A\n",
      " 30%|███       | 9/30 [00:07<00:17,  1.22it/s]\u001b[A\n",
      " 33%|███▎      | 10/30 [00:08<00:16,  1.23it/s]\u001b[A\n",
      " 37%|███▋      | 11/30 [00:09<00:15,  1.22it/s]\u001b[A\n",
      " 40%|████      | 12/30 [00:09<00:13,  1.31it/s]\u001b[A\n",
      " 43%|████▎     | 13/30 [00:09<00:12,  1.33it/s]\u001b[A\n",
      " 47%|████▋     | 14/30 [00:10<00:12,  1.28it/s]\u001b[A\n",
      " 50%|█████     | 15/30 [00:11<00:11,  1.29it/s]\u001b[A\n",
      " 53%|█████▎    | 16/30 [00:11<00:10,  1.35it/s]\u001b[A\n",
      " 57%|█████▋    | 17/30 [00:12<00:09,  1.39it/s]\u001b[A\n",
      " 60%|██████    | 18/30 [00:12<00:08,  1.42it/s]\u001b[A\n",
      " 63%|██████▎   | 19/30 [00:13<00:07,  1.40it/s]\u001b[A\n",
      " 67%|██████▋   | 20/30 [00:14<00:07,  1.41it/s]\u001b[A\n",
      " 70%|███████   | 21/30 [00:14<00:06,  1.43it/s]\u001b[A\n",
      " 73%|███████▎  | 22/30 [00:15<00:05,  1.41it/s]\u001b[A\n",
      " 77%|███████▋  | 23/30 [00:15<00:04,  1.46it/s]\u001b[A\n",
      " 80%|████████  | 24/30 [00:16<00:04,  1.46it/s]\u001b[A\n",
      " 83%|████████▎ | 25/30 [00:17<00:03,  1.45it/s]\u001b[A\n",
      " 87%|████████▋ | 26/30 [00:18<00:02,  1.41it/s]\u001b[A\n",
      " 90%|█████████ | 27/30 [00:18<00:02,  1.43it/s]\u001b[A\n",
      " 93%|█████████▎| 28/30 [00:19<00:01,  1.42it/s]\u001b[A\n",
      " 97%|█████████▋| 29/30 [00:19<00:00,  1.46it/s]\u001b[A\n",
      "100%|██████████| 30/30 [00:20<00:00,  1.45it/s]\u001b[A\n",
      "\u001b[A\n",
      "Training dich classifiers:   0%|          | 0/30 [00:00<?, ?it/s]\u001b[A\n",
      "Training dich classifiers:  33%|███▎      | 10/30 [00:00<00:00, 89.52it/s]\u001b[A"
     ]
    },
    {
     "name": "stdout",
     "output_type": "stream",
     "text": [
      "Code Matrix shape == (10,30)\n"
     ]
    },
    {
     "name": "stderr",
     "output_type": "stream",
     "text": [
      "\n",
      "Training dich classifiers:  57%|█████▋    | 17/30 [00:00<00:00, 76.53it/s]\u001b[A\n",
      "Training dich classifiers:  83%|████████▎ | 25/30 [00:00<00:00, 74.85it/s]\u001b[A\n",
      " 20%|██        | 1/5 [00:22<01:30, 22.51s/it]0/30 [00:00<00:00, 72.27it/s]\u001b[A\n",
      "  0%|          | 0/30 [00:00<?, ?it/s]\u001b[A\n",
      "  3%|▎         | 1/30 [00:00<00:14,  2.03it/s]\u001b[A\n",
      "  7%|▋         | 2/30 [00:01<00:14,  1.91it/s]\u001b[A\n",
      " 10%|█         | 3/30 [00:01<00:17,  1.52it/s]\u001b[A\n",
      " 13%|█▎        | 4/30 [00:02<00:16,  1.61it/s]\u001b[A\n",
      " 17%|█▋        | 5/30 [00:02<00:14,  1.78it/s]\u001b[A\n",
      " 20%|██        | 6/30 [00:03<00:13,  1.78it/s]\u001b[A\n",
      " 23%|██▎       | 7/30 [00:04<00:13,  1.68it/s]\u001b[A\n",
      " 27%|██▋       | 8/30 [00:05<00:14,  1.54it/s]\u001b[A\n",
      " 30%|███       | 9/30 [00:05<00:13,  1.61it/s]\u001b[A\n",
      " 33%|███▎      | 10/30 [00:06<00:12,  1.59it/s]\u001b[A\n",
      " 37%|███▋      | 11/30 [00:07<00:12,  1.53it/s]\u001b[A\n",
      " 40%|████      | 12/30 [00:08<00:12,  1.46it/s]\u001b[A\n",
      " 43%|████▎     | 13/30 [00:08<00:10,  1.55it/s]\u001b[A\n",
      " 47%|████▋     | 14/30 [00:08<00:10,  1.58it/s]\u001b[A\n",
      " 50%|█████     | 15/30 [00:09<00:09,  1.58it/s]\u001b[A\n",
      " 53%|█████▎    | 16/30 [00:09<00:08,  1.60it/s]\u001b[A\n",
      " 57%|█████▋    | 17/30 [00:10<00:08,  1.56it/s]\u001b[A\n",
      " 60%|██████    | 18/30 [00:11<00:07,  1.60it/s]\u001b[A\n",
      " 63%|██████▎   | 19/30 [00:11<00:06,  1.61it/s]\u001b[A\n",
      " 67%|██████▋   | 20/30 [00:12<00:06,  1.58it/s]\u001b[A\n",
      " 70%|███████   | 21/30 [00:13<00:05,  1.55it/s]\u001b[A\n",
      " 73%|███████▎  | 22/30 [00:13<00:05,  1.59it/s]\u001b[A\n",
      " 77%|███████▋  | 23/30 [00:15<00:04,  1.53it/s]\u001b[A\n",
      " 80%|████████  | 24/30 [00:15<00:03,  1.52it/s]\u001b[A\n",
      " 83%|████████▎ | 25/30 [00:16<00:03,  1.50it/s]\u001b[A\n",
      " 87%|████████▋ | 26/30 [00:17<00:02,  1.45it/s]\u001b[A\n",
      " 90%|█████████ | 27/30 [00:18<00:02,  1.46it/s]\u001b[A\n",
      " 93%|█████████▎| 28/30 [00:19<00:01,  1.44it/s]\u001b[A\n",
      " 97%|█████████▋| 29/30 [00:19<00:00,  1.46it/s]\u001b[A\n",
      "100%|██████████| 30/30 [00:20<00:00,  1.43it/s]\u001b[A\n",
      "\u001b[A\n",
      "Training dich classifiers:   0%|          | 0/30 [00:00<?, ?it/s]\u001b[A\n",
      "Training dich classifiers:  23%|██▎       | 7/30 [00:00<00:00, 63.18it/s]\u001b[A"
     ]
    },
    {
     "name": "stdout",
     "output_type": "stream",
     "text": [
      "Code Matrix shape == (10,30)\n"
     ]
    },
    {
     "name": "stderr",
     "output_type": "stream",
     "text": [
      "\n",
      "Training dich classifiers:  47%|████▋     | 14/30 [00:00<00:00, 58.45it/s]\u001b[A\n",
      "Training dich classifiers:  60%|██████    | 18/30 [00:00<00:00, 49.50it/s]\u001b[A\n",
      "Training dich classifiers:  77%|███████▋  | 23/30 [00:00<00:00, 49.22it/s]\u001b[A\n",
      "Training dich classifiers: 100%|██████████| 30/30 [00:00<00:00, 51.88it/s]\u001b[A\n",
      " 40%|████      | 2/5 [00:45<01:08, 22.70s/it]\n",
      "  0%|          | 0/30 [00:00<?, ?it/s]\u001b[A\n",
      "  3%|▎         | 1/30 [00:00<00:05,  5.37it/s]\u001b[A\n",
      "  7%|▋         | 2/30 [00:01<00:18,  1.53it/s]\u001b[A\n",
      " 10%|█         | 3/30 [00:01<00:16,  1.60it/s]\u001b[A\n",
      " 13%|█▎        | 4/30 [00:02<00:19,  1.35it/s]\u001b[A\n",
      " 17%|█▋        | 5/30 [00:04<00:20,  1.23it/s]\u001b[A\n",
      " 20%|██        | 6/30 [00:05<00:20,  1.15it/s]\u001b[A\n",
      " 23%|██▎       | 7/30 [00:05<00:18,  1.21it/s]\u001b[A\n",
      " 27%|██▋       | 8/30 [00:06<00:18,  1.16it/s]\u001b[A\n",
      " 30%|███       | 9/30 [00:07<00:16,  1.28it/s]\u001b[A\n",
      " 33%|███▎      | 10/30 [00:07<00:15,  1.31it/s]\u001b[A\n",
      " 37%|███▋      | 11/30 [00:08<00:14,  1.32it/s]\u001b[A\n",
      " 40%|████      | 12/30 [00:09<00:13,  1.30it/s]\u001b[A\n",
      " 43%|████▎     | 13/30 [00:09<00:12,  1.33it/s]\u001b[A\n",
      " 47%|████▋     | 14/30 [00:10<00:12,  1.31it/s]\u001b[A\n",
      " 50%|█████     | 15/30 [00:11<00:11,  1.33it/s]\u001b[A\n",
      " 53%|█████▎    | 16/30 [00:12<00:10,  1.32it/s]\u001b[A\n",
      " 57%|█████▋    | 17/30 [00:13<00:10,  1.26it/s]\u001b[A\n",
      " 60%|██████    | 18/30 [00:13<00:09,  1.31it/s]\u001b[A\n",
      " 63%|██████▎   | 19/30 [00:14<00:08,  1.34it/s]\u001b[A\n",
      " 67%|██████▋   | 20/30 [00:14<00:07,  1.35it/s]\u001b[A\n",
      " 70%|███████   | 21/30 [00:15<00:06,  1.35it/s]\u001b[A\n",
      " 73%|███████▎  | 22/30 [00:16<00:06,  1.33it/s]\u001b[A\n",
      " 77%|███████▋  | 23/30 [00:16<00:05,  1.36it/s]\u001b[A\n",
      " 80%|████████  | 24/30 [00:17<00:04,  1.35it/s]\u001b[A\n",
      " 83%|████████▎ | 25/30 [00:18<00:03,  1.33it/s]\u001b[A\n",
      " 87%|████████▋ | 26/30 [00:19<00:03,  1.32it/s]\u001b[A\n",
      " 90%|█████████ | 27/30 [00:20<00:02,  1.34it/s]\u001b[A\n",
      " 93%|█████████▎| 28/30 [00:20<00:01,  1.33it/s]\u001b[A\n",
      " 97%|█████████▋| 29/30 [00:21<00:00,  1.35it/s]\u001b[A\n",
      "100%|██████████| 30/30 [00:22<00:00,  1.32it/s]\u001b[A\n",
      "\u001b[A\n",
      "Training dich classifiers:   0%|          | 0/30 [00:00<?, ?it/s]\u001b[A\n",
      "Training dich classifiers:  30%|███       | 9/30 [00:00<00:00, 87.36it/s]\u001b[A"
     ]
    },
    {
     "name": "stdout",
     "output_type": "stream",
     "text": [
      "Code Matrix shape == (10,30)\n"
     ]
    },
    {
     "name": "stderr",
     "output_type": "stream",
     "text": [
      "\n",
      "Training dich classifiers:  57%|█████▋    | 17/30 [00:00<00:00, 82.10it/s]\u001b[A\n",
      "Training dich classifiers:  80%|████████  | 24/30 [00:00<00:00, 77.56it/s]\u001b[A\n",
      " 60%|██████    | 3/5 [01:09<00:46, 23.30s/it]0/30 [00:00<00:00, 74.08it/s]\u001b[A\n",
      "  0%|          | 0/30 [00:00<?, ?it/s]\u001b[A\n",
      "  3%|▎         | 1/30 [00:00<00:21,  1.35it/s]\u001b[A\n",
      "  7%|▋         | 2/30 [00:01<00:18,  1.52it/s]\u001b[A\n",
      " 10%|█         | 3/30 [00:01<00:17,  1.50it/s]\u001b[A\n",
      " 13%|█▎        | 4/30 [00:02<00:17,  1.45it/s]\u001b[A\n",
      " 17%|█▋        | 5/30 [00:03<00:17,  1.45it/s]\u001b[A\n",
      " 20%|██        | 6/30 [00:03<00:15,  1.50it/s]\u001b[A\n",
      " 23%|██▎       | 7/30 [00:04<00:14,  1.60it/s]\u001b[A\n",
      " 27%|██▋       | 8/30 [00:05<00:13,  1.57it/s]\u001b[A\n",
      " 30%|███       | 9/30 [00:05<00:13,  1.51it/s]\u001b[A\n",
      " 33%|███▎      | 10/30 [00:06<00:13,  1.50it/s]\u001b[A\n",
      " 37%|███▋      | 11/30 [00:07<00:12,  1.53it/s]\u001b[A\n",
      " 40%|████      | 12/30 [00:07<00:11,  1.56it/s]\u001b[A\n",
      " 43%|████▎     | 13/30 [00:08<00:11,  1.53it/s]\u001b[A\n",
      " 47%|████▋     | 14/30 [00:09<00:10,  1.51it/s]\u001b[A\n",
      " 50%|█████     | 15/30 [00:09<00:09,  1.50it/s]\u001b[A\n",
      " 53%|█████▎    | 16/30 [00:10<00:09,  1.52it/s]\u001b[A\n",
      " 57%|█████▋    | 17/30 [00:11<00:08,  1.53it/s]\u001b[A\n",
      " 60%|██████    | 18/30 [00:11<00:07,  1.54it/s]\u001b[A\n",
      " 63%|██████▎   | 19/30 [00:12<00:07,  1.56it/s]\u001b[A\n",
      " 67%|██████▋   | 20/30 [00:12<00:06,  1.57it/s]\u001b[A\n",
      " 70%|███████   | 21/30 [00:12<00:05,  1.62it/s]\u001b[A\n",
      " 73%|███████▎  | 22/30 [00:13<00:04,  1.68it/s]\u001b[A\n",
      " 77%|███████▋  | 23/30 [00:13<00:04,  1.69it/s]\u001b[A\n",
      " 80%|████████  | 24/30 [00:14<00:03,  1.67it/s]\u001b[A\n",
      " 83%|████████▎ | 25/30 [00:15<00:03,  1.66it/s]\u001b[A\n",
      " 87%|████████▋ | 26/30 [00:15<00:02,  1.65it/s]\u001b[A\n",
      " 90%|█████████ | 27/30 [00:16<00:01,  1.66it/s]\u001b[A\n",
      " 93%|█████████▎| 28/30 [00:16<00:01,  1.67it/s]\u001b[A\n",
      " 97%|█████████▋| 29/30 [00:17<00:00,  1.65it/s]\u001b[A\n",
      "100%|██████████| 30/30 [00:18<00:00,  1.66it/s]\u001b[A\n",
      "\u001b[A\n",
      "Training dich classifiers:   0%|          | 0/30 [00:00<?, ?it/s]\u001b[A\n",
      "Training dich classifiers:  33%|███▎      | 10/30 [00:00<00:00, 96.55it/s]\u001b[A"
     ]
    },
    {
     "name": "stdout",
     "output_type": "stream",
     "text": [
      "Code Matrix shape == (10,30)\n"
     ]
    },
    {
     "name": "stderr",
     "output_type": "stream",
     "text": [
      "\n",
      "Training dich classifiers:  57%|█████▋    | 17/30 [00:00<00:00, 77.96it/s]\u001b[A\n",
      "Training dich classifiers:  80%|████████  | 24/30 [00:00<00:00, 74.98it/s]\u001b[A\n",
      " 80%|████████  | 4/5 [01:29<00:22, 22.42s/it]0/30 [00:00<00:00, 73.91it/s]\u001b[A\n",
      "  0%|          | 0/30 [00:00<?, ?it/s]\u001b[A\n",
      "  3%|▎         | 1/30 [00:00<00:12,  2.25it/s]\u001b[A\n",
      "  7%|▋         | 2/30 [00:00<00:13,  2.09it/s]\u001b[A\n",
      " 10%|█         | 3/30 [00:02<00:21,  1.28it/s]\u001b[A\n",
      " 13%|█▎        | 4/30 [00:03<00:20,  1.24it/s]\u001b[A\n",
      " 17%|█▋        | 5/30 [00:03<00:19,  1.26it/s]\u001b[A\n",
      " 20%|██        | 6/30 [00:04<00:18,  1.28it/s]\u001b[A\n",
      " 23%|██▎       | 7/30 [00:05<00:17,  1.35it/s]\u001b[A\n",
      " 27%|██▋       | 8/30 [00:05<00:15,  1.41it/s]\u001b[A\n",
      " 30%|███       | 9/30 [00:06<00:15,  1.39it/s]\u001b[A\n",
      " 33%|███▎      | 10/30 [00:07<00:14,  1.40it/s]\u001b[A\n",
      " 37%|███▋      | 11/30 [00:07<00:13,  1.41it/s]\u001b[A\n",
      " 40%|████      | 12/30 [00:08<00:13,  1.37it/s]\u001b[A\n",
      " 43%|████▎     | 13/30 [00:09<00:12,  1.33it/s]\u001b[A\n",
      " 47%|████▋     | 14/30 [00:10<00:11,  1.37it/s]\u001b[A\n",
      " 50%|█████     | 15/30 [00:11<00:11,  1.32it/s]\u001b[A\n",
      " 53%|█████▎    | 16/30 [00:11<00:10,  1.34it/s]\u001b[A\n",
      " 57%|█████▋    | 17/30 [00:12<00:09,  1.34it/s]\u001b[A\n",
      " 60%|██████    | 18/30 [00:13<00:08,  1.34it/s]\u001b[A\n",
      " 63%|██████▎   | 19/30 [00:13<00:07,  1.39it/s]\u001b[A\n",
      " 67%|██████▋   | 20/30 [00:14<00:07,  1.37it/s]\u001b[A\n",
      " 70%|███████   | 21/30 [00:14<00:06,  1.40it/s]\u001b[A\n",
      " 73%|███████▎  | 22/30 [00:15<00:05,  1.44it/s]\u001b[A\n",
      " 77%|███████▋  | 23/30 [00:15<00:04,  1.47it/s]\u001b[A\n",
      " 80%|████████  | 24/30 [00:16<00:04,  1.46it/s]\u001b[A\n",
      " 83%|████████▎ | 25/30 [00:17<00:03,  1.46it/s]\u001b[A\n",
      " 87%|████████▋ | 26/30 [00:17<00:02,  1.45it/s]\u001b[A\n",
      " 90%|█████████ | 27/30 [00:18<00:02,  1.47it/s]\u001b[A\n",
      " 93%|█████████▎| 28/30 [00:19<00:01,  1.45it/s]\u001b[A\n",
      " 97%|█████████▋| 29/30 [00:20<00:00,  1.44it/s]\u001b[A\n",
      "100%|██████████| 30/30 [00:21<00:00,  1.42it/s]\u001b[A\n",
      "\u001b[A\n",
      "Training dich classifiers:   0%|          | 0/30 [00:00<?, ?it/s]\u001b[A\n",
      "Training dich classifiers:  30%|███       | 9/30 [00:00<00:00, 87.12it/s]\u001b[A"
     ]
    },
    {
     "name": "stdout",
     "output_type": "stream",
     "text": [
      "Code Matrix shape == (10,30)\n"
     ]
    },
    {
     "name": "stderr",
     "output_type": "stream",
     "text": [
      "\n",
      "Training dich classifiers:  60%|██████    | 18/30 [00:00<00:00, 82.68it/s]\u001b[A\n",
      "Training dich classifiers:  80%|████████  | 24/30 [00:00<00:00, 73.88it/s]\u001b[A\n",
      "100%|██████████| 5/5 [01:52<00:00, 22.51s/it]0/30 [00:00<00:00, 71.46it/s]\u001b[A\n"
     ]
    }
   ],
   "source": [
    "attempts_data = []\n",
    "N_attempts = 5\n",
    "l = np.unique(target).size\n",
    "N = 30 # кол-во дихотомий\n",
    "wtypes = [None, 'accuracy', 'f1', 'confusion_list']\n",
    "for i in tqdm(range(N_attempts)):\n",
    "    accs = []\n",
    "    code_matrix = functions.make_code_matrix_local(l, N, score_function, 0)\n",
    "    print('Code Matrix shape == ({},{})'.format(l, code_matrix.shape[1]))\n",
    "    dich_classifiers = functions.train_dichs(code_matrix, X_train, y_train, \n",
    "                                             X_test, y_test, LogisticRegression)\n",
    "    for score_type in wtypes:\n",
    "        weight_type = None\n",
    "        preds, num_real_dich = functions.predict_all(X_val, dich_classifiers, code_matrix, score_type, weight_type)\n",
    "        acc = accuracy_score(preds, y_val)\n",
    "        accs.append(acc)\n",
    "    accs.append(num_real_dich)\n",
    "    attempts_data.append(accs)"
   ]
  },
  {
   "cell_type": "code",
   "execution_count": 336,
   "metadata": {},
   "outputs": [
    {
     "data": {
      "text/html": [
       "<div>\n",
       "<style scoped>\n",
       "    .dataframe tbody tr th:only-of-type {\n",
       "        vertical-align: middle;\n",
       "    }\n",
       "\n",
       "    .dataframe tbody tr th {\n",
       "        vertical-align: top;\n",
       "    }\n",
       "\n",
       "    .dataframe thead th {\n",
       "        text-align: right;\n",
       "    }\n",
       "</style>\n",
       "<table border=\"1\" class=\"dataframe\">\n",
       "  <thead>\n",
       "    <tr style=\"text-align: right;\">\n",
       "      <th></th>\n",
       "      <th>sNone</th>\n",
       "      <th>saccuracy</th>\n",
       "      <th>sf1</th>\n",
       "      <th>sconfusion_list</th>\n",
       "      <th>snum_real_dich</th>\n",
       "    </tr>\n",
       "  </thead>\n",
       "  <tbody>\n",
       "    <tr>\n",
       "      <th>count</th>\n",
       "      <td>5.000000</td>\n",
       "      <td>5.000000</td>\n",
       "      <td>5.000000</td>\n",
       "      <td>5.000000</td>\n",
       "      <td>5.0</td>\n",
       "    </tr>\n",
       "    <tr>\n",
       "      <th>mean</th>\n",
       "      <td>0.937037</td>\n",
       "      <td>0.940278</td>\n",
       "      <td>0.940278</td>\n",
       "      <td>0.936111</td>\n",
       "      <td>30.0</td>\n",
       "    </tr>\n",
       "    <tr>\n",
       "      <th>std</th>\n",
       "      <td>0.005992</td>\n",
       "      <td>0.005527</td>\n",
       "      <td>0.006423</td>\n",
       "      <td>0.010037</td>\n",
       "      <td>0.0</td>\n",
       "    </tr>\n",
       "    <tr>\n",
       "      <th>min</th>\n",
       "      <td>0.928241</td>\n",
       "      <td>0.930556</td>\n",
       "      <td>0.930556</td>\n",
       "      <td>0.918981</td>\n",
       "      <td>30.0</td>\n",
       "    </tr>\n",
       "    <tr>\n",
       "      <th>25%</th>\n",
       "      <td>0.935185</td>\n",
       "      <td>0.942130</td>\n",
       "      <td>0.937500</td>\n",
       "      <td>0.937500</td>\n",
       "      <td>30.0</td>\n",
       "    </tr>\n",
       "    <tr>\n",
       "      <th>50%</th>\n",
       "      <td>0.937500</td>\n",
       "      <td>0.942130</td>\n",
       "      <td>0.942130</td>\n",
       "      <td>0.937500</td>\n",
       "      <td>30.0</td>\n",
       "    </tr>\n",
       "    <tr>\n",
       "      <th>75%</th>\n",
       "      <td>0.939815</td>\n",
       "      <td>0.942130</td>\n",
       "      <td>0.944444</td>\n",
       "      <td>0.942130</td>\n",
       "      <td>30.0</td>\n",
       "    </tr>\n",
       "    <tr>\n",
       "      <th>max</th>\n",
       "      <td>0.944444</td>\n",
       "      <td>0.944444</td>\n",
       "      <td>0.946759</td>\n",
       "      <td>0.944444</td>\n",
       "      <td>30.0</td>\n",
       "    </tr>\n",
       "  </tbody>\n",
       "</table>\n",
       "</div>"
      ],
      "text/plain": [
       "          sNone  saccuracy       sf1  sconfusion_list  snum_real_dich\n",
       "count  5.000000   5.000000  5.000000         5.000000             5.0\n",
       "mean   0.937037   0.940278  0.940278         0.936111            30.0\n",
       "std    0.005992   0.005527  0.006423         0.010037             0.0\n",
       "min    0.928241   0.930556  0.930556         0.918981            30.0\n",
       "25%    0.935185   0.942130  0.937500         0.937500            30.0\n",
       "50%    0.937500   0.942130  0.942130         0.937500            30.0\n",
       "75%    0.939815   0.942130  0.944444         0.942130            30.0\n",
       "max    0.944444   0.944444  0.946759         0.944444            30.0"
      ]
     },
     "execution_count": 336,
     "metadata": {},
     "output_type": "execute_result"
    }
   ],
   "source": [
    "wtypes += ['num_real_dich']\n",
    "df_attempts = pd.DataFrame(attempts_data)\n",
    "df_attempts.columns = ['s{}'.format(i1) for i1 in wtypes]\n",
    "df_attempts.describe()"
   ]
  },
  {
   "cell_type": "code",
   "execution_count": 295,
   "metadata": {},
   "outputs": [
    {
     "name": "stderr",
     "output_type": "stream",
     "text": [
      "Adding dich: 100%|██████████| 1/1 [00:00<00:00, 5005.14it/s]\n"
     ]
    }
   ],
   "source": [
    "l = np.unique(target).size\n",
    "code_matrix = functions.make_random_dichs(l, 1)"
   ]
  },
  {
   "cell_type": "code",
   "execution_count": 308,
   "metadata": {},
   "outputs": [
    {
     "name": "stderr",
     "output_type": "stream",
     "text": [
      "100%|██████████| 10/10 [00:00<00:00, 13.15it/s]\n"
     ]
    },
    {
     "data": {
      "text/plain": [
       "array([[0, 1, 1, 1, 1, 1, 0, 0, 1, 1],\n",
       "       [1, 0, 0, 0, 0, 0, 1, 1, 0, 0],\n",
       "       [1, 1, 0, 0, 1, 1, 1, 1, 0, 0],\n",
       "       [1, 1, 0, 0, 1, 1, 1, 1, 0, 0],\n",
       "       [0, 0, 1, 1, 0, 0, 0, 0, 1, 1],\n",
       "       [1, 1, 0, 0, 1, 1, 1, 1, 0, 0],\n",
       "       [0, 0, 1, 1, 0, 0, 0, 0, 1, 1],\n",
       "       [1, 1, 0, 0, 1, 1, 1, 1, 0, 0],\n",
       "       [1, 1, 0, 0, 1, 1, 1, 1, 0, 0],\n",
       "       [1, 1, 0, 0, 1, 1, 1, 1, 0, 0]])"
      ]
     },
     "execution_count": 308,
     "metadata": {},
     "output_type": "execute_result"
    }
   ],
   "source": [
    "functions.make_code_matrix_local(l, 10, score_function, 0)"
   ]
  },
  {
   "cell_type": "code",
   "execution_count": 301,
   "metadata": {},
   "outputs": [
    {
     "name": "stderr",
     "output_type": "stream",
     "text": [
      " 10%|█         | 1/10 [00:00<00:01,  8.48it/s]"
     ]
    },
    {
     "name": "stdout",
     "output_type": "stream",
     "text": [
      "[1 1 0 0 0 1 1 1 0 1]\n",
      "[1 1 0 0 1 1 1 1 0 1]\n",
      "[1 1 0 0 1 1 1 1 0 0]\n",
      "[1 0 0 0 1 1 1 1 0 0]\n",
      "[1 0 0 0 1 1 1 0 0 0]\n",
      "[0 0 0 1 1 1 1 0 0 0]\n",
      "[0 0 0 0 1 1 1 0 0 0]\n",
      "[1 0 0 0 1 1 1 0 0 0]\n",
      "[1 1 0 1 0 0 0 0 1 0]\n",
      "[1 1 0 1 0 0 0 0 1 1]\n"
     ]
    },
    {
     "name": "stderr",
     "output_type": "stream",
     "text": [
      "\r",
      " 30%|███       | 3/10 [00:00<00:00,  9.79it/s]"
     ]
    },
    {
     "name": "stdout",
     "output_type": "stream",
     "text": [
      "[1 0 0 1 0 0 0 0 1 1]\n",
      "[1 0 0 1 0 0 0 0 0 1]\n",
      "[1 0 0 1 0 1 0 0 0 1]\n",
      "[1 0 1 1 0 1 0 0 0 1]\n",
      "[1 0 1 1 0 1 0 0 1 1]\n",
      "[0 1 1 1 1 0 0 0 0 0]\n",
      "[0 1 1 1 0 0 0 0 0 0]\n",
      "[0 1 1 1 0 0 0 1 0 0]\n",
      "[0 1 1 1 0 0 0 1 1 0]\n",
      "[0 1 1 1 0 0 0 1 1 1]\n",
      "[1 0 1 0 1 1 1 0 1 0]\n",
      "[1 0 0 0 1 1 1 0 1 0]\n",
      "[1 0 0 0 1 1 1 0 0 0]\n"
     ]
    },
    {
     "name": "stderr",
     "output_type": "stream",
     "text": [
      " 70%|███████   | 7/10 [00:00<00:00, 12.20it/s]"
     ]
    },
    {
     "name": "stdout",
     "output_type": "stream",
     "text": [
      "[0 1 1 0 1 0 1 1 0 1]\n",
      "[0 1 1 0 1 0 1 1 0 0]\n",
      "[0 1 0 0 1 0 1 1 0 0]\n",
      "[0 1 1 0 0 0 1 0 1 1]\n",
      "[0 1 1 1 0 0 1 0 1 1]\n",
      "[0 1 1 1 0 0 0 0 1 1]\n",
      "[0 1 1 1 0 0 0 1 1 1]\n",
      "[0 0 1 0 1 0 1 1 0 1]\n",
      "[0 0 1 0 1 0 1 1 0 0]\n",
      "[0 1 1 0 1 0 1 1 0 0]\n",
      "[0 1 0 0 1 0 1 1 0 0]\n"
     ]
    },
    {
     "name": "stderr",
     "output_type": "stream",
     "text": [
      "100%|██████████| 10/10 [00:00<00:00, 12.18it/s]"
     ]
    },
    {
     "name": "stdout",
     "output_type": "stream",
     "text": [
      "[1 1 1 0 1 0 1 1 0 1]\n",
      "[1 1 1 0 1 0 1 1 0 0]\n",
      "[1 1 0 0 1 0 1 1 0 0]\n",
      "[1 1 0 0 1 0 1 0 0 0]\n",
      "[1 0 0 0 0 1 0 1 1 1]\n",
      "[1 0 0 1 0 1 0 1 1 1]\n"
     ]
    },
    {
     "name": "stderr",
     "output_type": "stream",
     "text": [
      "\n"
     ]
    }
   ],
   "source": [
    "l = np.unique(target).size\n",
    "code_matrix = None\n",
    "\n",
    "for i in tqdm(range(10)):\n",
    "    new_dich = np.random.randint(0, 2, l)\n",
    "    new_dich = functions.make_local_optimal_dichotomy(new_dich.copy(), code_matrix, score_function, verbose=1)\n",
    "    code_matrix = functions.add_dich(new_dich, code_matrix)"
   ]
  },
  {
   "cell_type": "code",
   "execution_count": 296,
   "metadata": {},
   "outputs": [
    {
     "name": "stderr",
     "output_type": "stream",
     "text": [
      " 20%|██        | 2/10 [00:00<00:00, 13.02it/s]"
     ]
    },
    {
     "name": "stdout",
     "output_type": "stream",
     "text": [
      "[1 1 0 0 1 0 1 0 0 1]\n",
      "[1 1 0 0 1 0 1 0 0 0]\n",
      "[0 0 1 0 0 0 0 1 1 1]\n",
      "[0 0 1 1 0 0 0 1 1 1]\n",
      "[0 1 1 1 0 0 0 1 1 1]\n",
      "[1 0 0 1 0 1 1 1 0 0]\n",
      "[1 0 0 1 1 1 1 1 1 0]\n",
      "[1 1 0 0 1 1 1 0 0 1]\n"
     ]
    },
    {
     "name": "stderr",
     "output_type": "stream",
     "text": [
      " 70%|███████   | 7/10 [00:00<00:00, 17.75it/s]"
     ]
    },
    {
     "name": "stdout",
     "output_type": "stream",
     "text": [
      "[1 0 0 0 1 1 1 0 0 1]\n",
      "[1 0 0 0 1 1 1 0 0 0]\n",
      "[1 1 1 0 0 0 0 0 0 1]\n",
      "[1 1 1 1 0 0 0 0 0 1]\n",
      "[1 0 1 1 0 0 0 0 0 1]\n",
      "[1 0 1 1 0 1 0 0 0 1]\n",
      "[1 0 1 1 0 1 0 0 1 1]\n",
      "[0 0 0 0 1 0 1 0 0 0]\n",
      "[0 0 0 1 0 0 1 1 0 0]\n",
      "[0 0 0 1 0 0 0 1 0 0]\n"
     ]
    },
    {
     "name": "stderr",
     "output_type": "stream",
     "text": [
      "\r",
      " 90%|█████████ | 9/10 [00:00<00:00, 15.07it/s]"
     ]
    },
    {
     "name": "stdout",
     "output_type": "stream",
     "text": [
      "[0 0 0 1 0 0 0 1 0 1]\n",
      "[0 0 1 1 0 0 0 1 0 1]\n",
      "[0 0 1 1 0 1 0 1 0 1]\n",
      "[0 0 1 1 0 1 0 1 1 1]\n",
      "[1 1 0 1 1 1 1 1 1 0]\n",
      "[1 1 0 0 1 1 1 1 1 0]\n",
      "[0 1 0 0 1 1 1 1 1 0]\n",
      "[0 1 0 0 1 0 1 1 1 0]\n",
      "[0 1 0 0 1 0 1 1 0 0]\n",
      "[0 1 0 1 0 0 0 0 0 0]\n",
      "[0 1 1 1 0 0 0 0 0 0]\n"
     ]
    },
    {
     "name": "stderr",
     "output_type": "stream",
     "text": [
      "\r",
      "100%|██████████| 10/10 [00:00<00:00, 14.16it/s]"
     ]
    },
    {
     "name": "stdout",
     "output_type": "stream",
     "text": [
      "[0 1 1 1 0 0 0 1 0 0]\n",
      "[0 1 1 1 0 0 0 1 1 0]\n",
      "[0 1 1 1 0 0 0 1 1 1]\n"
     ]
    },
    {
     "name": "stderr",
     "output_type": "stream",
     "text": [
      "\n"
     ]
    }
   ],
   "source": [
    "\n",
    "for i in tqdm(range(10)):\n",
    "    cur_dich = np.random.randint(0, 2, l)\n",
    "    while functions.does_dich_exist(cur_dich, code_matrix):\n",
    "        cur_dich = np.random.randint(0, 2, l)\n",
    "    new_dich = functions.make_local_optimal_dichotomy(cur_dich.copy(), code_matrix, score_function, verbose=1)\n",
    "    code_matrix = np.hstack([code_matrix, new_dich.reshape((-1, 1))])"
   ]
  },
  {
   "cell_type": "code",
   "execution_count": 297,
   "metadata": {},
   "outputs": [
    {
     "data": {
      "text/plain": [
       "array([[0., 1., 0., 1., 1., 1., 1., 0., 1., 0., 0.],\n",
       "       [1., 0., 1., 0., 0., 0., 0., 1., 0., 1., 1.],\n",
       "       [1., 0., 1., 0., 0., 0., 1., 0., 1., 0., 1.],\n",
       "       [0., 0., 1., 1., 1., 0., 1., 0., 1., 0., 1.],\n",
       "       [1., 1., 0., 0., 0., 1., 0., 1., 0., 1., 0.],\n",
       "       [0., 0., 1., 1., 1., 0., 1., 0., 1., 0., 1.],\n",
       "       [0., 1., 0., 1., 1., 1., 0., 1., 0., 1., 0.],\n",
       "       [0., 0., 1., 1., 1., 0., 1., 0., 1., 0., 1.],\n",
       "       [0., 0., 1., 1., 1., 0., 1., 0., 1., 0., 1.],\n",
       "       [1., 0., 1., 0., 0., 0., 1., 0., 1., 0., 1.]])"
      ]
     },
     "execution_count": 297,
     "metadata": {},
     "output_type": "execute_result"
    }
   ],
   "source": [
    "code_matrix"
   ]
  }
 ],
 "metadata": {
  "kernelspec": {
   "display_name": "Python 3.6",
   "language": "python",
   "name": "myenv"
  },
  "language_info": {
   "codemirror_mode": {
    "name": "ipython",
    "version": 3
   },
   "file_extension": ".py",
   "mimetype": "text/x-python",
   "name": "python",
   "nbconvert_exporter": "python",
   "pygments_lexer": "ipython3",
   "version": "3.6.6"
  }
 },
 "nbformat": 4,
 "nbformat_minor": 2
}
