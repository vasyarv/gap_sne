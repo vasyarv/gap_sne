{
 "cells": [
  {
   "cell_type": "code",
   "execution_count": 1,
   "metadata": {},
   "outputs": [],
   "source": [
    "%load_ext autoreload\n",
    "%autoreload 2"
   ]
  },
  {
   "cell_type": "code",
   "execution_count": 2,
   "metadata": {},
   "outputs": [
    {
     "name": "stderr",
     "output_type": "stream",
     "text": [
      "/usr/lib/python3.6/importlib/_bootstrap.py:219: RuntimeWarning: numpy.dtype size changed, may indicate binary incompatibility. Expected 96, got 88\n",
      "  return f(*args, **kwds)\n",
      "/usr/lib/python3.6/importlib/_bootstrap.py:219: RuntimeWarning: numpy.dtype size changed, may indicate binary incompatibility. Expected 96, got 88\n",
      "  return f(*args, **kwds)\n"
     ]
    },
    {
     "name": "stdout",
     "output_type": "stream",
     "text": [
      "Populating the interactive namespace from numpy and matplotlib\n"
     ]
    },
    {
     "name": "stderr",
     "output_type": "stream",
     "text": [
      "/home/basil/.local/lib/python3.6/site-packages/sklearn/ensemble/weight_boosting.py:29: DeprecationWarning: numpy.core.umath_tests is an internal NumPy module and should not be imported. It will be removed in a future NumPy release.\n",
      "  from numpy.core.umath_tests import inner1d\n"
     ]
    }
   ],
   "source": [
    "import pandas as pd\n",
    "import numpy as np\n",
    "np.random.seed(132)\n",
    "from functools import lru_cache\n",
    "\n",
    "import sys\n",
    "\n",
    "CODE_PATH = '../code'\n",
    "\n",
    "sys.path.append(CODE_PATH)\n",
    "import functions\n",
    "\n",
    "from sklearn.metrics import accuracy_score, f1_score\n",
    "from sklearn.datasets import load_iris, load_boston, load_breast_cancer, load_wine, load_digits\n",
    "from scipy.optimize import minimize\n",
    "from sklearn.linear_model import LogisticRegression\n",
    "from tqdm import tqdm\n",
    "\n",
    "%pylab inline"
   ]
  },
  {
   "cell_type": "markdown",
   "metadata": {},
   "source": [
    "# Берем выборку"
   ]
  },
  {
   "cell_type": "code",
   "execution_count": 3,
   "metadata": {
    "scrolled": true
   },
   "outputs": [
    {
     "name": "stdout",
     "output_type": "stream",
     "text": [
      "(1005, 64) (360, 64) (432, 64)\n"
     ]
    }
   ],
   "source": [
    "# dataset = load_breast_cancer()\n",
    "dataset = load_digits()\n",
    "df = pd.DataFrame(dataset['data'])\n",
    "target = dataset['target']\n",
    "\n",
    "# df = pd.read_csv('../data/model_36_12.csv')\n",
    "# target = df['target'].astype(int).values\n",
    "# del df['target']\n",
    "\n",
    "from sklearn.model_selection import train_test_split\n",
    "# X_train, X_test, y_train, y_test = train_test_split(df.values, target, test_size=0.33, random_state=42)\n",
    "X_train, X_test, y_train, y_test = train_test_split(df.values, target, test_size=0.2, random_state=42)\n",
    "X_train, X_val, y_train, y_val = train_test_split(X_train, y_train, test_size=0.3, random_state=42)\n",
    "print(X_train.shape, X_test.shape, X_val.shape)"
   ]
  },
  {
   "cell_type": "markdown",
   "metadata": {},
   "source": [
    "# N случайных дихотомий (без отбора)"
   ]
  },
  {
   "cell_type": "code",
   "execution_count": 5,
   "metadata": {
    "scrolled": true
   },
   "outputs": [
    {
     "name": "stderr",
     "output_type": "stream",
     "text": [
      "  0%|          | 0/5 [00:00<?, ?it/s]\n",
      "Adding dich:   0%|          | 0/40 [00:00<?, ?it/s]\u001b[A\n",
      "Adding dich: 100%|██████████| 40/40 [00:00<00:00, 22745.68it/s]\u001b[A\n",
      "Training dich classifiers:   0%|          | 0/40 [00:00<?, ?it/s]\u001b[A\n",
      "Training dich classifiers:  10%|█         | 4/40 [00:00<00:00, 37.41it/s]\u001b[A"
     ]
    },
    {
     "name": "stdout",
     "output_type": "stream",
     "text": [
      "Code Matrix shape == (10,40)\n"
     ]
    },
    {
     "name": "stderr",
     "output_type": "stream",
     "text": [
      "\n",
      "Training dich classifiers:  22%|██▎       | 9/40 [00:00<00:00, 40.36it/s]\u001b[A\n",
      "Training dich classifiers:  35%|███▌      | 14/40 [00:00<00:00, 41.77it/s]\u001b[A\n",
      "Training dich classifiers:  50%|█████     | 20/40 [00:00<00:00, 44.29it/s]\u001b[A\n",
      "Training dich classifiers:  65%|██████▌   | 26/40 [00:00<00:00, 45.47it/s]\u001b[A\n",
      "Training dich classifiers:  80%|████████  | 32/40 [00:00<00:00, 46.71it/s]\u001b[A\n",
      "Training dich classifiers:  95%|█████████▌| 38/40 [00:00<00:00, 47.40it/s]\u001b[A\n",
      " 20%|██        | 1/5 [00:02<00:10,  2.53s/it]0/40 [00:00<00:00, 47.55it/s]\u001b[A\n",
      "Adding dich:   0%|          | 0/40 [00:00<?, ?it/s]\u001b[A\n",
      "Adding dich: 100%|██████████| 40/40 [00:00<00:00, 38926.26it/s]\u001b[A\n",
      "Training dich classifiers:   0%|          | 0/40 [00:00<?, ?it/s]\u001b[A\n",
      "Training dich classifiers:  15%|█▌        | 6/40 [00:00<00:00, 54.24it/s]\u001b[A"
     ]
    },
    {
     "name": "stdout",
     "output_type": "stream",
     "text": [
      "Code Matrix shape == (10,40)\n"
     ]
    },
    {
     "name": "stderr",
     "output_type": "stream",
     "text": [
      "\n",
      "Training dich classifiers:  28%|██▊       | 11/40 [00:00<00:00, 50.32it/s]\u001b[A\n",
      "Training dich classifiers:  40%|████      | 16/40 [00:00<00:00, 50.20it/s]\u001b[A\n",
      "Training dich classifiers:  52%|█████▎    | 21/40 [00:00<00:00, 49.79it/s]\u001b[A\n",
      "Training dich classifiers:  68%|██████▊   | 27/40 [00:00<00:00, 49.73it/s]\u001b[A\n",
      "Training dich classifiers:  82%|████████▎ | 33/40 [00:00<00:00, 50.53it/s]\u001b[A\n",
      "Training dich classifiers:  98%|█████████▊| 39/40 [00:00<00:00, 50.27it/s]\u001b[A\n",
      " 40%|████      | 2/5 [00:04<00:07,  2.49s/it]0/40 [00:00<00:00, 50.03it/s]\u001b[A\n",
      "Adding dich:   0%|          | 0/40 [00:00<?, ?it/s]\u001b[A\n",
      "Adding dich: 100%|██████████| 40/40 [00:00<00:00, 46141.96it/s]\u001b[A\n",
      "Training dich classifiers:   0%|          | 0/40 [00:00<?, ?it/s]\u001b[A\n",
      "Training dich classifiers:  12%|█▎        | 5/40 [00:00<00:00, 48.00it/s]\u001b[A"
     ]
    },
    {
     "name": "stdout",
     "output_type": "stream",
     "text": [
      "Code Matrix shape == (10,40)\n"
     ]
    },
    {
     "name": "stderr",
     "output_type": "stream",
     "text": [
      "\n",
      "Training dich classifiers:  25%|██▌       | 10/40 [00:00<00:00, 48.22it/s]\u001b[A\n",
      "Training dich classifiers:  40%|████      | 16/40 [00:00<00:00, 49.19it/s]\u001b[A\n",
      "Training dich classifiers:  55%|█████▌    | 22/40 [00:00<00:00, 49.36it/s]\u001b[A\n",
      "Training dich classifiers:  68%|██████▊   | 27/40 [00:00<00:00, 48.84it/s]\u001b[A\n",
      "Training dich classifiers:  82%|████████▎ | 33/40 [00:00<00:00, 49.01it/s]\u001b[A\n",
      "Training dich classifiers:  98%|█████████▊| 39/40 [00:00<00:00, 49.35it/s]\u001b[A\n",
      " 60%|██████    | 3/5 [00:07<00:04,  2.48s/it]0/40 [00:00<00:00, 49.35it/s]\u001b[A\n",
      "Adding dich:   0%|          | 0/40 [00:00<?, ?it/s]\u001b[A\n",
      "Adding dich: 100%|██████████| 40/40 [00:00<00:00, 32589.77it/s]\u001b[A\n",
      "Training dich classifiers:   0%|          | 0/40 [00:00<?, ?it/s]\u001b[A\n",
      "Training dich classifiers:  15%|█▌        | 6/40 [00:00<00:00, 51.75it/s]\u001b[A"
     ]
    },
    {
     "name": "stdout",
     "output_type": "stream",
     "text": [
      "Code Matrix shape == (10,40)\n"
     ]
    },
    {
     "name": "stderr",
     "output_type": "stream",
     "text": [
      "\n",
      "Training dich classifiers:  28%|██▊       | 11/40 [00:00<00:00, 48.98it/s]\u001b[A\n",
      "Training dich classifiers:  42%|████▎     | 17/40 [00:00<00:00, 51.53it/s]\u001b[A\n",
      "Training dich classifiers:  55%|█████▌    | 22/40 [00:00<00:00, 50.76it/s]\u001b[A\n",
      "Training dich classifiers:  68%|██████▊   | 27/40 [00:00<00:00, 49.72it/s]\u001b[A\n",
      "Training dich classifiers:  82%|████████▎ | 33/40 [00:00<00:00, 49.55it/s]\u001b[A\n",
      "Training dich classifiers:  98%|█████████▊| 39/40 [00:00<00:00, 50.70it/s]\u001b[A\n",
      " 80%|████████  | 4/5 [00:09<00:02,  2.47s/it]0/40 [00:00<00:00, 50.57it/s]\u001b[A\n",
      "Adding dich:   0%|          | 0/40 [00:00<?, ?it/s]\u001b[A\n",
      "Adding dich: 100%|██████████| 40/40 [00:00<00:00, 39587.58it/s]\u001b[A\n",
      "Training dich classifiers:   0%|          | 0/40 [00:00<?, ?it/s]\u001b[A\n",
      "Training dich classifiers:  15%|█▌        | 6/40 [00:00<00:00, 54.85it/s]\u001b[A"
     ]
    },
    {
     "name": "stdout",
     "output_type": "stream",
     "text": [
      "Code Matrix shape == (10,40)\n"
     ]
    },
    {
     "name": "stderr",
     "output_type": "stream",
     "text": [
      "\n",
      "Training dich classifiers:  28%|██▊       | 11/40 [00:00<00:00, 51.68it/s]\u001b[A\n",
      "Training dich classifiers:  42%|████▎     | 17/40 [00:00<00:00, 52.47it/s]\u001b[A\n",
      "Training dich classifiers:  57%|█████▊    | 23/40 [00:00<00:00, 52.36it/s]\u001b[A\n",
      "Training dich classifiers:  72%|███████▎  | 29/40 [00:00<00:00, 52.16it/s]\u001b[A\n",
      "Training dich classifiers:  88%|████████▊ | 35/40 [00:00<00:00, 51.53it/s]\u001b[A\n",
      "Training dich classifiers: 100%|██████████| 40/40 [00:00<00:00, 50.94it/s]\u001b[A\n",
      "100%|██████████| 5/5 [00:12<00:00,  2.46s/it]\n"
     ]
    }
   ],
   "source": [
    "attempts_data = []\n",
    "N_attempts = 5\n",
    "l = np.unique(target).size\n",
    "N = 40 # кол-во дихотомий\n",
    "wtypes = [None, 'accuracy', 'f1', 'confusion_list']\n",
    "for i in tqdm(range(N_attempts)):\n",
    "    accs = []\n",
    "    code_matrix = functions.make_random_dichs(l, N)\n",
    "    print('Code Matrix shape == ({},{})'.format(l, code_matrix.shape[1]))\n",
    "    dich_classifiers = functions.train_dichs(code_matrix, X_train, y_train, \n",
    "                                             X_test, y_test, LogisticRegression)\n",
    "    for score_type in wtypes:\n",
    "        weight_type = None\n",
    "        preds, num_real_dich = functions.predict_all(X_val, dich_classifiers, code_matrix, score_type, weight_type)\n",
    "        acc = accuracy_score(preds, y_val)\n",
    "        accs.append(acc)\n",
    "    accs.append(num_real_dich)\n",
    "    attempts_data.append(accs)\n",
    "#             print(score_type, weight_type, accuracy_score(preds, y_val))"
   ]
  },
  {
   "cell_type": "code",
   "execution_count": 6,
   "metadata": {
    "scrolled": true
   },
   "outputs": [
    {
     "data": {
      "text/html": [
       "<div>\n",
       "<style scoped>\n",
       "    .dataframe tbody tr th:only-of-type {\n",
       "        vertical-align: middle;\n",
       "    }\n",
       "\n",
       "    .dataframe tbody tr th {\n",
       "        vertical-align: top;\n",
       "    }\n",
       "\n",
       "    .dataframe thead th {\n",
       "        text-align: right;\n",
       "    }\n",
       "</style>\n",
       "<table border=\"1\" class=\"dataframe\">\n",
       "  <thead>\n",
       "    <tr style=\"text-align: right;\">\n",
       "      <th></th>\n",
       "      <th>sNone</th>\n",
       "      <th>saccuracy</th>\n",
       "      <th>sf1</th>\n",
       "      <th>sconfusion_list</th>\n",
       "      <th>snum_real_dich</th>\n",
       "    </tr>\n",
       "  </thead>\n",
       "  <tbody>\n",
       "    <tr>\n",
       "      <th>count</th>\n",
       "      <td>5.000000</td>\n",
       "      <td>5.000000</td>\n",
       "      <td>5.000000</td>\n",
       "      <td>5.000000</td>\n",
       "      <td>5.0</td>\n",
       "    </tr>\n",
       "    <tr>\n",
       "      <th>mean</th>\n",
       "      <td>0.905556</td>\n",
       "      <td>0.909259</td>\n",
       "      <td>0.909259</td>\n",
       "      <td>0.912500</td>\n",
       "      <td>40.0</td>\n",
       "    </tr>\n",
       "    <tr>\n",
       "      <th>std</th>\n",
       "      <td>0.006629</td>\n",
       "      <td>0.007209</td>\n",
       "      <td>0.005764</td>\n",
       "      <td>0.003018</td>\n",
       "      <td>0.0</td>\n",
       "    </tr>\n",
       "    <tr>\n",
       "      <th>min</th>\n",
       "      <td>0.898148</td>\n",
       "      <td>0.900463</td>\n",
       "      <td>0.900463</td>\n",
       "      <td>0.909722</td>\n",
       "      <td>40.0</td>\n",
       "    </tr>\n",
       "    <tr>\n",
       "      <th>25%</th>\n",
       "      <td>0.900463</td>\n",
       "      <td>0.902778</td>\n",
       "      <td>0.907407</td>\n",
       "      <td>0.909722</td>\n",
       "      <td>40.0</td>\n",
       "    </tr>\n",
       "    <tr>\n",
       "      <th>50%</th>\n",
       "      <td>0.905093</td>\n",
       "      <td>0.912037</td>\n",
       "      <td>0.909722</td>\n",
       "      <td>0.912037</td>\n",
       "      <td>40.0</td>\n",
       "    </tr>\n",
       "    <tr>\n",
       "      <th>75%</th>\n",
       "      <td>0.909722</td>\n",
       "      <td>0.914352</td>\n",
       "      <td>0.914352</td>\n",
       "      <td>0.914352</td>\n",
       "      <td>40.0</td>\n",
       "    </tr>\n",
       "    <tr>\n",
       "      <th>max</th>\n",
       "      <td>0.914352</td>\n",
       "      <td>0.916667</td>\n",
       "      <td>0.914352</td>\n",
       "      <td>0.916667</td>\n",
       "      <td>40.0</td>\n",
       "    </tr>\n",
       "  </tbody>\n",
       "</table>\n",
       "</div>"
      ],
      "text/plain": [
       "          sNone  saccuracy       sf1  sconfusion_list  snum_real_dich\n",
       "count  5.000000   5.000000  5.000000         5.000000             5.0\n",
       "mean   0.905556   0.909259  0.909259         0.912500            40.0\n",
       "std    0.006629   0.007209  0.005764         0.003018             0.0\n",
       "min    0.898148   0.900463  0.900463         0.909722            40.0\n",
       "25%    0.900463   0.902778  0.907407         0.909722            40.0\n",
       "50%    0.905093   0.912037  0.909722         0.912037            40.0\n",
       "75%    0.909722   0.914352  0.914352         0.914352            40.0\n",
       "max    0.914352   0.916667  0.914352         0.916667            40.0"
      ]
     },
     "execution_count": 6,
     "metadata": {},
     "output_type": "execute_result"
    }
   ],
   "source": [
    "wtypes += ['num_real_dich']\n",
    "df_attempts = pd.DataFrame(attempts_data)\n",
    "df_attempts.columns = ['s{}'.format(i1) for i1 in wtypes]\n",
    "df_attempts.describe()"
   ]
  },
  {
   "cell_type": "markdown",
   "metadata": {},
   "source": [
    "# Отбор"
   ]
  },
  {
   "cell_type": "code",
   "execution_count": 7,
   "metadata": {
    "scrolled": true
   },
   "outputs": [
    {
     "name": "stderr",
     "output_type": "stream",
     "text": [
      "  0%|          | 0/5 [00:00<?, ?it/s]\n",
      "Adding dich:   0%|          | 0/80 [00:00<?, ?it/s]\u001b[A\n",
      "Adding dich: 100%|██████████| 80/80 [00:00<00:00, 42291.95it/s]\u001b[A\n",
      "Training dich classifiers:   0%|          | 0/80 [00:00<?, ?it/s]\u001b[A\n",
      "Training dich classifiers:   5%|▌         | 4/80 [00:00<00:01, 38.11it/s]\u001b[A\n",
      "Training dich classifiers:  12%|█▎        | 10/80 [00:00<00:01, 44.11it/s]\u001b[A\n",
      "Training dich classifiers:  19%|█▉        | 15/80 [00:00<00:01, 44.91it/s]\u001b[A\n",
      "Training dich classifiers:  26%|██▋       | 21/80 [00:00<00:01, 46.92it/s]\u001b[A\n",
      "Training dich classifiers:  34%|███▍      | 27/80 [00:00<00:01, 47.53it/s]\u001b[A\n",
      "Training dich classifiers:  40%|████      | 32/80 [00:00<00:01, 47.50it/s]\u001b[A\n",
      "Training dich classifiers:  46%|████▋     | 37/80 [00:00<00:00, 47.79it/s]\u001b[A\n",
      "Training dich classifiers:  54%|█████▍    | 43/80 [00:00<00:00, 48.32it/s]\u001b[A\n",
      "Training dich classifiers:  60%|██████    | 48/80 [00:01<00:00, 47.69it/s]\u001b[A\n",
      "Training dich classifiers:  66%|██████▋   | 53/80 [00:01<00:00, 47.80it/s]\u001b[A\n",
      "Training dich classifiers:  72%|███████▎  | 58/80 [00:01<00:00, 47.88it/s]\u001b[A\n",
      "Training dich classifiers:  79%|███████▉  | 63/80 [00:01<00:00, 47.97it/s]\u001b[A\n",
      "Training dich classifiers:  86%|████████▋ | 69/80 [00:01<00:00, 48.60it/s]\u001b[A\n",
      "Training dich classifiers:  94%|█████████▍| 75/80 [00:01<00:00, 48.58it/s]\u001b[A\n",
      " 20%|██        | 1/5 [00:04<00:19,  4.95s/it]0/80 [00:01<00:00, 48.99it/s]\u001b[A\n",
      "Adding dich:   0%|          | 0/80 [00:00<?, ?it/s]\u001b[A\n",
      "Adding dich: 100%|██████████| 80/80 [00:00<00:00, 56651.08it/s]\u001b[A\n",
      "Training dich classifiers:   0%|          | 0/80 [00:00<?, ?it/s]\u001b[A\n",
      "Training dich classifiers:   8%|▊         | 6/80 [00:00<00:01, 52.95it/s]\u001b[A\n",
      "Training dich classifiers:  14%|█▍        | 11/80 [00:00<00:01, 50.05it/s]\u001b[A\n",
      "Training dich classifiers:  21%|██▏       | 17/80 [00:00<00:01, 50.33it/s]\u001b[A\n",
      "Training dich classifiers:  28%|██▊       | 22/80 [00:00<00:01, 49.04it/s]\u001b[A\n",
      "Training dich classifiers:  34%|███▍      | 27/80 [00:00<00:01, 48.49it/s]\u001b[A\n",
      "Training dich classifiers:  41%|████▏     | 33/80 [00:00<00:00, 48.95it/s]\u001b[A\n",
      "Training dich classifiers:  48%|████▊     | 38/80 [00:00<00:00, 47.92it/s]\u001b[A\n",
      "Training dich classifiers:  54%|█████▍    | 43/80 [00:00<00:00, 47.77it/s]\u001b[A\n",
      "Training dich classifiers:  60%|██████    | 48/80 [00:01<00:00, 47.63it/s]\u001b[A\n",
      "Training dich classifiers:  68%|██████▊   | 54/80 [00:01<00:00, 48.08it/s]\u001b[A\n",
      "Training dich classifiers:  74%|███████▍  | 59/80 [00:01<00:00, 47.85it/s]\u001b[A\n",
      "Training dich classifiers:  81%|████████▏ | 65/80 [00:01<00:00, 48.34it/s]\u001b[A\n",
      "Training dich classifiers:  89%|████████▉ | 71/80 [00:01<00:00, 48.64it/s]\u001b[A\n",
      "Training dich classifiers:  95%|█████████▌| 76/80 [00:01<00:00, 48.56it/s]\u001b[A\n",
      " 40%|████      | 2/5 [00:09<00:14,  4.96s/it]0/80 [00:01<00:00, 48.25it/s]\u001b[A\n",
      "Adding dich:   0%|          | 0/80 [00:00<?, ?it/s]\u001b[A\n",
      "Adding dich: 100%|██████████| 80/80 [00:00<00:00, 53252.55it/s]\u001b[A\n",
      "Training dich classifiers:   0%|          | 0/80 [00:00<?, ?it/s]\u001b[A\n",
      "Training dich classifiers:   6%|▋         | 5/80 [00:00<00:01, 49.15it/s]\u001b[A\n",
      "Training dich classifiers:  14%|█▍        | 11/80 [00:00<00:01, 52.05it/s]\u001b[A\n",
      "Training dich classifiers:  21%|██▏       | 17/80 [00:00<00:01, 52.47it/s]\u001b[A\n",
      "Training dich classifiers:  29%|██▉       | 23/80 [00:00<00:01, 52.66it/s]\u001b[A\n",
      "Training dich classifiers:  36%|███▋      | 29/80 [00:00<00:00, 52.11it/s]\u001b[A\n",
      "Training dich classifiers:  42%|████▎     | 34/80 [00:00<00:00, 51.08it/s]\u001b[A\n",
      "Training dich classifiers:  49%|████▉     | 39/80 [00:00<00:00, 50.38it/s]\u001b[A\n",
      "Training dich classifiers:  56%|█████▋    | 45/80 [00:00<00:00, 51.31it/s]\u001b[A\n",
      "Training dich classifiers:  64%|██████▍   | 51/80 [00:00<00:00, 51.41it/s]\u001b[A\n",
      "Training dich classifiers:  70%|███████   | 56/80 [00:01<00:00, 50.98it/s]\u001b[A\n",
      "Training dich classifiers:  78%|███████▊  | 62/80 [00:01<00:00, 50.97it/s]\u001b[A\n",
      "Training dich classifiers:  84%|████████▍ | 67/80 [00:01<00:00, 50.33it/s]\u001b[A\n",
      "Training dich classifiers:  90%|█████████ | 72/80 [00:01<00:00, 49.81it/s]\u001b[A\n",
      "Training dich classifiers:  98%|█████████▊| 78/80 [00:01<00:00, 49.94it/s]\u001b[A\n",
      " 60%|██████    | 3/5 [00:14<00:09,  4.97s/it]0/80 [00:01<00:00, 49.79it/s]\u001b[A\n",
      "Adding dich:   0%|          | 0/80 [00:00<?, ?it/s]\u001b[A\n",
      "Adding dich: 100%|██████████| 80/80 [00:00<00:00, 50955.86it/s]\u001b[A\n",
      "Training dich classifiers:   0%|          | 0/80 [00:00<?, ?it/s]\u001b[A\n",
      "Training dich classifiers:   6%|▋         | 5/80 [00:00<00:01, 47.06it/s]\u001b[A\n",
      "Training dich classifiers:  14%|█▍        | 11/80 [00:00<00:01, 48.61it/s]\u001b[A\n",
      "Training dich classifiers:  20%|██        | 16/80 [00:00<00:01, 47.79it/s]\u001b[A\n",
      "Training dich classifiers:  26%|██▋       | 21/80 [00:00<00:01, 47.60it/s]\u001b[A\n",
      "Training dich classifiers:  32%|███▎      | 26/80 [00:00<00:01, 47.74it/s]\u001b[A\n",
      "Training dich classifiers:  39%|███▉      | 31/80 [00:00<00:01, 47.94it/s]\u001b[A\n",
      "Training dich classifiers:  45%|████▌     | 36/80 [00:00<00:00, 47.72it/s]\u001b[A\n",
      "Training dich classifiers:  51%|█████▏    | 41/80 [00:00<00:00, 47.34it/s]\u001b[A\n",
      "Training dich classifiers:  57%|█████▊    | 46/80 [00:00<00:00, 47.11it/s]\u001b[A\n",
      "Training dich classifiers:  64%|██████▍   | 51/80 [00:01<00:00, 47.19it/s]\u001b[A\n",
      "Training dich classifiers:  70%|███████   | 56/80 [00:01<00:00, 47.16it/s]\u001b[A\n",
      "Training dich classifiers:  78%|███████▊  | 62/80 [00:01<00:00, 47.79it/s]\u001b[A\n",
      "Training dich classifiers:  84%|████████▍ | 67/80 [00:01<00:00, 47.90it/s]\u001b[A\n",
      "Training dich classifiers:  91%|█████████▏| 73/80 [00:01<00:00, 48.09it/s]\u001b[A\n",
      "Training dich classifiers:  98%|█████████▊| 78/80 [00:01<00:00, 48.06it/s]\u001b[A\n",
      " 80%|████████  | 4/5 [00:19<00:04,  4.99s/it]0/80 [00:01<00:00, 48.06it/s]\u001b[A\n",
      "Adding dich:   0%|          | 0/80 [00:00<?, ?it/s]\u001b[A\n",
      "Adding dich: 100%|██████████| 80/80 [00:00<00:00, 54648.91it/s]\u001b[A\n",
      "Training dich classifiers:   0%|          | 0/80 [00:00<?, ?it/s]\u001b[A\n",
      "Training dich classifiers:   8%|▊         | 6/80 [00:00<00:01, 50.17it/s]\u001b[A\n",
      "Training dich classifiers:  14%|█▍        | 11/80 [00:00<00:01, 48.16it/s]\u001b[A\n",
      "Training dich classifiers:  20%|██        | 16/80 [00:00<00:01, 48.32it/s]\u001b[A\n",
      "Training dich classifiers:  28%|██▊       | 22/80 [00:00<00:01, 49.57it/s]\u001b[A\n",
      "Training dich classifiers:  35%|███▌      | 28/80 [00:00<00:01, 50.28it/s]\u001b[A\n",
      "Training dich classifiers:  42%|████▎     | 34/80 [00:00<00:00, 50.42it/s]\u001b[A\n",
      "Training dich classifiers:  50%|█████     | 40/80 [00:00<00:00, 50.21it/s]\u001b[A\n",
      "Training dich classifiers:  56%|█████▋    | 45/80 [00:00<00:00, 49.81it/s]\u001b[A\n",
      "Training dich classifiers:  62%|██████▎   | 50/80 [00:01<00:00, 49.58it/s]\u001b[A\n",
      "Training dich classifiers:  70%|███████   | 56/80 [00:01<00:00, 49.82it/s]\u001b[A\n",
      "Training dich classifiers:  76%|███████▋  | 61/80 [00:01<00:00, 49.51it/s]\u001b[A\n",
      "Training dich classifiers:  82%|████████▎ | 66/80 [00:01<00:00, 49.54it/s]\u001b[A\n",
      "Training dich classifiers:  89%|████████▉ | 71/80 [00:01<00:00, 49.17it/s]\u001b[A\n",
      "Training dich classifiers:  96%|█████████▋| 77/80 [00:01<00:00, 49.08it/s]\u001b[A\n",
      "100%|██████████| 5/5 [00:25<00:00,  5.02s/it]0/80 [00:01<00:00, 48.97it/s]\u001b[A\n"
     ]
    }
   ],
   "source": [
    "attempts_data = []\n",
    "N_attempts = 5\n",
    "l = np.unique(target).size\n",
    "N = 80 # кол-во дихотомий\n",
    "wtypes = [None, 'accuracy', 'f1', 'confusion_list']\n",
    "for i in tqdm(range(N_attempts)):\n",
    "    accs = []\n",
    "    code_matrix = functions.make_random_dichs(l, N)\n",
    "#     print('Code Matrix shape == ({},{})'.format(l, code_matrix.shape[1]))\n",
    "    dich_classifiers = functions.train_dichs(code_matrix, X_train, y_train, \n",
    "                                             X_test, y_test, LogisticRegression)\n",
    "    for score_type in wtypes:\n",
    "        preds, num_real_dich = functions.predict_all(X_val, dich_classifiers, \n",
    "                                      code_matrix, score_type, weight_type=-1)\n",
    "        acc = accuracy_score(preds, y_val)\n",
    "        accs.append(acc)\n",
    "    accs.append(num_real_dich)\n",
    "    attempts_data.append(accs)"
   ]
  },
  {
   "cell_type": "code",
   "execution_count": 8,
   "metadata": {},
   "outputs": [
    {
     "data": {
      "text/html": [
       "<div>\n",
       "<style scoped>\n",
       "    .dataframe tbody tr th:only-of-type {\n",
       "        vertical-align: middle;\n",
       "    }\n",
       "\n",
       "    .dataframe tbody tr th {\n",
       "        vertical-align: top;\n",
       "    }\n",
       "\n",
       "    .dataframe thead th {\n",
       "        text-align: right;\n",
       "    }\n",
       "</style>\n",
       "<table border=\"1\" class=\"dataframe\">\n",
       "  <thead>\n",
       "    <tr style=\"text-align: right;\">\n",
       "      <th></th>\n",
       "      <th>sNone</th>\n",
       "      <th>saccuracy</th>\n",
       "      <th>sf1</th>\n",
       "      <th>sconfusion_list</th>\n",
       "      <th>snum_real_dich</th>\n",
       "    </tr>\n",
       "  </thead>\n",
       "  <tbody>\n",
       "    <tr>\n",
       "      <th>count</th>\n",
       "      <td>5.000000</td>\n",
       "      <td>5.000000</td>\n",
       "      <td>5.000000</td>\n",
       "      <td>5.000000</td>\n",
       "      <td>5.000000</td>\n",
       "    </tr>\n",
       "    <tr>\n",
       "      <th>mean</th>\n",
       "      <td>0.918519</td>\n",
       "      <td>0.920833</td>\n",
       "      <td>0.920833</td>\n",
       "      <td>0.916667</td>\n",
       "      <td>39.800000</td>\n",
       "    </tr>\n",
       "    <tr>\n",
       "      <th>std</th>\n",
       "      <td>0.005018</td>\n",
       "      <td>0.005279</td>\n",
       "      <td>0.005018</td>\n",
       "      <td>0.003274</td>\n",
       "      <td>3.271085</td>\n",
       "    </tr>\n",
       "    <tr>\n",
       "      <th>min</th>\n",
       "      <td>0.912037</td>\n",
       "      <td>0.914352</td>\n",
       "      <td>0.914352</td>\n",
       "      <td>0.912037</td>\n",
       "      <td>35.000000</td>\n",
       "    </tr>\n",
       "    <tr>\n",
       "      <th>25%</th>\n",
       "      <td>0.916667</td>\n",
       "      <td>0.916667</td>\n",
       "      <td>0.918981</td>\n",
       "      <td>0.916667</td>\n",
       "      <td>38.000000</td>\n",
       "    </tr>\n",
       "    <tr>\n",
       "      <th>50%</th>\n",
       "      <td>0.916667</td>\n",
       "      <td>0.921296</td>\n",
       "      <td>0.918981</td>\n",
       "      <td>0.916667</td>\n",
       "      <td>41.000000</td>\n",
       "    </tr>\n",
       "    <tr>\n",
       "      <th>75%</th>\n",
       "      <td>0.923611</td>\n",
       "      <td>0.925926</td>\n",
       "      <td>0.925926</td>\n",
       "      <td>0.916667</td>\n",
       "      <td>42.000000</td>\n",
       "    </tr>\n",
       "    <tr>\n",
       "      <th>max</th>\n",
       "      <td>0.923611</td>\n",
       "      <td>0.925926</td>\n",
       "      <td>0.925926</td>\n",
       "      <td>0.921296</td>\n",
       "      <td>43.000000</td>\n",
       "    </tr>\n",
       "  </tbody>\n",
       "</table>\n",
       "</div>"
      ],
      "text/plain": [
       "          sNone  saccuracy       sf1  sconfusion_list  snum_real_dich\n",
       "count  5.000000   5.000000  5.000000         5.000000        5.000000\n",
       "mean   0.918519   0.920833  0.920833         0.916667       39.800000\n",
       "std    0.005018   0.005279  0.005018         0.003274        3.271085\n",
       "min    0.912037   0.914352  0.914352         0.912037       35.000000\n",
       "25%    0.916667   0.916667  0.918981         0.916667       38.000000\n",
       "50%    0.916667   0.921296  0.918981         0.916667       41.000000\n",
       "75%    0.923611   0.925926  0.925926         0.916667       42.000000\n",
       "max    0.923611   0.925926  0.925926         0.921296       43.000000"
      ]
     },
     "execution_count": 8,
     "metadata": {},
     "output_type": "execute_result"
    }
   ],
   "source": [
    "wtypes += ['num_real_dich']\n",
    "df_attempts = pd.DataFrame(attempts_data)\n",
    "df_attempts.columns = ['s{}'.format(i1) for i1 in wtypes]\n",
    "df_attempts.describe()"
   ]
  },
  {
   "cell_type": "markdown",
   "metadata": {},
   "source": [
    "# Дихотомии где остались лучшие по критерию"
   ]
  },
  {
   "cell_type": "code",
   "execution_count": 10,
   "metadata": {},
   "outputs": [
    {
     "name": "stderr",
     "output_type": "stream",
     "text": [
      "  0%|          | 0/5 [00:00<?, ?it/s]\n",
      "Adding dich:   0%|          | 0/80 [00:00<?, ?it/s]\u001b[A\n",
      "Adding dich: 100%|██████████| 80/80 [00:00<00:00, 36173.39it/s]\u001b[A\n",
      "Training dich classifiers:   0%|          | 0/80 [00:00<?, ?it/s]\u001b[A\n",
      "Training dich classifiers:   5%|▌         | 4/80 [00:00<00:02, 32.85it/s]\u001b[A"
     ]
    },
    {
     "name": "stdout",
     "output_type": "stream",
     "text": [
      "Code Matrix shape == (10,80)\n"
     ]
    },
    {
     "name": "stderr",
     "output_type": "stream",
     "text": [
      "\n",
      "Training dich classifiers:  11%|█▏        | 9/80 [00:00<00:01, 37.98it/s]\u001b[A\n",
      "Training dich classifiers:  18%|█▊        | 14/80 [00:00<00:01, 39.07it/s]\u001b[A\n",
      "Training dich classifiers:  25%|██▌       | 20/80 [00:00<00:01, 42.57it/s]\u001b[A\n",
      "Training dich classifiers:  32%|███▎      | 26/80 [00:00<00:01, 44.23it/s]\u001b[A\n",
      "Training dich classifiers:  40%|████      | 32/80 [00:00<00:01, 45.73it/s]\u001b[A\n",
      "Training dich classifiers:  48%|████▊     | 38/80 [00:00<00:00, 46.64it/s]\u001b[A\n",
      "Training dich classifiers:  54%|█████▍    | 43/80 [00:00<00:00, 46.55it/s]\u001b[A\n",
      "Training dich classifiers:  61%|██████▏   | 49/80 [00:01<00:00, 47.03it/s]\u001b[A\n",
      "Training dich classifiers:  68%|██████▊   | 54/80 [00:01<00:00, 46.75it/s]\u001b[A\n",
      "Training dich classifiers:  75%|███████▌  | 60/80 [00:01<00:00, 47.15it/s]\u001b[A\n",
      "Training dich classifiers:  82%|████████▎ | 66/80 [00:01<00:00, 47.66it/s]\u001b[A\n",
      "Training dich classifiers:  89%|████████▉ | 71/80 [00:01<00:00, 47.44it/s]\u001b[A\n",
      "Training dich classifiers:  95%|█████████▌| 76/80 [00:01<00:00, 47.50it/s]\u001b[A\n",
      " 20%|██        | 1/5 [00:03<00:13,  3.36s/it]0/80 [00:01<00:00, 47.61it/s]\u001b[A\n",
      "Adding dich:   0%|          | 0/80 [00:00<?, ?it/s]\u001b[A\n",
      "Adding dich: 100%|██████████| 80/80 [00:00<00:00, 54881.31it/s]\u001b[A\n",
      "Training dich classifiers:   0%|          | 0/80 [00:00<?, ?it/s]\u001b[A\n",
      "Training dich classifiers:   9%|▉         | 7/80 [00:00<00:01, 59.59it/s]\u001b[A"
     ]
    },
    {
     "name": "stdout",
     "output_type": "stream",
     "text": [
      "Code Matrix shape == (10,80)\n"
     ]
    },
    {
     "name": "stderr",
     "output_type": "stream",
     "text": [
      "\n",
      "Training dich classifiers:  15%|█▌        | 12/80 [00:00<00:01, 54.01it/s]\u001b[A\n",
      "Training dich classifiers:  22%|██▎       | 18/80 [00:00<00:01, 52.70it/s]\u001b[A\n",
      "Training dich classifiers:  29%|██▉       | 23/80 [00:00<00:01, 50.61it/s]\u001b[A\n",
      "Training dich classifiers:  35%|███▌      | 28/80 [00:00<00:01, 50.45it/s]\u001b[A\n",
      "Training dich classifiers:  42%|████▎     | 34/80 [00:00<00:00, 51.82it/s]\u001b[A\n",
      "Training dich classifiers:  49%|████▉     | 39/80 [00:00<00:00, 51.20it/s]\u001b[A\n",
      "Training dich classifiers:  55%|█████▌    | 44/80 [00:00<00:00, 51.03it/s]\u001b[A\n",
      "Training dich classifiers:  62%|██████▎   | 50/80 [00:00<00:00, 51.04it/s]\u001b[A\n",
      "Training dich classifiers:  70%|███████   | 56/80 [00:01<00:00, 50.90it/s]\u001b[A\n",
      "Training dich classifiers:  78%|███████▊  | 62/80 [00:01<00:00, 51.04it/s]\u001b[A\n",
      "Training dich classifiers:  85%|████████▌ | 68/80 [00:01<00:00, 50.43it/s]\u001b[A\n",
      "Training dich classifiers:  92%|█████████▎| 74/80 [00:01<00:00, 50.50it/s]\u001b[A\n",
      "Training dich classifiers:  99%|█████████▉| 79/80 [00:01<00:00, 50.41it/s]\u001b[A\n",
      " 40%|████      | 2/5 [00:06<00:10,  3.36s/it]0/80 [00:01<00:00, 50.37it/s]\u001b[A\n",
      "Adding dich:   0%|          | 0/80 [00:00<?, ?it/s]\u001b[A\n",
      "Adding dich: 100%|██████████| 80/80 [00:00<00:00, 54755.93it/s]\u001b[A\n",
      "Training dich classifiers:   0%|          | 0/80 [00:00<?, ?it/s]\u001b[A\n",
      "Training dich classifiers:   8%|▊         | 6/80 [00:00<00:01, 50.78it/s]\u001b[A"
     ]
    },
    {
     "name": "stdout",
     "output_type": "stream",
     "text": [
      "Code Matrix shape == (10,80)\n"
     ]
    },
    {
     "name": "stderr",
     "output_type": "stream",
     "text": [
      "\n",
      "Training dich classifiers:  14%|█▍        | 11/80 [00:00<00:01, 48.13it/s]\u001b[A\n",
      "Training dich classifiers:  20%|██        | 16/80 [00:00<00:01, 47.34it/s]\u001b[A\n",
      "Training dich classifiers:  28%|██▊       | 22/80 [00:00<00:01, 48.62it/s]\u001b[A\n",
      "Training dich classifiers:  34%|███▍      | 27/80 [00:00<00:01, 48.23it/s]\u001b[A\n",
      "Training dich classifiers:  40%|████      | 32/80 [00:00<00:00, 48.22it/s]\u001b[A\n",
      "Training dich classifiers:  48%|████▊     | 38/80 [00:00<00:00, 48.94it/s]\u001b[A\n",
      "Training dich classifiers:  54%|█████▍    | 43/80 [00:00<00:00, 48.68it/s]\u001b[A\n",
      "Training dich classifiers:  60%|██████    | 48/80 [00:00<00:00, 48.73it/s]\u001b[A\n",
      "Training dich classifiers:  66%|██████▋   | 53/80 [00:01<00:00, 48.55it/s]\u001b[A\n",
      "Training dich classifiers:  72%|███████▎  | 58/80 [00:01<00:00, 48.56it/s]\u001b[A\n",
      "Training dich classifiers:  80%|████████  | 64/80 [00:01<00:00, 48.88it/s]\u001b[A\n",
      "Training dich classifiers:  86%|████████▋ | 69/80 [00:01<00:00, 48.68it/s]\u001b[A\n",
      "Training dich classifiers:  92%|█████████▎| 74/80 [00:01<00:00, 48.35it/s]\u001b[A\n",
      "Training dich classifiers:  99%|█████████▉| 79/80 [00:01<00:00, 48.39it/s]\u001b[A\n",
      " 60%|██████    | 3/5 [00:10<00:06,  3.39s/it]0/80 [00:01<00:00, 48.30it/s]\u001b[A\n",
      "Adding dich:   0%|          | 0/80 [00:00<?, ?it/s]\u001b[A\n",
      "Adding dich: 100%|██████████| 80/80 [00:00<00:00, 54321.57it/s]\u001b[A\n",
      "Training dich classifiers:   0%|          | 0/80 [00:00<?, ?it/s]\u001b[A\n",
      "Training dich classifiers:   8%|▊         | 6/80 [00:00<00:01, 53.06it/s]\u001b[A"
     ]
    },
    {
     "name": "stdout",
     "output_type": "stream",
     "text": [
      "Code Matrix shape == (10,80)\n"
     ]
    },
    {
     "name": "stderr",
     "output_type": "stream",
     "text": [
      "\n",
      "Training dich classifiers:  14%|█▍        | 11/80 [00:00<00:01, 48.27it/s]\u001b[A\n",
      "Training dich classifiers:  20%|██        | 16/80 [00:00<00:01, 48.65it/s]\u001b[A\n",
      "Training dich classifiers:  26%|██▋       | 21/80 [00:00<00:01, 47.80it/s]\u001b[A\n",
      "Training dich classifiers:  34%|███▍      | 27/80 [00:00<00:01, 48.61it/s]\u001b[A\n",
      "Training dich classifiers:  40%|████      | 32/80 [00:00<00:00, 48.47it/s]\u001b[A\n",
      "Training dich classifiers:  48%|████▊     | 38/80 [00:00<00:00, 48.64it/s]\u001b[A\n",
      "Training dich classifiers:  54%|█████▍    | 43/80 [00:00<00:00, 48.08it/s]\u001b[A\n",
      "Training dich classifiers:  61%|██████▏   | 49/80 [00:01<00:00, 48.40it/s]\u001b[A\n",
      "Training dich classifiers:  68%|██████▊   | 54/80 [00:01<00:00, 48.49it/s]\u001b[A\n",
      "Training dich classifiers:  74%|███████▍  | 59/80 [00:01<00:00, 47.91it/s]\u001b[A\n",
      "Training dich classifiers:  80%|████████  | 64/80 [00:01<00:00, 48.02it/s]\u001b[A\n",
      "Training dich classifiers:  86%|████████▋ | 69/80 [00:01<00:00, 47.88it/s]\u001b[A\n",
      "Training dich classifiers:  92%|█████████▎| 74/80 [00:01<00:00, 47.80it/s]\u001b[A\n",
      "Training dich classifiers: 100%|██████████| 80/80 [00:01<00:00, 47.95it/s]\u001b[A\n",
      " 80%|████████  | 4/5 [00:13<00:03,  3.38s/it]\n",
      "Adding dich:   0%|          | 0/80 [00:00<?, ?it/s]\u001b[A\n",
      "Adding dich: 100%|██████████| 80/80 [00:00<00:00, 41749.95it/s]\u001b[A\n",
      "Training dich classifiers:   0%|          | 0/80 [00:00<?, ?it/s]\u001b[A\n",
      "Training dich classifiers:   8%|▊         | 6/80 [00:00<00:01, 54.06it/s]\u001b[A"
     ]
    },
    {
     "name": "stdout",
     "output_type": "stream",
     "text": [
      "Code Matrix shape == (10,80)\n"
     ]
    },
    {
     "name": "stderr",
     "output_type": "stream",
     "text": [
      "\n",
      "Training dich classifiers:  14%|█▍        | 11/80 [00:00<00:01, 50.17it/s]\u001b[A\n",
      "Training dich classifiers:  20%|██        | 16/80 [00:00<00:01, 48.84it/s]\u001b[A\n",
      "Training dich classifiers:  26%|██▋       | 21/80 [00:00<00:01, 48.77it/s]\u001b[A\n",
      "Training dich classifiers:  32%|███▎      | 26/80 [00:00<00:01, 48.32it/s]\u001b[A\n",
      "Training dich classifiers:  39%|███▉      | 31/80 [00:00<00:01, 48.00it/s]\u001b[A\n",
      "Training dich classifiers:  45%|████▌     | 36/80 [00:00<00:00, 47.66it/s]\u001b[A\n",
      "Training dich classifiers:  51%|█████▏    | 41/80 [00:00<00:00, 47.33it/s]\u001b[A\n",
      "Training dich classifiers:  57%|█████▊    | 46/80 [00:00<00:00, 47.20it/s]\u001b[A\n",
      "Training dich classifiers:  65%|██████▌   | 52/80 [00:01<00:00, 47.65it/s]\u001b[A\n",
      "Training dich classifiers:  71%|███████▏  | 57/80 [00:01<00:00, 47.35it/s]\u001b[A\n",
      "Training dich classifiers:  78%|███████▊  | 62/80 [00:01<00:00, 47.23it/s]\u001b[A\n",
      "Training dich classifiers:  84%|████████▍ | 67/80 [00:01<00:00, 47.26it/s]\u001b[A\n",
      "Training dich classifiers:  91%|█████████▏| 73/80 [00:01<00:00, 47.74it/s]\u001b[A\n",
      "Training dich classifiers:  98%|█████████▊| 78/80 [00:01<00:00, 47.84it/s]\u001b[A\n",
      "100%|██████████| 5/5 [00:16<00:00,  3.39s/it]0/80 [00:01<00:00, 47.69it/s]\u001b[A\n"
     ]
    }
   ],
   "source": [
    "attempts_data = []\n",
    "N_attempts = 5\n",
    "l = np.unique(target).size\n",
    "N = 80 # кол-во дихотомий\n",
    "num_real_dich = 40 # кол-во дихотомий которые оставляем\n",
    "wtypes = [None, 'accuracy', 'f1', 'confusion_list']\n",
    "for i in tqdm(range(N_attempts)):\n",
    "    accs = []\n",
    "    code_matrix = functions.make_random_dichs(l, N)\n",
    "    print('Code Matrix shape == ({},{})'.format(l, code_matrix.shape[1]))\n",
    "    dich_classifiers = functions.train_dichs(code_matrix, X_train, y_train, \n",
    "                                             X_test, y_test, LogisticRegression)\n",
    "    \n",
    "    metric_map = np.array([d['accuracy'] for d in dich_classifiers])\n",
    "    top_dich = np.sort(np.argsort(metric_map)[-num_real_dich:])\n",
    "    dich_classifiers = [d for i,d in enumerate(dich_classifiers) if i in top_dich]\n",
    "    code_matrix = code_matrix.T[top_dich].T\n",
    "    \n",
    "    for score_type in wtypes:\n",
    "        weight_type = None\n",
    "        preds, _ = functions.predict_all(X_val, dich_classifiers, code_matrix, score_type, weight_type)\n",
    "        acc = accuracy_score(preds, y_val)\n",
    "        accs.append(acc)\n",
    "    accs.append(num_real_dich)\n",
    "    attempts_data.append(accs)\n",
    "#             print(score_type, weight_type, accuracy_score(preds, y_val))"
   ]
  },
  {
   "cell_type": "code",
   "execution_count": 11,
   "metadata": {},
   "outputs": [
    {
     "data": {
      "text/html": [
       "<div>\n",
       "<style scoped>\n",
       "    .dataframe tbody tr th:only-of-type {\n",
       "        vertical-align: middle;\n",
       "    }\n",
       "\n",
       "    .dataframe tbody tr th {\n",
       "        vertical-align: top;\n",
       "    }\n",
       "\n",
       "    .dataframe thead th {\n",
       "        text-align: right;\n",
       "    }\n",
       "</style>\n",
       "<table border=\"1\" class=\"dataframe\">\n",
       "  <thead>\n",
       "    <tr style=\"text-align: right;\">\n",
       "      <th></th>\n",
       "      <th>sNone</th>\n",
       "      <th>saccuracy</th>\n",
       "      <th>sf1</th>\n",
       "      <th>sconfusion_list</th>\n",
       "      <th>snum_real_dich</th>\n",
       "    </tr>\n",
       "  </thead>\n",
       "  <tbody>\n",
       "    <tr>\n",
       "      <th>count</th>\n",
       "      <td>5.000000</td>\n",
       "      <td>5.000000</td>\n",
       "      <td>5.000000</td>\n",
       "      <td>5.000000</td>\n",
       "      <td>5.0</td>\n",
       "    </tr>\n",
       "    <tr>\n",
       "      <th>mean</th>\n",
       "      <td>0.921296</td>\n",
       "      <td>0.923148</td>\n",
       "      <td>0.921759</td>\n",
       "      <td>0.921759</td>\n",
       "      <td>40.0</td>\n",
       "    </tr>\n",
       "    <tr>\n",
       "      <th>std</th>\n",
       "      <td>0.010352</td>\n",
       "      <td>0.012183</td>\n",
       "      <td>0.012073</td>\n",
       "      <td>0.009600</td>\n",
       "      <td>0.0</td>\n",
       "    </tr>\n",
       "    <tr>\n",
       "      <th>min</th>\n",
       "      <td>0.909722</td>\n",
       "      <td>0.912037</td>\n",
       "      <td>0.914352</td>\n",
       "      <td>0.912037</td>\n",
       "      <td>40.0</td>\n",
       "    </tr>\n",
       "    <tr>\n",
       "      <th>25%</th>\n",
       "      <td>0.914352</td>\n",
       "      <td>0.916667</td>\n",
       "      <td>0.914352</td>\n",
       "      <td>0.916667</td>\n",
       "      <td>40.0</td>\n",
       "    </tr>\n",
       "    <tr>\n",
       "      <th>50%</th>\n",
       "      <td>0.918981</td>\n",
       "      <td>0.916667</td>\n",
       "      <td>0.914352</td>\n",
       "      <td>0.916667</td>\n",
       "      <td>40.0</td>\n",
       "    </tr>\n",
       "    <tr>\n",
       "      <th>75%</th>\n",
       "      <td>0.928241</td>\n",
       "      <td>0.928241</td>\n",
       "      <td>0.923611</td>\n",
       "      <td>0.928241</td>\n",
       "      <td>40.0</td>\n",
       "    </tr>\n",
       "    <tr>\n",
       "      <th>max</th>\n",
       "      <td>0.935185</td>\n",
       "      <td>0.942130</td>\n",
       "      <td>0.942130</td>\n",
       "      <td>0.935185</td>\n",
       "      <td>40.0</td>\n",
       "    </tr>\n",
       "  </tbody>\n",
       "</table>\n",
       "</div>"
      ],
      "text/plain": [
       "          sNone  saccuracy       sf1  sconfusion_list  snum_real_dich\n",
       "count  5.000000   5.000000  5.000000         5.000000             5.0\n",
       "mean   0.921296   0.923148  0.921759         0.921759            40.0\n",
       "std    0.010352   0.012183  0.012073         0.009600             0.0\n",
       "min    0.909722   0.912037  0.914352         0.912037            40.0\n",
       "25%    0.914352   0.916667  0.914352         0.916667            40.0\n",
       "50%    0.918981   0.916667  0.914352         0.916667            40.0\n",
       "75%    0.928241   0.928241  0.923611         0.928241            40.0\n",
       "max    0.935185   0.942130  0.942130         0.935185            40.0"
      ]
     },
     "execution_count": 11,
     "metadata": {},
     "output_type": "execute_result"
    }
   ],
   "source": [
    "wtypes += ['num_real_dich']\n",
    "df_attempts = pd.DataFrame(attempts_data)\n",
    "df_attempts.columns = ['s{}'.format(i1) for i1 in wtypes]\n",
    "df_attempts.describe()"
   ]
  },
  {
   "cell_type": "markdown",
   "metadata": {},
   "source": [
    "# Локальный метод оптимизации"
   ]
  },
  {
   "cell_type": "code",
   "execution_count": null,
   "metadata": {},
   "outputs": [],
   "source": [
    "def score_function(cur_dich, X_train, y_train, X_test, y_test):\n",
    "    # cluster\n",
    "    target = np.array([cur_dich[i] for i in y_train])\n",
    "    return -functions.cluster_score(X_train, target, score_type='trace_w')"
   ]
  },
  {
   "cell_type": "code",
   "execution_count": null,
   "metadata": {},
   "outputs": [],
   "source": [
    "def score_function(cur_dich, X_train, y_train, X_test, y_test):\n",
    "    # accuracy\n",
    "    X = X_train\n",
    "    y = np.array([cur_dich[i] for i in y_train])\n",
    "    clf = LogisticRegression()\n",
    "    clf.fit(X, y)\n",
    "    y_pred = clf.predict(X_test)\n",
    "    y_true = np.array([cur_dich[i] for i in y_test])\n",
    "    accuracy = accuracy_score(y_true, y_pred)\n",
    "    return accuracy"
   ]
  },
  {
   "cell_type": "code",
   "execution_count": null,
   "metadata": {},
   "outputs": [],
   "source": [
    "def score_function(cur_dich, X_train, y_train, X_test, y_test):\n",
    "    # f1\n",
    "    X = X_train\n",
    "    y = np.array([cur_dich[i] for i in y_train])\n",
    "    clf = LogisticRegression()\n",
    "    clf.fit(X, y)\n",
    "    y_pred = clf.predict(X_test)\n",
    "    y_true = np.array([cur_dich[i] for i in y_test])\n",
    "    accuracy = f1_score(y_true, y_pred)\n",
    "    return accuracy"
   ]
  },
  {
   "cell_type": "code",
   "execution_count": null,
   "metadata": {},
   "outputs": [],
   "source": [
    "cur_dich = code_matrix.T[1].copy()\n",
    "cur_score = score_function(cur_dich, X_train, y_train, X_test, y_test)\n",
    "next_score = cur_score\n",
    "cur_score"
   ]
  },
  {
   "cell_type": "code",
   "execution_count": null,
   "metadata": {},
   "outputs": [],
   "source": [
    "while True:\n",
    "    next_dich = cur_score.copy()\n",
    "    next_scores = np.zeros(len(cur_dich)) - 1\n",
    "    for i in range(len(cur_dich)):\n",
    "        next_dich = cur_dich.copy()\n",
    "        next_dich[i] = 1 - next_dich[i]\n",
    "        if not functions.does_dich_exist(next_dich, code_matrix): #дихотомия нормальная\n",
    "            next_scores[i] = score_function(next_dich, X_train, y_train, X_test, y_test)\n",
    "    next_scores = np.array(next_scores)\n",
    "    next_score = next_scores.max()\n",
    "    if next_score <= cur_score: #идем только на повышение, но можно скор сделать поменьше\n",
    "        break\n",
    "    cur_score = next_score\n",
    "    best_index = np.random.choice(np.flatnonzero(next_scores == next_score)) # it is random of the best\n",
    "    print(next_score, best_index)\n",
    "    print(cur_dich)\n",
    "    cur_dich[best_index] = 1 - cur_dich[best_index]"
   ]
  },
  {
   "cell_type": "code",
   "execution_count": null,
   "metadata": {},
   "outputs": [],
   "source": [
    "cur_dich"
   ]
  }
 ],
 "metadata": {
  "kernelspec": {
   "display_name": "Python 3.6",
   "language": "python",
   "name": "myenv"
  },
  "language_info": {
   "codemirror_mode": {
    "name": "ipython",
    "version": 3
   },
   "file_extension": ".py",
   "mimetype": "text/x-python",
   "name": "python",
   "nbconvert_exporter": "python",
   "pygments_lexer": "ipython3",
   "version": "3.6.6"
  }
 },
 "nbformat": 4,
 "nbformat_minor": 2
}
