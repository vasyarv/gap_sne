{
 "cells": [
  {
   "cell_type": "code",
   "execution_count": 56,
   "metadata": {},
   "outputs": [
    {
     "name": "stdout",
     "output_type": "stream",
     "text": [
      "The autoreload extension is already loaded. To reload it, use:\n",
      "  %reload_ext autoreload\n"
     ]
    }
   ],
   "source": [
    "%load_ext autoreload\n",
    "%autoreload 2"
   ]
  },
  {
   "cell_type": "code",
   "execution_count": 59,
   "metadata": {},
   "outputs": [
    {
     "name": "stdout",
     "output_type": "stream",
     "text": [
      "Populating the interactive namespace from numpy and matplotlib\n"
     ]
    }
   ],
   "source": [
    "import pandas as pd\n",
    "import numpy as np\n",
    "np.random.seed(132)\n",
    "from functools import lru_cache\n",
    "\n",
    "import sys\n",
    "\n",
    "CODE_PATH = '../code'\n",
    "\n",
    "sys.path.append(CODE_PATH)\n",
    "import functions\n",
    "\n",
    "from sklearn.linear_model import LogisticRegression\n",
    "\n",
    "from scipy.optimize import minimize\n",
    "from tqdm import tqdm\n",
    "%pylab inline\n",
    "\n",
    "def sq(a):\n",
    "    return np.dot(a, a)"
   ]
  },
  {
   "cell_type": "markdown",
   "metadata": {},
   "source": [
    "# Load Data"
   ]
  },
  {
   "cell_type": "code",
   "execution_count": 68,
   "metadata": {},
   "outputs": [
    {
     "data": {
      "text/html": [
       "<div>\n",
       "<style scoped>\n",
       "    .dataframe tbody tr th:only-of-type {\n",
       "        vertical-align: middle;\n",
       "    }\n",
       "\n",
       "    .dataframe tbody tr th {\n",
       "        vertical-align: top;\n",
       "    }\n",
       "\n",
       "    .dataframe thead th {\n",
       "        text-align: right;\n",
       "    }\n",
       "</style>\n",
       "<table border=\"1\" class=\"dataframe\">\n",
       "  <thead>\n",
       "    <tr style=\"text-align: right;\">\n",
       "      <th></th>\n",
       "      <th>0</th>\n",
       "      <th>1</th>\n",
       "      <th>2</th>\n",
       "      <th>3</th>\n",
       "      <th>4</th>\n",
       "      <th>5</th>\n",
       "      <th>6</th>\n",
       "      <th>7</th>\n",
       "      <th>8</th>\n",
       "      <th>9</th>\n",
       "      <th>10</th>\n",
       "      <th>11</th>\n",
       "      <th>12</th>\n",
       "    </tr>\n",
       "  </thead>\n",
       "  <tbody>\n",
       "    <tr>\n",
       "      <th>0</th>\n",
       "      <td>14.23</td>\n",
       "      <td>1.71</td>\n",
       "      <td>2.43</td>\n",
       "      <td>15.6</td>\n",
       "      <td>127.0</td>\n",
       "      <td>2.80</td>\n",
       "      <td>3.06</td>\n",
       "      <td>0.28</td>\n",
       "      <td>2.29</td>\n",
       "      <td>5.64</td>\n",
       "      <td>1.04</td>\n",
       "      <td>3.92</td>\n",
       "      <td>1065.0</td>\n",
       "    </tr>\n",
       "    <tr>\n",
       "      <th>1</th>\n",
       "      <td>13.20</td>\n",
       "      <td>1.78</td>\n",
       "      <td>2.14</td>\n",
       "      <td>11.2</td>\n",
       "      <td>100.0</td>\n",
       "      <td>2.65</td>\n",
       "      <td>2.76</td>\n",
       "      <td>0.26</td>\n",
       "      <td>1.28</td>\n",
       "      <td>4.38</td>\n",
       "      <td>1.05</td>\n",
       "      <td>3.40</td>\n",
       "      <td>1050.0</td>\n",
       "    </tr>\n",
       "    <tr>\n",
       "      <th>2</th>\n",
       "      <td>13.16</td>\n",
       "      <td>2.36</td>\n",
       "      <td>2.67</td>\n",
       "      <td>18.6</td>\n",
       "      <td>101.0</td>\n",
       "      <td>2.80</td>\n",
       "      <td>3.24</td>\n",
       "      <td>0.30</td>\n",
       "      <td>2.81</td>\n",
       "      <td>5.68</td>\n",
       "      <td>1.03</td>\n",
       "      <td>3.17</td>\n",
       "      <td>1185.0</td>\n",
       "    </tr>\n",
       "    <tr>\n",
       "      <th>3</th>\n",
       "      <td>14.37</td>\n",
       "      <td>1.95</td>\n",
       "      <td>2.50</td>\n",
       "      <td>16.8</td>\n",
       "      <td>113.0</td>\n",
       "      <td>3.85</td>\n",
       "      <td>3.49</td>\n",
       "      <td>0.24</td>\n",
       "      <td>2.18</td>\n",
       "      <td>7.80</td>\n",
       "      <td>0.86</td>\n",
       "      <td>3.45</td>\n",
       "      <td>1480.0</td>\n",
       "    </tr>\n",
       "    <tr>\n",
       "      <th>4</th>\n",
       "      <td>13.24</td>\n",
       "      <td>2.59</td>\n",
       "      <td>2.87</td>\n",
       "      <td>21.0</td>\n",
       "      <td>118.0</td>\n",
       "      <td>2.80</td>\n",
       "      <td>2.69</td>\n",
       "      <td>0.39</td>\n",
       "      <td>1.82</td>\n",
       "      <td>4.32</td>\n",
       "      <td>1.04</td>\n",
       "      <td>2.93</td>\n",
       "      <td>735.0</td>\n",
       "    </tr>\n",
       "  </tbody>\n",
       "</table>\n",
       "</div>"
      ],
      "text/plain": [
       "      0     1     2     3      4     5     6     7     8     9     10    11  \\\n",
       "0  14.23  1.71  2.43  15.6  127.0  2.80  3.06  0.28  2.29  5.64  1.04  3.92   \n",
       "1  13.20  1.78  2.14  11.2  100.0  2.65  2.76  0.26  1.28  4.38  1.05  3.40   \n",
       "2  13.16  2.36  2.67  18.6  101.0  2.80  3.24  0.30  2.81  5.68  1.03  3.17   \n",
       "3  14.37  1.95  2.50  16.8  113.0  3.85  3.49  0.24  2.18  7.80  0.86  3.45   \n",
       "4  13.24  2.59  2.87  21.0  118.0  2.80  2.69  0.39  1.82  4.32  1.04  2.93   \n",
       "\n",
       "       12  \n",
       "0  1065.0  \n",
       "1  1050.0  \n",
       "2  1185.0  \n",
       "3  1480.0  \n",
       "4   735.0  "
      ]
     },
     "execution_count": 68,
     "metadata": {},
     "output_type": "execute_result"
    }
   ],
   "source": [
    "from sklearn.datasets import load_linnerud, load_iris, load_boston, load_breast_cancer, load_wine, load_digits\n",
    "\n",
    "dataset = load_wine()\n",
    "# dataset = load_boston()\n",
    "# dataset = load_breast_cancer()\n",
    "# dataset = load_digits()\n",
    "\n",
    "df = pd.DataFrame(dataset['data'])\n",
    "target = dataset['target']\n",
    "df.head()"
   ]
  },
  {
   "cell_type": "code",
   "execution_count": 69,
   "metadata": {},
   "outputs": [
    {
     "data": {
      "text/plain": [
       "array([0, 0, 0, 0, 0, 0, 0, 0, 0, 0, 0, 0, 0, 0, 0, 0, 0, 0, 0, 0, 0, 0,\n",
       "       0, 0, 0, 0, 0, 0, 0, 0, 0, 0, 0, 0, 0, 0, 0, 0, 0, 0, 0, 0, 0, 0,\n",
       "       0, 0, 0, 0, 0, 0, 0, 0, 0, 0, 0, 0, 0, 0, 0, 1, 1, 1, 1, 1, 1, 1,\n",
       "       1, 1, 1, 1, 1, 1, 1, 1, 1, 1, 1, 1, 1, 1, 1, 1, 1, 1, 1, 1, 1, 1,\n",
       "       1, 1, 1, 1, 1, 1, 1, 1, 1, 1, 1, 1, 1, 1, 1, 1, 1, 1, 1, 1, 1, 1,\n",
       "       1, 1, 1, 1, 1, 1, 1, 1, 1, 1, 1, 1, 1, 1, 1, 1, 1, 1, 1, 1, 2, 2,\n",
       "       2, 2, 2, 2, 2, 2, 2, 2, 2, 2, 2, 2, 2, 2, 2, 2, 2, 2, 2, 2, 2, 2,\n",
       "       2, 2, 2, 2, 2, 2, 2, 2, 2, 2, 2, 2, 2, 2, 2, 2, 2, 2, 2, 2, 2, 2,\n",
       "       2, 2])"
      ]
     },
     "execution_count": 69,
     "metadata": {},
     "output_type": "execute_result"
    }
   ],
   "source": [
    "target"
   ]
  },
  {
   "cell_type": "code",
   "execution_count": null,
   "metadata": {},
   "outputs": [],
   "source": [
    "df = pd.read_csv('../data/abalone.csv', header=None)\n",
    "df = df.drop(0, 1)"
   ]
  },
  {
   "cell_type": "code",
   "execution_count": 70,
   "metadata": {},
   "outputs": [],
   "source": [
    "# НОРМИРОВКА НА СРЕДНЕЕ, МОЖНО ОПУСТИТЬ ИНОГДА\n",
    "df = (df - df.mean())/(df.max() - df.min())"
   ]
  },
  {
   "cell_type": "code",
   "execution_count": 71,
   "metadata": {},
   "outputs": [
    {
     "name": "stdout",
     "output_type": "stream",
     "text": [
      "(178, 13)\n"
     ]
    },
    {
     "data": {
      "text/html": [
       "<div>\n",
       "<style scoped>\n",
       "    .dataframe tbody tr th:only-of-type {\n",
       "        vertical-align: middle;\n",
       "    }\n",
       "\n",
       "    .dataframe tbody tr th {\n",
       "        vertical-align: top;\n",
       "    }\n",
       "\n",
       "    .dataframe thead th {\n",
       "        text-align: right;\n",
       "    }\n",
       "</style>\n",
       "<table border=\"1\" class=\"dataframe\">\n",
       "  <thead>\n",
       "    <tr style=\"text-align: right;\">\n",
       "      <th></th>\n",
       "      <th>0</th>\n",
       "      <th>1</th>\n",
       "      <th>2</th>\n",
       "      <th>3</th>\n",
       "      <th>4</th>\n",
       "      <th>5</th>\n",
       "      <th>6</th>\n",
       "      <th>7</th>\n",
       "      <th>8</th>\n",
       "      <th>9</th>\n",
       "      <th>10</th>\n",
       "      <th>11</th>\n",
       "      <th>12</th>\n",
       "    </tr>\n",
       "  </thead>\n",
       "  <tbody>\n",
       "    <tr>\n",
       "      <th>0</th>\n",
       "      <td>0.323522</td>\n",
       "      <td>-0.123784</td>\n",
       "      <td>0.033948</td>\n",
       "      <td>-0.200770</td>\n",
       "      <td>0.296287</td>\n",
       "      <td>0.174099</td>\n",
       "      <td>0.217454</td>\n",
       "      <td>-0.154441</td>\n",
       "      <td>0.220537</td>\n",
       "      <td>0.049651</td>\n",
       "      <td>0.067114</td>\n",
       "      <td>0.479236</td>\n",
       "      <td>0.226895</td>\n",
       "    </tr>\n",
       "    <tr>\n",
       "      <th>1</th>\n",
       "      <td>0.052469</td>\n",
       "      <td>-0.109950</td>\n",
       "      <td>-0.121132</td>\n",
       "      <td>-0.427574</td>\n",
       "      <td>0.002809</td>\n",
       "      <td>0.122375</td>\n",
       "      <td>0.154163</td>\n",
       "      <td>-0.192177</td>\n",
       "      <td>-0.098075</td>\n",
       "      <td>-0.057857</td>\n",
       "      <td>0.075244</td>\n",
       "      <td>0.288760</td>\n",
       "      <td>0.216196</td>\n",
       "    </tr>\n",
       "    <tr>\n",
       "      <th>2</th>\n",
       "      <td>0.041943</td>\n",
       "      <td>0.004674</td>\n",
       "      <td>0.162290</td>\n",
       "      <td>-0.046131</td>\n",
       "      <td>0.013679</td>\n",
       "      <td>0.174099</td>\n",
       "      <td>0.255428</td>\n",
       "      <td>-0.116706</td>\n",
       "      <td>0.384574</td>\n",
       "      <td>0.053064</td>\n",
       "      <td>0.058984</td>\n",
       "      <td>0.204511</td>\n",
       "      <td>0.312487</td>\n",
       "    </tr>\n",
       "    <tr>\n",
       "      <th>3</th>\n",
       "      <td>0.360364</td>\n",
       "      <td>-0.076353</td>\n",
       "      <td>0.071381</td>\n",
       "      <td>-0.138915</td>\n",
       "      <td>0.144113</td>\n",
       "      <td>0.536168</td>\n",
       "      <td>0.308171</td>\n",
       "      <td>-0.229913</td>\n",
       "      <td>0.185836</td>\n",
       "      <td>0.233951</td>\n",
       "      <td>-0.079227</td>\n",
       "      <td>0.307075</td>\n",
       "      <td>0.522901</td>\n",
       "    </tr>\n",
       "    <tr>\n",
       "      <th>4</th>\n",
       "      <td>0.062995</td>\n",
       "      <td>0.050129</td>\n",
       "      <td>0.269242</td>\n",
       "      <td>0.077580</td>\n",
       "      <td>0.198461</td>\n",
       "      <td>0.174099</td>\n",
       "      <td>0.139395</td>\n",
       "      <td>0.053106</td>\n",
       "      <td>0.072272</td>\n",
       "      <td>-0.062977</td>\n",
       "      <td>0.067114</td>\n",
       "      <td>0.116599</td>\n",
       "      <td>-0.008483</td>\n",
       "    </tr>\n",
       "  </tbody>\n",
       "</table>\n",
       "</div>"
      ],
      "text/plain": [
       "         0         1         2         3         4         5         6   \\\n",
       "0  0.323522 -0.123784  0.033948 -0.200770  0.296287  0.174099  0.217454   \n",
       "1  0.052469 -0.109950 -0.121132 -0.427574  0.002809  0.122375  0.154163   \n",
       "2  0.041943  0.004674  0.162290 -0.046131  0.013679  0.174099  0.255428   \n",
       "3  0.360364 -0.076353  0.071381 -0.138915  0.144113  0.536168  0.308171   \n",
       "4  0.062995  0.050129  0.269242  0.077580  0.198461  0.174099  0.139395   \n",
       "\n",
       "         7         8         9         10        11        12  \n",
       "0 -0.154441  0.220537  0.049651  0.067114  0.479236  0.226895  \n",
       "1 -0.192177 -0.098075 -0.057857  0.075244  0.288760  0.216196  \n",
       "2 -0.116706  0.384574  0.053064  0.058984  0.204511  0.312487  \n",
       "3 -0.229913  0.185836  0.233951 -0.079227  0.307075  0.522901  \n",
       "4  0.053106  0.072272 -0.062977  0.067114  0.116599 -0.008483  "
      ]
     },
     "execution_count": 71,
     "metadata": {},
     "output_type": "execute_result"
    }
   ],
   "source": [
    "df0 = df.copy()\n",
    "print(df.shape)\n",
    "df.head()"
   ]
  },
  {
   "cell_type": "markdown",
   "metadata": {},
   "source": [
    "## Insert NaNs"
   ]
  },
  {
   "cell_type": "code",
   "execution_count": 72,
   "metadata": {
    "scrolled": true
   },
   "outputs": [
    {
     "name": "stdout",
     "output_type": "stream",
     "text": [
      "Num nan places: 175\n",
      "(178, 8) (178, 13)\n"
     ]
    }
   ],
   "source": [
    "df, df1, df2, arr_nan, arr_raw, arr_known, arr_pred, nan_coords = functions.set_nans(df0, 180, 5, 0.2)"
   ]
  },
  {
   "cell_type": "code",
   "execution_count": 73,
   "metadata": {},
   "outputs": [],
   "source": [
    "from sklearn.model_selection import StratifiedKFold\n",
    "from sklearn.model_selection import cross_val_score\n",
    "\n",
    "\n",
    "def run_cv(X, y, clf, num_folds):\n",
    "    skf = StratifiedKFold(n_splits=num_folds)\n",
    "    scores = []\n",
    "    for train_index, test_index in skf.split(X, y):\n",
    "        X_train, X_test = X[train_index], X[test_index]\n",
    "        y_train, y_test = y[train_index], y[test_index]\n",
    "        clf.fit(X_train, y_train)\n",
    "        acc = clf.score(X_test, y_test) # accuracy\n",
    "        scores.append(acc)\n",
    "    scores = np.array(scores)\n",
    "    return scores.mean(), scores.std()"
   ]
  },
  {
   "cell_type": "code",
   "execution_count": 74,
   "metadata": {},
   "outputs": [],
   "source": [
    "clf = LogisticRegression()\n",
    "def iterative_process(update_function, max_iter=20, verbose=True, percentage=False):\n",
    "    df_result = pd.DataFrame(np.zeros((max_iter, 4)), columns=['mae', 'rmse', 'acc_mean', 'acc_std'])\n",
    "    \n",
    "    for i in range(max_iter):\n",
    "        update_function()\n",
    "        if percentage:\n",
    "            mae = functions.get_mape(arr_raw, arr_pred, nan_coords)\n",
    "            rmse = functions.get_rmspe(arr_raw, arr_pred, nan_coords)\n",
    "        else:\n",
    "            mae = functions.get_mae(arr_raw, arr_pred, nan_coords)\n",
    "            rmse = functions.get_rmse(arr_raw, arr_pred, nan_coords)\n",
    "        df_result.loc[i, 'mae'] = mae\n",
    "        df_result.loc[i, 'rmse'] = rmse\n",
    "        acc_mean, acc_std = run_cv(arr_pred, target, clf, 5)\n",
    "        if verbose:\n",
    "            print('\\tIteration {}  mae {:.6} // rmse {:.6}\\\n",
    "                // mean {:.6} // std {:.6}'.format(i+1, mae, rmse, acc_mean, acc_std))\n",
    "    return df_result"
   ]
  },
  {
   "cell_type": "code",
   "execution_count": 75,
   "metadata": {},
   "outputs": [
    {
     "name": "stdout",
     "output_type": "stream",
     "text": [
      "0.18337418111715287 0.22093424587751495\n",
      "0.9615529815529815 0.03648570489532294\n"
     ]
    }
   ],
   "source": [
    "mae = functions.get_mae(arr_raw, arr_pred, nan_coords)\n",
    "rmse = functions.get_rmse(arr_raw, arr_pred, nan_coords)\n",
    "print(mae, rmse)\n",
    "acc_mean, acc_std = run_cv(arr_pred, target, clf, 5)\n",
    "print(acc_mean, acc_std)"
   ]
  },
  {
   "cell_type": "markdown",
   "metadata": {},
   "source": [
    "# Local Approach"
   ]
  },
  {
   "cell_type": "code",
   "execution_count": 76,
   "metadata": {},
   "outputs": [],
   "source": [
    "from sklearn.neighbors import NearestNeighbors\n",
    "k_local = 15\n",
    "teta = 1\n",
    "nbrs = NearestNeighbors(n_neighbors=k_local, algorithm='ball_tree').fit(arr_pred)\n",
    "\n",
    "def get_delta_vec(teta):\n",
    "    deltas = []\n",
    "    _, heighbours = nbrs.kneighbors(arr_pred)\n",
    "    for i, j in nan_coords:\n",
    "        mean_neigh = arr_pred[heighbours[i]].mean(axis=0)[j]\n",
    "        deltas.append(teta*(mean_neigh - arr_pred[i][j]))\n",
    "    return np.array(deltas)\n",
    "\n",
    "def update_local():\n",
    "    deltas = get_delta_vec(teta)\n",
    "    nbrs = NearestNeighbors(n_neighbors=k_local, algorithm='ball_tree').fit(arr_pred) # пересчитываем\n",
    "    for j, (x,y) in enumerate(nan_coords):\n",
    "        arr_pred[x, y] += deltas[j]"
   ]
  },
  {
   "cell_type": "code",
   "execution_count": 77,
   "metadata": {},
   "outputs": [
    {
     "name": "stdout",
     "output_type": "stream",
     "text": [
      "\tIteration 1  mae 0.125412 // rmse 0.168432                // mean 0.956148 // std 0.0469167\n",
      "\tIteration 2  mae 0.105615 // rmse 0.151534                // mean 0.961862 // std 0.0500642\n",
      "\tIteration 3  mae 0.0988251 // rmse 0.146109                // mean 0.967267 // std 0.0396823\n",
      "\tIteration 4  mae 0.0958399 // rmse 0.142911                // mean 0.967267 // std 0.0396823\n",
      "\tIteration 5  mae 0.0946123 // rmse 0.141827                // mean 0.967267 // std 0.0396823\n",
      "\tIteration 6  mae 0.0944987 // rmse 0.1417                // mean 0.967267 // std 0.0396823\n",
      "\tIteration 7  mae 0.0949091 // rmse 0.142328                // mean 0.967267 // std 0.0396823\n",
      "\tIteration 8  mae 0.0947061 // rmse 0.142232                // mean 0.967267 // std 0.0396823\n",
      "\tIteration 9  mae 0.0946778 // rmse 0.142224                // mean 0.967267 // std 0.0396823\n",
      "\tIteration 10  mae 0.0947049 // rmse 0.142242                // mean 0.967267 // std 0.0396823\n",
      "\tIteration 11  mae 0.0946756 // rmse 0.142226                // mean 0.967267 // std 0.0396823\n",
      "\tIteration 12  mae 0.0947047 // rmse 0.142243                // mean 0.967267 // std 0.0396823\n",
      "\tIteration 13  mae 0.0946756 // rmse 0.142226                // mean 0.967267 // std 0.0396823\n",
      "\tIteration 14  mae 0.0947047 // rmse 0.142243                // mean 0.967267 // std 0.0396823\n",
      "\tIteration 15  mae 0.0946756 // rmse 0.142226                // mean 0.967267 // std 0.0396823\n",
      "\tIteration 16  mae 0.0947047 // rmse 0.142243                // mean 0.967267 // std 0.0396823\n",
      "\tIteration 17  mae 0.0946756 // rmse 0.142226                // mean 0.967267 // std 0.0396823\n",
      "\tIteration 18  mae 0.0947047 // rmse 0.142243                // mean 0.967267 // std 0.0396823\n",
      "\tIteration 19  mae 0.0946756 // rmse 0.142226                // mean 0.967267 // std 0.0396823\n",
      "\tIteration 20  mae 0.0947047 // rmse 0.142243                // mean 0.967267 // std 0.0396823\n",
      "\tIteration 21  mae 0.0946756 // rmse 0.142226                // mean 0.967267 // std 0.0396823\n",
      "\tIteration 22  mae 0.0947047 // rmse 0.142243                // mean 0.967267 // std 0.0396823\n",
      "\tIteration 23  mae 0.0946756 // rmse 0.142226                // mean 0.967267 // std 0.0396823\n",
      "\tIteration 24  mae 0.0947047 // rmse 0.142243                // mean 0.967267 // std 0.0396823\n",
      "\tIteration 25  mae 0.0946756 // rmse 0.142226                // mean 0.967267 // std 0.0396823\n",
      "\tIteration 26  mae 0.0947047 // rmse 0.142243                // mean 0.967267 // std 0.0396823\n",
      "\tIteration 27  mae 0.0946756 // rmse 0.142226                // mean 0.967267 // std 0.0396823\n",
      "\tIteration 28  mae 0.0947047 // rmse 0.142243                // mean 0.967267 // std 0.0396823\n",
      "\tIteration 29  mae 0.0946756 // rmse 0.142226                // mean 0.967267 // std 0.0396823\n",
      "\tIteration 30  mae 0.0947047 // rmse 0.142243                // mean 0.967267 // std 0.0396823\n"
     ]
    }
   ],
   "source": [
    "dfr = iterative_process(update_local, max_iter=30, verbose=True)"
   ]
  },
  {
   "cell_type": "code",
   "execution_count": null,
   "metadata": {},
   "outputs": [],
   "source": [
    "k_local/len(df)"
   ]
  },
  {
   "cell_type": "markdown",
   "metadata": {},
   "source": [
    "# Optimization Approach"
   ]
  },
  {
   "cell_type": "code",
   "execution_count": 78,
   "metadata": {},
   "outputs": [],
   "source": [
    "n = len(df0)\n",
    "\n",
    "def get_known_table():\n",
    "    global arr_nan\n",
    "    ro_known_table = np.zeros((n, n))\n",
    "    for i in tqdm(range(n)):\n",
    "        for j in range(i, n):\n",
    "            idx_nan_i = np.isnan(arr_nan[i])\n",
    "            idx_nan_j = np.isnan(arr_nan[j])\n",
    "            idx = ~idx_nan_i & ~idx_nan_j\n",
    "            x_i = arr_nan[i, idx]\n",
    "            x_j = arr_nan[j, idx]\n",
    "            ro_known_table[i, j] = ro_known_table[j, i] = sq(x_i - x_j)\n",
    "    return ro_known_table\n",
    "\n",
    "def get_ro_1_unknown_table():\n",
    "    global arr_pred\n",
    "    ro_1_unknown_table = np.zeros((n, n))\n",
    "    #это ro прибавить там где 1 компонента\n",
    "    for i in tqdm(range(n)):\n",
    "        for j in range(i, n):\n",
    "            idx_nan_i = np.isnan(arr_nan[i])\n",
    "            idx_nan_j = np.isnan(arr_nan[j])\n",
    "            idx = (idx_nan_i & ~idx_nan_j) | (~idx_nan_i & idx_nan_j)\n",
    "            x_i = arr_pred[i, idx]\n",
    "            x_j = arr_pred[j, idx]\n",
    "            ro_1_unknown_table[i, j] = ro_1_unknown_table[j, i] = sq(x_i - x_j)\n",
    "    return ro_1_unknown_table\n",
    "\n",
    "# по всем признакам\n",
    "def get_ro_2_unknown_table():\n",
    "    global arr_pred\n",
    "    '''\n",
    "    при первом запуске обычно 0, так как заполняю пропуски ОДНИМ И ТЕМ ЖЕ СРЕДНИМ ЗНАЧЕНИЕМ\n",
    "    '''\n",
    "    ro_2_unknown_table = np.zeros((n, n))\n",
    "    for i in tqdm(range(n)):\n",
    "        for j in range(i+1, n):\n",
    "            idx_nan_i = np.isnan(arr_nan[i])\n",
    "            idx_nan_j = np.isnan(arr_nan[j])\n",
    "            idx = (idx_nan_i & idx_nan_j)\n",
    "            x_i = arr_pred[i, idx]\n",
    "            x_j = arr_pred[j, idx]\n",
    "            ro_2_unknown_table[i, j] = ro_2_unknown_table[j, i] = sq(x_i - x_j)\n",
    "    return ro_2_unknown_table"
   ]
  },
  {
   "cell_type": "code",
   "execution_count": 79,
   "metadata": {},
   "outputs": [],
   "source": [
    "def F_functional(k_arr, ftype='f1'):\n",
    "    global ro_known_table, ro_1_unknown_table, ro_2_unknown_table\n",
    "    f = 0\n",
    "    for i in tqdm(range(n)):\n",
    "        for j in range(i+1, n):\n",
    "            ro1 = ro_known_table[i, j] # известно оба \n",
    "            ro2 = ro_1_unknown_table[i, j] # известен 1 \n",
    "            ro3 = ro_2_unknown_table[i, j] # не известно ниче\n",
    "            \n",
    "            r1 = np.sqrt(ro1 + ro2 + ro3) #по всем признакам(р)\n",
    "            if ftype == 'f1':\n",
    "                r2 = np.sqrt(ro1) # по известным признакам(р+)\n",
    "            else:\n",
    "                r2 = np.sqrt(ro1 + ro2)\n",
    "            f += (r1 - k_arr[i, j]*r2)**2\n",
    "    return f"
   ]
  },
  {
   "cell_type": "code",
   "execution_count": 80,
   "metadata": {},
   "outputs": [],
   "source": [
    "### ПРОВЕРИТЬ ГРАДИЕНТ НА 0 ДЛЯ Ф2\n",
    "\n",
    "def grad_component(i, j, k_arr, ftype='f1'):\n",
    "    global ro_known_table, ro_1_unknown_table, ro_2_unknown_table\n",
    "    s = 0\n",
    "    for i1 in range(n):\n",
    "        if i1 == i:\n",
    "            continue\n",
    "        ro1 = ro_known_table[i, i1]\n",
    "        ro2 = ro_1_unknown_table[i, i1]\n",
    "        ro3 = ro_2_unknown_table[i, i1]\n",
    "        \n",
    "        r1 = np.sqrt(ro1 + ro2 + ro3) #по всем признакам(р)\n",
    "        if r1 <= 0:\n",
    "            continue\n",
    "        if ftype == 'f2':\n",
    "            r2 = np.sqrt(ro1 + ro2) # по известным признакам(р+)\n",
    "            delta_x1 = (arr_pred[i, j] - arr_pred[i1, j])\n",
    "            if not np.isnan(arr_nan[i1, j]):\n",
    "                delta_x2 = delta_x1\n",
    "            else:\n",
    "                delta_x2 = 0\n",
    "            if r2 == 0:\n",
    "                delta_x2 = k_arr[i1, i]\n",
    "            else:\n",
    "                delta_x2 = k_arr[i1, i]*delta_x2/r2\n",
    "            delta_s = 2*(r1 - k_arr[i1, i]*r2)*(delta_x1/r1 - delta_x2)\n",
    "            s += delta_s\n",
    "        else:\n",
    "            r2 = np.sqrt(ro1) # по известным признакам(р+)\n",
    "            s += 2 * (1 - k_arr[i1, i]*r2/r1) * (arr_pred[i, j] - arr_pred[i1, j])\n",
    "    return s\n",
    "\n",
    "def get_full_grad(nan_coords, k_arr, ftype='f1'):\n",
    "    grad = []\n",
    "    for i, j in nan_coords:\n",
    "        grad.append(grad_component(i, j, k_arr, ftype))\n",
    "    return np.array(grad)"
   ]
  },
  {
   "cell_type": "code",
   "execution_count": 81,
   "metadata": {},
   "outputs": [
    {
     "name": "stdout",
     "output_type": "stream",
     "text": [
      "Num nan places: 462\n",
      "(178, 0) (178, 13)\n"
     ]
    }
   ],
   "source": [
    "df, df1, df2, arr_nan, arr_raw, arr_known, arr_pred, nan_coords = functions.set_nans(df0, 180, -1, 0.2)"
   ]
  },
  {
   "cell_type": "code",
   "execution_count": 82,
   "metadata": {},
   "outputs": [
    {
     "name": "stderr",
     "output_type": "stream",
     "text": [
      "100%|██████████| 178/178 [00:00<00:00, 1327.59it/s]\n",
      "100%|██████████| 178/178 [00:00<00:00, 1030.19it/s]\n",
      "100%|██████████| 178/178 [00:00<00:00, 1355.84it/s]\n"
     ]
    }
   ],
   "source": [
    "ro_known_table = get_known_table()\n",
    "ro_1_unknown_table = get_ro_1_unknown_table()\n",
    "ro_2_unknown_table = get_ro_2_unknown_table() # здесь какого-то хера одни нули!!!"
   ]
  },
  {
   "cell_type": "code",
   "execution_count": 83,
   "metadata": {},
   "outputs": [
    {
     "name": "stderr",
     "output_type": "stream",
     "text": [
      "100%|██████████| 178/178 [00:00<00:00, 2471.98it/s]\n"
     ]
    }
   ],
   "source": [
    "k_arr = np.ones((n, n))\n",
    "ftype = 'f1'\n",
    "alpha = 0.005\n",
    "alpha = 0.001\n",
    "c = F_functional(k_arr, ftype)"
   ]
  },
  {
   "cell_type": "code",
   "execution_count": null,
   "metadata": {},
   "outputs": [],
   "source": [
    "c = F_functional(k_arr, ftype)"
   ]
  },
  {
   "cell_type": "code",
   "execution_count": null,
   "metadata": {},
   "outputs": [],
   "source": [
    "# Для F2 нужно делать не единички, а нормировать\n",
    "# k_arr[i, j] = n - n2 / n (то есть все признаки без двух пропусков/на все признаки)\n",
    "k_arr = np.ones((n, n))\n",
    "alpha = 1.1\n",
    "for i in tqdm(range(n)):\n",
    "    for j in range(i+1, n):\n",
    "        idx_nan_i = np.isnan(arr_nan[i])\n",
    "        idx_nan_j = np.isnan(arr_nan[j])\n",
    "        idx = (idx_nan_i & idx_nan_j)\n",
    "        k_arr[i, j] = k_arr[j, i] = (n - idx.sum()) / n\n",
    "ftype = 'f2'\n",
    "c = F_functional(k_arr, ftype)"
   ]
  },
  {
   "cell_type": "code",
   "execution_count": 84,
   "metadata": {},
   "outputs": [],
   "source": [
    "# проверка изменений в зависимости от альфы\n",
    "arr_pred_raw = arr_pred.copy()\n",
    "grad = get_full_grad(nan_coords, k_arr, ftype)\n",
    "\n",
    "def get_f_grad(arr_pred_raw, alpha, grad):\n",
    "    global ro_1_unknown_table, ro_2_unknown_table\n",
    "    for j, (x,y) in enumerate(nan_coords):\n",
    "        arr_pred[x, y] = arr_pred_raw[x, y] - alpha*grad[j]\n",
    "    ro_1_unknown_table = get_ro_1_unknown_table()\n",
    "    ro_2_unknown_table = get_ro_2_unknown_table()\n",
    "    c = F_functional(k_arr, ftype)\n",
    "    return c"
   ]
  },
  {
   "cell_type": "code",
   "execution_count": 85,
   "metadata": {},
   "outputs": [],
   "source": [
    "c_array = []\n",
    "\n",
    "ro1t = []\n",
    "ro2t = []\n",
    "def update_opt():\n",
    "    global ro_1_unknown_table, ro_2_unknown_table\n",
    "    grad = get_full_grad(nan_coords, k_arr, ftype)\n",
    "    for j, (x,y) in enumerate(nan_coords):\n",
    "        arr_pred[x, y] = arr_pred[x, y] - alpha*grad[j]\n",
    "        \n",
    "    ro_1_unknown_table = get_ro_1_unknown_table()\n",
    "    ro_2_unknown_table = get_ro_2_unknown_table()\n",
    "    c = F_functional(k_arr, ftype)\n",
    "    print('C = {}'.format(c))\n",
    "    c_array.append(c)\n",
    "    ro1t.append(ro_1_unknown_table)\n",
    "    ro2t.append(ro_2_unknown_table)"
   ]
  },
  {
   "cell_type": "code",
   "execution_count": 86,
   "metadata": {
    "scrolled": false
   },
   "outputs": [
    {
     "name": "stderr",
     "output_type": "stream",
     "text": [
      "100%|██████████| 178/178 [00:00<00:00, 1260.55it/s]\n",
      "100%|██████████| 178/178 [00:00<00:00, 1548.92it/s]\n",
      "100%|██████████| 178/178 [00:00<00:00, 2407.69it/s]\n"
     ]
    },
    {
     "name": "stdout",
     "output_type": "stream",
     "text": [
      "C = 325.2134067451456\n",
      "\tIteration 1  mae 0.159912 // rmse 0.198382                // mean 0.95537 // std 0.012783\n"
     ]
    },
    {
     "name": "stderr",
     "output_type": "stream",
     "text": [
      "100%|██████████| 178/178 [00:00<00:00, 900.46it/s]\n",
      "100%|██████████| 178/178 [00:00<00:00, 1399.53it/s]\n",
      "100%|██████████| 178/178 [00:00<00:00, 2383.11it/s]\n"
     ]
    },
    {
     "name": "stdout",
     "output_type": "stream",
     "text": [
      "C = 323.1313871153268\n",
      "\tIteration 2  mae 0.15871 // rmse 0.197089                // mean 0.95537 // std 0.012783\n"
     ]
    },
    {
     "name": "stderr",
     "output_type": "stream",
     "text": [
      "100%|██████████| 178/178 [00:00<00:00, 1068.10it/s]\n",
      "100%|██████████| 178/178 [00:00<00:00, 1480.08it/s]\n",
      "100%|██████████| 178/178 [00:00<00:00, 3438.38it/s]\n"
     ]
    },
    {
     "name": "stdout",
     "output_type": "stream",
     "text": [
      "C = 321.3873340080549\n",
      "\tIteration 3  mae 0.157621 // rmse 0.195919                // mean 0.95537 // std 0.012783\n"
     ]
    },
    {
     "name": "stderr",
     "output_type": "stream",
     "text": [
      "100%|██████████| 178/178 [00:00<00:00, 1454.36it/s]\n",
      "100%|██████████| 178/178 [00:00<00:00, 1366.74it/s]\n",
      "100%|██████████| 178/178 [00:00<00:00, 3153.28it/s]\n"
     ]
    },
    {
     "name": "stdout",
     "output_type": "stream",
     "text": [
      "C = 319.9243722163728\n",
      "\tIteration 4  mae 0.156639 // rmse 0.194861                // mean 0.95537 // std 0.012783\n"
     ]
    },
    {
     "name": "stderr",
     "output_type": "stream",
     "text": [
      "100%|██████████| 178/178 [00:00<00:00, 1226.94it/s]\n",
      "100%|██████████| 178/178 [00:00<00:00, 1252.95it/s]\n",
      "100%|██████████| 178/178 [00:00<00:00, 3421.49it/s]\n"
     ]
    },
    {
     "name": "stdout",
     "output_type": "stream",
     "text": [
      "C = 318.6954896408575\n",
      "\tIteration 5  mae 0.15576 // rmse 0.193901                // mean 0.95537 // std 0.012783\n"
     ]
    },
    {
     "name": "stderr",
     "output_type": "stream",
     "text": [
      "100%|██████████| 178/178 [00:00<00:00, 1588.46it/s]\n",
      "100%|██████████| 178/178 [00:00<00:00, 1892.79it/s]\n",
      "100%|██████████| 178/178 [00:00<00:00, 3346.94it/s]\n"
     ]
    },
    {
     "name": "stdout",
     "output_type": "stream",
     "text": [
      "C = 317.661779227682\n",
      "\tIteration 6  mae 0.154958 // rmse 0.193032                // mean 0.95537 // std 0.012783\n"
     ]
    },
    {
     "name": "stderr",
     "output_type": "stream",
     "text": [
      "100%|██████████| 178/178 [00:00<00:00, 1088.18it/s]\n",
      "100%|██████████| 178/178 [00:00<00:00, 1400.86it/s]\n",
      "100%|██████████| 178/178 [00:00<00:00, 3798.67it/s]\n"
     ]
    },
    {
     "name": "stdout",
     "output_type": "stream",
     "text": [
      "C = 316.7910049271685\n",
      "\tIteration 7  mae 0.154223 // rmse 0.192243                // mean 0.95537 // std 0.012783\n"
     ]
    },
    {
     "name": "stderr",
     "output_type": "stream",
     "text": [
      "100%|██████████| 178/178 [00:00<00:00, 1509.65it/s]\n",
      "100%|██████████| 178/178 [00:00<00:00, 2037.83it/s]\n",
      "100%|██████████| 178/178 [00:00<00:00, 4348.58it/s]\n",
      "  0%|          | 0/178 [00:00<?, ?it/s]"
     ]
    },
    {
     "name": "stdout",
     "output_type": "stream",
     "text": [
      "C = 316.05642848455324\n",
      "\tIteration 8  mae 0.153554 // rmse 0.191526                // mean 0.95537 // std 0.012783\n"
     ]
    },
    {
     "name": "stderr",
     "output_type": "stream",
     "text": [
      "100%|██████████| 178/178 [00:00<00:00, 1545.82it/s]\n",
      "100%|██████████| 178/178 [00:00<00:00, 2085.87it/s]\n",
      "100%|██████████| 178/178 [00:00<00:00, 4306.17it/s]\n"
     ]
    },
    {
     "name": "stdout",
     "output_type": "stream",
     "text": [
      "C = 315.43584754919056\n",
      "\tIteration 9  mae 0.152948 // rmse 0.190875                // mean 0.95537 // std 0.012783\n"
     ]
    },
    {
     "name": "stderr",
     "output_type": "stream",
     "text": [
      "100%|██████████| 178/178 [00:00<00:00, 1351.90it/s]\n",
      "100%|██████████| 178/178 [00:00<00:00, 1285.18it/s]\n",
      "100%|██████████| 178/178 [00:00<00:00, 3536.29it/s]\n"
     ]
    },
    {
     "name": "stdout",
     "output_type": "stream",
     "text": [
      "C = 314.91080578189747\n",
      "\tIteration 10  mae 0.152414 // rmse 0.190283                // mean 0.95537 // std 0.012783\n"
     ]
    },
    {
     "name": "stderr",
     "output_type": "stream",
     "text": [
      "100%|██████████| 178/178 [00:00<00:00, 1198.19it/s]\n",
      "100%|██████████| 178/178 [00:00<00:00, 1736.47it/s]\n",
      "100%|██████████| 178/178 [00:00<00:00, 3241.91it/s]\n"
     ]
    },
    {
     "name": "stdout",
     "output_type": "stream",
     "text": [
      "C = 314.4659434169063\n",
      "\tIteration 11  mae 0.15193 // rmse 0.189744                // mean 0.95537 // std 0.012783\n"
     ]
    },
    {
     "name": "stderr",
     "output_type": "stream",
     "text": [
      "100%|██████████| 178/178 [00:00<00:00, 1479.63it/s]\n",
      "100%|██████████| 178/178 [00:00<00:00, 1337.52it/s]\n",
      "100%|██████████| 178/178 [00:00<00:00, 3102.59it/s]\n"
     ]
    },
    {
     "name": "stdout",
     "output_type": "stream",
     "text": [
      "C = 314.08846278400927\n",
      "\tIteration 12  mae 0.151486 // rmse 0.189253                // mean 0.95537 // std 0.012783\n"
     ]
    },
    {
     "name": "stderr",
     "output_type": "stream",
     "text": [
      "100%|██████████| 178/178 [00:00<00:00, 1639.20it/s]\n",
      "100%|██████████| 178/178 [00:00<00:00, 1578.13it/s]\n",
      "100%|██████████| 178/178 [00:00<00:00, 3270.07it/s]\n",
      "  0%|          | 0/178 [00:00<?, ?it/s]"
     ]
    },
    {
     "name": "stdout",
     "output_type": "stream",
     "text": [
      "C = 313.7676880759979\n",
      "\tIteration 13  mae 0.15108 // rmse 0.188806                // mean 0.95537 // std 0.012783\n"
     ]
    },
    {
     "name": "stderr",
     "output_type": "stream",
     "text": [
      "100%|██████████| 178/178 [00:00<00:00, 1444.13it/s]\n",
      "100%|██████████| 178/178 [00:00<00:00, 2129.60it/s]\n",
      "100%|██████████| 178/178 [00:00<00:00, 4322.65it/s]\n"
     ]
    },
    {
     "name": "stdout",
     "output_type": "stream",
     "text": [
      "C = 313.4947024672089\n",
      "\tIteration 14  mae 0.15071 // rmse 0.188398                // mean 0.95537 // std 0.012783\n"
     ]
    },
    {
     "name": "stderr",
     "output_type": "stream",
     "text": [
      "100%|██████████| 178/178 [00:00<00:00, 1311.12it/s]\n",
      "100%|██████████| 178/178 [00:00<00:00, 1477.98it/s]\n",
      "100%|██████████| 178/178 [00:00<00:00, 3364.02it/s]\n"
     ]
    },
    {
     "name": "stdout",
     "output_type": "stream",
     "text": [
      "C = 313.26204877106403\n",
      "\tIteration 15  mae 0.150371 // rmse 0.188026                // mean 0.95537 // std 0.012783\n"
     ]
    },
    {
     "name": "stderr",
     "output_type": "stream",
     "text": [
      "100%|██████████| 178/178 [00:00<00:00, 1008.99it/s]\n",
      "100%|██████████| 178/178 [00:00<00:00, 1691.83it/s]\n",
      "100%|██████████| 178/178 [00:00<00:00, 3386.37it/s]\n"
     ]
    },
    {
     "name": "stdout",
     "output_type": "stream",
     "text": [
      "C = 313.0634823251078\n",
      "\tIteration 16  mae 0.15006 // rmse 0.187687                // mean 0.95537 // std 0.012783\n"
     ]
    },
    {
     "name": "stderr",
     "output_type": "stream",
     "text": [
      "100%|██████████| 178/178 [00:00<00:00, 1337.07it/s]\n",
      "100%|██████████| 178/178 [00:00<00:00, 1459.83it/s]\n",
      "100%|██████████| 178/178 [00:00<00:00, 3301.99it/s]\n"
     ]
    },
    {
     "name": "stdout",
     "output_type": "stream",
     "text": [
      "C = 312.8937668302537\n",
      "\tIteration 17  mae 0.149776 // rmse 0.187377                // mean 0.95537 // std 0.012783\n"
     ]
    },
    {
     "name": "stderr",
     "output_type": "stream",
     "text": [
      "100%|██████████| 178/178 [00:00<00:00, 1347.55it/s]\n",
      "100%|██████████| 178/178 [00:00<00:00, 1575.10it/s]\n",
      "100%|██████████| 178/178 [00:00<00:00, 3817.68it/s]\n"
     ]
    },
    {
     "name": "stdout",
     "output_type": "stream",
     "text": [
      "C = 312.7485055363801\n",
      "\tIteration 18  mae 0.14952 // rmse 0.187094                // mean 0.95537 // std 0.012783\n"
     ]
    },
    {
     "name": "stderr",
     "output_type": "stream",
     "text": [
      "100%|██████████| 178/178 [00:00<00:00, 1440.85it/s]\n",
      "100%|██████████| 178/178 [00:00<00:00, 1347.41it/s]\n",
      "100%|██████████| 178/178 [00:00<00:00, 2839.99it/s]\n"
     ]
    },
    {
     "name": "stdout",
     "output_type": "stream",
     "text": [
      "C = 312.6240015298347\n",
      "\tIteration 19  mae 0.149285 // rmse 0.186835                // mean 0.95537 // std 0.012783\n"
     ]
    },
    {
     "name": "stderr",
     "output_type": "stream",
     "text": [
      "100%|██████████| 178/178 [00:00<00:00, 1127.40it/s]\n",
      "100%|██████████| 178/178 [00:00<00:00, 1868.42it/s]\n",
      "100%|██████████| 178/178 [00:00<00:00, 3392.73it/s]\n"
     ]
    },
    {
     "name": "stdout",
     "output_type": "stream",
     "text": [
      "C = 312.517141995605\n",
      "\tIteration 20  mae 0.149068 // rmse 0.186598                // mean 0.95537 // std 0.012783\n"
     ]
    },
    {
     "name": "stderr",
     "output_type": "stream",
     "text": [
      "100%|██████████| 178/178 [00:00<00:00, 1079.37it/s]\n",
      "100%|██████████| 178/178 [00:00<00:00, 1666.32it/s]\n",
      "100%|██████████| 178/178 [00:00<00:00, 3362.05it/s]\n"
     ]
    },
    {
     "name": "stdout",
     "output_type": "stream",
     "text": [
      "C = 312.42530224292443\n",
      "\tIteration 21  mae 0.148869 // rmse 0.186381                // mean 0.95537 // std 0.012783\n"
     ]
    },
    {
     "name": "stderr",
     "output_type": "stream",
     "text": [
      "100%|██████████| 178/178 [00:00<00:00, 1181.95it/s]\n",
      "100%|██████████| 178/178 [00:00<00:00, 1575.86it/s]\n",
      "100%|██████████| 178/178 [00:00<00:00, 2279.00it/s]\n"
     ]
    },
    {
     "name": "stdout",
     "output_type": "stream",
     "text": [
      "C = 312.3462660343451\n",
      "\tIteration 22  mae 0.148687 // rmse 0.186182                // mean 0.95537 // std 0.012783\n"
     ]
    },
    {
     "name": "stderr",
     "output_type": "stream",
     "text": [
      "100%|██████████| 178/178 [00:00<00:00, 1436.10it/s]\n",
      "100%|██████████| 178/178 [00:00<00:00, 1983.10it/s]\n",
      "100%|██████████| 178/178 [00:00<00:00, 4354.41it/s]\n"
     ]
    },
    {
     "name": "stdout",
     "output_type": "stream",
     "text": [
      "C = 312.2781593744718\n",
      "\tIteration 23  mae 0.148518 // rmse 0.186001                // mean 0.95537 // std 0.012783\n"
     ]
    },
    {
     "name": "stderr",
     "output_type": "stream",
     "text": [
      "100%|██████████| 178/178 [00:00<00:00, 932.87it/s]\n",
      "100%|██████████| 178/178 [00:00<00:00, 1531.55it/s]\n",
      "100%|██████████| 178/178 [00:00<00:00, 3381.89it/s]\n"
     ]
    },
    {
     "name": "stdout",
     "output_type": "stream",
     "text": [
      "C = 312.21939542008425\n",
      "\tIteration 24  mae 0.148364 // rmse 0.185834                // mean 0.95537 // std 0.012783\n"
     ]
    },
    {
     "name": "stderr",
     "output_type": "stream",
     "text": [
      "100%|██████████| 178/178 [00:00<00:00, 966.12it/s]\n",
      "100%|██████████| 178/178 [00:00<00:00, 1347.86it/s]\n",
      "100%|██████████| 178/178 [00:00<00:00, 3540.67it/s]\n"
     ]
    },
    {
     "name": "stdout",
     "output_type": "stream",
     "text": [
      "C = 312.1686285879725\n",
      "\tIteration 25  mae 0.148221 // rmse 0.185681                // mean 0.95537 // std 0.012783\n"
     ]
    },
    {
     "name": "stderr",
     "output_type": "stream",
     "text": [
      "100%|██████████| 178/178 [00:00<00:00, 1236.76it/s]\n",
      "100%|██████████| 178/178 [00:00<00:00, 1573.20it/s]\n",
      "100%|██████████| 178/178 [00:00<00:00, 3468.14it/s]\n"
     ]
    },
    {
     "name": "stdout",
     "output_type": "stream",
     "text": [
      "C = 312.12471627708305\n",
      "\tIteration 26  mae 0.14809 // rmse 0.185541                // mean 0.95537 // std 0.012783\n"
     ]
    },
    {
     "name": "stderr",
     "output_type": "stream",
     "text": [
      "100%|██████████| 178/178 [00:00<00:00, 1084.00it/s]\n",
      "100%|██████████| 178/178 [00:00<00:00, 1605.71it/s]\n",
      "100%|██████████| 178/178 [00:00<00:00, 2516.64it/s]\n"
     ]
    },
    {
     "name": "stdout",
     "output_type": "stream",
     "text": [
      "C = 312.0866869006501\n",
      "\tIteration 27  mae 0.147971 // rmse 0.185412                // mean 0.95537 // std 0.012783\n"
     ]
    },
    {
     "name": "stderr",
     "output_type": "stream",
     "text": [
      "100%|██████████| 178/178 [00:00<00:00, 1138.74it/s]\n",
      "100%|██████████| 178/178 [00:00<00:00, 1341.94it/s]\n",
      "100%|██████████| 178/178 [00:00<00:00, 3153.68it/s]\n"
     ]
    },
    {
     "name": "stdout",
     "output_type": "stream",
     "text": [
      "C = 312.05371315329796\n",
      "\tIteration 28  mae 0.147862 // rmse 0.185294                // mean 0.95537 // std 0.012783\n"
     ]
    },
    {
     "name": "stderr",
     "output_type": "stream",
     "text": [
      "100%|██████████| 178/178 [00:00<00:00, 1244.62it/s]\n",
      "100%|██████████| 178/178 [00:00<00:00, 1783.40it/s]\n",
      "100%|██████████| 178/178 [00:00<00:00, 3648.27it/s]\n"
     ]
    },
    {
     "name": "stdout",
     "output_type": "stream",
     "text": [
      "C = 312.0250896260559\n",
      "\tIteration 29  mae 0.147762 // rmse 0.185186                // mean 0.95537 // std 0.012783\n"
     ]
    },
    {
     "name": "stderr",
     "output_type": "stream",
     "text": [
      "100%|██████████| 178/178 [00:00<00:00, 1283.92it/s]\n",
      "100%|██████████| 178/178 [00:00<00:00, 1562.43it/s]\n",
      "100%|██████████| 178/178 [00:00<00:00, 4033.81it/s]\n"
     ]
    },
    {
     "name": "stdout",
     "output_type": "stream",
     "text": [
      "C = 312.0002140370237\n",
      "\tIteration 30  mae 0.14767 // rmse 0.185086                // mean 0.95537 // std 0.012783\n"
     ]
    }
   ],
   "source": [
    "max_iter = 30\n",
    "\n",
    "dfr = iterative_process(update_opt, max_iter=max_iter, verbose=True)"
   ]
  },
  {
   "cell_type": "code",
   "execution_count": null,
   "metadata": {},
   "outputs": [],
   "source": [
    "print(c_array, ftype)\n",
    "\n",
    "for i in range(7):\n",
    "    print((ro2t[i] - ro2t[i+1]).max())"
   ]
  },
  {
   "cell_type": "markdown",
   "metadata": {},
   "source": [
    "# SNE Approach"
   ]
  },
  {
   "cell_type": "code",
   "execution_count": 87,
   "metadata": {},
   "outputs": [
    {
     "name": "stdout",
     "output_type": "stream",
     "text": [
      "Num nan places: 462\n",
      "(178, 0) (178, 13)\n"
     ]
    }
   ],
   "source": [
    "df, df1, df2, arr_nan, arr_raw, arr_known, arr_pred, nan_coords = functions.set_nans(df0, 180, -1, 0.2)"
   ]
  },
  {
   "cell_type": "code",
   "execution_count": 88,
   "metadata": {},
   "outputs": [
    {
     "name": "stderr",
     "output_type": "stream",
     "text": [
      "100%|██████████| 178/178 [00:00<00:00, 1716.16it/s]\n",
      "100%|██████████| 178/178 [00:00<00:00, 2006.40it/s]\n"
     ]
    }
   ],
   "source": [
    "n = len(df0)\n",
    "# таблица старых значений\n",
    "Exp1_table = np.zeros((n, n))\n",
    "for i in tqdm(range(n)):\n",
    "    for j in range(n):\n",
    "        Exp1_table[i][j] = np.exp(-sq(arr_known[i] - arr_known[j]))\n",
    "#         Exp1_table[i][j] = np.exp(-norm(arr_known[i] - arr_known[j])**2)\n",
    "        \n",
    "P1_table = np.zeros((n, n))\n",
    "for i in tqdm(range(n)):\n",
    "    for j in range(n):\n",
    "        a = Exp1_table[j][i]\n",
    "        b = Exp1_table[i].sum() - 1 # 1 = Exp1_table[i][i]\n",
    "        P1_table[j][i] = a / b"
   ]
  },
  {
   "cell_type": "code",
   "execution_count": 89,
   "metadata": {},
   "outputs": [
    {
     "name": "stderr",
     "output_type": "stream",
     "text": [
      "100%|██████████| 178/178 [00:00<00:00, 946.17it/s]\n",
      "100%|██████████| 178/178 [00:00<00:00, 2183.68it/s]\n"
     ]
    }
   ],
   "source": [
    "def get_exp2_table():\n",
    "    Exp2_table = np.zeros((n, n))\n",
    "    for i in tqdm(range(n)):\n",
    "        for j in range(n):\n",
    "            Exp2_table[i][j] = np.exp(-sq(arr_pred[i] - arr_pred[j]))\n",
    "#             Exp2_table[i][j] = np.exp(-norm(arr_pred[i] - arr_pred[j])**2)\n",
    "    return Exp2_table\n",
    "\n",
    "def get_p2_table():\n",
    "    Exp2_table = get_exp2_table()\n",
    "    P2_table = np.zeros((n, n))\n",
    "    for i in tqdm(range(n)):\n",
    "        for j in range(n):\n",
    "            a = Exp2_table[j][i]\n",
    "            b = Exp2_table[i].sum() - 1 # 1 = Exp1_table[i][i]\n",
    "            P2_table[j][i] = a / b\n",
    "    return P2_table\n",
    "P2_table = get_p2_table()"
   ]
  },
  {
   "cell_type": "code",
   "execution_count": 90,
   "metadata": {},
   "outputs": [],
   "source": [
    "def KL(P2_table):\n",
    "    global P1_table\n",
    "#     global P1_table, P2_table\n",
    "    s = 0\n",
    "    for i in range(n):\n",
    "        for j in range(n):\n",
    "#             s += P1_table[j][i] * np.log(P1_table[j][i] / P2_table[j][i])\n",
    "            s += P1_table[j][i] * np.log(P1_table[j][i]) - P1_table[j][i] * np.log(P2_table[j][i])\n",
    "    return s\n",
    "\n",
    "def get_grad_sne(i1, i2):\n",
    "    global P1_table, P2_table\n",
    "    def get_i_part(i):\n",
    "        d = 2*(arr_pred[i1][i2] - arr_pred[i][i2])\n",
    "        s = (P1_table[i1][i]+P1_table[i][i1]) - \\\n",
    "            P2_table[i1][i]*(1+P1_table[i][i]) - \\\n",
    "            P2_table[i][i1]*(1+P1_table[i1][i1])\n",
    "        return s*d\n",
    "    return sum(get_i_part(i) for i in range(n) if i!=i1)\n",
    "\n",
    "def get_full_grad_sne(nan_coords):\n",
    "    n_gaps = len(nan_coords)\n",
    "    grad = np.zeros(n_gaps)\n",
    "    for i in range(n_gaps):\n",
    "        i1, i2 = nan_coords[i]\n",
    "        grad[i] = get_grad_sne(i1, i2)\n",
    "    return grad"
   ]
  },
  {
   "cell_type": "code",
   "execution_count": 91,
   "metadata": {},
   "outputs": [],
   "source": [
    "momentum = True\n",
    "alpha_momentum = 0.5\n",
    "c_array = []\n",
    "p_array = []\n",
    "g_array = []\n",
    "\n",
    "y_momentum = np.zeros(len(nan_coords))\n",
    "for j, (x,y) in enumerate(nan_coords):\n",
    "    y_momentum[j] = arr_pred[x, y]\n",
    "y_array = [y_momentum]\n",
    "\n",
    "def update_sne():\n",
    "    grad = get_full_grad_sne(nan_coords)\n",
    "\n",
    "    for j, (x,y) in enumerate(nan_coords):\n",
    "        arr_pred[x, y] = arr_pred[x, y] - alpha*grad[j]\n",
    "    # если есть еще предыдущие, то делаем шаг моментум\n",
    "    if momentum and len(y_array) >= 2:\n",
    "        if len(y_array) >= 2:\n",
    "            y_diff = y_array[-1] - y_array[-2]\n",
    "            for j, (x,y) in enumerate(nan_coords):\n",
    "                arr_pred[x, y] += alpha_momentum*y_diff[j]\n",
    "        y_momentum = np.zeros(len(nan_coords))\n",
    "        for j, (x,y) in enumerate(nan_coords):\n",
    "            y_momentum[j] = arr_pred[x, y]\n",
    "        y_array.append(y_momentum)\n",
    "    \n",
    "    P2_table = get_p2_table()\n",
    "    c = KL(P2_table)\n",
    "    print('C = {}'.format(c))\n",
    "    c_array.append(c)\n",
    "    p_array.append(P2_table)\n",
    "    g_array.append(grad)"
   ]
  },
  {
   "cell_type": "code",
   "execution_count": 93,
   "metadata": {
    "scrolled": true
   },
   "outputs": [
    {
     "name": "stderr",
     "output_type": "stream",
     "text": [
      "100%|██████████| 178/178 [00:00<00:00, 932.02it/s] \n",
      "100%|██████████| 178/178 [00:00<00:00, 2117.25it/s]\n"
     ]
    },
    {
     "name": "stdout",
     "output_type": "stream",
     "text": [
      "C = 13.217365555950137\n",
      "\tIteration 1  mae 0.164083 // rmse 0.202859                // mean 0.955212 // std 0.0132681\n"
     ]
    },
    {
     "name": "stderr",
     "output_type": "stream",
     "text": [
      "100%|██████████| 178/178 [00:00<00:00, 1241.64it/s]\n",
      "100%|██████████| 178/178 [00:00<00:00, 2851.73it/s]\n"
     ]
    },
    {
     "name": "stdout",
     "output_type": "stream",
     "text": [
      "C = 13.038964600590857\n",
      "\tIteration 2  mae 0.166942 // rmse 0.205935                // mean 0.955212 // std 0.0132681\n"
     ]
    },
    {
     "name": "stderr",
     "output_type": "stream",
     "text": [
      "100%|██████████| 178/178 [00:00<00:00, 851.56it/s]\n",
      "100%|██████████| 178/178 [00:00<00:00, 2050.98it/s]\n"
     ]
    },
    {
     "name": "stdout",
     "output_type": "stream",
     "text": [
      "C = 12.86949745866406\n",
      "\tIteration 3  mae 0.169896 // rmse 0.209038                // mean 0.955212 // std 0.0132681\n"
     ]
    },
    {
     "name": "stderr",
     "output_type": "stream",
     "text": [
      "100%|██████████| 178/178 [00:00<00:00, 1079.35it/s]\n",
      "100%|██████████| 178/178 [00:00<00:00, 2806.88it/s]\n"
     ]
    },
    {
     "name": "stdout",
     "output_type": "stream",
     "text": [
      "C = 12.708546314824007\n",
      "\tIteration 4  mae 0.172879 // rmse 0.212164                // mean 0.955212 // std 0.0132681\n"
     ]
    },
    {
     "name": "stderr",
     "output_type": "stream",
     "text": [
      "100%|██████████| 178/178 [00:00<00:00, 1160.52it/s]\n",
      "100%|██████████| 178/178 [00:00<00:00, 2110.37it/s]\n"
     ]
    },
    {
     "name": "stdout",
     "output_type": "stream",
     "text": [
      "C = 12.555718551222348\n",
      "\tIteration 5  mae 0.175847 // rmse 0.215311                // mean 0.955212 // std 0.0132681\n"
     ]
    },
    {
     "name": "stderr",
     "output_type": "stream",
     "text": [
      "100%|██████████| 178/178 [00:00<00:00, 1248.63it/s]\n",
      "100%|██████████| 178/178 [00:00<00:00, 2167.10it/s]\n"
     ]
    },
    {
     "name": "stdout",
     "output_type": "stream",
     "text": [
      "C = 12.410645295093707\n",
      "\tIteration 6  mae 0.178836 // rmse 0.218476                // mean 0.955212 // std 0.0132681\n"
     ]
    },
    {
     "name": "stderr",
     "output_type": "stream",
     "text": [
      "100%|██████████| 178/178 [00:00<00:00, 1022.05it/s]\n",
      "100%|██████████| 178/178 [00:00<00:00, 2500.92it/s]\n"
     ]
    },
    {
     "name": "stdout",
     "output_type": "stream",
     "text": [
      "C = 12.272980108243171\n",
      "\tIteration 7  mae 0.181826 // rmse 0.221657                // mean 0.949656 // std 0.0105116\n"
     ]
    },
    {
     "name": "stderr",
     "output_type": "stream",
     "text": [
      "100%|██████████| 178/178 [00:00<00:00, 1003.38it/s]\n",
      "100%|██████████| 178/178 [00:00<00:00, 1695.66it/s]\n",
      "  0%|          | 0/178 [00:00<?, ?it/s]"
     ]
    },
    {
     "name": "stdout",
     "output_type": "stream",
     "text": [
      "C = 12.142397806808049\n",
      "\tIteration 8  mae 0.1848 // rmse 0.224852                // mean 0.944251 // std 0.0163547\n"
     ]
    },
    {
     "name": "stderr",
     "output_type": "stream",
     "text": [
      "100%|██████████| 178/178 [00:00<00:00, 980.67it/s] \n",
      "100%|██████████| 178/178 [00:00<00:00, 2177.91it/s]\n"
     ]
    },
    {
     "name": "stdout",
     "output_type": "stream",
     "text": [
      "C = 12.018593401403113\n",
      "\tIteration 9  mae 0.187756 // rmse 0.22806                // mean 0.938845 // std 0.0256555\n"
     ]
    },
    {
     "name": "stderr",
     "output_type": "stream",
     "text": [
      "100%|██████████| 178/178 [00:00<00:00, 1040.74it/s]\n",
      "100%|██████████| 178/178 [00:00<00:00, 2261.37it/s]\n"
     ]
    },
    {
     "name": "stdout",
     "output_type": "stream",
     "text": [
      "C = 11.901281149279525\n",
      "\tIteration 10  mae 0.190713 // rmse 0.23128                // mean 0.938845 // std 0.0256555\n"
     ]
    },
    {
     "name": "stderr",
     "output_type": "stream",
     "text": [
      "100%|██████████| 178/178 [00:00<00:00, 896.23it/s]\n",
      "100%|██████████| 178/178 [00:00<00:00, 2065.38it/s]\n"
     ]
    },
    {
     "name": "stdout",
     "output_type": "stream",
     "text": [
      "C = 11.790193711469888\n",
      "\tIteration 11  mae 0.193695 // rmse 0.23451                // mean 0.93344 // std 0.0358146\n"
     ]
    },
    {
     "name": "stderr",
     "output_type": "stream",
     "text": [
      "100%|██████████| 178/178 [00:00<00:00, 1303.00it/s]\n",
      "100%|██████████| 178/178 [00:00<00:00, 2859.65it/s]\n",
      "  0%|          | 0/178 [00:00<?, ?it/s]"
     ]
    },
    {
     "name": "stdout",
     "output_type": "stream",
     "text": [
      "C = 11.685081409069461\n",
      "\tIteration 12  mae 0.196675 // rmse 0.237749                // mean 0.93344 // std 0.0358146\n"
     ]
    },
    {
     "name": "stderr",
     "output_type": "stream",
     "text": [
      "100%|██████████| 178/178 [00:00<00:00, 1078.43it/s]\n",
      "100%|██████████| 178/178 [00:00<00:00, 2197.17it/s]\n",
      "  0%|          | 0/178 [00:00<?, ?it/s]"
     ]
    },
    {
     "name": "stdout",
     "output_type": "stream",
     "text": [
      "C = 11.585711573867403\n",
      "\tIteration 13  mae 0.199662 // rmse 0.240997                // mean 0.927884 // std 0.0358311\n"
     ]
    },
    {
     "name": "stderr",
     "output_type": "stream",
     "text": [
      "100%|██████████| 178/178 [00:00<00:00, 1058.12it/s]\n",
      "100%|██████████| 178/178 [00:00<00:00, 1819.06it/s]\n"
     ]
    },
    {
     "name": "stdout",
     "output_type": "stream",
     "text": [
      "C = 11.491867989481351\n",
      "\tIteration 14  mae 0.202647 // rmse 0.244253                // mean 0.927884 // std 0.0358311\n"
     ]
    },
    {
     "name": "stderr",
     "output_type": "stream",
     "text": [
      "100%|██████████| 178/178 [00:00<00:00, 973.06it/s]\n",
      "100%|██████████| 178/178 [00:00<00:00, 2031.79it/s]\n"
     ]
    },
    {
     "name": "stdout",
     "output_type": "stream",
     "text": [
      "C = 11.403350420014998\n",
      "\tIteration 15  mae 0.205627 // rmse 0.247517                // mean 0.927884 // std 0.0358311\n"
     ]
    },
    {
     "name": "stderr",
     "output_type": "stream",
     "text": [
      "100%|██████████| 178/178 [00:00<00:00, 963.22it/s]\n",
      "100%|██████████| 178/178 [00:00<00:00, 1645.90it/s]\n"
     ]
    },
    {
     "name": "stdout",
     "output_type": "stream",
     "text": [
      "C = 11.319974224038305\n",
      "\tIteration 16  mae 0.208599 // rmse 0.250788                // mean 0.927884 // std 0.0358311\n"
     ]
    },
    {
     "name": "stderr",
     "output_type": "stream",
     "text": [
      "100%|██████████| 178/178 [00:00<00:00, 1083.47it/s]\n",
      "100%|██████████| 178/178 [00:00<00:00, 2437.06it/s]\n"
     ]
    },
    {
     "name": "stdout",
     "output_type": "stream",
     "text": [
      "C = 11.241570052417952\n",
      "\tIteration 17  mae 0.211574 // rmse 0.254066                // mean 0.927884 // std 0.0358311\n"
     ]
    },
    {
     "name": "stderr",
     "output_type": "stream",
     "text": [
      "100%|██████████| 178/178 [00:00<00:00, 820.98it/s]\n",
      "100%|██████████| 178/178 [00:00<00:00, 1734.95it/s]\n"
     ]
    },
    {
     "name": "stdout",
     "output_type": "stream",
     "text": [
      "C = 11.16798362920031\n",
      "\tIteration 18  mae 0.214551 // rmse 0.257352                // mean 0.92217 // std 0.0352613\n"
     ]
    },
    {
     "name": "stderr",
     "output_type": "stream",
     "text": [
      "100%|██████████| 178/178 [00:00<00:00, 1024.99it/s]\n",
      "100%|██████████| 178/178 [00:00<00:00, 2126.78it/s]\n"
     ]
    },
    {
     "name": "stdout",
     "output_type": "stream",
     "text": [
      "C = 11.099075615384962\n",
      "\tIteration 19  mae 0.217535 // rmse 0.260645                // mean 0.92217 // std 0.0352613\n"
     ]
    },
    {
     "name": "stderr",
     "output_type": "stream",
     "text": [
      "100%|██████████| 178/178 [00:00<00:00, 967.15it/s]\n",
      "100%|██████████| 178/178 [00:00<00:00, 2744.84it/s]\n"
     ]
    },
    {
     "name": "stdout",
     "output_type": "stream",
     "text": [
      "C = 11.034721556031059\n",
      "\tIteration 20  mae 0.220511 // rmse 0.263946                // mean 0.916614 // std 0.0334563\n"
     ]
    },
    {
     "name": "stderr",
     "output_type": "stream",
     "text": [
      "100%|██████████| 178/178 [00:00<00:00, 818.69it/s]\n",
      "100%|██████████| 178/178 [00:00<00:00, 2293.88it/s]\n"
     ]
    },
    {
     "name": "stdout",
     "output_type": "stream",
     "text": [
      "C = 10.974811911717074\n",
      "\tIteration 21  mae 0.223486 // rmse 0.267254                // mean 0.916614 // std 0.0334563\n"
     ]
    },
    {
     "name": "stderr",
     "output_type": "stream",
     "text": [
      "100%|██████████| 178/178 [00:00<00:00, 1299.90it/s]\n",
      "100%|██████████| 178/178 [00:00<00:00, 2513.06it/s]\n"
     ]
    },
    {
     "name": "stdout",
     "output_type": "stream",
     "text": [
      "C = 10.919252175933657\n",
      "\tIteration 22  mae 0.226508 // rmse 0.27057                // mean 0.899771 // std 0.0351132\n"
     ]
    },
    {
     "name": "stderr",
     "output_type": "stream",
     "text": [
      "100%|██████████| 178/178 [00:00<00:00, 1100.21it/s]\n",
      "100%|██████████| 178/178 [00:00<00:00, 2522.57it/s]\n"
     ]
    },
    {
     "name": "stdout",
     "output_type": "stream",
     "text": [
      "C = 10.867963080529202\n",
      "\tIteration 23  mae 0.229534 // rmse 0.273895                // mean 0.88866 // std 0.0367601\n"
     ]
    },
    {
     "name": "stderr",
     "output_type": "stream",
     "text": [
      "100%|██████████| 178/178 [00:00<00:00, 1047.42it/s]\n",
      "100%|██████████| 178/178 [00:00<00:00, 2829.81it/s]\n"
     ]
    },
    {
     "name": "stdout",
     "output_type": "stream",
     "text": [
      "C = 10.820880891858872\n",
      "\tIteration 24  mae 0.232561 // rmse 0.277229                // mean 0.88866 // std 0.0367601\n"
     ]
    },
    {
     "name": "stderr",
     "output_type": "stream",
     "text": [
      "100%|██████████| 178/178 [00:00<00:00, 1114.61it/s]\n",
      "100%|██████████| 178/178 [00:00<00:00, 2691.51it/s]\n"
     ]
    },
    {
     "name": "stdout",
     "output_type": "stream",
     "text": [
      "C = 10.777957800806515\n",
      "\tIteration 25  mae 0.235596 // rmse 0.280572                // mean 0.883104 // std 0.0383695\n"
     ]
    },
    {
     "name": "stderr",
     "output_type": "stream",
     "text": [
      "100%|██████████| 178/178 [00:00<00:00, 1072.41it/s]\n",
      "100%|██████████| 178/178 [00:00<00:00, 2269.07it/s]\n"
     ]
    },
    {
     "name": "stdout",
     "output_type": "stream",
     "text": [
      "C = 10.739162410355572\n",
      "\tIteration 26  mae 0.238627 // rmse 0.283925                // mean 0.883104 // std 0.0383695\n"
     ]
    },
    {
     "name": "stderr",
     "output_type": "stream",
     "text": [
      "100%|██████████| 178/178 [00:00<00:00, 964.38it/s]\n",
      "100%|██████████| 178/178 [00:00<00:00, 2025.12it/s]\n"
     ]
    },
    {
     "ename": "KeyboardInterrupt",
     "evalue": "",
     "output_type": "error",
     "traceback": [
      "\u001b[0;31m---------------------------------------------------------------------------\u001b[0m",
      "\u001b[0;31mKeyboardInterrupt\u001b[0m                         Traceback (most recent call last)",
      "\u001b[0;32m<ipython-input-93-80100fabab61>\u001b[0m in \u001b[0;36m<module>\u001b[0;34m()\u001b[0m\n\u001b[1;32m      1\u001b[0m \u001b[0malpha\u001b[0m \u001b[0;34m=\u001b[0m \u001b[0;36m0.05\u001b[0m\u001b[0;34m\u001b[0m\u001b[0m\n\u001b[0;32m----> 2\u001b[0;31m \u001b[0mdfr\u001b[0m \u001b[0;34m=\u001b[0m \u001b[0miterative_process\u001b[0m\u001b[0;34m(\u001b[0m\u001b[0mupdate_sne\u001b[0m\u001b[0;34m,\u001b[0m \u001b[0mmax_iter\u001b[0m\u001b[0;34m=\u001b[0m\u001b[0;36m150\u001b[0m\u001b[0;34m,\u001b[0m \u001b[0mverbose\u001b[0m\u001b[0;34m=\u001b[0m\u001b[0;32mTrue\u001b[0m\u001b[0;34m)\u001b[0m\u001b[0;34m\u001b[0m\u001b[0m\n\u001b[0m",
      "\u001b[0;32m<ipython-input-74-f127bc744b68>\u001b[0m in \u001b[0;36miterative_process\u001b[0;34m(update_function, max_iter, verbose, percentage)\u001b[0m\n\u001b[1;32m      4\u001b[0m \u001b[0;34m\u001b[0m\u001b[0m\n\u001b[1;32m      5\u001b[0m     \u001b[0;32mfor\u001b[0m \u001b[0mi\u001b[0m \u001b[0;32min\u001b[0m \u001b[0mrange\u001b[0m\u001b[0;34m(\u001b[0m\u001b[0mmax_iter\u001b[0m\u001b[0;34m)\u001b[0m\u001b[0;34m:\u001b[0m\u001b[0;34m\u001b[0m\u001b[0m\n\u001b[0;32m----> 6\u001b[0;31m         \u001b[0mupdate_function\u001b[0m\u001b[0;34m(\u001b[0m\u001b[0;34m)\u001b[0m\u001b[0;34m\u001b[0m\u001b[0m\n\u001b[0m\u001b[1;32m      7\u001b[0m         \u001b[0;32mif\u001b[0m \u001b[0mpercentage\u001b[0m\u001b[0;34m:\u001b[0m\u001b[0;34m\u001b[0m\u001b[0m\n\u001b[1;32m      8\u001b[0m             \u001b[0mmae\u001b[0m \u001b[0;34m=\u001b[0m \u001b[0mfunctions\u001b[0m\u001b[0;34m.\u001b[0m\u001b[0mget_mape\u001b[0m\u001b[0;34m(\u001b[0m\u001b[0marr_raw\u001b[0m\u001b[0;34m,\u001b[0m \u001b[0marr_pred\u001b[0m\u001b[0;34m,\u001b[0m \u001b[0mnan_coords\u001b[0m\u001b[0;34m)\u001b[0m\u001b[0;34m\u001b[0m\u001b[0m\n",
      "\u001b[0;32m<ipython-input-91-ea980eac9eac>\u001b[0m in \u001b[0;36mupdate_sne\u001b[0;34m()\u001b[0m\n\u001b[1;32m     27\u001b[0m \u001b[0;34m\u001b[0m\u001b[0m\n\u001b[1;32m     28\u001b[0m     \u001b[0mP2_table\u001b[0m \u001b[0;34m=\u001b[0m \u001b[0mget_p2_table\u001b[0m\u001b[0;34m(\u001b[0m\u001b[0;34m)\u001b[0m\u001b[0;34m\u001b[0m\u001b[0m\n\u001b[0;32m---> 29\u001b[0;31m     \u001b[0mc\u001b[0m \u001b[0;34m=\u001b[0m \u001b[0mKL\u001b[0m\u001b[0;34m(\u001b[0m\u001b[0mP2_table\u001b[0m\u001b[0;34m)\u001b[0m\u001b[0;34m\u001b[0m\u001b[0m\n\u001b[0m\u001b[1;32m     30\u001b[0m     \u001b[0mprint\u001b[0m\u001b[0;34m(\u001b[0m\u001b[0;34m'C = {}'\u001b[0m\u001b[0;34m.\u001b[0m\u001b[0mformat\u001b[0m\u001b[0;34m(\u001b[0m\u001b[0mc\u001b[0m\u001b[0;34m)\u001b[0m\u001b[0;34m)\u001b[0m\u001b[0;34m\u001b[0m\u001b[0m\n\u001b[1;32m     31\u001b[0m     \u001b[0mc_array\u001b[0m\u001b[0;34m.\u001b[0m\u001b[0mappend\u001b[0m\u001b[0;34m(\u001b[0m\u001b[0mc\u001b[0m\u001b[0;34m)\u001b[0m\u001b[0;34m\u001b[0m\u001b[0m\n",
      "\u001b[0;32m<ipython-input-90-379b87c7267f>\u001b[0m in \u001b[0;36mKL\u001b[0;34m(P2_table)\u001b[0m\n\u001b[1;32m      6\u001b[0m         \u001b[0;32mfor\u001b[0m \u001b[0mj\u001b[0m \u001b[0;32min\u001b[0m \u001b[0mrange\u001b[0m\u001b[0;34m(\u001b[0m\u001b[0mn\u001b[0m\u001b[0;34m)\u001b[0m\u001b[0;34m:\u001b[0m\u001b[0;34m\u001b[0m\u001b[0m\n\u001b[1;32m      7\u001b[0m \u001b[0;31m#             s += P1_table[j][i] * np.log(P1_table[j][i] / P2_table[j][i])\u001b[0m\u001b[0;34m\u001b[0m\u001b[0;34m\u001b[0m\u001b[0m\n\u001b[0;32m----> 8\u001b[0;31m             \u001b[0ms\u001b[0m \u001b[0;34m+=\u001b[0m \u001b[0mP1_table\u001b[0m\u001b[0;34m[\u001b[0m\u001b[0mj\u001b[0m\u001b[0;34m]\u001b[0m\u001b[0;34m[\u001b[0m\u001b[0mi\u001b[0m\u001b[0;34m]\u001b[0m \u001b[0;34m*\u001b[0m \u001b[0mnp\u001b[0m\u001b[0;34m.\u001b[0m\u001b[0mlog\u001b[0m\u001b[0;34m(\u001b[0m\u001b[0mP1_table\u001b[0m\u001b[0;34m[\u001b[0m\u001b[0mj\u001b[0m\u001b[0;34m]\u001b[0m\u001b[0;34m[\u001b[0m\u001b[0mi\u001b[0m\u001b[0;34m]\u001b[0m\u001b[0;34m)\u001b[0m \u001b[0;34m-\u001b[0m \u001b[0mP1_table\u001b[0m\u001b[0;34m[\u001b[0m\u001b[0mj\u001b[0m\u001b[0;34m]\u001b[0m\u001b[0;34m[\u001b[0m\u001b[0mi\u001b[0m\u001b[0;34m]\u001b[0m \u001b[0;34m*\u001b[0m \u001b[0mnp\u001b[0m\u001b[0;34m.\u001b[0m\u001b[0mlog\u001b[0m\u001b[0;34m(\u001b[0m\u001b[0mP2_table\u001b[0m\u001b[0;34m[\u001b[0m\u001b[0mj\u001b[0m\u001b[0;34m]\u001b[0m\u001b[0;34m[\u001b[0m\u001b[0mi\u001b[0m\u001b[0;34m]\u001b[0m\u001b[0;34m)\u001b[0m\u001b[0;34m\u001b[0m\u001b[0m\n\u001b[0m\u001b[1;32m      9\u001b[0m     \u001b[0;32mreturn\u001b[0m \u001b[0ms\u001b[0m\u001b[0;34m\u001b[0m\u001b[0m\n\u001b[1;32m     10\u001b[0m \u001b[0;34m\u001b[0m\u001b[0m\n",
      "\u001b[0;31mKeyboardInterrupt\u001b[0m: "
     ]
    }
   ],
   "source": [
    "alpha = 0.05\n",
    "dfr = iterative_process(update_sne, max_iter=150, verbose=True)"
   ]
  },
  {
   "cell_type": "code",
   "execution_count": null,
   "metadata": {},
   "outputs": [],
   "source": [
    "s = 0\n",
    "for i in range(n):\n",
    "    for j in range(n):\n",
    "        s += P1_table[j][i] * np.log(P1_table[j][i] / P2_table[j][i])\n",
    "    print(s)\n",
    "return s"
   ]
  },
  {
   "cell_type": "markdown",
   "metadata": {},
   "source": [
    "# AVO APPROACH\n",
    "Единственный подход, который не содержит оптимизайионный подход"
   ]
  },
  {
   "cell_type": "code",
   "execution_count": 48,
   "metadata": {},
   "outputs": [
    {
     "name": "stdout",
     "output_type": "stream",
     "text": [
      "Num nan places: 23001\n",
      "(1797, 0) (1797, 64)\n"
     ]
    }
   ],
   "source": [
    "df, df1, df2, arr_nan, arr_raw, arr_known, arr_pred, nan_coords = functions.set_nans(df0, 180, -1, 0.2)"
   ]
  },
  {
   "cell_type": "code",
   "execution_count": 49,
   "metadata": {},
   "outputs": [],
   "source": [
    "def get_epsilons(data):\n",
    "    def get_e(a):\n",
    "        return np.abs(a - a[:, None]).mean()\n",
    "    return np.array([get_e(feat) for feat in data.T])"
   ]
  },
  {
   "cell_type": "code",
   "execution_count": 50,
   "metadata": {},
   "outputs": [],
   "source": [
    "def get_gamma(data, x, k, epsilons=None):\n",
    "    if epsilons is not None:\n",
    "        Gamma = 0\n",
    "        for x_i in data:\n",
    "            d = (np.abs(x_i - x) < epsilons).sum()\n",
    "            Gamma += functions.Cnk(d, k)\n",
    "        return Gamma\n",
    "    # расстояния между парами объектов   \n",
    "    n = data.shape[0]\n",
    "    n_feat = data.shape[1]\n",
    "    maps = np.zeros(data.T.shape)\n",
    "    for i in range(n_feat):\n",
    "        maps[i] = data.T[i] <= x[i] \n",
    "    maps = maps.T\n",
    "    Gamma = 0\n",
    "    for i in tqdm(range(n)):\n",
    "        for j in range(i, n):\n",
    "            d = (maps[i] + maps[j] == 1).sum()\n",
    "            Gamma += functions.Cnk(d, k)\n",
    "    return Gamma*2/(n*(n-1))"
   ]
  },
  {
   "cell_type": "code",
   "execution_count": 51,
   "metadata": {},
   "outputs": [],
   "source": [
    "def predict(data, y, x, k, epsilons=None, scores=False):\n",
    "    # WTF ZERO\n",
    "    n_class = max(y) + 1\n",
    "    g_classes = np.zeros(n_class)\n",
    "    y = y.values \n",
    "    for i in range(n_class):\n",
    "        c_data = data[y == i]\n",
    "        g_classes[i] = get_gamma(c_data, x, k, epsilons)\n",
    "    if scores:\n",
    "        return g_classes\n",
    "    return np.argmax(g_classes)\n",
    "\n",
    "def predict_vect(X_train, y_train, X_test, k, epsilons=None, scores=False):\n",
    "    return np.array([predict(X_train, y_train, x, k, epsilons, scores) for x in X_test])"
   ]
  },
  {
   "cell_type": "code",
   "execution_count": 52,
   "metadata": {},
   "outputs": [],
   "source": [
    "# итеративный процесс\n",
    "def solve_avo(df, x, y):\n",
    "    x_mask = df.iloc[:, y].isnull() \n",
    "    x_mask = x_mask[~x_mask].index # маска по объектам для трейна\n",
    "    y_mask = df.isnull().sum() > 0 \n",
    "    y_mask = y_mask[~y_mask].index # маска по по признакам для трейна/теста\n",
    "    \n",
    "    X_train = df.iloc[x_mask, y_mask]\n",
    "    X_test = df.iloc[x, y_mask].values.reshape(1, -1)\n",
    "\n",
    "    y_train_raw = df.iloc[x_mask, y]\n",
    "    y_train = y_train_raw.rank(method='dense').astype(int) - 1\n",
    "    \n",
    "    eps = get_epsilons(X_train.values)\n",
    "    gammas_ki = predict(X_train.values, y_train, X_test, 3, eps, True)\n",
    "    sizes_ki = y_train.value_counts().sort_index().values\n",
    "    \n",
    "    full_range = np.array(range(sizes_ki.size))\n",
    "    sort_index = solve_avo_gap(gammas_ki, sizes_ki, full_range)\n",
    "    return y_train_raw.sort_values().iloc[sort_index]\n",
    "    \n",
    "def solve_avo_gap(gammas_ki, sizes_ki, full_range):\n",
    "#     print(full_range)\n",
    "    if len(full_range) == 1:\n",
    "        return full_range[0]\n",
    "    left_range = full_range[:full_range.size//2]\n",
    "    right_range = full_range[full_range.size//2:]\n",
    "    left_score = get_gamma_range(gammas_ki, sizes_ki, left_range)\n",
    "    right_score = get_gamma_range(gammas_ki, sizes_ki, right_range)\n",
    "    if left_score < right_score:\n",
    "        return solve_avo_gap(gammas_ki, sizes_ki, right_range)\n",
    "    else:\n",
    "        return solve_avo_gap(gammas_ki, sizes_ki, left_range)\n",
    "        \n",
    "def get_gamma_range(gammas_ki, sizes_ki, y_range):\n",
    "    sum_gammas = gammas_ki[y_range].sum()\n",
    "    sum_sizes = sizes_ki[y_range].sum()\n",
    "    if sum_sizes == 0:\n",
    "        return 0\n",
    "    return sum_gammas/sum_sizes"
   ]
  },
  {
   "cell_type": "code",
   "execution_count": 54,
   "metadata": {
    "scrolled": false
   },
   "outputs": [
    {
     "name": "stderr",
     "output_type": "stream",
     "text": [
      "100%|██████████| 23001/23001 [04:47<00:00, 80.09it/s]\n"
     ]
    }
   ],
   "source": [
    "# по всем пропускам из таблицы запускаем и проходим\n",
    "for x, y in tqdm(nan_coords):\n",
    "    arr_pred[x, y] = solve_avo(df, x, y)"
   ]
  },
  {
   "cell_type": "code",
   "execution_count": null,
   "metadata": {},
   "outputs": [],
   "source": [
    "# for x, y in tqdm(nan_coords):\n",
    "#     print(arr_pred[x, y])"
   ]
  },
  {
   "cell_type": "code",
   "execution_count": 55,
   "metadata": {},
   "outputs": [
    {
     "name": "stdout",
     "output_type": "stream",
     "text": [
      "4.902482500760836 7.769471011370761\n",
      "0.8041373328622606 0.034992694930339845\n"
     ]
    }
   ],
   "source": [
    "mae = functions.get_mae(arr_raw, arr_pred, nan_coords)\n",
    "rmse = functions.get_rmse(arr_raw, arr_pred, nan_coords)\n",
    "print(mae, rmse)\n",
    "acc_mean, acc_std = run_cv(arr_pred, target, clf, 5)\n",
    "print(acc_mean, acc_std)"
   ]
  },
  {
   "cell_type": "code",
   "execution_count": null,
   "metadata": {},
   "outputs": [],
   "source": [
    "\n",
    "7.62472820045 14.1056553537"
   ]
  }
 ],
 "metadata": {
  "kernelspec": {
   "display_name": "Python 3",
   "language": "python",
   "name": "python3"
  },
  "language_info": {
   "codemirror_mode": {
    "name": "ipython",
    "version": 3
   },
   "file_extension": ".py",
   "mimetype": "text/x-python",
   "name": "python",
   "nbconvert_exporter": "python",
   "pygments_lexer": "ipython3",
   "version": "3.5.2"
  }
 },
 "nbformat": 4,
 "nbformat_minor": 2
}
