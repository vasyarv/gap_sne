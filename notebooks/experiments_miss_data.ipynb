{
 "cells": [
  {
   "cell_type": "code",
   "execution_count": 1,
   "metadata": {},
   "outputs": [],
   "source": [
    "%load_ext autoreload\n",
    "%autoreload 2"
   ]
  },
  {
   "cell_type": "code",
   "execution_count": 2,
   "metadata": {},
   "outputs": [
    {
     "name": "stdout",
     "output_type": "stream",
     "text": [
      "Populating the interactive namespace from numpy and matplotlib\n"
     ]
    }
   ],
   "source": [
    "import pandas as pd\n",
    "import numpy as np\n",
    "np.random.seed(132)\n",
    "from functools import lru_cache\n",
    "\n",
    "import sys\n",
    "\n",
    "CODE_PATH = '../code'\n",
    "\n",
    "sys.path.append(CODE_PATH)\n",
    "import functions\n",
    "\n",
    "\n",
    "from scipy.optimize import minimize\n",
    "from tqdm import tqdm\n",
    "%pylab inline\n",
    "\n",
    "def sq(a):\n",
    "    return np.dot(a, a)"
   ]
  },
  {
   "cell_type": "markdown",
   "metadata": {},
   "source": [
    "# Load Data"
   ]
  },
  {
   "cell_type": "code",
   "execution_count": 3,
   "metadata": {},
   "outputs": [
    {
     "data": {
      "text/html": [
       "<div>\n",
       "<style>\n",
       "    .dataframe thead tr:only-child th {\n",
       "        text-align: right;\n",
       "    }\n",
       "\n",
       "    .dataframe thead th {\n",
       "        text-align: left;\n",
       "    }\n",
       "\n",
       "    .dataframe tbody tr th {\n",
       "        vertical-align: top;\n",
       "    }\n",
       "</style>\n",
       "<table border=\"1\" class=\"dataframe\">\n",
       "  <thead>\n",
       "    <tr style=\"text-align: right;\">\n",
       "      <th></th>\n",
       "      <th>0</th>\n",
       "      <th>1</th>\n",
       "      <th>2</th>\n",
       "      <th>3</th>\n",
       "      <th>4</th>\n",
       "      <th>5</th>\n",
       "      <th>6</th>\n",
       "      <th>7</th>\n",
       "      <th>8</th>\n",
       "      <th>9</th>\n",
       "      <th>...</th>\n",
       "      <th>20</th>\n",
       "      <th>21</th>\n",
       "      <th>22</th>\n",
       "      <th>23</th>\n",
       "      <th>24</th>\n",
       "      <th>25</th>\n",
       "      <th>26</th>\n",
       "      <th>27</th>\n",
       "      <th>28</th>\n",
       "      <th>29</th>\n",
       "    </tr>\n",
       "  </thead>\n",
       "  <tbody>\n",
       "    <tr>\n",
       "      <th>0</th>\n",
       "      <td>17.99</td>\n",
       "      <td>10.38</td>\n",
       "      <td>122.80</td>\n",
       "      <td>1001.0</td>\n",
       "      <td>0.11840</td>\n",
       "      <td>0.27760</td>\n",
       "      <td>0.3001</td>\n",
       "      <td>0.14710</td>\n",
       "      <td>0.2419</td>\n",
       "      <td>0.07871</td>\n",
       "      <td>...</td>\n",
       "      <td>25.38</td>\n",
       "      <td>17.33</td>\n",
       "      <td>184.60</td>\n",
       "      <td>2019.0</td>\n",
       "      <td>0.1622</td>\n",
       "      <td>0.6656</td>\n",
       "      <td>0.7119</td>\n",
       "      <td>0.2654</td>\n",
       "      <td>0.4601</td>\n",
       "      <td>0.11890</td>\n",
       "    </tr>\n",
       "    <tr>\n",
       "      <th>1</th>\n",
       "      <td>20.57</td>\n",
       "      <td>17.77</td>\n",
       "      <td>132.90</td>\n",
       "      <td>1326.0</td>\n",
       "      <td>0.08474</td>\n",
       "      <td>0.07864</td>\n",
       "      <td>0.0869</td>\n",
       "      <td>0.07017</td>\n",
       "      <td>0.1812</td>\n",
       "      <td>0.05667</td>\n",
       "      <td>...</td>\n",
       "      <td>24.99</td>\n",
       "      <td>23.41</td>\n",
       "      <td>158.80</td>\n",
       "      <td>1956.0</td>\n",
       "      <td>0.1238</td>\n",
       "      <td>0.1866</td>\n",
       "      <td>0.2416</td>\n",
       "      <td>0.1860</td>\n",
       "      <td>0.2750</td>\n",
       "      <td>0.08902</td>\n",
       "    </tr>\n",
       "    <tr>\n",
       "      <th>2</th>\n",
       "      <td>19.69</td>\n",
       "      <td>21.25</td>\n",
       "      <td>130.00</td>\n",
       "      <td>1203.0</td>\n",
       "      <td>0.10960</td>\n",
       "      <td>0.15990</td>\n",
       "      <td>0.1974</td>\n",
       "      <td>0.12790</td>\n",
       "      <td>0.2069</td>\n",
       "      <td>0.05999</td>\n",
       "      <td>...</td>\n",
       "      <td>23.57</td>\n",
       "      <td>25.53</td>\n",
       "      <td>152.50</td>\n",
       "      <td>1709.0</td>\n",
       "      <td>0.1444</td>\n",
       "      <td>0.4245</td>\n",
       "      <td>0.4504</td>\n",
       "      <td>0.2430</td>\n",
       "      <td>0.3613</td>\n",
       "      <td>0.08758</td>\n",
       "    </tr>\n",
       "    <tr>\n",
       "      <th>3</th>\n",
       "      <td>11.42</td>\n",
       "      <td>20.38</td>\n",
       "      <td>77.58</td>\n",
       "      <td>386.1</td>\n",
       "      <td>0.14250</td>\n",
       "      <td>0.28390</td>\n",
       "      <td>0.2414</td>\n",
       "      <td>0.10520</td>\n",
       "      <td>0.2597</td>\n",
       "      <td>0.09744</td>\n",
       "      <td>...</td>\n",
       "      <td>14.91</td>\n",
       "      <td>26.50</td>\n",
       "      <td>98.87</td>\n",
       "      <td>567.7</td>\n",
       "      <td>0.2098</td>\n",
       "      <td>0.8663</td>\n",
       "      <td>0.6869</td>\n",
       "      <td>0.2575</td>\n",
       "      <td>0.6638</td>\n",
       "      <td>0.17300</td>\n",
       "    </tr>\n",
       "    <tr>\n",
       "      <th>4</th>\n",
       "      <td>20.29</td>\n",
       "      <td>14.34</td>\n",
       "      <td>135.10</td>\n",
       "      <td>1297.0</td>\n",
       "      <td>0.10030</td>\n",
       "      <td>0.13280</td>\n",
       "      <td>0.1980</td>\n",
       "      <td>0.10430</td>\n",
       "      <td>0.1809</td>\n",
       "      <td>0.05883</td>\n",
       "      <td>...</td>\n",
       "      <td>22.54</td>\n",
       "      <td>16.67</td>\n",
       "      <td>152.20</td>\n",
       "      <td>1575.0</td>\n",
       "      <td>0.1374</td>\n",
       "      <td>0.2050</td>\n",
       "      <td>0.4000</td>\n",
       "      <td>0.1625</td>\n",
       "      <td>0.2364</td>\n",
       "      <td>0.07678</td>\n",
       "    </tr>\n",
       "  </tbody>\n",
       "</table>\n",
       "<p>5 rows × 30 columns</p>\n",
       "</div>"
      ],
      "text/plain": [
       "      0      1       2       3        4        5       6        7       8   \\\n",
       "0  17.99  10.38  122.80  1001.0  0.11840  0.27760  0.3001  0.14710  0.2419   \n",
       "1  20.57  17.77  132.90  1326.0  0.08474  0.07864  0.0869  0.07017  0.1812   \n",
       "2  19.69  21.25  130.00  1203.0  0.10960  0.15990  0.1974  0.12790  0.2069   \n",
       "3  11.42  20.38   77.58   386.1  0.14250  0.28390  0.2414  0.10520  0.2597   \n",
       "4  20.29  14.34  135.10  1297.0  0.10030  0.13280  0.1980  0.10430  0.1809   \n",
       "\n",
       "        9    ...        20     21      22      23      24      25      26  \\\n",
       "0  0.07871   ...     25.38  17.33  184.60  2019.0  0.1622  0.6656  0.7119   \n",
       "1  0.05667   ...     24.99  23.41  158.80  1956.0  0.1238  0.1866  0.2416   \n",
       "2  0.05999   ...     23.57  25.53  152.50  1709.0  0.1444  0.4245  0.4504   \n",
       "3  0.09744   ...     14.91  26.50   98.87   567.7  0.2098  0.8663  0.6869   \n",
       "4  0.05883   ...     22.54  16.67  152.20  1575.0  0.1374  0.2050  0.4000   \n",
       "\n",
       "       27      28       29  \n",
       "0  0.2654  0.4601  0.11890  \n",
       "1  0.1860  0.2750  0.08902  \n",
       "2  0.2430  0.3613  0.08758  \n",
       "3  0.2575  0.6638  0.17300  \n",
       "4  0.1625  0.2364  0.07678  \n",
       "\n",
       "[5 rows x 30 columns]"
      ]
     },
     "execution_count": 3,
     "metadata": {},
     "output_type": "execute_result"
    }
   ],
   "source": [
    "from sklearn.datasets import load_linnerud, load_iris, load_boston, load_breast_cancer, load_wine, load_digits\n",
    "\n",
    "# dataset = load_linnerud()\n",
    "# dataset = load_boston()\n",
    "# dataset = load_boston()\n",
    "dataset = load_breast_cancer()\n",
    "\n",
    "df = pd.DataFrame(dataset['data'])\n",
    "target = dataset['target']\n",
    "df.head()"
   ]
  },
  {
   "cell_type": "code",
   "execution_count": null,
   "metadata": {},
   "outputs": [],
   "source": [
    "df.shape"
   ]
  },
  {
   "cell_type": "code",
   "execution_count": null,
   "metadata": {},
   "outputs": [],
   "source": [
    "df = pd.read_csv('../data/abalone.csv', header=None)\n",
    "df = df.drop(0, 1)"
   ]
  },
  {
   "cell_type": "code",
   "execution_count": 4,
   "metadata": {},
   "outputs": [],
   "source": [
    "# НОРМИРОВКА НА СРЕДНЕЕ, МОЖНО ОПУСТИТЬ ИНОГДА\n",
    "df = (df - df.mean())/(df.max() - df.min())"
   ]
  },
  {
   "cell_type": "code",
   "execution_count": 5,
   "metadata": {},
   "outputs": [
    {
     "name": "stdout",
     "output_type": "stream",
     "text": [
      "(569, 30)\n"
     ]
    },
    {
     "data": {
      "text/html": [
       "<div>\n",
       "<style>\n",
       "    .dataframe thead tr:only-child th {\n",
       "        text-align: right;\n",
       "    }\n",
       "\n",
       "    .dataframe thead th {\n",
       "        text-align: left;\n",
       "    }\n",
       "\n",
       "    .dataframe tbody tr th {\n",
       "        vertical-align: top;\n",
       "    }\n",
       "</style>\n",
       "<table border=\"1\" class=\"dataframe\">\n",
       "  <thead>\n",
       "    <tr style=\"text-align: right;\">\n",
       "      <th></th>\n",
       "      <th>0</th>\n",
       "      <th>1</th>\n",
       "      <th>2</th>\n",
       "      <th>3</th>\n",
       "      <th>4</th>\n",
       "      <th>5</th>\n",
       "      <th>6</th>\n",
       "      <th>7</th>\n",
       "      <th>8</th>\n",
       "      <th>9</th>\n",
       "      <th>...</th>\n",
       "      <th>20</th>\n",
       "      <th>21</th>\n",
       "      <th>22</th>\n",
       "      <th>23</th>\n",
       "      <th>24</th>\n",
       "      <th>25</th>\n",
       "      <th>26</th>\n",
       "      <th>27</th>\n",
       "      <th>28</th>\n",
       "      <th>29</th>\n",
       "    </tr>\n",
       "  </thead>\n",
       "  <tbody>\n",
       "    <tr>\n",
       "      <th>0</th>\n",
       "      <td>0.182815</td>\n",
       "      <td>-0.301307</td>\n",
       "      <td>0.213053</td>\n",
       "      <td>0.146813</td>\n",
       "      <td>0.198968</td>\n",
       "      <td>0.531437</td>\n",
       "      <td>0.495081</td>\n",
       "      <td>0.487976</td>\n",
       "      <td>0.306758</td>\n",
       "      <td>0.335139</td>\n",
       "      <td>...</td>\n",
       "      <td>0.324113</td>\n",
       "      <td>-0.222474</td>\n",
       "      <td>0.385173</td>\n",
       "      <td>0.279792</td>\n",
       "      <td>0.196998</td>\n",
       "      <td>0.399079</td>\n",
       "      <td>0.351207</td>\n",
       "      <td>0.518192</td>\n",
       "      <td>0.335156</td>\n",
       "      <td>0.229268</td>\n",
       "    </tr>\n",
       "    <tr>\n",
       "      <th>1</th>\n",
       "      <td>0.304923</td>\n",
       "      <td>-0.051392</td>\n",
       "      <td>0.282848</td>\n",
       "      <td>0.284671</td>\n",
       "      <td>-0.104905</td>\n",
       "      <td>-0.078833</td>\n",
       "      <td>-0.004450</td>\n",
       "      <td>0.105621</td>\n",
       "      <td>0.000193</td>\n",
       "      <td>-0.129057</td>\n",
       "      <td>...</td>\n",
       "      <td>0.310239</td>\n",
       "      <td>-0.060427</td>\n",
       "      <td>0.256680</td>\n",
       "      <td>0.264308</td>\n",
       "      <td>-0.056585</td>\n",
       "      <td>-0.065649</td>\n",
       "      <td>-0.024432</td>\n",
       "      <td>0.245339</td>\n",
       "      <td>-0.029717</td>\n",
       "      <td>0.033282</td>\n",
       "    </tr>\n",
       "    <tr>\n",
       "      <th>2</th>\n",
       "      <td>0.263274</td>\n",
       "      <td>0.066295</td>\n",
       "      <td>0.262808</td>\n",
       "      <td>0.232497</td>\n",
       "      <td>0.119524</td>\n",
       "      <td>0.170416</td>\n",
       "      <td>0.254453</td>\n",
       "      <td>0.392549</td>\n",
       "      <td>0.129991</td>\n",
       "      <td>-0.059132</td>\n",
       "      <td>...</td>\n",
       "      <td>0.259723</td>\n",
       "      <td>-0.003924</td>\n",
       "      <td>0.225304</td>\n",
       "      <td>0.203602</td>\n",
       "      <td>0.079452</td>\n",
       "      <td>0.165163</td>\n",
       "      <td>0.142341</td>\n",
       "      <td>0.441216</td>\n",
       "      <td>0.140399</td>\n",
       "      <td>0.023837</td>\n",
       "    </tr>\n",
       "    <tr>\n",
       "      <th>3</th>\n",
       "      <td>-0.128132</td>\n",
       "      <td>0.036874</td>\n",
       "      <td>-0.099434</td>\n",
       "      <td>-0.114014</td>\n",
       "      <td>0.416536</td>\n",
       "      <td>0.550761</td>\n",
       "      <td>0.357546</td>\n",
       "      <td>0.279726</td>\n",
       "      <td>0.396657</td>\n",
       "      <td>0.729621</td>\n",
       "      <td>...</td>\n",
       "      <td>-0.048353</td>\n",
       "      <td>0.021929</td>\n",
       "      <td>-0.041791</td>\n",
       "      <td>-0.076898</td>\n",
       "      <td>0.511335</td>\n",
       "      <td>0.593799</td>\n",
       "      <td>0.331239</td>\n",
       "      <td>0.491044</td>\n",
       "      <td>0.736693</td>\n",
       "      <td>0.584115</td>\n",
       "    </tr>\n",
       "    <tr>\n",
       "      <th>4</th>\n",
       "      <td>0.291671</td>\n",
       "      <td>-0.167388</td>\n",
       "      <td>0.298051</td>\n",
       "      <td>0.272369</td>\n",
       "      <td>0.035567</td>\n",
       "      <td>0.087292</td>\n",
       "      <td>0.255859</td>\n",
       "      <td>0.275253</td>\n",
       "      <td>-0.001323</td>\n",
       "      <td>-0.083564</td>\n",
       "      <td>...</td>\n",
       "      <td>0.223081</td>\n",
       "      <td>-0.240065</td>\n",
       "      <td>0.223810</td>\n",
       "      <td>0.170669</td>\n",
       "      <td>0.033226</td>\n",
       "      <td>-0.047797</td>\n",
       "      <td>0.102086</td>\n",
       "      <td>0.164583</td>\n",
       "      <td>-0.105806</td>\n",
       "      <td>-0.047001</td>\n",
       "    </tr>\n",
       "  </tbody>\n",
       "</table>\n",
       "<p>5 rows × 30 columns</p>\n",
       "</div>"
      ],
      "text/plain": [
       "         0         1         2         3         4         5         6   \\\n",
       "0  0.182815 -0.301307  0.213053  0.146813  0.198968  0.531437  0.495081   \n",
       "1  0.304923 -0.051392  0.282848  0.284671 -0.104905 -0.078833 -0.004450   \n",
       "2  0.263274  0.066295  0.262808  0.232497  0.119524  0.170416  0.254453   \n",
       "3 -0.128132  0.036874 -0.099434 -0.114014  0.416536  0.550761  0.357546   \n",
       "4  0.291671 -0.167388  0.298051  0.272369  0.035567  0.087292  0.255859   \n",
       "\n",
       "         7         8         9     ...           20        21        22  \\\n",
       "0  0.487976  0.306758  0.335139    ...     0.324113 -0.222474  0.385173   \n",
       "1  0.105621  0.000193 -0.129057    ...     0.310239 -0.060427  0.256680   \n",
       "2  0.392549  0.129991 -0.059132    ...     0.259723 -0.003924  0.225304   \n",
       "3  0.279726  0.396657  0.729621    ...    -0.048353  0.021929 -0.041791   \n",
       "4  0.275253 -0.001323 -0.083564    ...     0.223081 -0.240065  0.223810   \n",
       "\n",
       "         23        24        25        26        27        28        29  \n",
       "0  0.279792  0.196998  0.399079  0.351207  0.518192  0.335156  0.229268  \n",
       "1  0.264308 -0.056585 -0.065649 -0.024432  0.245339 -0.029717  0.033282  \n",
       "2  0.203602  0.079452  0.165163  0.142341  0.441216  0.140399  0.023837  \n",
       "3 -0.076898  0.511335  0.593799  0.331239  0.491044  0.736693  0.584115  \n",
       "4  0.170669  0.033226 -0.047797  0.102086  0.164583 -0.105806 -0.047001  \n",
       "\n",
       "[5 rows x 30 columns]"
      ]
     },
     "execution_count": 5,
     "metadata": {},
     "output_type": "execute_result"
    }
   ],
   "source": [
    "df0 = df.copy()\n",
    "print(df.shape)\n",
    "df.head()"
   ]
  },
  {
   "cell_type": "markdown",
   "metadata": {},
   "source": [
    "## Insert NaNs"
   ]
  },
  {
   "cell_type": "code",
   "execution_count": 33,
   "metadata": {},
   "outputs": [
    {
     "name": "stdout",
     "output_type": "stream",
     "text": [
      "Num nan places: 560\n"
     ]
    },
    {
     "name": "stderr",
     "output_type": "stream",
     "text": [
      "/Users/kek/mlenv/lib/python3.6/site-packages/ipykernel_launcher.py:4: DeprecationWarning: This function is deprecated. Please call randint(0, 29 + 1) instead\n",
      "  after removing the cwd from sys.path.\n"
     ]
    }
   ],
   "source": [
    "np.random.seed(180)\n",
    "num_nan_cols = 15\n",
    "nan_fraction = 0.1\n",
    "nan_cols = np.random.random_integers(0, df.shape[1] - 1, num_nan_cols)\n",
    "# print(df.isnull().mean())\n",
    "for col in set(nan_cols):\n",
    "    df.loc[df.sample(int(nan_fraction * len(df))).index, col] = np.nan\n",
    "# print(df.isnull().mean())\n",
    "# print(df.isnull().mean())\n",
    "\n",
    "nan_coords = np.array(np.where(df.isnull().values)).T\n",
    "print('Num nan places: {}'.format(nan_coords.shape[0]))"
   ]
  },
  {
   "cell_type": "code",
   "execution_count": 34,
   "metadata": {},
   "outputs": [
    {
     "name": "stdout",
     "output_type": "stream",
     "text": [
      "(569, 20) (569, 30)\n"
     ]
    }
   ],
   "source": [
    "df1 = df.loc[:, df.isnull().sum() == 0]\n",
    "df2 = df.fillna(df.mean())\n",
    "print(df1.shape, df2.shape)\n",
    "arr_nan = df.values # с пропусками\n",
    "arr_raw = df0.values # исходные\n",
    "arr_known = df1.values # суженные до известных признаков\n",
    "arr_pred = df2.values # текущие предсказанные "
   ]
  },
  {
   "cell_type": "code",
   "execution_count": 35,
   "metadata": {},
   "outputs": [],
   "source": [
    "def iterative_process(update_function, max_iter=20, verbose=True, percentage=False):\n",
    "    df_result = pd.DataFrame(np.zeros((max_iter, 2)), columns=['mae', 'rmse'])\n",
    "    for i in range(max_iter):\n",
    "        update_function()\n",
    "        if percentage:\n",
    "            mae = functions.get_mape(arr_raw, arr_pred, nan_coords)\n",
    "            rmse = functions.get_rmspe(arr_raw, arr_pred, nan_coords)\n",
    "        else:\n",
    "            mae = functions.get_mae(arr_raw, arr_pred, nan_coords)\n",
    "            rmse = functions.get_rmse(arr_raw, arr_pred, nan_coords)\n",
    "        df_result.loc[i, 'mae'] = mae\n",
    "        df_result.loc[i, 'rmse'] = rmse\n",
    "        if verbose:\n",
    "            print('\\tIteration {}  mae {:.6} // rmse {:.6} '.format(i+1, mae, rmse))\n",
    "    return df_result"
   ]
  },
  {
   "cell_type": "code",
   "execution_count": 36,
   "metadata": {},
   "outputs": [
    {
     "name": "stdout",
     "output_type": "stream",
     "text": [
      "0.117532863573 0.152102826747\n"
     ]
    }
   ],
   "source": [
    "mae = functions.get_mae(arr_raw, arr_pred, nan_coords)\n",
    "rmse = functions.get_rmse(arr_raw, arr_pred, nan_coords)\n",
    "print(mae, rmse)"
   ]
  },
  {
   "cell_type": "markdown",
   "metadata": {},
   "source": [
    "# Local Approach"
   ]
  },
  {
   "cell_type": "code",
   "execution_count": 10,
   "metadata": {},
   "outputs": [],
   "source": [
    "from sklearn.neighbors import NearestNeighbors\n",
    "k_local = 15\n",
    "teta = 1\n",
    "nbrs = NearestNeighbors(n_neighbors=k_local, algorithm='ball_tree').fit(arr_pred)\n",
    "\n",
    "def get_delta_vec(teta):\n",
    "    deltas = []\n",
    "    _, heighbours = nbrs.kneighbors(arr_pred)\n",
    "    for i, j in nan_coords:\n",
    "        mean_neigh = arr_pred[heighbours[i]].mean(axis=0)[j]\n",
    "        deltas.append(teta*(mean_neigh - arr_pred[i][j]))\n",
    "    return np.array(deltas)\n",
    "\n",
    "def update_local():\n",
    "    deltas = get_delta_vec(teta)\n",
    "    nbrs = NearestNeighbors(n_neighbors=k_local, algorithm='ball_tree').fit(arr_pred) # пересчитываем\n",
    "    for j, (x,y) in enumerate(nan_coords):\n",
    "        arr_pred[x, y] += deltas[j]"
   ]
  },
  {
   "cell_type": "code",
   "execution_count": 11,
   "metadata": {},
   "outputs": [
    {
     "name": "stdout",
     "output_type": "stream",
     "text": [
      "\tIteration 1  mae 0.0579182 // rmse 0.0877195 \n",
      "\tIteration 2  mae 0.0457216 // rmse 0.073915 \n",
      "\tIteration 3  mae 0.0437857 // rmse 0.0712724 \n",
      "\tIteration 4  mae 0.0434581 // rmse 0.0706543 \n",
      "\tIteration 5  mae 0.0432977 // rmse 0.0704729 \n",
      "\tIteration 6  mae 0.0431949 // rmse 0.0703147 \n",
      "\tIteration 7  mae 0.0431952 // rmse 0.0702389 \n",
      "\tIteration 8  mae 0.043207 // rmse 0.0702354 \n",
      "\tIteration 9  mae 0.0432097 // rmse 0.0702361 \n",
      "\tIteration 10  mae 0.0432005 // rmse 0.0702297 \n",
      "\tIteration 11  mae 0.0432 // rmse 0.0702294 \n",
      "\tIteration 12  mae 0.0432 // rmse 0.0702294 \n",
      "\tIteration 13  mae 0.0432 // rmse 0.0702294 \n",
      "\tIteration 14  mae 0.0432 // rmse 0.0702294 \n",
      "\tIteration 15  mae 0.0432 // rmse 0.0702294 \n",
      "\tIteration 16  mae 0.0432 // rmse 0.0702294 \n",
      "\tIteration 17  mae 0.0432 // rmse 0.0702294 \n",
      "\tIteration 18  mae 0.0432 // rmse 0.0702294 \n",
      "\tIteration 19  mae 0.0432 // rmse 0.0702294 \n",
      "\tIteration 20  mae 0.0432 // rmse 0.0702294 \n",
      "\tIteration 21  mae 0.0432 // rmse 0.0702294 \n",
      "\tIteration 22  mae 0.0432 // rmse 0.0702294 \n",
      "\tIteration 23  mae 0.0432 // rmse 0.0702294 \n",
      "\tIteration 24  mae 0.0432 // rmse 0.0702294 \n",
      "\tIteration 25  mae 0.0432 // rmse 0.0702294 \n",
      "\tIteration 26  mae 0.0432 // rmse 0.0702294 \n",
      "\tIteration 27  mae 0.0432 // rmse 0.0702294 \n",
      "\tIteration 28  mae 0.0432 // rmse 0.0702294 \n",
      "\tIteration 29  mae 0.0432 // rmse 0.0702294 \n",
      "\tIteration 30  mae 0.0432 // rmse 0.0702294 \n",
      "\tIteration 31  mae 0.0432 // rmse 0.0702294 \n",
      "\tIteration 32  mae 0.0432 // rmse 0.0702294 \n",
      "\tIteration 33  mae 0.0432 // rmse 0.0702294 \n",
      "\tIteration 34  mae 0.0432 // rmse 0.0702294 \n",
      "\tIteration 35  mae 0.0432 // rmse 0.0702294 \n",
      "\tIteration 36  mae 0.0432 // rmse 0.0702294 \n",
      "\tIteration 37  mae 0.0432 // rmse 0.0702294 \n",
      "\tIteration 38  mae 0.0432 // rmse 0.0702294 \n",
      "\tIteration 39  mae 0.0432 // rmse 0.0702294 \n",
      "\tIteration 40  mae 0.0432 // rmse 0.0702294 \n",
      "\tIteration 41  mae 0.0432 // rmse 0.0702294 \n",
      "\tIteration 42  mae 0.0432 // rmse 0.0702294 \n",
      "\tIteration 43  mae 0.0432 // rmse 0.0702294 \n",
      "\tIteration 44  mae 0.0432 // rmse 0.0702294 \n",
      "\tIteration 45  mae 0.0432 // rmse 0.0702294 \n",
      "\tIteration 46  mae 0.0432 // rmse 0.0702294 \n",
      "\tIteration 47  mae 0.0432 // rmse 0.0702294 \n",
      "\tIteration 48  mae 0.0432 // rmse 0.0702294 \n",
      "\tIteration 49  mae 0.0432 // rmse 0.0702294 \n",
      "\tIteration 50  mae 0.0432 // rmse 0.0702294 \n",
      "\tIteration 51  mae 0.0432 // rmse 0.0702294 \n",
      "\tIteration 52  mae 0.0432 // rmse 0.0702294 \n",
      "\tIteration 53  mae 0.0432 // rmse 0.0702294 \n",
      "\tIteration 54  mae 0.0432 // rmse 0.0702294 \n",
      "\tIteration 55  mae 0.0432 // rmse 0.0702294 \n",
      "\tIteration 56  mae 0.0432 // rmse 0.0702294 \n",
      "\tIteration 57  mae 0.0432 // rmse 0.0702294 \n",
      "\tIteration 58  mae 0.0432 // rmse 0.0702294 \n",
      "\tIteration 59  mae 0.0432 // rmse 0.0702294 \n",
      "\tIteration 60  mae 0.0432 // rmse 0.0702294 \n",
      "\tIteration 61  mae 0.0432 // rmse 0.0702294 \n",
      "\tIteration 62  mae 0.0432 // rmse 0.0702294 \n",
      "\tIteration 63  mae 0.0432 // rmse 0.0702294 \n",
      "\tIteration 64  mae 0.0432 // rmse 0.0702294 \n",
      "\tIteration 65  mae 0.0432 // rmse 0.0702294 \n",
      "\tIteration 66  mae 0.0432 // rmse 0.0702294 \n",
      "\tIteration 67  mae 0.0432 // rmse 0.0702294 \n",
      "\tIteration 68  mae 0.0432 // rmse 0.0702294 \n",
      "\tIteration 69  mae 0.0432 // rmse 0.0702294 \n",
      "\tIteration 70  mae 0.0432 // rmse 0.0702294 \n",
      "\tIteration 71  mae 0.0432 // rmse 0.0702294 \n",
      "\tIteration 72  mae 0.0432 // rmse 0.0702294 \n",
      "\tIteration 73  mae 0.0432 // rmse 0.0702294 \n",
      "\tIteration 74  mae 0.0432 // rmse 0.0702294 \n",
      "\tIteration 75  mae 0.0432 // rmse 0.0702294 \n",
      "\tIteration 76  mae 0.0432 // rmse 0.0702294 \n",
      "\tIteration 77  mae 0.0432 // rmse 0.0702294 \n",
      "\tIteration 78  mae 0.0432 // rmse 0.0702294 \n",
      "\tIteration 79  mae 0.0432 // rmse 0.0702294 \n",
      "\tIteration 80  mae 0.0432 // rmse 0.0702294 \n",
      "\tIteration 81  mae 0.0432 // rmse 0.0702294 \n",
      "\tIteration 82  mae 0.0432 // rmse 0.0702294 \n",
      "\tIteration 83  mae 0.0432 // rmse 0.0702294 \n",
      "\tIteration 84  mae 0.0432 // rmse 0.0702294 \n",
      "\tIteration 85  mae 0.0432 // rmse 0.0702294 \n",
      "\tIteration 86  mae 0.0432 // rmse 0.0702294 \n"
     ]
    },
    {
     "ename": "KeyboardInterrupt",
     "evalue": "",
     "output_type": "error",
     "traceback": [
      "\u001b[0;31m---------------------------------------------------------------------------\u001b[0m",
      "\u001b[0;31mKeyboardInterrupt\u001b[0m                         Traceback (most recent call last)",
      "\u001b[0;32m<ipython-input-11-b8839a0360ed>\u001b[0m in \u001b[0;36m<module>\u001b[0;34m()\u001b[0m\n\u001b[0;32m----> 1\u001b[0;31m \u001b[0mdfr\u001b[0m \u001b[0;34m=\u001b[0m \u001b[0miterative_process\u001b[0m\u001b[0;34m(\u001b[0m\u001b[0mupdate_local\u001b[0m\u001b[0;34m,\u001b[0m \u001b[0mmax_iter\u001b[0m\u001b[0;34m=\u001b[0m\u001b[0;36m1000\u001b[0m\u001b[0;34m,\u001b[0m \u001b[0mverbose\u001b[0m\u001b[0;34m=\u001b[0m\u001b[0;32mTrue\u001b[0m\u001b[0;34m)\u001b[0m\u001b[0;34m\u001b[0m\u001b[0m\n\u001b[0m",
      "\u001b[0;32m<ipython-input-8-7b8545c0a3cb>\u001b[0m in \u001b[0;36miterative_process\u001b[0;34m(update_function, max_iter, verbose, percentage)\u001b[0m\n\u001b[1;32m      2\u001b[0m     \u001b[0mdf_result\u001b[0m \u001b[0;34m=\u001b[0m \u001b[0mpd\u001b[0m\u001b[0;34m.\u001b[0m\u001b[0mDataFrame\u001b[0m\u001b[0;34m(\u001b[0m\u001b[0mnp\u001b[0m\u001b[0;34m.\u001b[0m\u001b[0mzeros\u001b[0m\u001b[0;34m(\u001b[0m\u001b[0;34m(\u001b[0m\u001b[0mmax_iter\u001b[0m\u001b[0;34m,\u001b[0m \u001b[0;36m2\u001b[0m\u001b[0;34m)\u001b[0m\u001b[0;34m)\u001b[0m\u001b[0;34m,\u001b[0m \u001b[0mcolumns\u001b[0m\u001b[0;34m=\u001b[0m\u001b[0;34m[\u001b[0m\u001b[0;34m'mae'\u001b[0m\u001b[0;34m,\u001b[0m \u001b[0;34m'rmse'\u001b[0m\u001b[0;34m]\u001b[0m\u001b[0;34m)\u001b[0m\u001b[0;34m\u001b[0m\u001b[0m\n\u001b[1;32m      3\u001b[0m     \u001b[0;32mfor\u001b[0m \u001b[0mi\u001b[0m \u001b[0;32min\u001b[0m \u001b[0mrange\u001b[0m\u001b[0;34m(\u001b[0m\u001b[0mmax_iter\u001b[0m\u001b[0;34m)\u001b[0m\u001b[0;34m:\u001b[0m\u001b[0;34m\u001b[0m\u001b[0m\n\u001b[0;32m----> 4\u001b[0;31m         \u001b[0mupdate_function\u001b[0m\u001b[0;34m(\u001b[0m\u001b[0;34m)\u001b[0m\u001b[0;34m\u001b[0m\u001b[0m\n\u001b[0m\u001b[1;32m      5\u001b[0m         \u001b[0;32mif\u001b[0m \u001b[0mpercentage\u001b[0m\u001b[0;34m:\u001b[0m\u001b[0;34m\u001b[0m\u001b[0m\n\u001b[1;32m      6\u001b[0m             \u001b[0mmae\u001b[0m \u001b[0;34m=\u001b[0m \u001b[0mfunctions\u001b[0m\u001b[0;34m.\u001b[0m\u001b[0mget_mape\u001b[0m\u001b[0;34m(\u001b[0m\u001b[0marr_raw\u001b[0m\u001b[0;34m,\u001b[0m \u001b[0marr_pred\u001b[0m\u001b[0;34m,\u001b[0m \u001b[0mnan_coords\u001b[0m\u001b[0;34m)\u001b[0m\u001b[0;34m\u001b[0m\u001b[0m\n",
      "\u001b[0;32m<ipython-input-10-df3b87a166f2>\u001b[0m in \u001b[0;36mupdate_local\u001b[0;34m()\u001b[0m\n\u001b[1;32m     13\u001b[0m \u001b[0;34m\u001b[0m\u001b[0m\n\u001b[1;32m     14\u001b[0m \u001b[0;32mdef\u001b[0m \u001b[0mupdate_local\u001b[0m\u001b[0;34m(\u001b[0m\u001b[0;34m)\u001b[0m\u001b[0;34m:\u001b[0m\u001b[0;34m\u001b[0m\u001b[0m\n\u001b[0;32m---> 15\u001b[0;31m     \u001b[0mdeltas\u001b[0m \u001b[0;34m=\u001b[0m \u001b[0mget_delta_vec\u001b[0m\u001b[0;34m(\u001b[0m\u001b[0mteta\u001b[0m\u001b[0;34m)\u001b[0m\u001b[0;34m\u001b[0m\u001b[0m\n\u001b[0m\u001b[1;32m     16\u001b[0m     \u001b[0mnbrs\u001b[0m \u001b[0;34m=\u001b[0m \u001b[0mNearestNeighbors\u001b[0m\u001b[0;34m(\u001b[0m\u001b[0mn_neighbors\u001b[0m\u001b[0;34m=\u001b[0m\u001b[0mk_local\u001b[0m\u001b[0;34m,\u001b[0m \u001b[0malgorithm\u001b[0m\u001b[0;34m=\u001b[0m\u001b[0;34m'ball_tree'\u001b[0m\u001b[0;34m)\u001b[0m\u001b[0;34m.\u001b[0m\u001b[0mfit\u001b[0m\u001b[0;34m(\u001b[0m\u001b[0marr_pred\u001b[0m\u001b[0;34m)\u001b[0m \u001b[0;31m# пересчитываем\u001b[0m\u001b[0;34m\u001b[0m\u001b[0m\n\u001b[1;32m     17\u001b[0m     \u001b[0;32mfor\u001b[0m \u001b[0mj\u001b[0m\u001b[0;34m,\u001b[0m \u001b[0;34m(\u001b[0m\u001b[0mx\u001b[0m\u001b[0;34m,\u001b[0m\u001b[0my\u001b[0m\u001b[0;34m)\u001b[0m \u001b[0;32min\u001b[0m \u001b[0menumerate\u001b[0m\u001b[0;34m(\u001b[0m\u001b[0mnan_coords\u001b[0m\u001b[0;34m)\u001b[0m\u001b[0;34m:\u001b[0m\u001b[0;34m\u001b[0m\u001b[0m\n",
      "\u001b[0;32m<ipython-input-10-df3b87a166f2>\u001b[0m in \u001b[0;36mget_delta_vec\u001b[0;34m(teta)\u001b[0m\n\u001b[1;32m      8\u001b[0m     \u001b[0m_\u001b[0m\u001b[0;34m,\u001b[0m \u001b[0mheighbours\u001b[0m \u001b[0;34m=\u001b[0m \u001b[0mnbrs\u001b[0m\u001b[0;34m.\u001b[0m\u001b[0mkneighbors\u001b[0m\u001b[0;34m(\u001b[0m\u001b[0marr_pred\u001b[0m\u001b[0;34m)\u001b[0m\u001b[0;34m\u001b[0m\u001b[0m\n\u001b[1;32m      9\u001b[0m     \u001b[0;32mfor\u001b[0m \u001b[0mi\u001b[0m\u001b[0;34m,\u001b[0m \u001b[0mj\u001b[0m \u001b[0;32min\u001b[0m \u001b[0mnan_coords\u001b[0m\u001b[0;34m:\u001b[0m\u001b[0;34m\u001b[0m\u001b[0m\n\u001b[0;32m---> 10\u001b[0;31m         \u001b[0mmean_neigh\u001b[0m \u001b[0;34m=\u001b[0m \u001b[0marr_pred\u001b[0m\u001b[0;34m[\u001b[0m\u001b[0mheighbours\u001b[0m\u001b[0;34m[\u001b[0m\u001b[0mi\u001b[0m\u001b[0;34m]\u001b[0m\u001b[0;34m]\u001b[0m\u001b[0;34m.\u001b[0m\u001b[0mmean\u001b[0m\u001b[0;34m(\u001b[0m\u001b[0maxis\u001b[0m\u001b[0;34m=\u001b[0m\u001b[0;36m0\u001b[0m\u001b[0;34m)\u001b[0m\u001b[0;34m[\u001b[0m\u001b[0mj\u001b[0m\u001b[0;34m]\u001b[0m\u001b[0;34m\u001b[0m\u001b[0m\n\u001b[0m\u001b[1;32m     11\u001b[0m         \u001b[0mdeltas\u001b[0m\u001b[0;34m.\u001b[0m\u001b[0mappend\u001b[0m\u001b[0;34m(\u001b[0m\u001b[0mteta\u001b[0m\u001b[0;34m*\u001b[0m\u001b[0;34m(\u001b[0m\u001b[0mmean_neigh\u001b[0m \u001b[0;34m-\u001b[0m \u001b[0marr_pred\u001b[0m\u001b[0;34m[\u001b[0m\u001b[0mi\u001b[0m\u001b[0;34m]\u001b[0m\u001b[0;34m[\u001b[0m\u001b[0mj\u001b[0m\u001b[0;34m]\u001b[0m\u001b[0;34m)\u001b[0m\u001b[0;34m)\u001b[0m\u001b[0;34m\u001b[0m\u001b[0m\n\u001b[1;32m     12\u001b[0m     \u001b[0;32mreturn\u001b[0m \u001b[0mnp\u001b[0m\u001b[0;34m.\u001b[0m\u001b[0marray\u001b[0m\u001b[0;34m(\u001b[0m\u001b[0mdeltas\u001b[0m\u001b[0;34m)\u001b[0m\u001b[0;34m\u001b[0m\u001b[0m\n",
      "\u001b[0;32m~/mlenv/lib/python3.6/site-packages/numpy/core/_methods.py\u001b[0m in \u001b[0;36m_mean\u001b[0;34m(a, axis, dtype, out, keepdims)\u001b[0m\n\u001b[1;32m     68\u001b[0m             \u001b[0mis_float16_result\u001b[0m \u001b[0;34m=\u001b[0m \u001b[0;32mTrue\u001b[0m\u001b[0;34m\u001b[0m\u001b[0m\n\u001b[1;32m     69\u001b[0m \u001b[0;34m\u001b[0m\u001b[0m\n\u001b[0;32m---> 70\u001b[0;31m     \u001b[0mret\u001b[0m \u001b[0;34m=\u001b[0m \u001b[0mumr_sum\u001b[0m\u001b[0;34m(\u001b[0m\u001b[0marr\u001b[0m\u001b[0;34m,\u001b[0m \u001b[0maxis\u001b[0m\u001b[0;34m,\u001b[0m \u001b[0mdtype\u001b[0m\u001b[0;34m,\u001b[0m \u001b[0mout\u001b[0m\u001b[0;34m,\u001b[0m \u001b[0mkeepdims\u001b[0m\u001b[0;34m)\u001b[0m\u001b[0;34m\u001b[0m\u001b[0m\n\u001b[0m\u001b[1;32m     71\u001b[0m     \u001b[0;32mif\u001b[0m \u001b[0misinstance\u001b[0m\u001b[0;34m(\u001b[0m\u001b[0mret\u001b[0m\u001b[0;34m,\u001b[0m \u001b[0mmu\u001b[0m\u001b[0;34m.\u001b[0m\u001b[0mndarray\u001b[0m\u001b[0;34m)\u001b[0m\u001b[0;34m:\u001b[0m\u001b[0;34m\u001b[0m\u001b[0m\n\u001b[1;32m     72\u001b[0m         ret = um.true_divide(\n",
      "\u001b[0;31mKeyboardInterrupt\u001b[0m: "
     ]
    }
   ],
   "source": [
    "dfr = iterative_process(update_local, max_iter=1000, verbose=True)"
   ]
  },
  {
   "cell_type": "code",
   "execution_count": 12,
   "metadata": {},
   "outputs": [
    {
     "data": {
      "text/plain": [
       "0.026362038664323375"
      ]
     },
     "execution_count": 12,
     "metadata": {},
     "output_type": "execute_result"
    }
   ],
   "source": [
    "k_local/len(df)"
   ]
  },
  {
   "cell_type": "markdown",
   "metadata": {},
   "source": [
    "# Optimization Approach"
   ]
  },
  {
   "cell_type": "code",
   "execution_count": 16,
   "metadata": {},
   "outputs": [],
   "source": [
    "n = len(df0)\n",
    "\n",
    "def get_known_table():\n",
    "    global arr_nan\n",
    "    ro_known_table = np.zeros((n, n))\n",
    "    for i in tqdm(range(n)):\n",
    "        for j in range(i, n):\n",
    "            idx_nan_i = np.isnan(arr_nan[i])\n",
    "            idx_nan_j = np.isnan(arr_nan[j])\n",
    "            idx = ~idx_nan_i & ~idx_nan_j\n",
    "            x_i = arr_nan[i, idx]\n",
    "            x_j = arr_nan[j, idx]\n",
    "            ro_known_table[i, j] = ro_known_table[j, i] = sq(x_i - x_j)\n",
    "    return ro_known_table\n",
    "\n",
    "def get_ro_1_unknown_table():\n",
    "    global arr_pred\n",
    "    ro_1_unknown_table = np.zeros((n, n))\n",
    "    #это ro прибавить там где 1 компонента\n",
    "    for i in tqdm(range(n)):\n",
    "        for j in range(i, n):\n",
    "            idx_nan_i = np.isnan(arr_nan[i])\n",
    "            idx_nan_j = np.isnan(arr_nan[j])\n",
    "            idx = (idx_nan_i & ~idx_nan_j) | (~idx_nan_i & idx_nan_j)\n",
    "            x_i = arr_pred[i, idx]\n",
    "            x_j = arr_pred[j, idx]\n",
    "            ro_1_unknown_table[i, j] = ro_1_unknown_table[j, i] = sq(x_i - x_j)\n",
    "    return ro_1_unknown_table\n",
    "\n",
    "# по всем признакам\n",
    "def get_ro_2_unknown_table():\n",
    "    global arr_pred\n",
    "    '''\n",
    "    при первом запуске обычно 0, так как заполняю пропуски ОДНИМ И ТЕМ ЖЕ СРЕДНИМ ЗНАЧЕНИЕМ\n",
    "    '''\n",
    "    ro_2_unknown_table = np.zeros((n, n))\n",
    "    for i in tqdm(range(n)):\n",
    "        for j in range(i+1, n):\n",
    "            idx_nan_i = np.isnan(arr_nan[i])\n",
    "            idx_nan_j = np.isnan(arr_nan[j])\n",
    "            idx = (idx_nan_i & idx_nan_j)\n",
    "            x_i = arr_pred[i, idx]\n",
    "            x_j = arr_pred[j, idx]\n",
    "            ro_2_unknown_table[i, j] = ro_2_unknown_table[j, i] = sq(x_i - x_j)\n",
    "    return ro_2_unknown_table"
   ]
  },
  {
   "cell_type": "code",
   "execution_count": 17,
   "metadata": {},
   "outputs": [
    {
     "name": "stderr",
     "output_type": "stream",
     "text": [
      "100%|██████████| 569/569 [00:04<00:00, 136.02it/s]\n",
      "100%|██████████| 569/569 [00:04<00:00, 120.16it/s]\n",
      "100%|██████████| 569/569 [00:03<00:00, 169.47it/s]\n"
     ]
    }
   ],
   "source": [
    "ro_known_table = get_known_table()\n",
    "ro_1_unknown_table = get_ro_1_unknown_table()\n",
    "ro_2_unknown_table = get_ro_2_unknown_table() # здесь какого-то хера одни нули!!!"
   ]
  },
  {
   "cell_type": "code",
   "execution_count": 18,
   "metadata": {},
   "outputs": [],
   "source": [
    "def F_functional(k_arr, ftype='f1'):\n",
    "    global ro_known_table, ro_1_unknown_table, ro_2_unknown_table\n",
    "    f = 0\n",
    "    for i in tqdm(range(n)):\n",
    "        for j in range(i+1, n):\n",
    "            ro1 = ro_known_table[i, j] # известно оба \n",
    "            ro2 = ro_1_unknown_table[i, j] # известен 1 \n",
    "            ro3 = ro_2_unknown_table[i, j] # не известно ниче\n",
    "            \n",
    "            r1 = np.sqrt(ro1 + ro2 + ro3) #по всем признакам(р)\n",
    "            if ftype == 'f1':\n",
    "                r2 = np.sqrt(ro1) # по известным признакам(р+)\n",
    "            else:\n",
    "                r2 = np.sqrt(ro1 + ro2)\n",
    "            f += (r1 - k_arr[i, j]*r2)**2\n",
    "    return f"
   ]
  },
  {
   "cell_type": "code",
   "execution_count": 19,
   "metadata": {},
   "outputs": [],
   "source": [
    "### ПРОВЕРИТЬ ГРАДИЕНТ НА 0 ДЛЯ Ф2\n",
    "\n",
    "def grad_component(i, j, k_arr, ftype='f1'):\n",
    "    global ro_known_table, ro_1_unknown_table, ro_2_unknown_table\n",
    "    s = 0\n",
    "    for i1 in range(n):\n",
    "        if i1 == i:\n",
    "            continue\n",
    "        ro1 = ro_known_table[i, i1]\n",
    "        ro2 = ro_1_unknown_table[i, i1]\n",
    "        ro3 = ro_2_unknown_table[i, i1]\n",
    "        \n",
    "        r1 = np.sqrt(ro1 + ro2 + ro3) #по всем признакам(р)\n",
    "        if r1 <= 0:\n",
    "            continue\n",
    "        if ftype == 'f2':\n",
    "            r2 = np.sqrt(ro1 + ro2) # по известным признакам(р+)\n",
    "            delta_x1 = (arr_pred[i, j] - arr_pred[i1, j])\n",
    "            if not np.isnan(arr_nan[i1, j]):\n",
    "                delta_x2 = delta_x1\n",
    "            else:\n",
    "                delta_x2 = 0\n",
    "            if r2 == 0:\n",
    "                delta_x2 = k_arr[i1, i]\n",
    "            else:\n",
    "                delta_x2 = k_arr[i1, i]*delta_x2/r2\n",
    "            delta_s = 2*(r1 - k_arr[i1, i]*r2)*(delta_x1/r1 - delta_x2)\n",
    "            s += delta_s\n",
    "        else:\n",
    "            r2 = np.sqrt(ro1) # по известным признакам(р+)\n",
    "            s += 2 * (1 - k_arr[i1, i]*r2/r1) * (arr_pred[i, j] - arr_pred[i1, j])\n",
    "    return s\n",
    "\n",
    "def get_full_grad(nan_coords, k_arr, ftype='f1'):\n",
    "    grad = []\n",
    "    for i, j in nan_coords:\n",
    "        grad.append(grad_component(i, j, k_arr, ftype))\n",
    "    return np.array(grad)"
   ]
  },
  {
   "cell_type": "code",
   "execution_count": 20,
   "metadata": {},
   "outputs": [
    {
     "name": "stderr",
     "output_type": "stream",
     "text": [
      "100%|██████████| 569/569 [00:01<00:00, 370.32it/s]\n"
     ]
    }
   ],
   "source": [
    "k_arr = np.ones((n, n))\n",
    "ftype = 'f1'\n",
    "alpha = 0.005\n",
    "alpha = 0.01\n",
    "c = F_functional(k_arr, ftype)"
   ]
  },
  {
   "cell_type": "code",
   "execution_count": null,
   "metadata": {},
   "outputs": [],
   "source": [
    "c = F_functional(k_arr, ftype)"
   ]
  },
  {
   "cell_type": "code",
   "execution_count": null,
   "metadata": {},
   "outputs": [],
   "source": [
    "# Для F2 нужно делать не единички, а нормировать\n",
    "# k_arr[i, j] = n - n2 / n (то есть все признаки без двух пропусков/на все признаки)\n",
    "k_arr = np.ones((n, n))\n",
    "alpha = 1.1\n",
    "for i in tqdm(range(n)):\n",
    "    for j in range(i+1, n):\n",
    "        idx_nan_i = np.isnan(arr_nan[i])\n",
    "        idx_nan_j = np.isnan(arr_nan[j])\n",
    "        idx = (idx_nan_i & idx_nan_j)\n",
    "        k_arr[i, j] = k_arr[j, i] = (n - idx.sum()) / n\n",
    "ftype = 'f2'\n",
    "c = F_functional(k_arr, ftype)"
   ]
  },
  {
   "cell_type": "code",
   "execution_count": 21,
   "metadata": {},
   "outputs": [],
   "source": [
    "# проверка изменений в зависимости от альфы\n",
    "arr_pred_raw = arr_pred.copy()\n",
    "grad = get_full_grad(nan_coords, k_arr, ftype)\n",
    "\n",
    "def get_f_grad(arr_pred_raw, alpha, grad):\n",
    "    global ro_1_unknown_table, ro_2_unknown_table\n",
    "    for j, (x,y) in enumerate(nan_coords):\n",
    "        arr_pred[x, y] = arr_pred_raw[x, y] - alpha*grad[j]\n",
    "    ro_1_unknown_table = get_ro_1_unknown_table()\n",
    "    ro_2_unknown_table = get_ro_2_unknown_table()\n",
    "    c = F_functional(k_arr, ftype)\n",
    "    return c"
   ]
  },
  {
   "cell_type": "code",
   "execution_count": 22,
   "metadata": {},
   "outputs": [],
   "source": [
    "c_array = []\n",
    "\n",
    "ro1t = []\n",
    "ro2t = []\n",
    "def update_opt():\n",
    "    global ro_1_unknown_table, ro_2_unknown_table\n",
    "    grad = get_full_grad(nan_coords, k_arr, ftype)\n",
    "    for j, (x,y) in enumerate(nan_coords):\n",
    "        arr_pred[x, y] = arr_pred[x, y] - alpha*grad[j]\n",
    "        \n",
    "    ro_1_unknown_table = get_ro_1_unknown_table()\n",
    "    ro_2_unknown_table = get_ro_2_unknown_table()\n",
    "    c = F_functional(k_arr, ftype)\n",
    "    print('C = {}'.format(c))\n",
    "    c_array.append(c)\n",
    "    ro1t.append(ro_1_unknown_table)\n",
    "    ro2t.append(ro_2_unknown_table)"
   ]
  },
  {
   "cell_type": "code",
   "execution_count": 23,
   "metadata": {},
   "outputs": [
    {
     "name": "stderr",
     "output_type": "stream",
     "text": [
      "100%|██████████| 569/569 [00:06<00:00, 93.49it/s]\n",
      "100%|██████████| 569/569 [00:05<00:00, 108.19it/s]\n",
      "100%|██████████| 569/569 [00:01<00:00, 304.01it/s]\n"
     ]
    },
    {
     "name": "stdout",
     "output_type": "stream",
     "text": [
      "C = 188.89417211345412\n",
      "\tIteration 1  mae 0.0999151 // rmse 0.130778 \n"
     ]
    },
    {
     "name": "stderr",
     "output_type": "stream",
     "text": [
      "100%|██████████| 569/569 [00:06<00:00, 82.37it/s]\n",
      "100%|██████████| 569/569 [00:05<00:00, 107.37it/s]\n",
      "100%|██████████| 569/569 [00:02<00:00, 207.82it/s]\n"
     ]
    },
    {
     "name": "stdout",
     "output_type": "stream",
     "text": [
      "C = 186.65581244925562\n",
      "\tIteration 2  mae 0.0990311 // rmse 0.128556 \n"
     ]
    },
    {
     "name": "stderr",
     "output_type": "stream",
     "text": [
      "100%|██████████| 569/569 [00:05<00:00, 108.43it/s]\n",
      "100%|██████████| 569/569 [00:03<00:00, 148.51it/s]\n",
      "100%|██████████| 569/569 [00:01<00:00, 315.94it/s]\n"
     ]
    },
    {
     "name": "stdout",
     "output_type": "stream",
     "text": [
      "C = 186.14946342461533\n",
      "\tIteration 3  mae 0.0976942 // rmse 0.126591 \n"
     ]
    },
    {
     "name": "stderr",
     "output_type": "stream",
     "text": [
      "100%|██████████| 569/569 [00:04<00:00, 119.98it/s]\n",
      "100%|██████████| 569/569 [00:03<00:00, 165.75it/s]\n",
      "100%|██████████| 569/569 [00:01<00:00, 382.81it/s]\n"
     ]
    },
    {
     "name": "stdout",
     "output_type": "stream",
     "text": [
      "C = 185.98655405846552\n",
      "\tIteration 4  mae 0.0976576 // rmse 0.126244 \n"
     ]
    },
    {
     "name": "stderr",
     "output_type": "stream",
     "text": [
      "100%|██████████| 569/569 [00:04<00:00, 123.19it/s]\n",
      "100%|██████████| 569/569 [00:03<00:00, 162.29it/s]\n",
      "100%|██████████| 569/569 [00:01<00:00, 356.58it/s]\n"
     ]
    },
    {
     "name": "stdout",
     "output_type": "stream",
     "text": [
      "C = 185.92935996475902\n",
      "\tIteration 5  mae 0.0973392 // rmse 0.125766 \n"
     ]
    },
    {
     "name": "stderr",
     "output_type": "stream",
     "text": [
      "100%|██████████| 569/569 [00:04<00:00, 127.32it/s]\n",
      "100%|██████████| 569/569 [00:03<00:00, 171.21it/s]\n",
      "100%|██████████| 569/569 [00:01<00:00, 348.77it/s]\n"
     ]
    },
    {
     "name": "stdout",
     "output_type": "stream",
     "text": [
      "C = 185.90316048488975\n",
      "\tIteration 6  mae 0.0974004 // rmse 0.12572 \n"
     ]
    },
    {
     "name": "stderr",
     "output_type": "stream",
     "text": [
      "100%|██████████| 569/569 [00:05<00:00, 112.20it/s]\n",
      "100%|██████████| 569/569 [00:03<00:00, 165.15it/s]\n",
      "100%|██████████| 569/569 [00:01<00:00, 323.79it/s]\n"
     ]
    },
    {
     "name": "stdout",
     "output_type": "stream",
     "text": [
      "C = 185.89187563387867\n",
      "\tIteration 7  mae 0.0972828 // rmse 0.125554 \n"
     ]
    },
    {
     "name": "stderr",
     "output_type": "stream",
     "text": [
      "100%|██████████| 569/569 [00:04<00:00, 119.75it/s]\n",
      "100%|██████████| 569/569 [00:04<00:00, 115.47it/s]\n",
      "100%|██████████| 569/569 [00:01<00:00, 293.21it/s]\n"
     ]
    },
    {
     "name": "stdout",
     "output_type": "stream",
     "text": [
      "C = 185.88575067487426\n",
      "\tIteration 8  mae 0.0973295 // rmse 0.125557 \n"
     ]
    },
    {
     "name": "stderr",
     "output_type": "stream",
     "text": [
      "100%|██████████| 569/569 [00:05<00:00, 106.69it/s]\n",
      "100%|██████████| 569/569 [00:04<00:00, 128.55it/s]\n",
      "100%|██████████| 569/569 [00:01<00:00, 292.29it/s]\n"
     ]
    },
    {
     "name": "stdout",
     "output_type": "stream",
     "text": [
      "C = 185.88273838795675\n",
      "\tIteration 9  mae 0.0972751 // rmse 0.125484 \n"
     ]
    },
    {
     "ename": "KeyboardInterrupt",
     "evalue": "",
     "output_type": "error",
     "traceback": [
      "\u001b[0;31m---------------------------------------------------------------------------\u001b[0m",
      "\u001b[0;31mKeyboardInterrupt\u001b[0m                         Traceback (most recent call last)",
      "\u001b[0;32m<ipython-input-23-3a8963b07290>\u001b[0m in \u001b[0;36m<module>\u001b[0;34m()\u001b[0m\n\u001b[1;32m      1\u001b[0m \u001b[0mmax_iter\u001b[0m \u001b[0;34m=\u001b[0m \u001b[0;36m30\u001b[0m\u001b[0;34m\u001b[0m\u001b[0m\n\u001b[1;32m      2\u001b[0m \u001b[0;34m\u001b[0m\u001b[0m\n\u001b[0;32m----> 3\u001b[0;31m \u001b[0mdfr\u001b[0m \u001b[0;34m=\u001b[0m \u001b[0miterative_process\u001b[0m\u001b[0;34m(\u001b[0m\u001b[0mupdate_opt\u001b[0m\u001b[0;34m,\u001b[0m \u001b[0mmax_iter\u001b[0m\u001b[0;34m=\u001b[0m\u001b[0mmax_iter\u001b[0m\u001b[0;34m,\u001b[0m \u001b[0mverbose\u001b[0m\u001b[0;34m=\u001b[0m\u001b[0;32mTrue\u001b[0m\u001b[0;34m)\u001b[0m\u001b[0;34m\u001b[0m\u001b[0m\n\u001b[0m",
      "\u001b[0;32m<ipython-input-14-7b8545c0a3cb>\u001b[0m in \u001b[0;36miterative_process\u001b[0;34m(update_function, max_iter, verbose, percentage)\u001b[0m\n\u001b[1;32m      2\u001b[0m     \u001b[0mdf_result\u001b[0m \u001b[0;34m=\u001b[0m \u001b[0mpd\u001b[0m\u001b[0;34m.\u001b[0m\u001b[0mDataFrame\u001b[0m\u001b[0;34m(\u001b[0m\u001b[0mnp\u001b[0m\u001b[0;34m.\u001b[0m\u001b[0mzeros\u001b[0m\u001b[0;34m(\u001b[0m\u001b[0;34m(\u001b[0m\u001b[0mmax_iter\u001b[0m\u001b[0;34m,\u001b[0m \u001b[0;36m2\u001b[0m\u001b[0;34m)\u001b[0m\u001b[0;34m)\u001b[0m\u001b[0;34m,\u001b[0m \u001b[0mcolumns\u001b[0m\u001b[0;34m=\u001b[0m\u001b[0;34m[\u001b[0m\u001b[0;34m'mae'\u001b[0m\u001b[0;34m,\u001b[0m \u001b[0;34m'rmse'\u001b[0m\u001b[0;34m]\u001b[0m\u001b[0;34m)\u001b[0m\u001b[0;34m\u001b[0m\u001b[0m\n\u001b[1;32m      3\u001b[0m     \u001b[0;32mfor\u001b[0m \u001b[0mi\u001b[0m \u001b[0;32min\u001b[0m \u001b[0mrange\u001b[0m\u001b[0;34m(\u001b[0m\u001b[0mmax_iter\u001b[0m\u001b[0;34m)\u001b[0m\u001b[0;34m:\u001b[0m\u001b[0;34m\u001b[0m\u001b[0m\n\u001b[0;32m----> 4\u001b[0;31m         \u001b[0mupdate_function\u001b[0m\u001b[0;34m(\u001b[0m\u001b[0;34m)\u001b[0m\u001b[0;34m\u001b[0m\u001b[0m\n\u001b[0m\u001b[1;32m      5\u001b[0m         \u001b[0;32mif\u001b[0m \u001b[0mpercentage\u001b[0m\u001b[0;34m:\u001b[0m\u001b[0;34m\u001b[0m\u001b[0m\n\u001b[1;32m      6\u001b[0m             \u001b[0mmae\u001b[0m \u001b[0;34m=\u001b[0m \u001b[0mfunctions\u001b[0m\u001b[0;34m.\u001b[0m\u001b[0mget_mape\u001b[0m\u001b[0;34m(\u001b[0m\u001b[0marr_raw\u001b[0m\u001b[0;34m,\u001b[0m \u001b[0marr_pred\u001b[0m\u001b[0;34m,\u001b[0m \u001b[0mnan_coords\u001b[0m\u001b[0;34m)\u001b[0m\u001b[0;34m\u001b[0m\u001b[0m\n",
      "\u001b[0;32m<ipython-input-22-c8b43f895b0c>\u001b[0m in \u001b[0;36mupdate_opt\u001b[0;34m()\u001b[0m\n\u001b[1;32m      5\u001b[0m \u001b[0;32mdef\u001b[0m \u001b[0mupdate_opt\u001b[0m\u001b[0;34m(\u001b[0m\u001b[0;34m)\u001b[0m\u001b[0;34m:\u001b[0m\u001b[0;34m\u001b[0m\u001b[0m\n\u001b[1;32m      6\u001b[0m     \u001b[0;32mglobal\u001b[0m \u001b[0mro_1_unknown_table\u001b[0m\u001b[0;34m,\u001b[0m \u001b[0mro_2_unknown_table\u001b[0m\u001b[0;34m\u001b[0m\u001b[0m\n\u001b[0;32m----> 7\u001b[0;31m     \u001b[0mgrad\u001b[0m \u001b[0;34m=\u001b[0m \u001b[0mget_full_grad\u001b[0m\u001b[0;34m(\u001b[0m\u001b[0mnan_coords\u001b[0m\u001b[0;34m,\u001b[0m \u001b[0mk_arr\u001b[0m\u001b[0;34m,\u001b[0m \u001b[0mftype\u001b[0m\u001b[0;34m)\u001b[0m\u001b[0;34m\u001b[0m\u001b[0m\n\u001b[0m\u001b[1;32m      8\u001b[0m     \u001b[0;32mfor\u001b[0m \u001b[0mj\u001b[0m\u001b[0;34m,\u001b[0m \u001b[0;34m(\u001b[0m\u001b[0mx\u001b[0m\u001b[0;34m,\u001b[0m\u001b[0my\u001b[0m\u001b[0;34m)\u001b[0m \u001b[0;32min\u001b[0m \u001b[0menumerate\u001b[0m\u001b[0;34m(\u001b[0m\u001b[0mnan_coords\u001b[0m\u001b[0;34m)\u001b[0m\u001b[0;34m:\u001b[0m\u001b[0;34m\u001b[0m\u001b[0m\n\u001b[1;32m      9\u001b[0m         \u001b[0marr_pred\u001b[0m\u001b[0;34m[\u001b[0m\u001b[0mx\u001b[0m\u001b[0;34m,\u001b[0m \u001b[0my\u001b[0m\u001b[0;34m]\u001b[0m \u001b[0;34m=\u001b[0m \u001b[0marr_pred\u001b[0m\u001b[0;34m[\u001b[0m\u001b[0mx\u001b[0m\u001b[0;34m,\u001b[0m \u001b[0my\u001b[0m\u001b[0;34m]\u001b[0m \u001b[0;34m-\u001b[0m \u001b[0malpha\u001b[0m\u001b[0;34m*\u001b[0m\u001b[0mgrad\u001b[0m\u001b[0;34m[\u001b[0m\u001b[0mj\u001b[0m\u001b[0;34m]\u001b[0m\u001b[0;34m\u001b[0m\u001b[0m\n",
      "\u001b[0;32m<ipython-input-19-ad40c8c42de0>\u001b[0m in \u001b[0;36mget_full_grad\u001b[0;34m(nan_coords, k_arr, ftype)\u001b[0m\n\u001b[1;32m     35\u001b[0m     \u001b[0mgrad\u001b[0m \u001b[0;34m=\u001b[0m \u001b[0;34m[\u001b[0m\u001b[0;34m]\u001b[0m\u001b[0;34m\u001b[0m\u001b[0m\n\u001b[1;32m     36\u001b[0m     \u001b[0;32mfor\u001b[0m \u001b[0mi\u001b[0m\u001b[0;34m,\u001b[0m \u001b[0mj\u001b[0m \u001b[0;32min\u001b[0m \u001b[0mnan_coords\u001b[0m\u001b[0;34m:\u001b[0m\u001b[0;34m\u001b[0m\u001b[0m\n\u001b[0;32m---> 37\u001b[0;31m         \u001b[0mgrad\u001b[0m\u001b[0;34m.\u001b[0m\u001b[0mappend\u001b[0m\u001b[0;34m(\u001b[0m\u001b[0mgrad_component\u001b[0m\u001b[0;34m(\u001b[0m\u001b[0mi\u001b[0m\u001b[0;34m,\u001b[0m \u001b[0mj\u001b[0m\u001b[0;34m,\u001b[0m \u001b[0mk_arr\u001b[0m\u001b[0;34m,\u001b[0m \u001b[0mftype\u001b[0m\u001b[0;34m)\u001b[0m\u001b[0;34m)\u001b[0m\u001b[0;34m\u001b[0m\u001b[0m\n\u001b[0m\u001b[1;32m     38\u001b[0m     \u001b[0;32mreturn\u001b[0m \u001b[0mnp\u001b[0m\u001b[0;34m.\u001b[0m\u001b[0marray\u001b[0m\u001b[0;34m(\u001b[0m\u001b[0mgrad\u001b[0m\u001b[0;34m)\u001b[0m\u001b[0;34m\u001b[0m\u001b[0m\n",
      "\u001b[0;32m<ipython-input-19-ad40c8c42de0>\u001b[0m in \u001b[0;36mgrad_component\u001b[0;34m(i, j, k_arr, ftype)\u001b[0m\n\u001b[1;32m     11\u001b[0m         \u001b[0mro3\u001b[0m \u001b[0;34m=\u001b[0m \u001b[0mro_2_unknown_table\u001b[0m\u001b[0;34m[\u001b[0m\u001b[0mi\u001b[0m\u001b[0;34m,\u001b[0m \u001b[0mi1\u001b[0m\u001b[0;34m]\u001b[0m\u001b[0;34m\u001b[0m\u001b[0m\n\u001b[1;32m     12\u001b[0m \u001b[0;34m\u001b[0m\u001b[0m\n\u001b[0;32m---> 13\u001b[0;31m         \u001b[0mr1\u001b[0m \u001b[0;34m=\u001b[0m \u001b[0mnp\u001b[0m\u001b[0;34m.\u001b[0m\u001b[0msqrt\u001b[0m\u001b[0;34m(\u001b[0m\u001b[0mro1\u001b[0m \u001b[0;34m+\u001b[0m \u001b[0mro2\u001b[0m \u001b[0;34m+\u001b[0m \u001b[0mro3\u001b[0m\u001b[0;34m)\u001b[0m \u001b[0;31m#по всем признакам(р)\u001b[0m\u001b[0;34m\u001b[0m\u001b[0m\n\u001b[0m\u001b[1;32m     14\u001b[0m         \u001b[0;32mif\u001b[0m \u001b[0mr1\u001b[0m \u001b[0;34m<=\u001b[0m \u001b[0;36m0\u001b[0m\u001b[0;34m:\u001b[0m\u001b[0;34m\u001b[0m\u001b[0m\n\u001b[1;32m     15\u001b[0m             \u001b[0;32mcontinue\u001b[0m\u001b[0;34m\u001b[0m\u001b[0m\n",
      "\u001b[0;31mKeyboardInterrupt\u001b[0m: "
     ]
    }
   ],
   "source": [
    "max_iter = 30\n",
    "\n",
    "dfr = iterative_process(update_opt, max_iter=max_iter, verbose=True)"
   ]
  },
  {
   "cell_type": "code",
   "execution_count": null,
   "metadata": {},
   "outputs": [],
   "source": [
    "print(c_array, ftype)\n",
    "\n",
    "for i in range(7):\n",
    "    print((ro2t[i] - ro2t[i+1]).max())"
   ]
  },
  {
   "cell_type": "markdown",
   "metadata": {},
   "source": [
    "# SNE Approach"
   ]
  },
  {
   "cell_type": "code",
   "execution_count": 27,
   "metadata": {},
   "outputs": [
    {
     "name": "stderr",
     "output_type": "stream",
     "text": [
      "100%|██████████| 569/569 [00:04<00:00, 126.41it/s]\n",
      "100%|██████████| 569/569 [00:03<00:00, 150.76it/s]\n"
     ]
    }
   ],
   "source": [
    "n = len(df0)\n",
    "# таблица старых значений\n",
    "Exp1_table = np.zeros((n, n))\n",
    "for i in tqdm(range(n)):\n",
    "    for j in range(n):\n",
    "        Exp1_table[i][j] = np.exp(-sq(arr_known[i] - arr_known[j]))\n",
    "#         Exp1_table[i][j] = np.exp(-norm(arr_known[i] - arr_known[j])**2)\n",
    "        \n",
    "P1_table = np.zeros((n, n))\n",
    "for i in tqdm(range(n)):\n",
    "    for j in range(n):\n",
    "        a = Exp1_table[j][i]\n",
    "        b = Exp1_table[i].sum() - 1 # 1 = Exp1_table[i][i]\n",
    "        P1_table[j][i] = a / b"
   ]
  },
  {
   "cell_type": "code",
   "execution_count": 28,
   "metadata": {},
   "outputs": [
    {
     "name": "stderr",
     "output_type": "stream",
     "text": [
      "100%|██████████| 569/569 [00:05<00:00, 108.55it/s]\n",
      "100%|██████████| 569/569 [00:03<00:00, 151.29it/s]\n"
     ]
    }
   ],
   "source": [
    "def get_exp2_table():\n",
    "    Exp2_table = np.zeros((n, n))\n",
    "    for i in tqdm(range(n)):\n",
    "        for j in range(n):\n",
    "            Exp2_table[i][j] = np.exp(-sq(arr_pred[i] - arr_pred[j]))\n",
    "#             Exp2_table[i][j] = np.exp(-norm(arr_pred[i] - arr_pred[j])**2)\n",
    "    return Exp2_table\n",
    "\n",
    "def get_p2_table():\n",
    "    Exp2_table = get_exp2_table()\n",
    "    P2_table = np.zeros((n, n))\n",
    "    for i in tqdm(range(n)):\n",
    "        for j in range(n):\n",
    "            a = Exp2_table[j][i]\n",
    "            b = Exp2_table[i].sum() - 1 # 1 = Exp1_table[i][i]\n",
    "            P2_table[j][i] = a / b\n",
    "    return P2_table\n",
    "P2_table = get_p2_table()"
   ]
  },
  {
   "cell_type": "code",
   "execution_count": 29,
   "metadata": {},
   "outputs": [
    {
     "name": "stdout",
     "output_type": "stream",
     "text": [
      "2\n",
      "4\n",
      "6\n",
      "8\n",
      "10\n",
      "12\n",
      "14\n",
      "16\n",
      "18\n",
      "20\n"
     ]
    }
   ],
   "source": [
    "x = 1\n",
    "def f1():\n",
    "    global x\n",
    "    return x*2\n",
    "def f2():\n",
    "    y = f1()\n",
    "    return y\n",
    "\n",
    "for i in range(10):\n",
    "    print(f2())\n",
    "    x += 1"
   ]
  },
  {
   "cell_type": "code",
   "execution_count": 30,
   "metadata": {},
   "outputs": [],
   "source": [
    "def KL(P2_table):\n",
    "    global P1_table\n",
    "#     global P1_table, P2_table\n",
    "    s = 0\n",
    "    for i in range(n):\n",
    "        for j in range(n):\n",
    "#             s += P1_table[j][i] * np.log(P1_table[j][i] / P2_table[j][i])\n",
    "            s += P1_table[j][i] * np.log(P1_table[j][i]) - P1_table[j][i] * np.log(P2_table[j][i])\n",
    "    return s\n",
    "\n",
    "def get_grad_sne(i1, i2):\n",
    "    global P1_table, P2_table\n",
    "    def get_i_part(i):\n",
    "        d = 2*(arr_pred[i1][i2] - arr_pred[i][i2])\n",
    "        s = (P1_table[i1][i]+P1_table[i][i1]) - \\\n",
    "            P2_table[i1][i]*(1+P1_table[i][i]) - \\\n",
    "            P2_table[i][i1]*(1+P1_table[i1][i1])\n",
    "        return s*d\n",
    "    return sum(get_i_part(i) for i in range(n) if i!=i1)\n",
    "\n",
    "def get_full_grad_sne(nan_coords):\n",
    "    n_gaps = len(nan_coords)\n",
    "    grad = np.zeros(n_gaps)\n",
    "    for i in range(n_gaps):\n",
    "        i1, i2 = nan_coords[i]\n",
    "        grad[i] = get_grad_sne(i1, i2)\n",
    "    return grad"
   ]
  },
  {
   "cell_type": "code",
   "execution_count": 31,
   "metadata": {},
   "outputs": [],
   "source": [
    "momentum = True\n",
    "alpha_momentum = 0.5\n",
    "c_array = []\n",
    "p_array = []\n",
    "g_array = []\n",
    "\n",
    "y_momentum = np.zeros(len(nan_coords))\n",
    "for j, (x,y) in enumerate(nan_coords):\n",
    "    y_momentum[j] = arr_pred[x, y]\n",
    "y_array = [y_momentum]\n",
    "\n",
    "def update_sne():\n",
    "    grad = get_full_grad_sne(nan_coords)\n",
    "\n",
    "    for j, (x,y) in enumerate(nan_coords):\n",
    "        arr_pred[x, y] = arr_pred[x, y] - alpha*grad[j]\n",
    "    # если есть еще предыдущие, то делаем шаг моментум\n",
    "    if momentum and len(y_array) >= 2:\n",
    "        if len(y_array) >= 2:\n",
    "            y_diff = y_array[-1] - y_array[-2]\n",
    "            for j, (x,y) in enumerate(nan_coords):\n",
    "                arr_pred[x, y] += alpha_momentum*y_diff[j]\n",
    "        y_momentum = np.zeros(len(nan_coords))\n",
    "        for j, (x,y) in enumerate(nan_coords):\n",
    "            y_momentum[j] = arr_pred[x, y]\n",
    "        y_array.append(y_momentum)\n",
    "    \n",
    "    P2_table = get_p2_table()\n",
    "    c = KL(P2_table)\n",
    "    print('C = {}'.format(c))\n",
    "    c_array.append(c)\n",
    "    p_array.append(P2_table)\n",
    "    g_array.append(grad)"
   ]
  },
  {
   "cell_type": "code",
   "execution_count": null,
   "metadata": {},
   "outputs": [],
   "source": [
    "def KL_local(P2_table):\n",
    "    global P1_table\n",
    "    s = 0\n",
    "    for i in range(n):\n",
    "        for j in range(n):\n",
    "            s += P1_table[j][i] * np.log(P1_table[j][i]) - P1_table[j][i] * np.log(P2_table[j][i])\n",
    "    return s\n",
    "for i in range(7):\n",
    "    print(KL_local(p_array[i]))"
   ]
  },
  {
   "cell_type": "code",
   "execution_count": 32,
   "metadata": {
    "scrolled": true
   },
   "outputs": [
    {
     "name": "stderr",
     "output_type": "stream",
     "text": [
      "100%|██████████| 569/569 [00:05<00:00, 113.74it/s]\n",
      "100%|██████████| 569/569 [00:03<00:00, 163.41it/s]\n"
     ]
    },
    {
     "name": "stdout",
     "output_type": "stream",
     "text": [
      "C = 15.09692400276303\n",
      "\tIteration 1  mae 0.119186 // rmse 0.153918 \n"
     ]
    },
    {
     "name": "stderr",
     "output_type": "stream",
     "text": [
      "100%|██████████| 569/569 [00:05<00:00, 110.08it/s]\n",
      "100%|██████████| 569/569 [00:03<00:00, 170.46it/s]\n"
     ]
    },
    {
     "name": "stdout",
     "output_type": "stream",
     "text": [
      "C = 15.035986995639504\n",
      "\tIteration 2  mae 0.120838 // rmse 0.155738 \n"
     ]
    },
    {
     "name": "stderr",
     "output_type": "stream",
     "text": [
      "100%|██████████| 569/569 [00:05<00:00, 108.54it/s]\n",
      "100%|██████████| 569/569 [00:03<00:00, 162.74it/s]\n"
     ]
    },
    {
     "name": "stdout",
     "output_type": "stream",
     "text": [
      "C = 14.976445091719306\n",
      "\tIteration 3  mae 0.122493 // rmse 0.157564 \n"
     ]
    },
    {
     "name": "stderr",
     "output_type": "stream",
     "text": [
      "100%|██████████| 569/569 [00:05<00:00, 109.95it/s]\n",
      "100%|██████████| 569/569 [00:03<00:00, 167.33it/s]\n"
     ]
    },
    {
     "name": "stdout",
     "output_type": "stream",
     "text": [
      "C = 14.918281227520248\n",
      "\tIteration 4  mae 0.124147 // rmse 0.159394 \n"
     ]
    },
    {
     "name": "stderr",
     "output_type": "stream",
     "text": [
      " 97%|█████████▋| 554/569 [00:05<00:00, 102.33it/s]\n"
     ]
    },
    {
     "ename": "KeyboardInterrupt",
     "evalue": "",
     "output_type": "error",
     "traceback": [
      "\u001b[0;31m---------------------------------------------------------------------------\u001b[0m",
      "\u001b[0;31mKeyboardInterrupt\u001b[0m                         Traceback (most recent call last)",
      "\u001b[0;32m<ipython-input-32-80100fabab61>\u001b[0m in \u001b[0;36m<module>\u001b[0;34m()\u001b[0m\n\u001b[1;32m      1\u001b[0m \u001b[0malpha\u001b[0m \u001b[0;34m=\u001b[0m \u001b[0;36m0.05\u001b[0m\u001b[0;34m\u001b[0m\u001b[0m\n\u001b[0;32m----> 2\u001b[0;31m \u001b[0mdfr\u001b[0m \u001b[0;34m=\u001b[0m \u001b[0miterative_process\u001b[0m\u001b[0;34m(\u001b[0m\u001b[0mupdate_sne\u001b[0m\u001b[0;34m,\u001b[0m \u001b[0mmax_iter\u001b[0m\u001b[0;34m=\u001b[0m\u001b[0;36m150\u001b[0m\u001b[0;34m,\u001b[0m \u001b[0mverbose\u001b[0m\u001b[0;34m=\u001b[0m\u001b[0;32mTrue\u001b[0m\u001b[0;34m)\u001b[0m\u001b[0;34m\u001b[0m\u001b[0m\n\u001b[0m",
      "\u001b[0;32m<ipython-input-25-7b8545c0a3cb>\u001b[0m in \u001b[0;36miterative_process\u001b[0;34m(update_function, max_iter, verbose, percentage)\u001b[0m\n\u001b[1;32m      2\u001b[0m     \u001b[0mdf_result\u001b[0m \u001b[0;34m=\u001b[0m \u001b[0mpd\u001b[0m\u001b[0;34m.\u001b[0m\u001b[0mDataFrame\u001b[0m\u001b[0;34m(\u001b[0m\u001b[0mnp\u001b[0m\u001b[0;34m.\u001b[0m\u001b[0mzeros\u001b[0m\u001b[0;34m(\u001b[0m\u001b[0;34m(\u001b[0m\u001b[0mmax_iter\u001b[0m\u001b[0;34m,\u001b[0m \u001b[0;36m2\u001b[0m\u001b[0;34m)\u001b[0m\u001b[0;34m)\u001b[0m\u001b[0;34m,\u001b[0m \u001b[0mcolumns\u001b[0m\u001b[0;34m=\u001b[0m\u001b[0;34m[\u001b[0m\u001b[0;34m'mae'\u001b[0m\u001b[0;34m,\u001b[0m \u001b[0;34m'rmse'\u001b[0m\u001b[0;34m]\u001b[0m\u001b[0;34m)\u001b[0m\u001b[0;34m\u001b[0m\u001b[0m\n\u001b[1;32m      3\u001b[0m     \u001b[0;32mfor\u001b[0m \u001b[0mi\u001b[0m \u001b[0;32min\u001b[0m \u001b[0mrange\u001b[0m\u001b[0;34m(\u001b[0m\u001b[0mmax_iter\u001b[0m\u001b[0;34m)\u001b[0m\u001b[0;34m:\u001b[0m\u001b[0;34m\u001b[0m\u001b[0m\n\u001b[0;32m----> 4\u001b[0;31m         \u001b[0mupdate_function\u001b[0m\u001b[0;34m(\u001b[0m\u001b[0;34m)\u001b[0m\u001b[0;34m\u001b[0m\u001b[0m\n\u001b[0m\u001b[1;32m      5\u001b[0m         \u001b[0;32mif\u001b[0m \u001b[0mpercentage\u001b[0m\u001b[0;34m:\u001b[0m\u001b[0;34m\u001b[0m\u001b[0m\n\u001b[1;32m      6\u001b[0m             \u001b[0mmae\u001b[0m \u001b[0;34m=\u001b[0m \u001b[0mfunctions\u001b[0m\u001b[0;34m.\u001b[0m\u001b[0mget_mape\u001b[0m\u001b[0;34m(\u001b[0m\u001b[0marr_raw\u001b[0m\u001b[0;34m,\u001b[0m \u001b[0marr_pred\u001b[0m\u001b[0;34m,\u001b[0m \u001b[0mnan_coords\u001b[0m\u001b[0;34m)\u001b[0m\u001b[0;34m\u001b[0m\u001b[0m\n",
      "\u001b[0;32m<ipython-input-31-ea980eac9eac>\u001b[0m in \u001b[0;36mupdate_sne\u001b[0;34m()\u001b[0m\n\u001b[1;32m     26\u001b[0m         \u001b[0my_array\u001b[0m\u001b[0;34m.\u001b[0m\u001b[0mappend\u001b[0m\u001b[0;34m(\u001b[0m\u001b[0my_momentum\u001b[0m\u001b[0;34m)\u001b[0m\u001b[0;34m\u001b[0m\u001b[0m\n\u001b[1;32m     27\u001b[0m \u001b[0;34m\u001b[0m\u001b[0m\n\u001b[0;32m---> 28\u001b[0;31m     \u001b[0mP2_table\u001b[0m \u001b[0;34m=\u001b[0m \u001b[0mget_p2_table\u001b[0m\u001b[0;34m(\u001b[0m\u001b[0;34m)\u001b[0m\u001b[0;34m\u001b[0m\u001b[0m\n\u001b[0m\u001b[1;32m     29\u001b[0m     \u001b[0mc\u001b[0m \u001b[0;34m=\u001b[0m \u001b[0mKL\u001b[0m\u001b[0;34m(\u001b[0m\u001b[0mP2_table\u001b[0m\u001b[0;34m)\u001b[0m\u001b[0;34m\u001b[0m\u001b[0m\n\u001b[1;32m     30\u001b[0m     \u001b[0mprint\u001b[0m\u001b[0;34m(\u001b[0m\u001b[0;34m'C = {}'\u001b[0m\u001b[0;34m.\u001b[0m\u001b[0mformat\u001b[0m\u001b[0;34m(\u001b[0m\u001b[0mc\u001b[0m\u001b[0;34m)\u001b[0m\u001b[0;34m)\u001b[0m\u001b[0;34m\u001b[0m\u001b[0m\n",
      "\u001b[0;32m<ipython-input-28-c0cc9074300b>\u001b[0m in \u001b[0;36mget_p2_table\u001b[0;34m()\u001b[0m\n\u001b[1;32m      8\u001b[0m \u001b[0;34m\u001b[0m\u001b[0m\n\u001b[1;32m      9\u001b[0m \u001b[0;32mdef\u001b[0m \u001b[0mget_p2_table\u001b[0m\u001b[0;34m(\u001b[0m\u001b[0;34m)\u001b[0m\u001b[0;34m:\u001b[0m\u001b[0;34m\u001b[0m\u001b[0m\n\u001b[0;32m---> 10\u001b[0;31m     \u001b[0mExp2_table\u001b[0m \u001b[0;34m=\u001b[0m \u001b[0mget_exp2_table\u001b[0m\u001b[0;34m(\u001b[0m\u001b[0;34m)\u001b[0m\u001b[0;34m\u001b[0m\u001b[0m\n\u001b[0m\u001b[1;32m     11\u001b[0m     \u001b[0mP2_table\u001b[0m \u001b[0;34m=\u001b[0m \u001b[0mnp\u001b[0m\u001b[0;34m.\u001b[0m\u001b[0mzeros\u001b[0m\u001b[0;34m(\u001b[0m\u001b[0;34m(\u001b[0m\u001b[0mn\u001b[0m\u001b[0;34m,\u001b[0m \u001b[0mn\u001b[0m\u001b[0;34m)\u001b[0m\u001b[0;34m)\u001b[0m\u001b[0;34m\u001b[0m\u001b[0m\n\u001b[1;32m     12\u001b[0m     \u001b[0;32mfor\u001b[0m \u001b[0mi\u001b[0m \u001b[0;32min\u001b[0m \u001b[0mtqdm\u001b[0m\u001b[0;34m(\u001b[0m\u001b[0mrange\u001b[0m\u001b[0;34m(\u001b[0m\u001b[0mn\u001b[0m\u001b[0;34m)\u001b[0m\u001b[0;34m)\u001b[0m\u001b[0;34m:\u001b[0m\u001b[0;34m\u001b[0m\u001b[0m\n",
      "\u001b[0;32m<ipython-input-28-c0cc9074300b>\u001b[0m in \u001b[0;36mget_exp2_table\u001b[0;34m()\u001b[0m\n\u001b[1;32m      3\u001b[0m     \u001b[0;32mfor\u001b[0m \u001b[0mi\u001b[0m \u001b[0;32min\u001b[0m \u001b[0mtqdm\u001b[0m\u001b[0;34m(\u001b[0m\u001b[0mrange\u001b[0m\u001b[0;34m(\u001b[0m\u001b[0mn\u001b[0m\u001b[0;34m)\u001b[0m\u001b[0;34m)\u001b[0m\u001b[0;34m:\u001b[0m\u001b[0;34m\u001b[0m\u001b[0m\n\u001b[1;32m      4\u001b[0m         \u001b[0;32mfor\u001b[0m \u001b[0mj\u001b[0m \u001b[0;32min\u001b[0m \u001b[0mrange\u001b[0m\u001b[0;34m(\u001b[0m\u001b[0mn\u001b[0m\u001b[0;34m)\u001b[0m\u001b[0;34m:\u001b[0m\u001b[0;34m\u001b[0m\u001b[0m\n\u001b[0;32m----> 5\u001b[0;31m             \u001b[0mExp2_table\u001b[0m\u001b[0;34m[\u001b[0m\u001b[0mi\u001b[0m\u001b[0;34m]\u001b[0m\u001b[0;34m[\u001b[0m\u001b[0mj\u001b[0m\u001b[0;34m]\u001b[0m \u001b[0;34m=\u001b[0m \u001b[0mnp\u001b[0m\u001b[0;34m.\u001b[0m\u001b[0mexp\u001b[0m\u001b[0;34m(\u001b[0m\u001b[0;34m-\u001b[0m\u001b[0msq\u001b[0m\u001b[0;34m(\u001b[0m\u001b[0marr_pred\u001b[0m\u001b[0;34m[\u001b[0m\u001b[0mi\u001b[0m\u001b[0;34m]\u001b[0m \u001b[0;34m-\u001b[0m \u001b[0marr_pred\u001b[0m\u001b[0;34m[\u001b[0m\u001b[0mj\u001b[0m\u001b[0;34m]\u001b[0m\u001b[0;34m)\u001b[0m\u001b[0;34m)\u001b[0m\u001b[0;34m\u001b[0m\u001b[0m\n\u001b[0m\u001b[1;32m      6\u001b[0m \u001b[0;31m#             Exp2_table[i][j] = np.exp(-norm(arr_pred[i] - arr_pred[j])**2)\u001b[0m\u001b[0;34m\u001b[0m\u001b[0;34m\u001b[0m\u001b[0m\n\u001b[1;32m      7\u001b[0m     \u001b[0;32mreturn\u001b[0m \u001b[0mExp2_table\u001b[0m\u001b[0;34m\u001b[0m\u001b[0m\n",
      "\u001b[0;32m<ipython-input-2-4f4dba79db9b>\u001b[0m in \u001b[0;36msq\u001b[0;34m(a)\u001b[0m\n\u001b[1;32m     17\u001b[0m \u001b[0;34m\u001b[0m\u001b[0m\n\u001b[1;32m     18\u001b[0m \u001b[0;32mdef\u001b[0m \u001b[0msq\u001b[0m\u001b[0;34m(\u001b[0m\u001b[0ma\u001b[0m\u001b[0;34m)\u001b[0m\u001b[0;34m:\u001b[0m\u001b[0;34m\u001b[0m\u001b[0m\n\u001b[0;32m---> 19\u001b[0;31m     \u001b[0;32mreturn\u001b[0m \u001b[0mnp\u001b[0m\u001b[0;34m.\u001b[0m\u001b[0mdot\u001b[0m\u001b[0;34m(\u001b[0m\u001b[0ma\u001b[0m\u001b[0;34m,\u001b[0m \u001b[0ma\u001b[0m\u001b[0;34m)\u001b[0m\u001b[0;34m\u001b[0m\u001b[0m\n\u001b[0m",
      "\u001b[0;31mKeyboardInterrupt\u001b[0m: "
     ]
    }
   ],
   "source": [
    "alpha = 0.05\n",
    "dfr = iterative_process(update_sne, max_iter=150, verbose=True)"
   ]
  },
  {
   "cell_type": "code",
   "execution_count": null,
   "metadata": {},
   "outputs": [],
   "source": [
    "s = 0\n",
    "for i in range(n):\n",
    "    for j in range(n):\n",
    "        s += P1_table[j][i] * np.log(P1_table[j][i] / P2_table[j][i])\n",
    "    print(s)\n",
    "return s"
   ]
  },
  {
   "cell_type": "markdown",
   "metadata": {},
   "source": [
    "# AVO APPROACH\n",
    "Единственный подход, который не содержит оптимизайионный подход"
   ]
  },
  {
   "cell_type": "code",
   "execution_count": 37,
   "metadata": {},
   "outputs": [],
   "source": [
    "def get_epsilons(data):\n",
    "    def get_e(a):\n",
    "        return np.abs(a - a[:, None]).mean()\n",
    "    return np.array([get_e(feat) for feat in data.T])"
   ]
  },
  {
   "cell_type": "code",
   "execution_count": 38,
   "metadata": {},
   "outputs": [],
   "source": [
    "def get_gamma(data, x, k, epsilons=None):\n",
    "    if epsilons is not None:\n",
    "        Gamma = 0\n",
    "        for x_i in data:\n",
    "            d = (np.abs(x_i - x) < epsilons).sum()\n",
    "            Gamma += functions.Cnk(d, k)\n",
    "        return Gamma\n",
    "    # расстояния между парами объектов   \n",
    "    n = data.shape[0]\n",
    "    n_feat = data.shape[1]\n",
    "    maps = np.zeros(data.T.shape)\n",
    "    for i in range(n_feat):\n",
    "        maps[i] = data.T[i] <= x[i] \n",
    "    maps = maps.T\n",
    "    Gamma = 0\n",
    "    for i in tqdm(range(n)):\n",
    "        for j in range(i, n):\n",
    "            d = (maps[i] + maps[j] == 1).sum()\n",
    "            Gamma += functions.Cnk(d, k)\n",
    "    return Gamma*2/(n*(n-1))"
   ]
  },
  {
   "cell_type": "code",
   "execution_count": 39,
   "metadata": {},
   "outputs": [],
   "source": [
    "def predict(data, y, x, k, epsilons=None, scores=False):\n",
    "    # WTF ZERO\n",
    "    n_class = max(y) + 1\n",
    "    g_classes = np.zeros(n_class)\n",
    "    y = y.values \n",
    "    for i in range(n_class):\n",
    "        c_data = data[y == i]\n",
    "        g_classes[i] = get_gamma(c_data, x, k, epsilons)\n",
    "    if scores:\n",
    "        return g_classes\n",
    "    return np.argmax(g_classes)\n",
    "\n",
    "def predict_vect(X_train, y_train, X_test, k, epsilons=None, scores=False):\n",
    "    return np.array([predict(X_train, y_train, x, k, epsilons, scores) for x in X_test])"
   ]
  },
  {
   "cell_type": "code",
   "execution_count": 40,
   "metadata": {},
   "outputs": [],
   "source": [
    "# итеративный процесс\n",
    "def solve_avo(df, x, y):\n",
    "    x_mask = df.iloc[:, y].isnull() \n",
    "    x_mask = x_mask[~x_mask].index # маска по объектам для трейна\n",
    "    y_mask = df.isnull().sum() > 0 \n",
    "    y_mask = y_mask[~y_mask].index # маска по по признакам для трейна/теста\n",
    "    \n",
    "    X_train = df.iloc[x_mask, y_mask]\n",
    "    X_test = df.iloc[x, y_mask].values.reshape(1, -1)\n",
    "\n",
    "    y_train_raw = df.iloc[x_mask, y]\n",
    "    y_train = y_train_raw.rank(method='dense').astype(int) - 1\n",
    "    \n",
    "    eps = get_epsilons(X_train.values)\n",
    "    gammas_ki = predict(X_train.values, y_train, X_test, 3, eps, True)\n",
    "    sizes_ki = y_train.value_counts().sort_index().values\n",
    "    \n",
    "    full_range = np.array(range(sizes_ki.size))\n",
    "    sort_index = solve_avo_gap(gammas_ki, sizes_ki, full_range)\n",
    "    return y_train_raw.sort_values().iloc[sort_index]\n",
    "    \n",
    "def solve_avo_gap(gammas_ki, sizes_ki, full_range):\n",
    "#     print(full_range)\n",
    "    if len(full_range) == 1:\n",
    "        return full_range[0]\n",
    "    left_range = full_range[:full_range.size//2]\n",
    "    right_range = full_range[full_range.size//2:]\n",
    "    left_score = get_gamma_range(gammas_ki, sizes_ki, left_range)\n",
    "    right_score = get_gamma_range(gammas_ki, sizes_ki, right_range)\n",
    "    if left_score < right_score:\n",
    "        return solve_avo_gap(gammas_ki, sizes_ki, right_range)\n",
    "    else:\n",
    "        return solve_avo_gap(gammas_ki, sizes_ki, left_range)\n",
    "        \n",
    "def get_gamma_range(gammas_ki, sizes_ki, y_range):\n",
    "    sum_gammas = gammas_ki[y_range].sum()\n",
    "    sum_sizes = sizes_ki[y_range].sum()\n",
    "    if sum_sizes == 0:\n",
    "        return 0\n",
    "    return sum_gammas/sum_sizes"
   ]
  },
  {
   "cell_type": "code",
   "execution_count": null,
   "metadata": {
    "scrolled": false
   },
   "outputs": [
    {
     "name": "stderr",
     "output_type": "stream",
     "text": [
      " 45%|████▌     | 252/560 [00:15<00:19, 15.78it/s]"
     ]
    }
   ],
   "source": [
    "# по всем пропускам из таблицы запускаем и проходим\n",
    "for x, y in tqdm(nan_coords):\n",
    "    arr_pred[x, y] = solve_avo(df, x, y)"
   ]
  },
  {
   "cell_type": "code",
   "execution_count": null,
   "metadata": {},
   "outputs": [],
   "source": [
    "# for x, y in tqdm(nan_coords):\n",
    "#     print(arr_pred[x, y])"
   ]
  },
  {
   "cell_type": "code",
   "execution_count": null,
   "metadata": {},
   "outputs": [],
   "source": [
    "mae = functions.get_mae(arr_raw, arr_pred, nan_coords)\n",
    "rmse = functions.get_rmse(arr_raw, arr_pred, nan_coords)\n",
    "print(mae, rmse)"
   ]
  },
  {
   "cell_type": "code",
   "execution_count": null,
   "metadata": {},
   "outputs": [],
   "source": [
    "\n",
    "7.62472820045 14.1056553537"
   ]
  }
 ],
 "metadata": {
  "kernelspec": {
   "display_name": "Python 3",
   "language": "python",
   "name": "python3"
  },
  "language_info": {
   "codemirror_mode": {
    "name": "ipython",
    "version": 3
   },
   "file_extension": ".py",
   "mimetype": "text/x-python",
   "name": "python",
   "nbconvert_exporter": "python",
   "pygments_lexer": "ipython3",
   "version": "3.6.3"
  }
 },
 "nbformat": 4,
 "nbformat_minor": 2
}
