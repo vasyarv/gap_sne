{
 "cells": [
  {
   "cell_type": "code",
   "execution_count": 1,
   "metadata": {},
   "outputs": [],
   "source": [
    "%load_ext autoreload\n",
    "%autoreload 2"
   ]
  },
  {
   "cell_type": "code",
   "execution_count": 2,
   "metadata": {},
   "outputs": [
    {
     "name": "stdout",
     "output_type": "stream",
     "text": [
      "Populating the interactive namespace from numpy and matplotlib\n"
     ]
    }
   ],
   "source": [
    "import pandas as pd\n",
    "import numpy as np\n",
    "np.random.seed(132)\n",
    "from functools import lru_cache\n",
    "\n",
    "import sys\n",
    "\n",
    "CODE_PATH = '../code'\n",
    "\n",
    "sys.path.append(CODE_PATH)\n",
    "import functions\n",
    "\n",
    "\n",
    "from scipy.optimize import minimize\n",
    "from tqdm import tqdm\n",
    "%pylab inline"
   ]
  },
  {
   "cell_type": "markdown",
   "metadata": {},
   "source": [
    "# Load Data"
   ]
  },
  {
   "cell_type": "code",
   "execution_count": 9,
   "metadata": {},
   "outputs": [],
   "source": [
    "from sklearn.datasets import load_linnerud, load_iris, load_boston, load_breast_cancer, load_wine, load_digits\n",
    "\n",
    "dataset = load_linnerud()\n",
    "# dataset = load_boston()\n",
    "# dataset = load_wine()\n",
    "df = pd.DataFrame(dataset['data'])\n",
    "target = dataset['target']"
   ]
  },
  {
   "cell_type": "code",
   "execution_count": 15,
   "metadata": {},
   "outputs": [
    {
     "name": "stdout",
     "output_type": "stream",
     "text": [
      "(4177, 8)\n"
     ]
    },
    {
     "data": {
      "text/html": [
       "<div>\n",
       "<style>\n",
       "    .dataframe thead tr:only-child th {\n",
       "        text-align: right;\n",
       "    }\n",
       "\n",
       "    .dataframe thead th {\n",
       "        text-align: left;\n",
       "    }\n",
       "\n",
       "    .dataframe tbody tr th {\n",
       "        vertical-align: top;\n",
       "    }\n",
       "</style>\n",
       "<table border=\"1\" class=\"dataframe\">\n",
       "  <thead>\n",
       "    <tr style=\"text-align: right;\">\n",
       "      <th></th>\n",
       "      <th>1</th>\n",
       "      <th>2</th>\n",
       "      <th>3</th>\n",
       "      <th>4</th>\n",
       "      <th>5</th>\n",
       "      <th>6</th>\n",
       "      <th>7</th>\n",
       "      <th>8</th>\n",
       "    </tr>\n",
       "  </thead>\n",
       "  <tbody>\n",
       "    <tr>\n",
       "      <th>0</th>\n",
       "      <td>-0.093233</td>\n",
       "      <td>-0.072069</td>\n",
       "      <td>-0.039395</td>\n",
       "      <td>-0.111472</td>\n",
       "      <td>-0.090698</td>\n",
       "      <td>-0.104797</td>\n",
       "      <td>-0.088521</td>\n",
       "      <td>0.180940</td>\n",
       "    </tr>\n",
       "    <tr>\n",
       "      <th>1</th>\n",
       "      <td>-0.235124</td>\n",
       "      <td>-0.240137</td>\n",
       "      <td>-0.043820</td>\n",
       "      <td>-0.213650</td>\n",
       "      <td>-0.174760</td>\n",
       "      <td>-0.173922</td>\n",
       "      <td>-0.168242</td>\n",
       "      <td>-0.104774</td>\n",
       "    </tr>\n",
       "    <tr>\n",
       "      <th>2</th>\n",
       "      <td>0.008119</td>\n",
       "      <td>0.020368</td>\n",
       "      <td>-0.003997</td>\n",
       "      <td>-0.053743</td>\n",
       "      <td>-0.069178</td>\n",
       "      <td>-0.051473</td>\n",
       "      <td>-0.028730</td>\n",
       "      <td>-0.033346</td>\n",
       "    </tr>\n",
       "    <tr>\n",
       "      <th>3</th>\n",
       "      <td>-0.113503</td>\n",
       "      <td>-0.072069</td>\n",
       "      <td>-0.012846</td>\n",
       "      <td>-0.110764</td>\n",
       "      <td>-0.096750</td>\n",
       "      <td>-0.087681</td>\n",
       "      <td>-0.083538</td>\n",
       "      <td>0.002368</td>\n",
       "    </tr>\n",
       "    <tr>\n",
       "      <th>4</th>\n",
       "      <td>-0.262151</td>\n",
       "      <td>-0.256943</td>\n",
       "      <td>-0.052669</td>\n",
       "      <td>-0.220911</td>\n",
       "      <td>-0.181485</td>\n",
       "      <td>-0.185772</td>\n",
       "      <td>-0.183190</td>\n",
       "      <td>-0.104774</td>\n",
       "    </tr>\n",
       "  </tbody>\n",
       "</table>\n",
       "</div>"
      ],
      "text/plain": [
       "          1         2         3         4         5         6         7  \\\n",
       "0 -0.093233 -0.072069 -0.039395 -0.111472 -0.090698 -0.104797 -0.088521   \n",
       "1 -0.235124 -0.240137 -0.043820 -0.213650 -0.174760 -0.173922 -0.168242   \n",
       "2  0.008119  0.020368 -0.003997 -0.053743 -0.069178 -0.051473 -0.028730   \n",
       "3 -0.113503 -0.072069 -0.012846 -0.110764 -0.096750 -0.087681 -0.083538   \n",
       "4 -0.262151 -0.256943 -0.052669 -0.220911 -0.181485 -0.185772 -0.183190   \n",
       "\n",
       "          8  \n",
       "0  0.180940  \n",
       "1 -0.104774  \n",
       "2 -0.033346  \n",
       "3  0.002368  \n",
       "4 -0.104774  "
      ]
     },
     "execution_count": 15,
     "metadata": {},
     "output_type": "execute_result"
    }
   ],
   "source": [
    "df = pd.read_csv('../data/abalone.csv', header=None)\n",
    "df = df.drop(0, 1)\n",
    "df = (df - df.mean())/(df.max() - df.min())\n",
    "df0 = df.copy()\n",
    "print(df.shape)\n",
    "df.head()"
   ]
  },
  {
   "cell_type": "markdown",
   "metadata": {},
   "source": [
    "## Insert NaNs"
   ]
  },
  {
   "cell_type": "code",
   "execution_count": null,
   "metadata": {},
   "outputs": [],
   "source": [
    "num_nan_cols = 3\n",
    "nan_fraction = 0.4\n",
    "nan_cols = np.random.random_integers(0, df.shape[1] - 1, num_nan_cols)\n",
    "# print(df.isnull().mean())\n",
    "for col in set(nan_cols):\n",
    "    df.loc[df.sample(int(nan_fraction * len(df))).index, col] = np.nan\n",
    "# print(df.isnull().mean())\n",
    "# print(df.isnull().mean())\n",
    "\n",
    "nan_coords = np.array(np.where(df.isnull().values)).T\n",
    "print('Num nan places: {}'.format(nan_coords.shape[0]))"
   ]
  },
  {
   "cell_type": "code",
   "execution_count": null,
   "metadata": {},
   "outputs": [],
   "source": [
    "df1 = df.loc[:, df.isnull().sum() == 0]\n",
    "df2 = df.fillna(df.mean())\n",
    "print(df1.shape, df2.shape)\n",
    "arr_nan = df.values # с пропусками\n",
    "arr_raw = df0.values # исходные\n",
    "arr_known = df1.values # суженные до известных признаков\n",
    "arr_pred = df2.values # текущие предсказанные "
   ]
  },
  {
   "cell_type": "code",
   "execution_count": null,
   "metadata": {},
   "outputs": [],
   "source": [
    "def iterative_process(update_function, max_iter=20, verbose=True):\n",
    "    df_result = pd.DataFrame(np.zeros((max_iter, 2)), columns=['mae', 'rmse'])\n",
    "    for i in range(max_iter):\n",
    "        update_function()\n",
    "        mae = functions.get_mae(arr_raw, arr_pred, nan_coords)\n",
    "        rmse = functions.get_rmse(arr_raw, arr_pred, nan_coords)\n",
    "        df_result.loc[i, 'mae'] = mae\n",
    "        df_result.loc[i, 'rmse'] = rmse\n",
    "        if verbose:\n",
    "            print('\\tIteration {}  mae {:.6} // rmse {:.6} '.format(i+1, mae, rmse))\n",
    "    return df_result"
   ]
  },
  {
   "cell_type": "markdown",
   "metadata": {},
   "source": [
    "# Local Approach"
   ]
  },
  {
   "cell_type": "code",
   "execution_count": null,
   "metadata": {},
   "outputs": [],
   "source": [
    "from sklearn.neighbors import NearestNeighbors\n",
    "k_local = 3\n",
    "nbrs = NearestNeighbors(n_neighbors=k_local, algorithm='ball_tree').fit(arr_pred)\n",
    "\n",
    "def get_delta_vec(teta):\n",
    "    deltas = []\n",
    "    _, heighbours = nbrs.kneighbors(arr_pred)\n",
    "    for i, j in nan_coords:\n",
    "        mean_neigh = arr_pred[heighbours[i]].mean(axis=0)[j]\n",
    "        deltas.append(teta*(mean_neigh - arr_pred[i][j]))\n",
    "    return np.array(deltas)\n",
    "\n",
    "teta = 0.1\n",
    "def update_local():\n",
    "    deltas = get_delta_vec(teta)\n",
    "    nbrs = NearestNeighbors(n_neighbors=k_local, algorithm='ball_tree').fit(arr_pred) # пересчитываем\n",
    "    for j, (x,y) in enumerate(nan_coords):\n",
    "        arr_pred[x, y] += deltas[j]"
   ]
  },
  {
   "cell_type": "code",
   "execution_count": null,
   "metadata": {},
   "outputs": [],
   "source": [
    "dfr = iterative_process(update_local, max_iter=20, verbose=True)"
   ]
  },
  {
   "cell_type": "markdown",
   "metadata": {},
   "source": [
    "# Optimization Approach"
   ]
  },
  {
   "cell_type": "code",
   "execution_count": null,
   "metadata": {},
   "outputs": [],
   "source": [
    "def sq(a):\n",
    "    return np.dot(a, a)\n",
    "\n",
    "n = len(df0)\n",
    "\n",
    "def get_known_table():\n",
    "    ro_known_table = np.zeros((n, n))\n",
    "    for i in tqdm(range(n)):\n",
    "        for j in range(i, n):\n",
    "            idx_nan_i = np.isnan(arr_nan[i])\n",
    "            idx_nan_j = np.isnan(arr_nan[j])\n",
    "            idx = ~idx_nan_i & ~idx_nan_j\n",
    "            x_i = arr_nan[i, idx]\n",
    "            x_j = arr_nan[j, idx]\n",
    "            ro_known_table[i, j] = ro_known_table[j, i] = sq(x_i - x_j)\n",
    "    return ro_known_table\n",
    "\n",
    "def get_ro_1_unknown_table():\n",
    "    ro_1_unknown_table = np.zeros((n, n))\n",
    "    #это ro прибавить там где 1 компонента\n",
    "    for i in tqdm(range(n)):\n",
    "        for j in range(i, n):\n",
    "            idx_nan_i = np.isnan(arr_nan[i])\n",
    "            idx_nan_j = np.isnan(arr_nan[j])\n",
    "            idx = (idx_nan_i & ~idx_nan_j) | (~idx_nan_i & idx_nan_j)\n",
    "            x_i = arr_pred[i, idx]\n",
    "            x_j = arr_pred[j, idx]\n",
    "            ro_1_unknown_table[i, j] = ro_1_unknown_table[j, i] = sq(x_i - x_j)\n",
    "    return ro_1_unknown_table\n",
    "\n",
    "# по всем признакам\n",
    "def get_ro_2_unknown_table():\n",
    "    '''\n",
    "    при первом запуске обычно 0, так как заполняю пропуски ОДНИМ И ТЕМ ЖЕ СРЕДНИМ ЗНАЧЕНИЕМ\n",
    "    '''\n",
    "    ro_2_unknown_table = np.zeros((n, n))\n",
    "    for i in tqdm(range(n)):\n",
    "        for j in range(i+1, n):\n",
    "            idx_nan_i = np.isnan(arr_nan[i])\n",
    "            idx_nan_j = np.isnan(arr_nan[j])\n",
    "            idx = (idx_nan_i & idx_nan_j)\n",
    "            x_i = arr_pred[i, idx]\n",
    "            x_j = arr_pred[j, idx]\n",
    "            ro_2_unknown_table[i, j] = ro_2_unknown_table[j, i] = sq(x_i - x_j)\n",
    "    return ro_2_unknown_table"
   ]
  },
  {
   "cell_type": "code",
   "execution_count": null,
   "metadata": {},
   "outputs": [],
   "source": [
    "ro_known_table = get_known_table()\n",
    "ro_1_unknown_table = get_ro_1_unknown_table()\n",
    "ro_2_unknown_table = get_ro_2_unknown_table() # здесь какого-то хера одни нули!!!"
   ]
  },
  {
   "cell_type": "code",
   "execution_count": null,
   "metadata": {},
   "outputs": [],
   "source": [
    "def F_functional(k_arr, ro_1_unknown_table, ro_2_unknown_table, ftype='f1'):\n",
    "    f = 0\n",
    "    for i in tqdm(range(n)):\n",
    "        for j in range(i+1, n):\n",
    "            ro1 = ro_known_table[i, j] # известно оба \n",
    "            ro2 = ro_1_unknown_table[i, j] # известен 1 \n",
    "            ro3 = ro_2_unknown_table[i, j] # не известно ниче\n",
    "            \n",
    "            r1 = np.sqrt(ro1 + ro2 + ro3) #по всем признакам(р)\n",
    "            if ftype == 'f1':\n",
    "                r2 = np.sqrt(ro1) # по известным признакам(р+)\n",
    "            else:\n",
    "                r2 = np.sqrt(ro1 + ro2)\n",
    "            f += (r1 - k_arr[i, j]*r2)**2\n",
    "    return f"
   ]
  },
  {
   "cell_type": "code",
   "execution_count": null,
   "metadata": {},
   "outputs": [],
   "source": [
    "### ПРОВЕРИТЬ ГРАДИЕНТ НА 0 ДЛЯ Ф2\n",
    "\n",
    "def grad_component(i, j, k_arr, ftype='f1'):\n",
    "    s = 0\n",
    "    for i1 in range(n):\n",
    "        ro1 = ro_known_table[i, i1]\n",
    "        if ro1 <= 0:\n",
    "            continue\n",
    "        if i1 == i:\n",
    "            continue\n",
    "        ro2 = ro_1_unknown_table[i, i1]\n",
    "        ro3 = ro_2_unknown_table[i, i1]\n",
    "        \n",
    "        if ftype == 'f2':\n",
    "            r1 = np.sqrt(ro1 + ro2 + ro3) #по всем признакам(р)\n",
    "            r2 = np.sqrt(ro1 + ro2) # по известным признакам(р+)\n",
    "            delta_x1 = (arr_pred[i, j] - arr_pred[i1, j])\n",
    "            if not np.isnan(arr_nan[i1, j]):\n",
    "                delta_x2 = delta_x1\n",
    "            else:\n",
    "                delta_x2 = 0\n",
    "            delta_s = 2*(r1 - k_arr[i1, i]*r2)*(delta_x1/r1 - k_arr[i1, i]*delta_x2/r2)\n",
    "#             print(1 - k_arr[i1, i]*r2/r1)\n",
    "            s += delta_s\n",
    "        else:\n",
    "            r1 = np.sqrt(ro1 + ro2 + ro3) #по всем признакам(р)\n",
    "            r2 = np.sqrt(ro1) # по известным признакам(р+)\n",
    "            s += 2 * (1 - k_arr[i1, i]*r2/r1) * (arr_pred[i, j] - arr_pred[i1, j])\n",
    "    return s\n",
    "\n",
    "def get_full_grad(nan_coords, k_arr, ro_1_unknown_table, ro_2_unknown_table, ftype='f1'):\n",
    "    grad = []\n",
    "    for i, j in nan_coords:\n",
    "        grad.append(grad_component(i, j, k_arr, ftype))\n",
    "    return np.array(grad)"
   ]
  },
  {
   "cell_type": "code",
   "execution_count": null,
   "metadata": {},
   "outputs": [],
   "source": [
    "k_arr = np.ones((n, n))\n",
    "ftype = 'f1'\n",
    "c = F_functional(k_arr, ro_1_unknown_table, ro_2_unknown_table, ftype)"
   ]
  },
  {
   "cell_type": "code",
   "execution_count": null,
   "metadata": {},
   "outputs": [],
   "source": [
    "# Для F2 нужно делать не единички, а нормировать\n",
    "# k_arr[i, j] = n - n2 / n (то есть все признаки без двух пропусков/на все признаки)\n",
    "k_arr = np.ones((n, n))\n",
    "alpha = 2\n",
    "for i in tqdm(range(n)):\n",
    "    for j in range(i+1, n):\n",
    "        idx_nan_i = np.isnan(arr_nan[i])\n",
    "        idx_nan_j = np.isnan(arr_nan[j])\n",
    "        idx = (idx_nan_i & idx_nan_j)\n",
    "        k_arr[i, j] = k_arr[j, i] = (n - idx.sum()) / n\n",
    "ftype = 'f2'\n",
    "c = F_functional(k_arr, ro_1_unknown_table, ro_2_unknown_table, ftype)"
   ]
  },
  {
   "cell_type": "code",
   "execution_count": null,
   "metadata": {},
   "outputs": [],
   "source": [
    "grad = get_full_grad(nan_coords, k_arr, ro_1_unknown_table, ro_2_unknown_table, ftype)"
   ]
  },
  {
   "cell_type": "code",
   "execution_count": null,
   "metadata": {},
   "outputs": [],
   "source": [
    "c_array = []\n",
    "\n",
    "ro1t = []\n",
    "ro2t = []\n",
    "def update_opt():\n",
    "    global ro_1_unknown_table, ro_2_unknown_table\n",
    "    grad = get_full_grad(nan_coords, k_arr, ro_1_unknown_table, ro_2_unknown_table, ftype)\n",
    "    for j, (x,y) in enumerate(nan_coords):\n",
    "        arr_pred[x, y] = arr_pred[x, y] - alpha*grad[j]\n",
    "        \n",
    "    ro_1_unknown_table = get_ro_1_unknown_table()\n",
    "    ro_2_unknown_table = get_ro_2_unknown_table()\n",
    "    c = F_functional(k_arr, ro_1_unknown_table, ro_2_unknown_table, ftype)\n",
    "    c_array.append(c)\n",
    "    ro1t.append(ro_1_unknown_table)\n",
    "    ro2t.append(ro_2_unknown_table)"
   ]
  },
  {
   "cell_type": "code",
   "execution_count": null,
   "metadata": {},
   "outputs": [],
   "source": [
    "c_array, ftype\n"
   ]
  },
  {
   "cell_type": "code",
   "execution_count": null,
   "metadata": {},
   "outputs": [],
   "source": [
    "for i in range(7):\n",
    "    print((ro2t[i] - ro2t[i+1]).max())"
   ]
  },
  {
   "cell_type": "code",
   "execution_count": null,
   "metadata": {},
   "outputs": [],
   "source": [
    "max_iter = 30\n",
    "\n",
    "dfr = iterative_process(update_opt, max_iter=20, verbose=True)"
   ]
  },
  {
   "cell_type": "markdown",
   "metadata": {},
   "source": [
    "# SNE Approach"
   ]
  },
  {
   "cell_type": "code",
   "execution_count": null,
   "metadata": {},
   "outputs": [],
   "source": [
    "n = len(df0)\n",
    "# таблица старых значений\n",
    "Exp1_table = np.zeros((n, n))\n",
    "for i in tqdm(range(n)):\n",
    "    for j in range(n):\n",
    "        Exp1_table[i][j] = np.exp(-norm(arr_known[i] - arr_known[j])**2)\n",
    "        \n",
    "P1_table = np.zeros((n, n))\n",
    "for i in tqdm(range(n)):\n",
    "    for j in range(n):\n",
    "        a = Exp1_table[j][i]\n",
    "        b = Exp1_table[i].sum() - 1 # 1 = Exp1_table[i][i]\n",
    "        P1_table[j][i] = a / b"
   ]
  },
  {
   "cell_type": "code",
   "execution_count": null,
   "metadata": {},
   "outputs": [],
   "source": [
    "def get_exp2_table():\n",
    "    Exp2_table = np.zeros((n, n))\n",
    "    for i in tqdm(range(n)):\n",
    "        for j in range(n):\n",
    "            Exp2_table[i][j] = np.exp(-norm(arr_pred[i] - arr_pred[j])**2)\n",
    "    return Exp2_table\n",
    "\n",
    "def get_p2_table():\n",
    "    Exp2_table = get_exp2_table()\n",
    "    P2_table = np.zeros((n, n))\n",
    "    for i in tqdm(range(n)):\n",
    "        for j in range(n):\n",
    "            a = Exp2_table[j][i]\n",
    "            b = Exp2_table[i].sum() - 1 # 1 = Exp1_table[i][i]\n",
    "            P2_table[j][i] = a / b\n",
    "    return P2_table\n",
    "P2_table = get_p2_table()"
   ]
  },
  {
   "cell_type": "code",
   "execution_count": null,
   "metadata": {},
   "outputs": [],
   "source": [
    "def KL():\n",
    "    s = 0\n",
    "    for i in range(n):\n",
    "        for j in range(n):\n",
    "            s += P1_table[j][i] * np.log(P1_table[j][i] / P2_table[j][i])\n",
    "    return s\n",
    "\n",
    "def get_grad_sne(i1, i2):\n",
    "    def get_i_part(i):\n",
    "        d = 2*(arr_pred[i1][i2] - arr_pred[i][i2])\n",
    "        s = (P1_table[i1][i]+P1_table[i][i1]) - \\\n",
    "            P2_table[i1][i]*(1+P1_table[i][i]) - \\\n",
    "            P2_table[i][i1]*(1+P1_table[i1][i1])\n",
    "        return s*d\n",
    "    return sum(get_i_part(i) for i in range(n) if i!=i1)\n",
    "\n",
    "def get_full_grad_sne(nan_coords):\n",
    "    n_gaps = len(nan_coords)\n",
    "    grad = np.zeros(n_gaps)\n",
    "    for i in range(n_gaps):\n",
    "        i1, i2 = nan_coords[i]\n",
    "        grad[i] = get_grad_sne(i1, i2)\n",
    "    return grad"
   ]
  },
  {
   "cell_type": "code",
   "execution_count": null,
   "metadata": {},
   "outputs": [],
   "source": [
    "def update_sne():\n",
    "    grad = get_full_grad_sne(nan_coords)\n",
    "    for j, (x,y) in enumerate(nan_coords):\n",
    "        arr_pred[x, y] = arr_pred[x, y] - alpha*grad[j]\n",
    "    P2_table = get_p2_table()\n",
    "    c = KL()\n",
    "    c_array.append(c)"
   ]
  },
  {
   "cell_type": "code",
   "execution_count": null,
   "metadata": {},
   "outputs": [],
   "source": [
    "alpha = 0.15\n",
    "c_array = []\n",
    "dfr = iterative_process(update_sne, max_iter=150, verbose=True)"
   ]
  },
  {
   "cell_type": "markdown",
   "metadata": {},
   "source": [
    "# AVO APPROACH\n",
    "Единственный подход, который не содержит оптимизайионный подход"
   ]
  },
  {
   "cell_type": "code",
   "execution_count": null,
   "metadata": {},
   "outputs": [],
   "source": [
    "def Cnk(n, k):\n",
    "    a = b = c = tmp = 1\n",
    "    for i in range(1, n+1):\n",
    "        tmp *= i\n",
    "        if i == n-k:\n",
    "            a = tmp\n",
    "        if i == k:\n",
    "            b = tmp\n",
    "        if i == n:\n",
    "            c = tmp\n",
    "    return c / (a*b)"
   ]
  },
  {
   "cell_type": "code",
   "execution_count": null,
   "metadata": {},
   "outputs": [],
   "source": [
    "def get_epsilons(data):\n",
    "    def get_e(a):\n",
    "        return np.abs(a - a[:, None]).mean()\n",
    "    return np.array([get_e(feat) for feat in data.T])"
   ]
  },
  {
   "cell_type": "code",
   "execution_count": null,
   "metadata": {},
   "outputs": [],
   "source": [
    "def get_gamma(data, x, k, epsilons=None):\n",
    "    '''\n",
    "    необходимо вернуть кол-во пар values которые a<x<b\n",
    "    a1 ... a_i < x < a_i+1 ... an\n",
    "    '''\n",
    "    if epsilons is not None:\n",
    "        Gamma = 0\n",
    "        for x_i in data:\n",
    "            d = (np.abs(x_i - x) < epsilons).sum()\n",
    "            Gamma += Cnk(d, k)\n",
    "        return Gamma\n",
    "    # расстояния между парами объектов   \n",
    "    n = data.shape[0]\n",
    "    n_feat = data.shape[1]\n",
    "    maps = np.zeros(data.T.shape)\n",
    "    for i in range(n_feat):\n",
    "        maps[i] = data.T[i] <= x[i] \n",
    "    maps = maps.T\n",
    "    Gamma = 0\n",
    "    for i in tqdm(range(n)):\n",
    "        for j in range(i, n):\n",
    "            d = (maps[i] + maps[j] == 1).sum()\n",
    "            Gamma += Cnk(d, k)\n",
    "    return Gamma*2/(n*(n-1))"
   ]
  },
  {
   "cell_type": "code",
   "execution_count": null,
   "metadata": {},
   "outputs": [],
   "source": [
    "def predict(data, y, x, k, epsilons=None, scores=False):\n",
    "    n_class = max(y) + 1\n",
    "    g_classes = np.zeros(n_class)\n",
    "    for i in range(n_class):\n",
    "        c_data = data[y == i]\n",
    "        g_classes[i] = get_gamma(c_data, x, k, epsilons)\n",
    "    if scores:\n",
    "        return g_classes\n",
    "    return np.argmax(g_classes)\n",
    "\n",
    "def predict_vect(X_train, y_train, X_test, k, epsilons=None, scores=False):\n",
    "    return np.array([predict(X_train, y_train, x, k, epsilons, scores) for x in X_test])"
   ]
  },
  {
   "cell_type": "code",
   "execution_count": null,
   "metadata": {},
   "outputs": [],
   "source": [
    "# итеративный процесс\n",
    "def solve_avo(df, x, y):\n",
    "    x_mask = df.iloc[:, y].isnull()\n",
    "    y_mask = df.isnull().sum() > 0\n",
    "    y_mask = y_mask[~y_mask].index\n",
    "\n",
    "    X_train = df.iloc[x_mask[~x_mask].index, y_mask]\n",
    "    X_test = df.iloc[x, y_mask].values.reshape(1, -1)\n",
    "\n",
    "    y_train_raw = df.iloc[x_mask[~x_mask].index, y]\n",
    "    y_train = np.argsort(y_train_raw)\n",
    "    \n",
    "    eps = get_epsilons(X_train.values)\n",
    "    gammas_ki = predict(X_train.values, y_train, X_test, 3, eps, True)\n",
    "    sizes_ki = y_train.value_counts().sort_index().values\n",
    "    full_range = np.array(range(sizes_ki.size))\n",
    "    sort_index = solve_avo_gap(gammas_ki, sizes_ki, full_range)\n",
    "    return y_train_raw.sort_values().iloc[sort_index]\n",
    "    \n",
    "def solve_avo_gap(gammas_ki, sizes_ki, full_range):\n",
    "#     print(full_range)\n",
    "    if len(full_range) == 1:\n",
    "        return full_range[0]\n",
    "    left_range = full_range[:full_range.size//2]\n",
    "    right_range = full_range[full_range.size//2:]\n",
    "    left_score = get_gamma_range(gammas_ki, sizes_ki, left_range)\n",
    "    right_score = get_gamma_range(gammas_ki, sizes_ki, right_range)\n",
    "    if left_score < right_score:\n",
    "        return solve_avo_gap(gammas_ki, sizes_ki, right_range)\n",
    "    else:\n",
    "        return solve_avo_gap(gammas_ki, sizes_ki, left_range)\n",
    "        \n",
    "def get_gamma_range(gammas_ki, sizes_ki, y_range):\n",
    "    sum_gammas = gammas_ki[y_range].sum()\n",
    "    sum_sizes = sizes_ki[y_range].sum()\n",
    "    if sum_sizes == 0:\n",
    "        return 0\n",
    "    return sum_gammas/sum_sizes"
   ]
  },
  {
   "cell_type": "code",
   "execution_count": null,
   "metadata": {},
   "outputs": [],
   "source": [
    "# по всем пропускам из таблицы запускаем и проходим\n",
    "for x, y in tqdm(nan_coords):\n",
    "    arr_pred[x, y] = solve_avo(df, x, y)"
   ]
  },
  {
   "cell_type": "code",
   "execution_count": null,
   "metadata": {},
   "outputs": [],
   "source": [
    "mae = functions.get_mae(arr_raw, arr_pred, nan_coords)\n",
    "rmse = functions.get_rmse(arr_raw, arr_pred, nan_coords)\n",
    "print(mae, rmse)"
   ]
  },
  {
   "cell_type": "code",
   "execution_count": null,
   "metadata": {},
   "outputs": [],
   "source": [
    "arr_pred"
   ]
  }
 ],
 "metadata": {
  "kernelspec": {
   "display_name": "Python 3",
   "language": "python",
   "name": "python3"
  },
  "language_info": {
   "codemirror_mode": {
    "name": "ipython",
    "version": 3
   },
   "file_extension": ".py",
   "mimetype": "text/x-python",
   "name": "python",
   "nbconvert_exporter": "python",
   "pygments_lexer": "ipython3",
   "version": "3.6.3"
  }
 },
 "nbformat": 4,
 "nbformat_minor": 2
}
