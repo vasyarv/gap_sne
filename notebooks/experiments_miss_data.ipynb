{
 "cells": [
  {
   "cell_type": "code",
   "execution_count": 110,
   "metadata": {},
   "outputs": [
    {
     "name": "stdout",
     "output_type": "stream",
     "text": [
      "The autoreload extension is already loaded. To reload it, use:\n",
      "  %reload_ext autoreload\n"
     ]
    }
   ],
   "source": [
    "%load_ext autoreload\n",
    "%autoreload 2"
   ]
  },
  {
   "cell_type": "code",
   "execution_count": 111,
   "metadata": {},
   "outputs": [
    {
     "name": "stdout",
     "output_type": "stream",
     "text": [
      "Populating the interactive namespace from numpy and matplotlib\n"
     ]
    }
   ],
   "source": [
    "import pandas as pd\n",
    "import numpy as np\n",
    "np.random.seed(132)\n",
    "from functools import lru_cache\n",
    "\n",
    "import sys\n",
    "\n",
    "CODE_PATH = '../code'\n",
    "\n",
    "sys.path.append(CODE_PATH)\n",
    "import functions\n",
    "\n",
    "\n",
    "from scipy.optimize import minimize\n",
    "from tqdm import tqdm\n",
    "%pylab inline\n",
    "\n",
    "def sq(a):\n",
    "    return np.dot(a, a)"
   ]
  },
  {
   "cell_type": "markdown",
   "metadata": {},
   "source": [
    "# Load Data"
   ]
  },
  {
   "cell_type": "code",
   "execution_count": 112,
   "metadata": {},
   "outputs": [
    {
     "data": {
      "text/html": [
       "<div>\n",
       "<style>\n",
       "    .dataframe thead tr:only-child th {\n",
       "        text-align: right;\n",
       "    }\n",
       "\n",
       "    .dataframe thead th {\n",
       "        text-align: left;\n",
       "    }\n",
       "\n",
       "    .dataframe tbody tr th {\n",
       "        vertical-align: top;\n",
       "    }\n",
       "</style>\n",
       "<table border=\"1\" class=\"dataframe\">\n",
       "  <thead>\n",
       "    <tr style=\"text-align: right;\">\n",
       "      <th></th>\n",
       "      <th>0</th>\n",
       "      <th>1</th>\n",
       "      <th>2</th>\n",
       "      <th>3</th>\n",
       "      <th>4</th>\n",
       "      <th>5</th>\n",
       "      <th>6</th>\n",
       "      <th>7</th>\n",
       "      <th>8</th>\n",
       "      <th>9</th>\n",
       "      <th>...</th>\n",
       "      <th>20</th>\n",
       "      <th>21</th>\n",
       "      <th>22</th>\n",
       "      <th>23</th>\n",
       "      <th>24</th>\n",
       "      <th>25</th>\n",
       "      <th>26</th>\n",
       "      <th>27</th>\n",
       "      <th>28</th>\n",
       "      <th>29</th>\n",
       "    </tr>\n",
       "  </thead>\n",
       "  <tbody>\n",
       "    <tr>\n",
       "      <th>0</th>\n",
       "      <td>17.99</td>\n",
       "      <td>10.38</td>\n",
       "      <td>122.80</td>\n",
       "      <td>1001.0</td>\n",
       "      <td>0.11840</td>\n",
       "      <td>0.27760</td>\n",
       "      <td>0.3001</td>\n",
       "      <td>0.14710</td>\n",
       "      <td>0.2419</td>\n",
       "      <td>0.07871</td>\n",
       "      <td>...</td>\n",
       "      <td>25.38</td>\n",
       "      <td>17.33</td>\n",
       "      <td>184.60</td>\n",
       "      <td>2019.0</td>\n",
       "      <td>0.1622</td>\n",
       "      <td>0.6656</td>\n",
       "      <td>0.7119</td>\n",
       "      <td>0.2654</td>\n",
       "      <td>0.4601</td>\n",
       "      <td>0.11890</td>\n",
       "    </tr>\n",
       "    <tr>\n",
       "      <th>1</th>\n",
       "      <td>20.57</td>\n",
       "      <td>17.77</td>\n",
       "      <td>132.90</td>\n",
       "      <td>1326.0</td>\n",
       "      <td>0.08474</td>\n",
       "      <td>0.07864</td>\n",
       "      <td>0.0869</td>\n",
       "      <td>0.07017</td>\n",
       "      <td>0.1812</td>\n",
       "      <td>0.05667</td>\n",
       "      <td>...</td>\n",
       "      <td>24.99</td>\n",
       "      <td>23.41</td>\n",
       "      <td>158.80</td>\n",
       "      <td>1956.0</td>\n",
       "      <td>0.1238</td>\n",
       "      <td>0.1866</td>\n",
       "      <td>0.2416</td>\n",
       "      <td>0.1860</td>\n",
       "      <td>0.2750</td>\n",
       "      <td>0.08902</td>\n",
       "    </tr>\n",
       "    <tr>\n",
       "      <th>2</th>\n",
       "      <td>19.69</td>\n",
       "      <td>21.25</td>\n",
       "      <td>130.00</td>\n",
       "      <td>1203.0</td>\n",
       "      <td>0.10960</td>\n",
       "      <td>0.15990</td>\n",
       "      <td>0.1974</td>\n",
       "      <td>0.12790</td>\n",
       "      <td>0.2069</td>\n",
       "      <td>0.05999</td>\n",
       "      <td>...</td>\n",
       "      <td>23.57</td>\n",
       "      <td>25.53</td>\n",
       "      <td>152.50</td>\n",
       "      <td>1709.0</td>\n",
       "      <td>0.1444</td>\n",
       "      <td>0.4245</td>\n",
       "      <td>0.4504</td>\n",
       "      <td>0.2430</td>\n",
       "      <td>0.3613</td>\n",
       "      <td>0.08758</td>\n",
       "    </tr>\n",
       "    <tr>\n",
       "      <th>3</th>\n",
       "      <td>11.42</td>\n",
       "      <td>20.38</td>\n",
       "      <td>77.58</td>\n",
       "      <td>386.1</td>\n",
       "      <td>0.14250</td>\n",
       "      <td>0.28390</td>\n",
       "      <td>0.2414</td>\n",
       "      <td>0.10520</td>\n",
       "      <td>0.2597</td>\n",
       "      <td>0.09744</td>\n",
       "      <td>...</td>\n",
       "      <td>14.91</td>\n",
       "      <td>26.50</td>\n",
       "      <td>98.87</td>\n",
       "      <td>567.7</td>\n",
       "      <td>0.2098</td>\n",
       "      <td>0.8663</td>\n",
       "      <td>0.6869</td>\n",
       "      <td>0.2575</td>\n",
       "      <td>0.6638</td>\n",
       "      <td>0.17300</td>\n",
       "    </tr>\n",
       "    <tr>\n",
       "      <th>4</th>\n",
       "      <td>20.29</td>\n",
       "      <td>14.34</td>\n",
       "      <td>135.10</td>\n",
       "      <td>1297.0</td>\n",
       "      <td>0.10030</td>\n",
       "      <td>0.13280</td>\n",
       "      <td>0.1980</td>\n",
       "      <td>0.10430</td>\n",
       "      <td>0.1809</td>\n",
       "      <td>0.05883</td>\n",
       "      <td>...</td>\n",
       "      <td>22.54</td>\n",
       "      <td>16.67</td>\n",
       "      <td>152.20</td>\n",
       "      <td>1575.0</td>\n",
       "      <td>0.1374</td>\n",
       "      <td>0.2050</td>\n",
       "      <td>0.4000</td>\n",
       "      <td>0.1625</td>\n",
       "      <td>0.2364</td>\n",
       "      <td>0.07678</td>\n",
       "    </tr>\n",
       "  </tbody>\n",
       "</table>\n",
       "<p>5 rows × 30 columns</p>\n",
       "</div>"
      ],
      "text/plain": [
       "      0      1       2       3        4        5       6        7       8   \\\n",
       "0  17.99  10.38  122.80  1001.0  0.11840  0.27760  0.3001  0.14710  0.2419   \n",
       "1  20.57  17.77  132.90  1326.0  0.08474  0.07864  0.0869  0.07017  0.1812   \n",
       "2  19.69  21.25  130.00  1203.0  0.10960  0.15990  0.1974  0.12790  0.2069   \n",
       "3  11.42  20.38   77.58   386.1  0.14250  0.28390  0.2414  0.10520  0.2597   \n",
       "4  20.29  14.34  135.10  1297.0  0.10030  0.13280  0.1980  0.10430  0.1809   \n",
       "\n",
       "        9    ...        20     21      22      23      24      25      26  \\\n",
       "0  0.07871   ...     25.38  17.33  184.60  2019.0  0.1622  0.6656  0.7119   \n",
       "1  0.05667   ...     24.99  23.41  158.80  1956.0  0.1238  0.1866  0.2416   \n",
       "2  0.05999   ...     23.57  25.53  152.50  1709.0  0.1444  0.4245  0.4504   \n",
       "3  0.09744   ...     14.91  26.50   98.87   567.7  0.2098  0.8663  0.6869   \n",
       "4  0.05883   ...     22.54  16.67  152.20  1575.0  0.1374  0.2050  0.4000   \n",
       "\n",
       "       27      28       29  \n",
       "0  0.2654  0.4601  0.11890  \n",
       "1  0.1860  0.2750  0.08902  \n",
       "2  0.2430  0.3613  0.08758  \n",
       "3  0.2575  0.6638  0.17300  \n",
       "4  0.1625  0.2364  0.07678  \n",
       "\n",
       "[5 rows x 30 columns]"
      ]
     },
     "execution_count": 112,
     "metadata": {},
     "output_type": "execute_result"
    }
   ],
   "source": [
    "from sklearn.datasets import load_linnerud, load_iris, load_boston, load_breast_cancer, load_wine, load_digits\n",
    "\n",
    "# dataset = load_linnerud()\n",
    "# dataset = load_boston()\n",
    "dataset = load_boston()\n",
    "dataset = load_breast_cancer()\n",
    "df = pd.DataFrame(dataset['data'])\n",
    "target = dataset['target']\n",
    "df.head()"
   ]
  },
  {
   "cell_type": "code",
   "execution_count": null,
   "metadata": {},
   "outputs": [],
   "source": [
    "df = pd.read_csv('../data/abalone.csv', header=None)\n",
    "df = df.drop(0, 1)"
   ]
  },
  {
   "cell_type": "code",
   "execution_count": 113,
   "metadata": {},
   "outputs": [],
   "source": [
    "# НОРМИРОВКА НА СРЕДНЕЕ, МОЖНО ОПУСТИТЬ ИНОГДА\n",
    "df = (df - df.mean())/(df.max() - df.min())"
   ]
  },
  {
   "cell_type": "code",
   "execution_count": 114,
   "metadata": {},
   "outputs": [
    {
     "name": "stdout",
     "output_type": "stream",
     "text": [
      "(569, 30)\n"
     ]
    },
    {
     "data": {
      "text/html": [
       "<div>\n",
       "<style>\n",
       "    .dataframe thead tr:only-child th {\n",
       "        text-align: right;\n",
       "    }\n",
       "\n",
       "    .dataframe thead th {\n",
       "        text-align: left;\n",
       "    }\n",
       "\n",
       "    .dataframe tbody tr th {\n",
       "        vertical-align: top;\n",
       "    }\n",
       "</style>\n",
       "<table border=\"1\" class=\"dataframe\">\n",
       "  <thead>\n",
       "    <tr style=\"text-align: right;\">\n",
       "      <th></th>\n",
       "      <th>0</th>\n",
       "      <th>1</th>\n",
       "      <th>2</th>\n",
       "      <th>3</th>\n",
       "      <th>4</th>\n",
       "      <th>5</th>\n",
       "      <th>6</th>\n",
       "      <th>7</th>\n",
       "      <th>8</th>\n",
       "      <th>9</th>\n",
       "      <th>...</th>\n",
       "      <th>20</th>\n",
       "      <th>21</th>\n",
       "      <th>22</th>\n",
       "      <th>23</th>\n",
       "      <th>24</th>\n",
       "      <th>25</th>\n",
       "      <th>26</th>\n",
       "      <th>27</th>\n",
       "      <th>28</th>\n",
       "      <th>29</th>\n",
       "    </tr>\n",
       "  </thead>\n",
       "  <tbody>\n",
       "    <tr>\n",
       "      <th>0</th>\n",
       "      <td>0.182815</td>\n",
       "      <td>-0.301307</td>\n",
       "      <td>0.213053</td>\n",
       "      <td>0.146813</td>\n",
       "      <td>0.198968</td>\n",
       "      <td>0.531437</td>\n",
       "      <td>0.495081</td>\n",
       "      <td>0.487976</td>\n",
       "      <td>0.306758</td>\n",
       "      <td>0.335139</td>\n",
       "      <td>...</td>\n",
       "      <td>0.324113</td>\n",
       "      <td>-0.222474</td>\n",
       "      <td>0.385173</td>\n",
       "      <td>0.279792</td>\n",
       "      <td>0.196998</td>\n",
       "      <td>0.399079</td>\n",
       "      <td>0.351207</td>\n",
       "      <td>0.518192</td>\n",
       "      <td>0.335156</td>\n",
       "      <td>0.229268</td>\n",
       "    </tr>\n",
       "    <tr>\n",
       "      <th>1</th>\n",
       "      <td>0.304923</td>\n",
       "      <td>-0.051392</td>\n",
       "      <td>0.282848</td>\n",
       "      <td>0.284671</td>\n",
       "      <td>-0.104905</td>\n",
       "      <td>-0.078833</td>\n",
       "      <td>-0.004450</td>\n",
       "      <td>0.105621</td>\n",
       "      <td>0.000193</td>\n",
       "      <td>-0.129057</td>\n",
       "      <td>...</td>\n",
       "      <td>0.310239</td>\n",
       "      <td>-0.060427</td>\n",
       "      <td>0.256680</td>\n",
       "      <td>0.264308</td>\n",
       "      <td>-0.056585</td>\n",
       "      <td>-0.065649</td>\n",
       "      <td>-0.024432</td>\n",
       "      <td>0.245339</td>\n",
       "      <td>-0.029717</td>\n",
       "      <td>0.033282</td>\n",
       "    </tr>\n",
       "    <tr>\n",
       "      <th>2</th>\n",
       "      <td>0.263274</td>\n",
       "      <td>0.066295</td>\n",
       "      <td>0.262808</td>\n",
       "      <td>0.232497</td>\n",
       "      <td>0.119524</td>\n",
       "      <td>0.170416</td>\n",
       "      <td>0.254453</td>\n",
       "      <td>0.392549</td>\n",
       "      <td>0.129991</td>\n",
       "      <td>-0.059132</td>\n",
       "      <td>...</td>\n",
       "      <td>0.259723</td>\n",
       "      <td>-0.003924</td>\n",
       "      <td>0.225304</td>\n",
       "      <td>0.203602</td>\n",
       "      <td>0.079452</td>\n",
       "      <td>0.165163</td>\n",
       "      <td>0.142341</td>\n",
       "      <td>0.441216</td>\n",
       "      <td>0.140399</td>\n",
       "      <td>0.023837</td>\n",
       "    </tr>\n",
       "    <tr>\n",
       "      <th>3</th>\n",
       "      <td>-0.128132</td>\n",
       "      <td>0.036874</td>\n",
       "      <td>-0.099434</td>\n",
       "      <td>-0.114014</td>\n",
       "      <td>0.416536</td>\n",
       "      <td>0.550761</td>\n",
       "      <td>0.357546</td>\n",
       "      <td>0.279726</td>\n",
       "      <td>0.396657</td>\n",
       "      <td>0.729621</td>\n",
       "      <td>...</td>\n",
       "      <td>-0.048353</td>\n",
       "      <td>0.021929</td>\n",
       "      <td>-0.041791</td>\n",
       "      <td>-0.076898</td>\n",
       "      <td>0.511335</td>\n",
       "      <td>0.593799</td>\n",
       "      <td>0.331239</td>\n",
       "      <td>0.491044</td>\n",
       "      <td>0.736693</td>\n",
       "      <td>0.584115</td>\n",
       "    </tr>\n",
       "    <tr>\n",
       "      <th>4</th>\n",
       "      <td>0.291671</td>\n",
       "      <td>-0.167388</td>\n",
       "      <td>0.298051</td>\n",
       "      <td>0.272369</td>\n",
       "      <td>0.035567</td>\n",
       "      <td>0.087292</td>\n",
       "      <td>0.255859</td>\n",
       "      <td>0.275253</td>\n",
       "      <td>-0.001323</td>\n",
       "      <td>-0.083564</td>\n",
       "      <td>...</td>\n",
       "      <td>0.223081</td>\n",
       "      <td>-0.240065</td>\n",
       "      <td>0.223810</td>\n",
       "      <td>0.170669</td>\n",
       "      <td>0.033226</td>\n",
       "      <td>-0.047797</td>\n",
       "      <td>0.102086</td>\n",
       "      <td>0.164583</td>\n",
       "      <td>-0.105806</td>\n",
       "      <td>-0.047001</td>\n",
       "    </tr>\n",
       "  </tbody>\n",
       "</table>\n",
       "<p>5 rows × 30 columns</p>\n",
       "</div>"
      ],
      "text/plain": [
       "         0         1         2         3         4         5         6   \\\n",
       "0  0.182815 -0.301307  0.213053  0.146813  0.198968  0.531437  0.495081   \n",
       "1  0.304923 -0.051392  0.282848  0.284671 -0.104905 -0.078833 -0.004450   \n",
       "2  0.263274  0.066295  0.262808  0.232497  0.119524  0.170416  0.254453   \n",
       "3 -0.128132  0.036874 -0.099434 -0.114014  0.416536  0.550761  0.357546   \n",
       "4  0.291671 -0.167388  0.298051  0.272369  0.035567  0.087292  0.255859   \n",
       "\n",
       "         7         8         9     ...           20        21        22  \\\n",
       "0  0.487976  0.306758  0.335139    ...     0.324113 -0.222474  0.385173   \n",
       "1  0.105621  0.000193 -0.129057    ...     0.310239 -0.060427  0.256680   \n",
       "2  0.392549  0.129991 -0.059132    ...     0.259723 -0.003924  0.225304   \n",
       "3  0.279726  0.396657  0.729621    ...    -0.048353  0.021929 -0.041791   \n",
       "4  0.275253 -0.001323 -0.083564    ...     0.223081 -0.240065  0.223810   \n",
       "\n",
       "         23        24        25        26        27        28        29  \n",
       "0  0.279792  0.196998  0.399079  0.351207  0.518192  0.335156  0.229268  \n",
       "1  0.264308 -0.056585 -0.065649 -0.024432  0.245339 -0.029717  0.033282  \n",
       "2  0.203602  0.079452  0.165163  0.142341  0.441216  0.140399  0.023837  \n",
       "3 -0.076898  0.511335  0.593799  0.331239  0.491044  0.736693  0.584115  \n",
       "4  0.170669  0.033226 -0.047797  0.102086  0.164583 -0.105806 -0.047001  \n",
       "\n",
       "[5 rows x 30 columns]"
      ]
     },
     "execution_count": 114,
     "metadata": {},
     "output_type": "execute_result"
    }
   ],
   "source": [
    "df0 = df.copy()\n",
    "print(df.shape)\n",
    "df.head()"
   ]
  },
  {
   "cell_type": "markdown",
   "metadata": {},
   "source": [
    "## Insert NaNs"
   ]
  },
  {
   "cell_type": "code",
   "execution_count": 180,
   "metadata": {},
   "outputs": [
    {
     "name": "stdout",
     "output_type": "stream",
     "text": [
      "Num nan places: 112\n"
     ]
    },
    {
     "name": "stderr",
     "output_type": "stream",
     "text": [
      "/Users/kek/mlenv/lib/python3.6/site-packages/ipykernel_launcher.py:4: DeprecationWarning: This function is deprecated. Please call randint(0, 29 + 1) instead\n",
      "  after removing the cwd from sys.path.\n"
     ]
    }
   ],
   "source": [
    "np.random.seed(183)\n",
    "num_nan_cols = 2\n",
    "nan_fraction = 0.1\n",
    "nan_cols = np.random.random_integers(0, df.shape[1] - 1, num_nan_cols)\n",
    "# print(df.isnull().mean())\n",
    "for col in set(nan_cols):\n",
    "    df.loc[df.sample(int(nan_fraction * len(df))).index, col] = np.nan\n",
    "# print(df.isnull().mean())\n",
    "# print(df.isnull().mean())\n",
    "\n",
    "nan_coords = np.array(np.where(df.isnull().values)).T\n",
    "print('Num nan places: {}'.format(nan_coords.shape[0]))"
   ]
  },
  {
   "cell_type": "code",
   "execution_count": 181,
   "metadata": {},
   "outputs": [
    {
     "name": "stdout",
     "output_type": "stream",
     "text": [
      "(569, 28) (569, 30)\n"
     ]
    }
   ],
   "source": [
    "df1 = df.loc[:, df.isnull().sum() == 0]\n",
    "df2 = df.fillna(df.mean())\n",
    "print(df1.shape, df2.shape)\n",
    "arr_nan = df.values # с пропусками\n",
    "arr_raw = df0.values # исходные\n",
    "arr_known = df1.values # суженные до известных признаков\n",
    "arr_pred = df2.values # текущие предсказанные "
   ]
  },
  {
   "cell_type": "code",
   "execution_count": 182,
   "metadata": {},
   "outputs": [],
   "source": [
    "def iterative_process(update_function, max_iter=20, verbose=True, percentage=False):\n",
    "    df_result = pd.DataFrame(np.zeros((max_iter, 2)), columns=['mae', 'rmse'])\n",
    "    for i in range(max_iter):\n",
    "        update_function()\n",
    "        if percentage:\n",
    "            mae = functions.get_mape(arr_raw, arr_pred, nan_coords)\n",
    "            rmse = functions.get_rmspe(arr_raw, arr_pred, nan_coords)\n",
    "        else:\n",
    "            mae = functions.get_mae(arr_raw, arr_pred, nan_coords)\n",
    "            rmse = functions.get_rmse(arr_raw, arr_pred, nan_coords)\n",
    "        df_result.loc[i, 'mae'] = mae\n",
    "        df_result.loc[i, 'rmse'] = rmse\n",
    "        if verbose:\n",
    "            print('\\tIteration {}  mae {:.6} // rmse {:.6} '.format(i+1, mae, rmse))\n",
    "    return df_result"
   ]
  },
  {
   "cell_type": "markdown",
   "metadata": {},
   "source": [
    "# Local Approach"
   ]
  },
  {
   "cell_type": "code",
   "execution_count": 118,
   "metadata": {},
   "outputs": [],
   "source": [
    "from sklearn.neighbors import NearestNeighbors\n",
    "k_local = 15\n",
    "teta = 1\n",
    "nbrs = NearestNeighbors(n_neighbors=k_local, algorithm='ball_tree').fit(arr_pred)\n",
    "\n",
    "def get_delta_vec(teta):\n",
    "    deltas = []\n",
    "    _, heighbours = nbrs.kneighbors(arr_pred)\n",
    "    for i, j in nan_coords:\n",
    "        mean_neigh = arr_pred[heighbours[i]].mean(axis=0)[j]\n",
    "        deltas.append(teta*(mean_neigh - arr_pred[i][j]))\n",
    "    return np.array(deltas)\n",
    "\n",
    "def update_local():\n",
    "    deltas = get_delta_vec(teta)\n",
    "    nbrs = NearestNeighbors(n_neighbors=k_local, algorithm='ball_tree').fit(arr_pred) # пересчитываем\n",
    "    for j, (x,y) in enumerate(nan_coords):\n",
    "        arr_pred[x, y] += deltas[j]"
   ]
  },
  {
   "cell_type": "code",
   "execution_count": 119,
   "metadata": {},
   "outputs": [
    {
     "name": "stdout",
     "output_type": "stream",
     "text": [
      "\tIteration 1  mae 0.0605836 // rmse 0.0832297 \n",
      "\tIteration 2  mae 0.0502878 // rmse 0.0707116 \n",
      "\tIteration 3  mae 0.0478771 // rmse 0.0675436 \n",
      "\tIteration 4  mae 0.0473691 // rmse 0.0667669 \n",
      "\tIteration 5  mae 0.0473266 // rmse 0.0666889 \n",
      "\tIteration 6  mae 0.0473166 // rmse 0.066677 \n",
      "\tIteration 7  mae 0.0473143 // rmse 0.066675 \n",
      "\tIteration 8  mae 0.0473138 // rmse 0.0666746 \n",
      "\tIteration 9  mae 0.0473137 // rmse 0.0666745 \n",
      "\tIteration 10  mae 0.0473137 // rmse 0.0666745 \n",
      "\tIteration 11  mae 0.0473136 // rmse 0.0666745 \n",
      "\tIteration 12  mae 0.0473136 // rmse 0.0666745 \n",
      "\tIteration 13  mae 0.0473136 // rmse 0.0666745 \n",
      "\tIteration 14  mae 0.0473136 // rmse 0.0666745 \n",
      "\tIteration 15  mae 0.0473136 // rmse 0.0666745 \n",
      "\tIteration 16  mae 0.0473136 // rmse 0.0666745 \n",
      "\tIteration 17  mae 0.0473136 // rmse 0.0666745 \n",
      "\tIteration 18  mae 0.0473136 // rmse 0.0666745 \n",
      "\tIteration 19  mae 0.0473136 // rmse 0.0666745 \n",
      "\tIteration 20  mae 0.0473136 // rmse 0.0666745 \n",
      "\tIteration 21  mae 0.0473136 // rmse 0.0666745 \n",
      "\tIteration 22  mae 0.0473136 // rmse 0.0666745 \n",
      "\tIteration 23  mae 0.0473136 // rmse 0.0666745 \n",
      "\tIteration 24  mae 0.0473136 // rmse 0.0666745 \n",
      "\tIteration 25  mae 0.0473136 // rmse 0.0666745 \n",
      "\tIteration 26  mae 0.0473136 // rmse 0.0666745 \n",
      "\tIteration 27  mae 0.0473136 // rmse 0.0666745 \n",
      "\tIteration 28  mae 0.0473136 // rmse 0.0666745 \n",
      "\tIteration 29  mae 0.0473136 // rmse 0.0666745 \n",
      "\tIteration 30  mae 0.0473136 // rmse 0.0666745 \n",
      "\tIteration 31  mae 0.0473136 // rmse 0.0666745 \n",
      "\tIteration 32  mae 0.0473136 // rmse 0.0666745 \n",
      "\tIteration 33  mae 0.0473136 // rmse 0.0666745 \n",
      "\tIteration 34  mae 0.0473136 // rmse 0.0666745 \n",
      "\tIteration 35  mae 0.0473136 // rmse 0.0666745 \n",
      "\tIteration 36  mae 0.0473136 // rmse 0.0666745 \n",
      "\tIteration 37  mae 0.0473136 // rmse 0.0666745 \n",
      "\tIteration 38  mae 0.0473136 // rmse 0.0666745 \n",
      "\tIteration 39  mae 0.0473136 // rmse 0.0666745 \n",
      "\tIteration 40  mae 0.0473136 // rmse 0.0666745 \n",
      "\tIteration 41  mae 0.0473136 // rmse 0.0666745 \n",
      "\tIteration 42  mae 0.0473136 // rmse 0.0666745 \n",
      "\tIteration 43  mae 0.0473136 // rmse 0.0666745 \n",
      "\tIteration 44  mae 0.0473136 // rmse 0.0666745 \n",
      "\tIteration 45  mae 0.0473136 // rmse 0.0666745 \n",
      "\tIteration 46  mae 0.0473136 // rmse 0.0666745 \n",
      "\tIteration 47  mae 0.0473136 // rmse 0.0666745 \n",
      "\tIteration 48  mae 0.0473136 // rmse 0.0666745 \n",
      "\tIteration 49  mae 0.0473136 // rmse 0.0666745 \n",
      "\tIteration 50  mae 0.0473136 // rmse 0.0666745 \n",
      "\tIteration 51  mae 0.0473136 // rmse 0.0666745 \n",
      "\tIteration 52  mae 0.0473136 // rmse 0.0666745 \n",
      "\tIteration 53  mae 0.0473136 // rmse 0.0666745 \n",
      "\tIteration 54  mae 0.0473136 // rmse 0.0666745 \n",
      "\tIteration 55  mae 0.0473136 // rmse 0.0666745 \n",
      "\tIteration 56  mae 0.0473136 // rmse 0.0666745 \n",
      "\tIteration 57  mae 0.0473136 // rmse 0.0666745 \n",
      "\tIteration 58  mae 0.0473136 // rmse 0.0666745 \n",
      "\tIteration 59  mae 0.0473136 // rmse 0.0666745 \n",
      "\tIteration 60  mae 0.0473136 // rmse 0.0666745 \n",
      "\tIteration 61  mae 0.0473136 // rmse 0.0666745 \n",
      "\tIteration 62  mae 0.0473136 // rmse 0.0666745 \n",
      "\tIteration 63  mae 0.0473136 // rmse 0.0666745 \n",
      "\tIteration 64  mae 0.0473136 // rmse 0.0666745 \n",
      "\tIteration 65  mae 0.0473136 // rmse 0.0666745 \n",
      "\tIteration 66  mae 0.0473136 // rmse 0.0666745 \n",
      "\tIteration 67  mae 0.0473136 // rmse 0.0666745 \n",
      "\tIteration 68  mae 0.0473136 // rmse 0.0666745 \n",
      "\tIteration 69  mae 0.0473136 // rmse 0.0666745 \n",
      "\tIteration 70  mae 0.0473136 // rmse 0.0666745 \n",
      "\tIteration 71  mae 0.0473136 // rmse 0.0666745 \n",
      "\tIteration 72  mae 0.0473136 // rmse 0.0666745 \n",
      "\tIteration 73  mae 0.0473136 // rmse 0.0666745 \n",
      "\tIteration 74  mae 0.0473136 // rmse 0.0666745 \n",
      "\tIteration 75  mae 0.0473136 // rmse 0.0666745 \n",
      "\tIteration 76  mae 0.0473136 // rmse 0.0666745 \n",
      "\tIteration 77  mae 0.0473136 // rmse 0.0666745 \n",
      "\tIteration 78  mae 0.0473136 // rmse 0.0666745 \n",
      "\tIteration 79  mae 0.0473136 // rmse 0.0666745 \n",
      "\tIteration 80  mae 0.0473136 // rmse 0.0666745 \n",
      "\tIteration 81  mae 0.0473136 // rmse 0.0666745 \n",
      "\tIteration 82  mae 0.0473136 // rmse 0.0666745 \n",
      "\tIteration 83  mae 0.0473136 // rmse 0.0666745 \n",
      "\tIteration 84  mae 0.0473136 // rmse 0.0666745 \n",
      "\tIteration 85  mae 0.0473136 // rmse 0.0666745 \n",
      "\tIteration 86  mae 0.0473136 // rmse 0.0666745 \n",
      "\tIteration 87  mae 0.0473136 // rmse 0.0666745 \n",
      "\tIteration 88  mae 0.0473136 // rmse 0.0666745 \n",
      "\tIteration 89  mae 0.0473136 // rmse 0.0666745 \n",
      "\tIteration 90  mae 0.0473136 // rmse 0.0666745 \n",
      "\tIteration 91  mae 0.0473136 // rmse 0.0666745 \n",
      "\tIteration 92  mae 0.0473136 // rmse 0.0666745 \n",
      "\tIteration 93  mae 0.0473136 // rmse 0.0666745 \n",
      "\tIteration 94  mae 0.0473136 // rmse 0.0666745 \n",
      "\tIteration 95  mae 0.0473136 // rmse 0.0666745 \n",
      "\tIteration 96  mae 0.0473136 // rmse 0.0666745 \n",
      "\tIteration 97  mae 0.0473136 // rmse 0.0666745 \n",
      "\tIteration 98  mae 0.0473136 // rmse 0.0666745 \n",
      "\tIteration 99  mae 0.0473136 // rmse 0.0666745 \n",
      "\tIteration 100  mae 0.0473136 // rmse 0.0666745 \n",
      "\tIteration 101  mae 0.0473136 // rmse 0.0666745 \n",
      "\tIteration 102  mae 0.0473136 // rmse 0.0666745 \n",
      "\tIteration 103  mae 0.0473136 // rmse 0.0666745 \n",
      "\tIteration 104  mae 0.0473136 // rmse 0.0666745 \n",
      "\tIteration 105  mae 0.0473136 // rmse 0.0666745 \n",
      "\tIteration 106  mae 0.0473136 // rmse 0.0666745 \n",
      "\tIteration 107  mae 0.0473136 // rmse 0.0666745 \n",
      "\tIteration 108  mae 0.0473136 // rmse 0.0666745 \n",
      "\tIteration 109  mae 0.0473136 // rmse 0.0666745 \n",
      "\tIteration 110  mae 0.0473136 // rmse 0.0666745 \n",
      "\tIteration 111  mae 0.0473136 // rmse 0.0666745 \n",
      "\tIteration 112  mae 0.0473136 // rmse 0.0666745 \n",
      "\tIteration 113  mae 0.0473136 // rmse 0.0666745 \n",
      "\tIteration 114  mae 0.0473136 // rmse 0.0666745 \n",
      "\tIteration 115  mae 0.0473136 // rmse 0.0666745 \n",
      "\tIteration 116  mae 0.0473136 // rmse 0.0666745 \n",
      "\tIteration 117  mae 0.0473136 // rmse 0.0666745 \n",
      "\tIteration 118  mae 0.0473136 // rmse 0.0666745 \n",
      "\tIteration 119  mae 0.0473136 // rmse 0.0666745 \n",
      "\tIteration 120  mae 0.0473136 // rmse 0.0666745 \n",
      "\tIteration 121  mae 0.0473136 // rmse 0.0666745 \n",
      "\tIteration 122  mae 0.0473136 // rmse 0.0666745 \n",
      "\tIteration 123  mae 0.0473136 // rmse 0.0666745 \n",
      "\tIteration 124  mae 0.0473136 // rmse 0.0666745 \n",
      "\tIteration 125  mae 0.0473136 // rmse 0.0666745 \n",
      "\tIteration 126  mae 0.0473136 // rmse 0.0666745 \n",
      "\tIteration 127  mae 0.0473136 // rmse 0.0666745 \n",
      "\tIteration 128  mae 0.0473136 // rmse 0.0666745 \n",
      "\tIteration 129  mae 0.0473136 // rmse 0.0666745 \n",
      "\tIteration 130  mae 0.0473136 // rmse 0.0666745 \n",
      "\tIteration 131  mae 0.0473136 // rmse 0.0666745 \n",
      "\tIteration 132  mae 0.0473136 // rmse 0.0666745 \n",
      "\tIteration 133  mae 0.0473136 // rmse 0.0666745 \n",
      "\tIteration 134  mae 0.0473136 // rmse 0.0666745 \n",
      "\tIteration 135  mae 0.0473136 // rmse 0.0666745 \n",
      "\tIteration 136  mae 0.0473136 // rmse 0.0666745 \n",
      "\tIteration 137  mae 0.0473136 // rmse 0.0666745 \n",
      "\tIteration 138  mae 0.0473136 // rmse 0.0666745 \n",
      "\tIteration 139  mae 0.0473136 // rmse 0.0666745 \n",
      "\tIteration 140  mae 0.0473136 // rmse 0.0666745 \n",
      "\tIteration 141  mae 0.0473136 // rmse 0.0666745 \n",
      "\tIteration 142  mae 0.0473136 // rmse 0.0666745 \n",
      "\tIteration 143  mae 0.0473136 // rmse 0.0666745 \n",
      "\tIteration 144  mae 0.0473136 // rmse 0.0666745 \n",
      "\tIteration 145  mae 0.0473136 // rmse 0.0666745 \n",
      "\tIteration 146  mae 0.0473136 // rmse 0.0666745 \n",
      "\tIteration 147  mae 0.0473136 // rmse 0.0666745 \n",
      "\tIteration 148  mae 0.0473136 // rmse 0.0666745 \n",
      "\tIteration 149  mae 0.0473136 // rmse 0.0666745 \n",
      "\tIteration 150  mae 0.0473136 // rmse 0.0666745 \n",
      "\tIteration 151  mae 0.0473136 // rmse 0.0666745 \n",
      "\tIteration 152  mae 0.0473136 // rmse 0.0666745 \n",
      "\tIteration 153  mae 0.0473136 // rmse 0.0666745 \n",
      "\tIteration 154  mae 0.0473136 // rmse 0.0666745 \n",
      "\tIteration 155  mae 0.0473136 // rmse 0.0666745 \n",
      "\tIteration 156  mae 0.0473136 // rmse 0.0666745 \n",
      "\tIteration 157  mae 0.0473136 // rmse 0.0666745 \n",
      "\tIteration 158  mae 0.0473136 // rmse 0.0666745 \n",
      "\tIteration 159  mae 0.0473136 // rmse 0.0666745 \n",
      "\tIteration 160  mae 0.0473136 // rmse 0.0666745 \n",
      "\tIteration 161  mae 0.0473136 // rmse 0.0666745 \n",
      "\tIteration 162  mae 0.0473136 // rmse 0.0666745 \n",
      "\tIteration 163  mae 0.0473136 // rmse 0.0666745 \n",
      "\tIteration 164  mae 0.0473136 // rmse 0.0666745 \n",
      "\tIteration 165  mae 0.0473136 // rmse 0.0666745 \n",
      "\tIteration 166  mae 0.0473136 // rmse 0.0666745 \n",
      "\tIteration 167  mae 0.0473136 // rmse 0.0666745 \n",
      "\tIteration 168  mae 0.0473136 // rmse 0.0666745 \n",
      "\tIteration 169  mae 0.0473136 // rmse 0.0666745 \n",
      "\tIteration 170  mae 0.0473136 // rmse 0.0666745 \n"
     ]
    },
    {
     "name": "stdout",
     "output_type": "stream",
     "text": [
      "\tIteration 171  mae 0.0473136 // rmse 0.0666745 \n",
      "\tIteration 172  mae 0.0473136 // rmse 0.0666745 \n",
      "\tIteration 173  mae 0.0473136 // rmse 0.0666745 \n",
      "\tIteration 174  mae 0.0473136 // rmse 0.0666745 \n",
      "\tIteration 175  mae 0.0473136 // rmse 0.0666745 \n",
      "\tIteration 176  mae 0.0473136 // rmse 0.0666745 \n",
      "\tIteration 177  mae 0.0473136 // rmse 0.0666745 \n",
      "\tIteration 178  mae 0.0473136 // rmse 0.0666745 \n",
      "\tIteration 179  mae 0.0473136 // rmse 0.0666745 \n",
      "\tIteration 180  mae 0.0473136 // rmse 0.0666745 \n",
      "\tIteration 181  mae 0.0473136 // rmse 0.0666745 \n",
      "\tIteration 182  mae 0.0473136 // rmse 0.0666745 \n",
      "\tIteration 183  mae 0.0473136 // rmse 0.0666745 \n",
      "\tIteration 184  mae 0.0473136 // rmse 0.0666745 \n",
      "\tIteration 185  mae 0.0473136 // rmse 0.0666745 \n",
      "\tIteration 186  mae 0.0473136 // rmse 0.0666745 \n",
      "\tIteration 187  mae 0.0473136 // rmse 0.0666745 \n",
      "\tIteration 188  mae 0.0473136 // rmse 0.0666745 \n",
      "\tIteration 189  mae 0.0473136 // rmse 0.0666745 \n",
      "\tIteration 190  mae 0.0473136 // rmse 0.0666745 \n",
      "\tIteration 191  mae 0.0473136 // rmse 0.0666745 \n",
      "\tIteration 192  mae 0.0473136 // rmse 0.0666745 \n",
      "\tIteration 193  mae 0.0473136 // rmse 0.0666745 \n",
      "\tIteration 194  mae 0.0473136 // rmse 0.0666745 \n",
      "\tIteration 195  mae 0.0473136 // rmse 0.0666745 \n",
      "\tIteration 196  mae 0.0473136 // rmse 0.0666745 \n",
      "\tIteration 197  mae 0.0473136 // rmse 0.0666745 \n",
      "\tIteration 198  mae 0.0473136 // rmse 0.0666745 \n",
      "\tIteration 199  mae 0.0473136 // rmse 0.0666745 \n",
      "\tIteration 200  mae 0.0473136 // rmse 0.0666745 \n",
      "\tIteration 201  mae 0.0473136 // rmse 0.0666745 \n",
      "\tIteration 202  mae 0.0473136 // rmse 0.0666745 \n",
      "\tIteration 203  mae 0.0473136 // rmse 0.0666745 \n",
      "\tIteration 204  mae 0.0473136 // rmse 0.0666745 \n",
      "\tIteration 205  mae 0.0473136 // rmse 0.0666745 \n",
      "\tIteration 206  mae 0.0473136 // rmse 0.0666745 \n",
      "\tIteration 207  mae 0.0473136 // rmse 0.0666745 \n",
      "\tIteration 208  mae 0.0473136 // rmse 0.0666745 \n",
      "\tIteration 209  mae 0.0473136 // rmse 0.0666745 \n",
      "\tIteration 210  mae 0.0473136 // rmse 0.0666745 \n",
      "\tIteration 211  mae 0.0473136 // rmse 0.0666745 \n",
      "\tIteration 212  mae 0.0473136 // rmse 0.0666745 \n",
      "\tIteration 213  mae 0.0473136 // rmse 0.0666745 \n",
      "\tIteration 214  mae 0.0473136 // rmse 0.0666745 \n",
      "\tIteration 215  mae 0.0473136 // rmse 0.0666745 \n",
      "\tIteration 216  mae 0.0473136 // rmse 0.0666745 \n",
      "\tIteration 217  mae 0.0473136 // rmse 0.0666745 \n",
      "\tIteration 218  mae 0.0473136 // rmse 0.0666745 \n",
      "\tIteration 219  mae 0.0473136 // rmse 0.0666745 \n",
      "\tIteration 220  mae 0.0473136 // rmse 0.0666745 \n",
      "\tIteration 221  mae 0.0473136 // rmse 0.0666745 \n",
      "\tIteration 222  mae 0.0473136 // rmse 0.0666745 \n",
      "\tIteration 223  mae 0.0473136 // rmse 0.0666745 \n",
      "\tIteration 224  mae 0.0473136 // rmse 0.0666745 \n",
      "\tIteration 225  mae 0.0473136 // rmse 0.0666745 \n",
      "\tIteration 226  mae 0.0473136 // rmse 0.0666745 \n",
      "\tIteration 227  mae 0.0473136 // rmse 0.0666745 \n",
      "\tIteration 228  mae 0.0473136 // rmse 0.0666745 \n",
      "\tIteration 229  mae 0.0473136 // rmse 0.0666745 \n",
      "\tIteration 230  mae 0.0473136 // rmse 0.0666745 \n",
      "\tIteration 231  mae 0.0473136 // rmse 0.0666745 \n",
      "\tIteration 232  mae 0.0473136 // rmse 0.0666745 \n",
      "\tIteration 233  mae 0.0473136 // rmse 0.0666745 \n",
      "\tIteration 234  mae 0.0473136 // rmse 0.0666745 \n",
      "\tIteration 235  mae 0.0473136 // rmse 0.0666745 \n",
      "\tIteration 236  mae 0.0473136 // rmse 0.0666745 \n",
      "\tIteration 237  mae 0.0473136 // rmse 0.0666745 \n",
      "\tIteration 238  mae 0.0473136 // rmse 0.0666745 \n"
     ]
    },
    {
     "ename": "KeyboardInterrupt",
     "evalue": "",
     "output_type": "error",
     "traceback": [
      "\u001b[0;31m---------------------------------------------------------------------------\u001b[0m",
      "\u001b[0;31mKeyboardInterrupt\u001b[0m                         Traceback (most recent call last)",
      "\u001b[0;32m<ipython-input-119-b8839a0360ed>\u001b[0m in \u001b[0;36m<module>\u001b[0;34m()\u001b[0m\n\u001b[0;32m----> 1\u001b[0;31m \u001b[0mdfr\u001b[0m \u001b[0;34m=\u001b[0m \u001b[0miterative_process\u001b[0m\u001b[0;34m(\u001b[0m\u001b[0mupdate_local\u001b[0m\u001b[0;34m,\u001b[0m \u001b[0mmax_iter\u001b[0m\u001b[0;34m=\u001b[0m\u001b[0;36m1000\u001b[0m\u001b[0;34m,\u001b[0m \u001b[0mverbose\u001b[0m\u001b[0;34m=\u001b[0m\u001b[0;32mTrue\u001b[0m\u001b[0;34m)\u001b[0m\u001b[0;34m\u001b[0m\u001b[0m\n\u001b[0m",
      "\u001b[0;32m<ipython-input-117-7b8545c0a3cb>\u001b[0m in \u001b[0;36miterative_process\u001b[0;34m(update_function, max_iter, verbose, percentage)\u001b[0m\n\u001b[1;32m      2\u001b[0m     \u001b[0mdf_result\u001b[0m \u001b[0;34m=\u001b[0m \u001b[0mpd\u001b[0m\u001b[0;34m.\u001b[0m\u001b[0mDataFrame\u001b[0m\u001b[0;34m(\u001b[0m\u001b[0mnp\u001b[0m\u001b[0;34m.\u001b[0m\u001b[0mzeros\u001b[0m\u001b[0;34m(\u001b[0m\u001b[0;34m(\u001b[0m\u001b[0mmax_iter\u001b[0m\u001b[0;34m,\u001b[0m \u001b[0;36m2\u001b[0m\u001b[0;34m)\u001b[0m\u001b[0;34m)\u001b[0m\u001b[0;34m,\u001b[0m \u001b[0mcolumns\u001b[0m\u001b[0;34m=\u001b[0m\u001b[0;34m[\u001b[0m\u001b[0;34m'mae'\u001b[0m\u001b[0;34m,\u001b[0m \u001b[0;34m'rmse'\u001b[0m\u001b[0;34m]\u001b[0m\u001b[0;34m)\u001b[0m\u001b[0;34m\u001b[0m\u001b[0m\n\u001b[1;32m      3\u001b[0m     \u001b[0;32mfor\u001b[0m \u001b[0mi\u001b[0m \u001b[0;32min\u001b[0m \u001b[0mrange\u001b[0m\u001b[0;34m(\u001b[0m\u001b[0mmax_iter\u001b[0m\u001b[0;34m)\u001b[0m\u001b[0;34m:\u001b[0m\u001b[0;34m\u001b[0m\u001b[0m\n\u001b[0;32m----> 4\u001b[0;31m         \u001b[0mupdate_function\u001b[0m\u001b[0;34m(\u001b[0m\u001b[0;34m)\u001b[0m\u001b[0;34m\u001b[0m\u001b[0m\n\u001b[0m\u001b[1;32m      5\u001b[0m         \u001b[0;32mif\u001b[0m \u001b[0mpercentage\u001b[0m\u001b[0;34m:\u001b[0m\u001b[0;34m\u001b[0m\u001b[0m\n\u001b[1;32m      6\u001b[0m             \u001b[0mmae\u001b[0m \u001b[0;34m=\u001b[0m \u001b[0mfunctions\u001b[0m\u001b[0;34m.\u001b[0m\u001b[0mget_mape\u001b[0m\u001b[0;34m(\u001b[0m\u001b[0marr_raw\u001b[0m\u001b[0;34m,\u001b[0m \u001b[0marr_pred\u001b[0m\u001b[0;34m,\u001b[0m \u001b[0mnan_coords\u001b[0m\u001b[0;34m)\u001b[0m\u001b[0;34m\u001b[0m\u001b[0m\n",
      "\u001b[0;32m<ipython-input-118-df3b87a166f2>\u001b[0m in \u001b[0;36mupdate_local\u001b[0;34m()\u001b[0m\n\u001b[1;32m     13\u001b[0m \u001b[0;34m\u001b[0m\u001b[0m\n\u001b[1;32m     14\u001b[0m \u001b[0;32mdef\u001b[0m \u001b[0mupdate_local\u001b[0m\u001b[0;34m(\u001b[0m\u001b[0;34m)\u001b[0m\u001b[0;34m:\u001b[0m\u001b[0;34m\u001b[0m\u001b[0m\n\u001b[0;32m---> 15\u001b[0;31m     \u001b[0mdeltas\u001b[0m \u001b[0;34m=\u001b[0m \u001b[0mget_delta_vec\u001b[0m\u001b[0;34m(\u001b[0m\u001b[0mteta\u001b[0m\u001b[0;34m)\u001b[0m\u001b[0;34m\u001b[0m\u001b[0m\n\u001b[0m\u001b[1;32m     16\u001b[0m     \u001b[0mnbrs\u001b[0m \u001b[0;34m=\u001b[0m \u001b[0mNearestNeighbors\u001b[0m\u001b[0;34m(\u001b[0m\u001b[0mn_neighbors\u001b[0m\u001b[0;34m=\u001b[0m\u001b[0mk_local\u001b[0m\u001b[0;34m,\u001b[0m \u001b[0malgorithm\u001b[0m\u001b[0;34m=\u001b[0m\u001b[0;34m'ball_tree'\u001b[0m\u001b[0;34m)\u001b[0m\u001b[0;34m.\u001b[0m\u001b[0mfit\u001b[0m\u001b[0;34m(\u001b[0m\u001b[0marr_pred\u001b[0m\u001b[0;34m)\u001b[0m \u001b[0;31m# пересчитываем\u001b[0m\u001b[0;34m\u001b[0m\u001b[0m\n\u001b[1;32m     17\u001b[0m     \u001b[0;32mfor\u001b[0m \u001b[0mj\u001b[0m\u001b[0;34m,\u001b[0m \u001b[0;34m(\u001b[0m\u001b[0mx\u001b[0m\u001b[0;34m,\u001b[0m\u001b[0my\u001b[0m\u001b[0;34m)\u001b[0m \u001b[0;32min\u001b[0m \u001b[0menumerate\u001b[0m\u001b[0;34m(\u001b[0m\u001b[0mnan_coords\u001b[0m\u001b[0;34m)\u001b[0m\u001b[0;34m:\u001b[0m\u001b[0;34m\u001b[0m\u001b[0m\n",
      "\u001b[0;32m<ipython-input-118-df3b87a166f2>\u001b[0m in \u001b[0;36mget_delta_vec\u001b[0;34m(teta)\u001b[0m\n\u001b[1;32m      6\u001b[0m \u001b[0;32mdef\u001b[0m \u001b[0mget_delta_vec\u001b[0m\u001b[0;34m(\u001b[0m\u001b[0mteta\u001b[0m\u001b[0;34m)\u001b[0m\u001b[0;34m:\u001b[0m\u001b[0;34m\u001b[0m\u001b[0m\n\u001b[1;32m      7\u001b[0m     \u001b[0mdeltas\u001b[0m \u001b[0;34m=\u001b[0m \u001b[0;34m[\u001b[0m\u001b[0;34m]\u001b[0m\u001b[0;34m\u001b[0m\u001b[0m\n\u001b[0;32m----> 8\u001b[0;31m     \u001b[0m_\u001b[0m\u001b[0;34m,\u001b[0m \u001b[0mheighbours\u001b[0m \u001b[0;34m=\u001b[0m \u001b[0mnbrs\u001b[0m\u001b[0;34m.\u001b[0m\u001b[0mkneighbors\u001b[0m\u001b[0;34m(\u001b[0m\u001b[0marr_pred\u001b[0m\u001b[0;34m)\u001b[0m\u001b[0;34m\u001b[0m\u001b[0m\n\u001b[0m\u001b[1;32m      9\u001b[0m     \u001b[0;32mfor\u001b[0m \u001b[0mi\u001b[0m\u001b[0;34m,\u001b[0m \u001b[0mj\u001b[0m \u001b[0;32min\u001b[0m \u001b[0mnan_coords\u001b[0m\u001b[0;34m:\u001b[0m\u001b[0;34m\u001b[0m\u001b[0m\n\u001b[1;32m     10\u001b[0m         \u001b[0mmean_neigh\u001b[0m \u001b[0;34m=\u001b[0m \u001b[0marr_pred\u001b[0m\u001b[0;34m[\u001b[0m\u001b[0mheighbours\u001b[0m\u001b[0;34m[\u001b[0m\u001b[0mi\u001b[0m\u001b[0;34m]\u001b[0m\u001b[0;34m]\u001b[0m\u001b[0;34m.\u001b[0m\u001b[0mmean\u001b[0m\u001b[0;34m(\u001b[0m\u001b[0maxis\u001b[0m\u001b[0;34m=\u001b[0m\u001b[0;36m0\u001b[0m\u001b[0;34m)\u001b[0m\u001b[0;34m[\u001b[0m\u001b[0mj\u001b[0m\u001b[0;34m]\u001b[0m\u001b[0;34m\u001b[0m\u001b[0m\n",
      "\u001b[0;32m~/mlenv/lib/python3.6/site-packages/sklearn/neighbors/base.py\u001b[0m in \u001b[0;36mkneighbors\u001b[0;34m(self, X, n_neighbors, return_distance)\u001b[0m\n\u001b[1;32m    387\u001b[0m             \u001b[0;32mif\u001b[0m \u001b[0mreturn_distance\u001b[0m\u001b[0;34m:\u001b[0m\u001b[0;34m\u001b[0m\u001b[0m\n\u001b[1;32m    388\u001b[0m                 \u001b[0mdist\u001b[0m\u001b[0;34m,\u001b[0m \u001b[0mneigh_ind\u001b[0m \u001b[0;34m=\u001b[0m \u001b[0mtuple\u001b[0m\u001b[0;34m(\u001b[0m\u001b[0mzip\u001b[0m\u001b[0;34m(\u001b[0m\u001b[0;34m*\u001b[0m\u001b[0mresult\u001b[0m\u001b[0;34m)\u001b[0m\u001b[0;34m)\u001b[0m\u001b[0;34m\u001b[0m\u001b[0m\n\u001b[0;32m--> 389\u001b[0;31m                 \u001b[0mresult\u001b[0m \u001b[0;34m=\u001b[0m \u001b[0mnp\u001b[0m\u001b[0;34m.\u001b[0m\u001b[0mvstack\u001b[0m\u001b[0;34m(\u001b[0m\u001b[0mdist\u001b[0m\u001b[0;34m)\u001b[0m\u001b[0;34m,\u001b[0m \u001b[0mnp\u001b[0m\u001b[0;34m.\u001b[0m\u001b[0mvstack\u001b[0m\u001b[0;34m(\u001b[0m\u001b[0mneigh_ind\u001b[0m\u001b[0;34m)\u001b[0m\u001b[0;34m\u001b[0m\u001b[0m\n\u001b[0m\u001b[1;32m    390\u001b[0m             \u001b[0;32melse\u001b[0m\u001b[0;34m:\u001b[0m\u001b[0;34m\u001b[0m\u001b[0m\n\u001b[1;32m    391\u001b[0m                 \u001b[0mresult\u001b[0m \u001b[0;34m=\u001b[0m \u001b[0mnp\u001b[0m\u001b[0;34m.\u001b[0m\u001b[0mvstack\u001b[0m\u001b[0;34m(\u001b[0m\u001b[0mresult\u001b[0m\u001b[0;34m)\u001b[0m\u001b[0;34m\u001b[0m\u001b[0m\n",
      "\u001b[0;32m~/mlenv/lib/python3.6/site-packages/numpy/core/shape_base.py\u001b[0m in \u001b[0;36mvstack\u001b[0;34m(tup)\u001b[0m\n\u001b[1;32m    235\u001b[0m \u001b[0;34m\u001b[0m\u001b[0m\n\u001b[1;32m    236\u001b[0m     \"\"\"\n\u001b[0;32m--> 237\u001b[0;31m     \u001b[0;32mreturn\u001b[0m \u001b[0m_nx\u001b[0m\u001b[0;34m.\u001b[0m\u001b[0mconcatenate\u001b[0m\u001b[0;34m(\u001b[0m\u001b[0;34m[\u001b[0m\u001b[0matleast_2d\u001b[0m\u001b[0;34m(\u001b[0m\u001b[0m_m\u001b[0m\u001b[0;34m)\u001b[0m \u001b[0;32mfor\u001b[0m \u001b[0m_m\u001b[0m \u001b[0;32min\u001b[0m \u001b[0mtup\u001b[0m\u001b[0;34m]\u001b[0m\u001b[0;34m,\u001b[0m \u001b[0;36m0\u001b[0m\u001b[0;34m)\u001b[0m\u001b[0;34m\u001b[0m\u001b[0m\n\u001b[0m\u001b[1;32m    238\u001b[0m \u001b[0;34m\u001b[0m\u001b[0m\n\u001b[1;32m    239\u001b[0m \u001b[0;32mdef\u001b[0m \u001b[0mhstack\u001b[0m\u001b[0;34m(\u001b[0m\u001b[0mtup\u001b[0m\u001b[0;34m)\u001b[0m\u001b[0;34m:\u001b[0m\u001b[0;34m\u001b[0m\u001b[0m\n",
      "\u001b[0;31mKeyboardInterrupt\u001b[0m: "
     ]
    }
   ],
   "source": [
    "dfr = iterative_process(update_local, max_iter=1000, verbose=True)"
   ]
  },
  {
   "cell_type": "code",
   "execution_count": null,
   "metadata": {},
   "outputs": [],
   "source": [
    "functions.get_mape()"
   ]
  },
  {
   "cell_type": "code",
   "execution_count": null,
   "metadata": {},
   "outputs": [],
   "source": [
    "k_local/len(df)"
   ]
  },
  {
   "cell_type": "markdown",
   "metadata": {},
   "source": [
    "# Optimization Approach"
   ]
  },
  {
   "cell_type": "code",
   "execution_count": 163,
   "metadata": {},
   "outputs": [],
   "source": [
    "n = len(df0)\n",
    "\n",
    "def get_known_table():\n",
    "    global arr_nan\n",
    "    ro_known_table = np.zeros((n, n))\n",
    "    for i in tqdm(range(n)):\n",
    "        for j in range(i, n):\n",
    "            idx_nan_i = np.isnan(arr_nan[i])\n",
    "            idx_nan_j = np.isnan(arr_nan[j])\n",
    "            idx = ~idx_nan_i & ~idx_nan_j\n",
    "            x_i = arr_nan[i, idx]\n",
    "            x_j = arr_nan[j, idx]\n",
    "            ro_known_table[i, j] = ro_known_table[j, i] = sq(x_i - x_j)\n",
    "    return ro_known_table\n",
    "\n",
    "def get_ro_1_unknown_table():\n",
    "    global arr_pred\n",
    "    ro_1_unknown_table = np.zeros((n, n))\n",
    "    #это ro прибавить там где 1 компонента\n",
    "    for i in tqdm(range(n)):\n",
    "        for j in range(i, n):\n",
    "            idx_nan_i = np.isnan(arr_nan[i])\n",
    "            idx_nan_j = np.isnan(arr_nan[j])\n",
    "            idx = (idx_nan_i & ~idx_nan_j) | (~idx_nan_i & idx_nan_j)\n",
    "            x_i = arr_pred[i, idx]\n",
    "            x_j = arr_pred[j, idx]\n",
    "            ro_1_unknown_table[i, j] = ro_1_unknown_table[j, i] = sq(x_i - x_j)\n",
    "    return ro_1_unknown_table\n",
    "\n",
    "# по всем признакам\n",
    "def get_ro_2_unknown_table():\n",
    "    global arr_pred\n",
    "    '''\n",
    "    при первом запуске обычно 0, так как заполняю пропуски ОДНИМ И ТЕМ ЖЕ СРЕДНИМ ЗНАЧЕНИЕМ\n",
    "    '''\n",
    "    ro_2_unknown_table = np.zeros((n, n))\n",
    "    for i in tqdm(range(n)):\n",
    "        for j in range(i+1, n):\n",
    "            idx_nan_i = np.isnan(arr_nan[i])\n",
    "            idx_nan_j = np.isnan(arr_nan[j])\n",
    "            idx = (idx_nan_i & idx_nan_j)\n",
    "            x_i = arr_pred[i, idx]\n",
    "            x_j = arr_pred[j, idx]\n",
    "            ro_2_unknown_table[i, j] = ro_2_unknown_table[j, i] = sq(x_i - x_j)\n",
    "    return ro_2_unknown_table"
   ]
  },
  {
   "cell_type": "code",
   "execution_count": 165,
   "metadata": {},
   "outputs": [
    {
     "name": "stderr",
     "output_type": "stream",
     "text": [
      "100%|██████████| 569/569 [00:04<00:00, 118.40it/s]\n",
      "100%|██████████| 569/569 [00:05<00:00, 113.11it/s]\n",
      "100%|██████████| 569/569 [00:03<00:00, 165.93it/s]\n"
     ]
    }
   ],
   "source": [
    "ro_known_table = get_known_table()\n",
    "ro_1_unknown_table = get_ro_1_unknown_table()\n",
    "ro_2_unknown_table = get_ro_2_unknown_table() # здесь какого-то хера одни нули!!!"
   ]
  },
  {
   "cell_type": "code",
   "execution_count": 166,
   "metadata": {},
   "outputs": [],
   "source": [
    "def F_functional(k_arr, ftype='f1'):\n",
    "    global ro_known_table, ro_1_unknown_table, ro_2_unknown_table\n",
    "    f = 0\n",
    "    for i in tqdm(range(n)):\n",
    "        for j in range(i+1, n):\n",
    "            ro1 = ro_known_table[i, j] # известно оба \n",
    "            ro2 = ro_1_unknown_table[i, j] # известен 1 \n",
    "            ro3 = ro_2_unknown_table[i, j] # не известно ниче\n",
    "            \n",
    "            r1 = np.sqrt(ro1 + ro2 + ro3) #по всем признакам(р)\n",
    "            if ftype == 'f1':\n",
    "                r2 = np.sqrt(ro1) # по известным признакам(р+)\n",
    "            else:\n",
    "                r2 = np.sqrt(ro1 + ro2)\n",
    "            f += (r1 - k_arr[i, j]*r2)**2\n",
    "    return f"
   ]
  },
  {
   "cell_type": "code",
   "execution_count": 167,
   "metadata": {},
   "outputs": [],
   "source": [
    "### ПРОВЕРИТЬ ГРАДИЕНТ НА 0 ДЛЯ Ф2\n",
    "\n",
    "def grad_component(i, j, k_arr, ftype='f1'):\n",
    "    global ro_known_table, ro_1_unknown_table, ro_2_unknown_table\n",
    "    s = 0\n",
    "    for i1 in range(n):\n",
    "        if i1 == i:\n",
    "            continue\n",
    "        ro1 = ro_known_table[i, i1]\n",
    "        ro2 = ro_1_unknown_table[i, i1]\n",
    "        ro3 = ro_2_unknown_table[i, i1]\n",
    "        \n",
    "        r1 = np.sqrt(ro1 + ro2 + ro3) #по всем признакам(р)\n",
    "        if r1 <= 0:\n",
    "            continue\n",
    "        if ftype == 'f2':\n",
    "            r2 = np.sqrt(ro1 + ro2) # по известным признакам(р+)\n",
    "            delta_x1 = (arr_pred[i, j] - arr_pred[i1, j])\n",
    "            if not np.isnan(arr_nan[i1, j]):\n",
    "                delta_x2 = delta_x1\n",
    "            else:\n",
    "                delta_x2 = 0\n",
    "            if r2 == 0:\n",
    "                delta_x2 = k_arr[i1, i]\n",
    "            else:\n",
    "                delta_x2 = k_arr[i1, i]*delta_x2/r2\n",
    "            delta_s = 2*(r1 - k_arr[i1, i]*r2)*(delta_x1/r1 - delta_x2)\n",
    "            s += delta_s\n",
    "        else:\n",
    "            r2 = np.sqrt(ro1) # по известным признакам(р+)\n",
    "            s += 2 * (1 - k_arr[i1, i]*r2/r1) * (arr_pred[i, j] - arr_pred[i1, j])\n",
    "    return s\n",
    "\n",
    "def get_full_grad(nan_coords, k_arr, ftype='f1'):\n",
    "    grad = []\n",
    "    for i, j in nan_coords:\n",
    "        grad.append(grad_component(i, j, k_arr, ftype))\n",
    "    return np.array(grad)"
   ]
  },
  {
   "cell_type": "code",
   "execution_count": 168,
   "metadata": {},
   "outputs": [
    {
     "name": "stderr",
     "output_type": "stream",
     "text": [
      "100%|██████████| 569/569 [00:01<00:00, 326.45it/s]\n"
     ]
    }
   ],
   "source": [
    "k_arr = np.ones((n, n))\n",
    "ftype = 'f1'\n",
    "alpha = 0.005\n",
    "alpha = 0.01\n",
    "c = F_functional(k_arr, ftype)"
   ]
  },
  {
   "cell_type": "code",
   "execution_count": 144,
   "metadata": {},
   "outputs": [
    {
     "name": "stderr",
     "output_type": "stream",
     "text": [
      "100%|██████████| 569/569 [00:01<00:00, 357.77it/s]\n"
     ]
    }
   ],
   "source": [
    "c = F_functional(k_arr, ftype)"
   ]
  },
  {
   "cell_type": "code",
   "execution_count": null,
   "metadata": {},
   "outputs": [],
   "source": [
    "# Для F2 нужно делать не единички, а нормировать\n",
    "# k_arr[i, j] = n - n2 / n (то есть все признаки без двух пропусков/на все признаки)\n",
    "k_arr = np.ones((n, n))\n",
    "alpha = 1.1\n",
    "for i in tqdm(range(n)):\n",
    "    for j in range(i+1, n):\n",
    "        idx_nan_i = np.isnan(arr_nan[i])\n",
    "        idx_nan_j = np.isnan(arr_nan[j])\n",
    "        idx = (idx_nan_i & idx_nan_j)\n",
    "        k_arr[i, j] = k_arr[j, i] = (n - idx.sum()) / n\n",
    "ftype = 'f2'\n",
    "c = F_functional(k_arr, ftype)"
   ]
  },
  {
   "cell_type": "code",
   "execution_count": null,
   "metadata": {},
   "outputs": [],
   "source": [
    "# проверка изменений в зависимости от альфы\n",
    "arr_pred_raw = arr_pred.copy()\n",
    "grad = get_full_grad(nan_coords, k_arr, ftype)\n",
    "\n",
    "def get_f_grad(arr_pred_raw, alpha, grad):\n",
    "    global ro_1_unknown_table, ro_2_unknown_table\n",
    "    for j, (x,y) in enumerate(nan_coords):\n",
    "        arr_pred[x, y] = arr_pred_raw[x, y] - alpha*grad[j]\n",
    "    ro_1_unknown_table = get_ro_1_unknown_table()\n",
    "    ro_2_unknown_table = get_ro_2_unknown_table()\n",
    "    c = F_functional(k_arr, ftype)\n",
    "    return c"
   ]
  },
  {
   "cell_type": "code",
   "execution_count": 169,
   "metadata": {},
   "outputs": [],
   "source": [
    "c_array = []\n",
    "\n",
    "ro1t = []\n",
    "ro2t = []\n",
    "def update_opt():\n",
    "    global ro_1_unknown_table, ro_2_unknown_table\n",
    "    grad = get_full_grad(nan_coords, k_arr, ftype)\n",
    "    for j, (x,y) in enumerate(nan_coords):\n",
    "        arr_pred[x, y] = arr_pred[x, y] - alpha*grad[j]\n",
    "        \n",
    "    ro_1_unknown_table = get_ro_1_unknown_table()\n",
    "    ro_2_unknown_table = get_ro_2_unknown_table()\n",
    "    c = F_functional(k_arr, ftype)\n",
    "    print('C = {}'.format(c))\n",
    "    c_array.append(c)\n",
    "    ro1t.append(ro_1_unknown_table)\n",
    "    ro2t.append(ro_2_unknown_table)"
   ]
  },
  {
   "cell_type": "code",
   "execution_count": 171,
   "metadata": {},
   "outputs": [
    {
     "name": "stderr",
     "output_type": "stream",
     "text": [
      "100%|██████████| 569/569 [00:04<00:00, 119.20it/s]\n",
      "100%|██████████| 569/569 [00:03<00:00, 166.25it/s]\n",
      "100%|██████████| 569/569 [00:01<00:00, 292.24it/s]\n"
     ]
    },
    {
     "name": "stdout",
     "output_type": "stream",
     "text": [
      "C = 19.810647846196353\n",
      "\tIteration 1  mae 0.0858835 // rmse 0.108763 \n"
     ]
    },
    {
     "name": "stderr",
     "output_type": "stream",
     "text": [
      "100%|██████████| 569/569 [00:05<00:00, 102.66it/s]\n",
      "100%|██████████| 569/569 [00:05<00:00, 106.62it/s]\n",
      "100%|██████████| 569/569 [00:01<00:00, 302.84it/s]\n"
     ]
    },
    {
     "name": "stdout",
     "output_type": "stream",
     "text": [
      "C = 19.810410456104407\n",
      "\tIteration 2  mae 0.0858678 // rmse 0.108734 \n"
     ]
    },
    {
     "name": "stderr",
     "output_type": "stream",
     "text": [
      "100%|██████████| 569/569 [00:04<00:00, 121.30it/s]\n",
      "100%|██████████| 569/569 [00:03<00:00, 163.60it/s]\n",
      "100%|██████████| 569/569 [00:01<00:00, 314.99it/s]\n"
     ]
    },
    {
     "name": "stdout",
     "output_type": "stream",
     "text": [
      "C = 19.810216075402746\n",
      "\tIteration 3  mae 0.085854 // rmse 0.108709 \n"
     ]
    },
    {
     "name": "stderr",
     "output_type": "stream",
     "text": [
      "100%|██████████| 569/569 [00:04<00:00, 124.23it/s]\n",
      "100%|██████████| 569/569 [00:03<00:00, 162.88it/s]\n",
      "100%|██████████| 569/569 [00:02<00:00, 248.68it/s]\n"
     ]
    },
    {
     "name": "stdout",
     "output_type": "stream",
     "text": [
      "C = 19.810056267531788\n",
      "\tIteration 4  mae 0.0858418 // rmse 0.108686 \n"
     ]
    },
    {
     "name": "stderr",
     "output_type": "stream",
     "text": [
      "100%|██████████| 569/569 [00:04<00:00, 116.98it/s]\n",
      "100%|██████████| 569/569 [00:04<00:00, 127.82it/s]\n",
      "100%|██████████| 569/569 [00:01<00:00, 292.79it/s]\n"
     ]
    },
    {
     "name": "stdout",
     "output_type": "stream",
     "text": [
      "C = 19.809924456098962\n",
      "\tIteration 5  mae 0.085831 // rmse 0.108666 \n"
     ]
    },
    {
     "name": "stderr",
     "output_type": "stream",
     "text": [
      "100%|██████████| 569/569 [00:04<00:00, 120.64it/s]\n",
      "100%|██████████| 569/569 [00:04<00:00, 125.95it/s]\n",
      "100%|██████████| 569/569 [00:01<00:00, 365.71it/s]\n"
     ]
    },
    {
     "name": "stdout",
     "output_type": "stream",
     "text": [
      "C = 19.80981545338634\n",
      "\tIteration 6  mae 0.0858213 // rmse 0.108649 \n"
     ]
    },
    {
     "name": "stderr",
     "output_type": "stream",
     "text": [
      "100%|██████████| 569/569 [00:09<00:00, 60.55it/s]\n",
      "100%|██████████| 569/569 [00:09<00:00, 58.05it/s]\n",
      "100%|██████████| 569/569 [00:02<00:00, 264.56it/s]\n"
     ]
    },
    {
     "name": "stdout",
     "output_type": "stream",
     "text": [
      "C = 19.809725125189935\n",
      "\tIteration 7  mae 0.0858127 // rmse 0.108633 \n"
     ]
    },
    {
     "name": "stderr",
     "output_type": "stream",
     "text": [
      "100%|██████████| 569/569 [00:05<00:00, 107.23it/s]\n",
      "100%|██████████| 569/569 [00:06<00:00, 85.01it/s]\n",
      "100%|██████████| 569/569 [00:02<00:00, 224.78it/s]\n"
     ]
    },
    {
     "name": "stdout",
     "output_type": "stream",
     "text": [
      "C = 19.809650148316745\n",
      "\tIteration 8  mae 0.0858049 // rmse 0.108619 \n"
     ]
    },
    {
     "name": "stderr",
     "output_type": "stream",
     "text": [
      "100%|██████████| 569/569 [00:06<00:00, 85.28it/s]\n",
      "100%|██████████| 569/569 [00:03<00:00, 156.06it/s]\n",
      "100%|██████████| 569/569 [00:01<00:00, 343.85it/s]\n"
     ]
    },
    {
     "name": "stdout",
     "output_type": "stream",
     "text": [
      "C = 19.809587832108782\n",
      "\tIteration 9  mae 0.0857979 // rmse 0.108606 \n"
     ]
    },
    {
     "name": "stderr",
     "output_type": "stream",
     "text": [
      "100%|██████████| 569/569 [00:05<00:00, 110.25it/s]\n",
      "100%|██████████| 569/569 [00:03<00:00, 149.72it/s]\n",
      "100%|██████████| 569/569 [00:02<00:00, 249.34it/s]\n"
     ]
    },
    {
     "name": "stdout",
     "output_type": "stream",
     "text": [
      "C = 19.80953598492801\n",
      "\tIteration 10  mae 0.0857915 // rmse 0.108594 \n"
     ]
    },
    {
     "name": "stderr",
     "output_type": "stream",
     "text": [
      "100%|██████████| 569/569 [00:04<00:00, 118.13it/s]\n",
      "100%|██████████| 569/569 [00:03<00:00, 158.03it/s]\n",
      "100%|██████████| 569/569 [00:01<00:00, 294.31it/s]\n"
     ]
    },
    {
     "name": "stdout",
     "output_type": "stream",
     "text": [
      "C = 19.809492812760098\n",
      "\tIteration 11  mae 0.0857858 // rmse 0.108584 \n"
     ]
    },
    {
     "name": "stderr",
     "output_type": "stream",
     "text": [
      "100%|██████████| 569/569 [00:04<00:00, 117.46it/s]\n",
      "100%|██████████| 569/569 [00:03<00:00, 143.74it/s]\n",
      "100%|██████████| 569/569 [00:01<00:00, 307.45it/s]\n"
     ]
    },
    {
     "name": "stdout",
     "output_type": "stream",
     "text": [
      "C = 19.809456841118976\n",
      "\tIteration 12  mae 0.0857806 // rmse 0.108574 \n"
     ]
    },
    {
     "name": "stderr",
     "output_type": "stream",
     "text": [
      "100%|██████████| 569/569 [00:04<00:00, 121.38it/s]\n",
      "100%|██████████| 569/569 [00:03<00:00, 159.42it/s]\n",
      "100%|██████████| 569/569 [00:01<00:00, 313.15it/s]\n"
     ]
    },
    {
     "name": "stdout",
     "output_type": "stream",
     "text": [
      "C = 19.809426854140057\n",
      "\tIteration 13  mae 0.0857759 // rmse 0.108566 \n"
     ]
    },
    {
     "name": "stderr",
     "output_type": "stream",
     "text": [
      "100%|██████████| 569/569 [00:07<00:00, 75.66it/s]\n",
      "100%|██████████| 569/569 [00:03<00:00, 144.06it/s]\n",
      "100%|██████████| 569/569 [00:03<00:00, 144.29it/s]\n"
     ]
    },
    {
     "name": "stdout",
     "output_type": "stream",
     "text": [
      "C = 19.809401846542823\n",
      "\tIteration 14  mae 0.0857716 // rmse 0.108558 \n"
     ]
    },
    {
     "name": "stderr",
     "output_type": "stream",
     "text": [
      "100%|██████████| 569/569 [00:06<00:00, 94.13it/s]\n",
      "100%|██████████| 569/569 [00:05<00:00, 110.39it/s]\n",
      "100%|██████████| 569/569 [00:01<00:00, 293.91it/s]\n"
     ]
    },
    {
     "name": "stdout",
     "output_type": "stream",
     "text": [
      "C = 19.809380985374634\n",
      "\tIteration 15  mae 0.0857676 // rmse 0.108551 \n"
     ]
    },
    {
     "name": "stderr",
     "output_type": "stream",
     "text": [
      "100%|██████████| 569/569 [00:05<00:00, 110.97it/s]\n",
      "100%|██████████| 569/569 [00:03<00:00, 149.22it/s]\n",
      "100%|██████████| 569/569 [00:02<00:00, 253.18it/s]\n"
     ]
    },
    {
     "name": "stdout",
     "output_type": "stream",
     "text": [
      "C = 19.80936357928066\n",
      "\tIteration 16  mae 0.0857641 // rmse 0.108545 \n"
     ]
    },
    {
     "name": "stderr",
     "output_type": "stream",
     "text": [
      "100%|██████████| 569/569 [00:05<00:00, 105.21it/s]\n",
      "100%|██████████| 569/569 [00:03<00:00, 163.98it/s]\n",
      "100%|██████████| 569/569 [00:01<00:00, 304.04it/s]\n"
     ]
    },
    {
     "name": "stdout",
     "output_type": "stream",
     "text": [
      "C = 19.80934905364565\n",
      "\tIteration 17  mae 0.0857608 // rmse 0.108539 \n"
     ]
    },
    {
     "name": "stderr",
     "output_type": "stream",
     "text": [
      "100%|██████████| 569/569 [00:05<00:00, 99.15it/s]\n",
      "100%|██████████| 569/569 [00:03<00:00, 147.35it/s]\n",
      "100%|██████████| 569/569 [00:01<00:00, 286.50it/s]\n"
     ]
    },
    {
     "name": "stdout",
     "output_type": "stream",
     "text": [
      "C = 19.809336930361496\n",
      "\tIteration 18  mae 0.0857578 // rmse 0.108533 \n"
     ]
    },
    {
     "name": "stderr",
     "output_type": "stream",
     "text": [
      "100%|██████████| 569/569 [00:04<00:00, 123.80it/s]\n",
      "100%|██████████| 569/569 [00:03<00:00, 158.76it/s]\n",
      "100%|██████████| 569/569 [00:02<00:00, 274.76it/s]\n"
     ]
    },
    {
     "name": "stdout",
     "output_type": "stream",
     "text": [
      "C = 19.80932681127796\n",
      "\tIteration 19  mae 0.0857551 // rmse 0.108529 \n"
     ]
    },
    {
     "name": "stderr",
     "output_type": "stream",
     "text": [
      "100%|██████████| 569/569 [00:04<00:00, 118.43it/s]\n",
      "100%|██████████| 569/569 [00:03<00:00, 149.99it/s]\n",
      "100%|██████████| 569/569 [00:01<00:00, 315.77it/s]"
     ]
    },
    {
     "name": "stdout",
     "output_type": "stream",
     "text": [
      "C = 19.809318364606526\n",
      "\tIteration 20  mae 0.0857527 // rmse 0.108524 \n"
     ]
    },
    {
     "name": "stderr",
     "output_type": "stream",
     "text": [
      "\n"
     ]
    }
   ],
   "source": [
    "max_iter = 30\n",
    "\n",
    "dfr = iterative_process(update_opt, max_iter=20, verbose=True)"
   ]
  },
  {
   "cell_type": "code",
   "execution_count": null,
   "metadata": {},
   "outputs": [],
   "source": [
    "print(c_array, ftype)\n",
    "\n",
    "for i in range(7):\n",
    "    print((ro2t[i] - ro2t[i+1]).max())"
   ]
  },
  {
   "cell_type": "markdown",
   "metadata": {},
   "source": [
    "# SNE Approach"
   ]
  },
  {
   "cell_type": "code",
   "execution_count": 183,
   "metadata": {},
   "outputs": [
    {
     "name": "stderr",
     "output_type": "stream",
     "text": [
      "100%|██████████| 569/569 [00:04<00:00, 121.20it/s]\n",
      "100%|██████████| 569/569 [00:04<00:00, 132.20it/s]\n"
     ]
    }
   ],
   "source": [
    "n = len(df0)\n",
    "# таблица старых значений\n",
    "Exp1_table = np.zeros((n, n))\n",
    "for i in tqdm(range(n)):\n",
    "    for j in range(n):\n",
    "        Exp1_table[i][j] = np.exp(-sq(arr_known[i] - arr_known[j]))\n",
    "#         Exp1_table[i][j] = np.exp(-norm(arr_known[i] - arr_known[j])**2)\n",
    "        \n",
    "P1_table = np.zeros((n, n))\n",
    "for i in tqdm(range(n)):\n",
    "    for j in range(n):\n",
    "        a = Exp1_table[j][i]\n",
    "        b = Exp1_table[i].sum() - 1 # 1 = Exp1_table[i][i]\n",
    "        P1_table[j][i] = a / b"
   ]
  },
  {
   "cell_type": "code",
   "execution_count": 184,
   "metadata": {},
   "outputs": [
    {
     "name": "stderr",
     "output_type": "stream",
     "text": [
      "100%|██████████| 569/569 [00:06<00:00, 87.93it/s] \n",
      "100%|██████████| 569/569 [00:03<00:00, 177.25it/s]\n"
     ]
    }
   ],
   "source": [
    "def get_exp2_table():\n",
    "    Exp2_table = np.zeros((n, n))\n",
    "    for i in tqdm(range(n)):\n",
    "        for j in range(n):\n",
    "            Exp2_table[i][j] = np.exp(-sq(arr_pred[i] - arr_pred[j]))\n",
    "#             Exp2_table[i][j] = np.exp(-norm(arr_pred[i] - arr_pred[j])**2)\n",
    "    return Exp2_table\n",
    "\n",
    "def get_p2_table():\n",
    "    Exp2_table = get_exp2_table()\n",
    "    P2_table = np.zeros((n, n))\n",
    "    for i in tqdm(range(n)):\n",
    "        for j in range(n):\n",
    "            a = Exp2_table[j][i]\n",
    "            b = Exp2_table[i].sum() - 1 # 1 = Exp1_table[i][i]\n",
    "            P2_table[j][i] = a / b\n",
    "    return P2_table\n",
    "P2_table = get_p2_table()"
   ]
  },
  {
   "cell_type": "code",
   "execution_count": 185,
   "metadata": {},
   "outputs": [
    {
     "name": "stdout",
     "output_type": "stream",
     "text": [
      "2\n",
      "4\n",
      "6\n",
      "8\n",
      "10\n",
      "12\n",
      "14\n",
      "16\n",
      "18\n",
      "20\n"
     ]
    }
   ],
   "source": [
    "x = 1\n",
    "def f1():\n",
    "    global x\n",
    "    return x*2\n",
    "def f2():\n",
    "    y = f1()\n",
    "    return y\n",
    "\n",
    "for i in range(10):\n",
    "    print(f2())\n",
    "    x += 1"
   ]
  },
  {
   "cell_type": "code",
   "execution_count": 186,
   "metadata": {},
   "outputs": [],
   "source": [
    "def KL():\n",
    "    global P1_table, P2_table\n",
    "    s = 0\n",
    "    for i in range(n):\n",
    "        for j in range(n):\n",
    "            s += P1_table[j][i] * np.log(P1_table[j][i] / P2_table[j][i])\n",
    "    return s\n",
    "\n",
    "def get_grad_sne(i1, i2):\n",
    "    global P1_table, P2_table\n",
    "    def get_i_part(i):\n",
    "        d = 2*(arr_pred[i1][i2] - arr_pred[i][i2])\n",
    "        s = (P1_table[i1][i]+P1_table[i][i1]) - \\\n",
    "            P2_table[i1][i]*(1+P1_table[i][i]) - \\\n",
    "            P2_table[i][i1]*(1+P1_table[i1][i1])\n",
    "        return s*d\n",
    "    return sum(get_i_part(i) for i in range(n) if i!=i1)\n",
    "\n",
    "def get_full_grad_sne(nan_coords):\n",
    "    n_gaps = len(nan_coords)\n",
    "    grad = np.zeros(n_gaps)\n",
    "    for i in range(n_gaps):\n",
    "        i1, i2 = nan_coords[i]\n",
    "        grad[i] = get_grad_sne(i1, i2)\n",
    "    return grad"
   ]
  },
  {
   "cell_type": "code",
   "execution_count": null,
   "metadata": {},
   "outputs": [],
   "source": [
    "c_array = []\n",
    "p_array = []\n",
    "def update_sne():\n",
    "    grad = get_full_grad_sne(nan_coords)\n",
    "    for j, (x,y) in enumerate(nan_coords):\n",
    "        arr_pred[x, y] = arr_pred[x, y] - alpha*grad[j]\n",
    "    P2_table = get_p2_table()\n",
    "    c = KL()\n",
    "    print('C = {}'.format(c))\n",
    "    c_array.append(c)\n",
    "    p_array.append(P2_table)"
   ]
  },
  {
   "cell_type": "code",
   "execution_count": null,
   "metadata": {},
   "outputs": [],
   "source": [
    "print(c_array)\n",
    "\n",
    "for i in range(7):\n",
    "    print((p_array[i] - p_array[i+1]).max())"
   ]
  },
  {
   "cell_type": "code",
   "execution_count": null,
   "metadata": {
    "scrolled": true
   },
   "outputs": [
    {
     "name": "stderr",
     "output_type": "stream",
     "text": [
      "100%|██████████| 569/569 [00:05<00:00, 103.83it/s]\n",
      "100%|██████████| 569/569 [00:03<00:00, 174.60it/s]\n"
     ]
    },
    {
     "name": "stdout",
     "output_type": "stream",
     "text": [
      "C = 0.5397739678930523\n",
      "\tIteration 1  mae 0.106744 // rmse 0.137619 \n"
     ]
    },
    {
     "name": "stderr",
     "output_type": "stream",
     "text": [
      "100%|██████████| 569/569 [00:05<00:00, 109.52it/s]\n",
      "100%|██████████| 569/569 [00:03<00:00, 152.33it/s]\n"
     ]
    },
    {
     "name": "stdout",
     "output_type": "stream",
     "text": [
      "C = 0.5397739678930523\n",
      "\tIteration 2  mae 0.106732 // rmse 0.137597 \n"
     ]
    },
    {
     "name": "stderr",
     "output_type": "stream",
     "text": [
      "100%|██████████| 569/569 [00:05<00:00, 111.59it/s]\n",
      "100%|██████████| 569/569 [00:03<00:00, 181.99it/s]\n"
     ]
    },
    {
     "name": "stdout",
     "output_type": "stream",
     "text": [
      "C = 0.5397739678930523\n",
      "\tIteration 3  mae 0.10672 // rmse 0.137574 \n"
     ]
    },
    {
     "name": "stderr",
     "output_type": "stream",
     "text": [
      "100%|██████████| 569/569 [00:05<00:00, 98.26it/s] \n",
      "100%|██████████| 569/569 [00:03<00:00, 166.92it/s]\n"
     ]
    },
    {
     "name": "stdout",
     "output_type": "stream",
     "text": [
      "C = 0.5397739678930523\n",
      "\tIteration 4  mae 0.106707 // rmse 0.137552 \n"
     ]
    },
    {
     "name": "stderr",
     "output_type": "stream",
     "text": [
      "100%|██████████| 569/569 [00:05<00:00, 102.11it/s]\n",
      "100%|██████████| 569/569 [00:03<00:00, 143.60it/s]\n"
     ]
    },
    {
     "name": "stdout",
     "output_type": "stream",
     "text": [
      "C = 0.5397739678930523\n",
      "\tIteration 5  mae 0.106695 // rmse 0.13753 \n"
     ]
    },
    {
     "name": "stderr",
     "output_type": "stream",
     "text": [
      "100%|██████████| 569/569 [00:05<00:00, 105.64it/s]\n",
      "100%|██████████| 569/569 [00:03<00:00, 153.06it/s]\n"
     ]
    },
    {
     "name": "stdout",
     "output_type": "stream",
     "text": [
      "C = 0.5397739678930523\n",
      "\tIteration 6  mae 0.106683 // rmse 0.137508 \n"
     ]
    },
    {
     "name": "stderr",
     "output_type": "stream",
     "text": [
      "100%|██████████| 569/569 [00:05<00:00, 99.19it/s] \n",
      "100%|██████████| 569/569 [00:03<00:00, 170.01it/s]\n"
     ]
    },
    {
     "name": "stdout",
     "output_type": "stream",
     "text": [
      "C = 0.5397739678930523\n",
      "\tIteration 7  mae 0.10667 // rmse 0.137486 \n"
     ]
    },
    {
     "name": "stderr",
     "output_type": "stream",
     "text": [
      "100%|██████████| 569/569 [00:05<00:00, 105.48it/s]\n",
      "100%|██████████| 569/569 [00:03<00:00, 178.22it/s]\n"
     ]
    },
    {
     "name": "stdout",
     "output_type": "stream",
     "text": [
      "C = 0.5397739678930523\n",
      "\tIteration 8  mae 0.106658 // rmse 0.137464 \n"
     ]
    },
    {
     "name": "stderr",
     "output_type": "stream",
     "text": [
      "100%|██████████| 569/569 [00:05<00:00, 106.49it/s]\n",
      "100%|██████████| 569/569 [00:03<00:00, 180.63it/s]\n"
     ]
    },
    {
     "name": "stdout",
     "output_type": "stream",
     "text": [
      "C = 0.5397739678930523\n",
      "\tIteration 9  mae 0.106646 // rmse 0.137442 \n"
     ]
    },
    {
     "name": "stderr",
     "output_type": "stream",
     "text": [
      "100%|██████████| 569/569 [00:05<00:00, 110.85it/s]\n",
      "100%|██████████| 569/569 [00:03<00:00, 177.86it/s]\n"
     ]
    },
    {
     "name": "stdout",
     "output_type": "stream",
     "text": [
      "C = 0.5397739678930523\n",
      "\tIteration 10  mae 0.106634 // rmse 0.13742 \n"
     ]
    },
    {
     "name": "stderr",
     "output_type": "stream",
     "text": [
      "100%|██████████| 569/569 [00:05<00:00, 106.92it/s]\n",
      "100%|██████████| 569/569 [00:03<00:00, 171.02it/s]\n"
     ]
    },
    {
     "name": "stdout",
     "output_type": "stream",
     "text": [
      "C = 0.5397739678930523\n",
      "\tIteration 11  mae 0.106621 // rmse 0.137398 \n"
     ]
    },
    {
     "name": "stderr",
     "output_type": "stream",
     "text": [
      "100%|██████████| 569/569 [00:05<00:00, 99.94it/s] \n",
      "100%|██████████| 569/569 [00:04<00:00, 136.20it/s]\n"
     ]
    },
    {
     "name": "stdout",
     "output_type": "stream",
     "text": [
      "C = 0.5397739678930523\n",
      "\tIteration 12  mae 0.106609 // rmse 0.137376 \n"
     ]
    },
    {
     "name": "stderr",
     "output_type": "stream",
     "text": [
      " 61%|██████    | 346/569 [00:03<00:02, 99.02it/s]"
     ]
    }
   ],
   "source": [
    "alpha = 0.01\n",
    "dfr = iterative_process(update_sne, max_iter=150, verbose=True)"
   ]
  },
  {
   "cell_type": "code",
   "execution_count": null,
   "metadata": {},
   "outputs": [],
   "source": [
    "s = 0\n",
    "for i in range(n):\n",
    "    for j in range(n):\n",
    "        s += P1_table[j][i] * np.log(P1_table[j][i] / P2_table[j][i])\n",
    "    print(s)\n",
    "return s"
   ]
  },
  {
   "cell_type": "code",
   "execution_count": null,
   "metadata": {},
   "outputs": [],
   "source": []
  },
  {
   "cell_type": "markdown",
   "metadata": {},
   "source": [
    "# AVO APPROACH\n",
    "Единственный подход, который не содержит оптимизайионный подход"
   ]
  },
  {
   "cell_type": "code",
   "execution_count": 123,
   "metadata": {},
   "outputs": [],
   "source": [
    "def Cnk(n, k):\n",
    "    a = b = c = tmp = 1\n",
    "    for i in range(1, n+1):\n",
    "        tmp *= i\n",
    "        if i == n-k:\n",
    "            a = tmp\n",
    "        if i == k:\n",
    "            b = tmp\n",
    "        if i == n:\n",
    "            c = tmp\n",
    "    return c / (a*b)"
   ]
  },
  {
   "cell_type": "code",
   "execution_count": 124,
   "metadata": {},
   "outputs": [],
   "source": [
    "def get_epsilons(data):\n",
    "    def get_e(a):\n",
    "        return np.abs(a - a[:, None]).mean()\n",
    "    return np.array([get_e(feat) for feat in data.T])"
   ]
  },
  {
   "cell_type": "code",
   "execution_count": 125,
   "metadata": {},
   "outputs": [],
   "source": [
    "def get_gamma(data, x, k, epsilons=None):\n",
    "    '''\n",
    "    необходимо вернуть кол-во пар values которые a<x<b\n",
    "    a1 ... a_i < x < a_i+1 ... an\n",
    "    '''\n",
    "    if epsilons is not None:\n",
    "        Gamma = 0\n",
    "        for x_i in data:\n",
    "            d = (np.abs(x_i - x) < epsilons).sum()\n",
    "            Gamma += Cnk(d, k)\n",
    "        return Gamma\n",
    "    # расстояния между парами объектов   \n",
    "    n = data.shape[0]\n",
    "    n_feat = data.shape[1]\n",
    "    maps = np.zeros(data.T.shape)\n",
    "    for i in range(n_feat):\n",
    "        maps[i] = data.T[i] <= x[i] \n",
    "    maps = maps.T\n",
    "    Gamma = 0\n",
    "    for i in tqdm(range(n)):\n",
    "        for j in range(i, n):\n",
    "            d = (maps[i] + maps[j] == 1).sum()\n",
    "            Gamma += Cnk(d, k)\n",
    "    return Gamma*2/(n*(n-1))"
   ]
  },
  {
   "cell_type": "code",
   "execution_count": 126,
   "metadata": {},
   "outputs": [],
   "source": [
    "def predict(data, y, x, k, epsilons=None, scores=False):\n",
    "    # WTF ZERO\n",
    "    n_class = max(y) + 1\n",
    "    g_classes = np.zeros(n_class)\n",
    "    y = y.values \n",
    "    for i in range(n_class):\n",
    "        c_data = data[y == i]\n",
    "#         if c_data.size > data.shape[1]:\n",
    "# #             print(data.shape, c_data.shape)\n",
    "        g_classes[i] = get_gamma(c_data, x, k, epsilons)\n",
    "    if scores:\n",
    "        return g_classes\n",
    "    return np.argmax(g_classes)\n",
    "\n",
    "def predict_vect(X_train, y_train, X_test, k, epsilons=None, scores=False):\n",
    "    return np.array([predict(X_train, y_train, x, k, epsilons, scores) for x in X_test])"
   ]
  },
  {
   "cell_type": "code",
   "execution_count": 127,
   "metadata": {},
   "outputs": [],
   "source": [
    "# итеративный процесс\n",
    "def solve_avo(df, x, y):\n",
    "    x_mask = df.iloc[:, y].isnull() \n",
    "    x_mask = x_mask[~x_mask].index # маска по объектам для трейна\n",
    "    y_mask = df.isnull().sum() > 0 \n",
    "    y_mask = y_mask[~y_mask].index # маска по по признакам для трейна/теста\n",
    "    \n",
    "    X_train = df.iloc[x_mask, y_mask]\n",
    "    X_test = df.iloc[x, y_mask].values.reshape(1, -1)\n",
    "\n",
    "    y_train_raw = df.iloc[x_mask, y]\n",
    "    y_train = y_train_raw.rank(method='dense').astype(int) - 1\n",
    "    \n",
    "    eps = get_epsilons(X_train.values)\n",
    "    gammas_ki = predict(X_train.values, y_train, X_test, 3, eps, True)\n",
    "    sizes_ki = y_train.value_counts().sort_index().values\n",
    "    \n",
    "    full_range = np.array(range(sizes_ki.size))\n",
    "    sort_index = solve_avo_gap(gammas_ki, sizes_ki, full_range)\n",
    "    return y_train_raw.sort_values().iloc[sort_index]\n",
    "    \n",
    "def solve_avo_gap(gammas_ki, sizes_ki, full_range):\n",
    "#     print(full_range)\n",
    "    if len(full_range) == 1:\n",
    "        return full_range[0]\n",
    "    left_range = full_range[:full_range.size//2]\n",
    "    right_range = full_range[full_range.size//2:]\n",
    "    left_score = get_gamma_range(gammas_ki, sizes_ki, left_range)\n",
    "    right_score = get_gamma_range(gammas_ki, sizes_ki, right_range)\n",
    "    if left_score < right_score:\n",
    "        return solve_avo_gap(gammas_ki, sizes_ki, right_range)\n",
    "    else:\n",
    "        return solve_avo_gap(gammas_ki, sizes_ki, left_range)\n",
    "        \n",
    "def get_gamma_range(gammas_ki, sizes_ki, y_range):\n",
    "    sum_gammas = gammas_ki[y_range].sum()\n",
    "    sum_sizes = sizes_ki[y_range].sum()\n",
    "    if sum_sizes == 0:\n",
    "        return 0\n",
    "    return sum_gammas/sum_sizes"
   ]
  },
  {
   "cell_type": "code",
   "execution_count": 128,
   "metadata": {
    "scrolled": false
   },
   "outputs": [
    {
     "name": "stderr",
     "output_type": "stream",
     "text": [
      "100%|██████████| 112/112 [00:10<00:00, 10.64it/s]\n"
     ]
    }
   ],
   "source": [
    "# по всем пропускам из таблицы запускаем и проходим\n",
    "for x, y in tqdm(nan_coords):\n",
    "    arr_pred[x, y] = solve_avo(df, x, y)"
   ]
  },
  {
   "cell_type": "code",
   "execution_count": 109,
   "metadata": {},
   "outputs": [],
   "source": [
    "# for x, y in tqdm(nan_coords):\n",
    "#     print(arr_pred[x, y])"
   ]
  },
  {
   "cell_type": "code",
   "execution_count": 129,
   "metadata": {},
   "outputs": [
    {
     "name": "stdout",
     "output_type": "stream",
     "text": [
      "0.0652446140076 0.0880929846937\n"
     ]
    }
   ],
   "source": [
    "mae = functions.get_mae(arr_raw, arr_pred, nan_coords)\n",
    "rmse = functions.get_rmse(arr_raw, arr_pred, nan_coords)\n",
    "print(mae, rmse)"
   ]
  },
  {
   "cell_type": "code",
   "execution_count": null,
   "metadata": {},
   "outputs": [],
   "source": [
    "\n",
    "7.62472820045 14.1056553537"
   ]
  }
 ],
 "metadata": {
  "kernelspec": {
   "display_name": "Python 3",
   "language": "python",
   "name": "python3"
  },
  "language_info": {
   "codemirror_mode": {
    "name": "ipython",
    "version": 3
   },
   "file_extension": ".py",
   "mimetype": "text/x-python",
   "name": "python",
   "nbconvert_exporter": "python",
   "pygments_lexer": "ipython3",
   "version": "3.6.3"
  }
 },
 "nbformat": 4,
 "nbformat_minor": 2
}
