{
 "cells": [
  {
   "cell_type": "code",
   "execution_count": 1,
   "metadata": {},
   "outputs": [],
   "source": [
    "%load_ext autoreload\n",
    "%autoreload 2"
   ]
  },
  {
   "cell_type": "code",
   "execution_count": 2,
   "metadata": {},
   "outputs": [
    {
     "name": "stdout",
     "output_type": "stream",
     "text": [
      "Populating the interactive namespace from numpy and matplotlib\n"
     ]
    }
   ],
   "source": [
    "import pandas as pd\n",
    "import numpy as np\n",
    "np.random.seed(132)\n",
    "from functools import lru_cache\n",
    "\n",
    "import sys\n",
    "\n",
    "CODE_PATH = '../code'\n",
    "\n",
    "sys.path.append(CODE_PATH)\n",
    "import functions\n",
    "\n",
    "\n",
    "from sklearn.datasets import load_iris, load_boston, load_breast_cancer, load_wine, load_digits\n",
    "from scipy.optimize import minimize\n",
    "from tqdm import tqdm\n",
    "%pylab inline"
   ]
  },
  {
   "cell_type": "markdown",
   "metadata": {},
   "source": [
    "бостон - градиент уходит в 0  \n",
    "ирис - спустя пару итераций в 0"
   ]
  },
  {
   "cell_type": "code",
   "execution_count": 3,
   "metadata": {},
   "outputs": [
    {
     "name": "stdout",
     "output_type": "stream",
     "text": [
      "(569, 30)\n",
      "[0 0 0 0 0 0 0 0 0 0 0 0 0 0 0 0 0 0 0 1 1 1 0 0 0 0 0 0 0 0 0 0 0 0 0 0 0\n",
      " 1 0 0 0 0 0 0 0 0 1 0 1 1 1 1 1 0 0 1 0 0 1 1 1 1 0 1 0 0 1 1 1 1 0 1 0 0\n",
      " 1 0 1 0 0 1 1 1 0 0 1 0 0 0 1 1 1 0 1 1 0 0 1 1 1 0 0 1 1 1 1 0 1 1 0 1 1\n",
      " 1 1 1 1 1 1 0 0 0 1 0 0 1 1 1 0 0 1 0 1 0 0 1 0 0 1 1 0 1 1 0 1 1 1 1 0 1\n",
      " 1 1 1 1 1 1 1 1 0 1 1 1 1 0 0 1 0 1 1 0 0 1 1 0 0 1 1 1 1 0 1 1 0 0 0 1 0\n",
      " 1 0 1 1 1 0 1 1 0 0 1 0 0 0 0 1 0 0 0 1 0 1 0 1 1 0 1 0 0 0 0 1 1 0 0 1 1\n",
      " 1 0 1 1 1 1 1 0 0 1 1 0 1 1 0 0 1 0 1 1 1 1 0 1 1 1 1 1 0 1 0 0 0 0 0 0 0\n",
      " 0 0 0 0 0 0 0 1 1 1 1 1 1 0 1 0 1 1 0 1 1 0 1 0 0 1 1 1 1 1 1 1 1 1 1 1 1\n",
      " 1 0 1 1 0 1 0 1 1 1 1 1 1 1 1 1 1 1 1 1 1 0 1 1 1 0 1 0 1 1 1 1 0 0 0 1 1\n",
      " 1 1 0 1 0 1 0 1 1 1 0 1 1 1 1 1 1 1 0 0 0 1 1 1 1 1 1 1 1 1 1 1 0 0 1 0 0\n",
      " 0 1 0 0 1 1 1 1 1 0 1 1 1 1 1 0 1 1 1 0 1 1 0 0 1 1 1 1 1 1 0 1 1 1 1 1 1\n",
      " 1 0 1 1 1 1 1 0 1 1 0 1 1 1 1 1 1 1 1 1 1 1 1 0 1 0 0 1 0 1 1 1 1 1 0 1 1\n",
      " 0 1 0 1 1 0 1 0 1 1 1 1 1 1 1 1 0 0 1 1 1 1 1 1 0 1 1 1 1 1 1 1 1 1 1 0 1\n",
      " 1 1 1 1 1 1 0 1 0 1 1 0 1 1 1 1 1 0 0 1 0 1 0 1 1 1 1 1 0 1 1 0 1 0 1 0 0\n",
      " 1 1 1 0 1 1 1 1 1 1 1 1 1 1 1 0 1 0 0 1 1 1 1 1 1 1 1 1 1 1 1 1 1 1 1 1 1\n",
      " 1 1 1 1 1 1 1 0 0 0 0 0 0 1]\n"
     ]
    },
    {
     "data": {
      "text/html": [
       "<div>\n",
       "<style>\n",
       "    .dataframe thead tr:only-child th {\n",
       "        text-align: right;\n",
       "    }\n",
       "\n",
       "    .dataframe thead th {\n",
       "        text-align: left;\n",
       "    }\n",
       "\n",
       "    .dataframe tbody tr th {\n",
       "        vertical-align: top;\n",
       "    }\n",
       "</style>\n",
       "<table border=\"1\" class=\"dataframe\">\n",
       "  <thead>\n",
       "    <tr style=\"text-align: right;\">\n",
       "      <th></th>\n",
       "      <th>0</th>\n",
       "      <th>1</th>\n",
       "      <th>2</th>\n",
       "      <th>3</th>\n",
       "      <th>4</th>\n",
       "      <th>5</th>\n",
       "      <th>6</th>\n",
       "      <th>7</th>\n",
       "      <th>8</th>\n",
       "      <th>9</th>\n",
       "      <th>...</th>\n",
       "      <th>20</th>\n",
       "      <th>21</th>\n",
       "      <th>22</th>\n",
       "      <th>23</th>\n",
       "      <th>24</th>\n",
       "      <th>25</th>\n",
       "      <th>26</th>\n",
       "      <th>27</th>\n",
       "      <th>28</th>\n",
       "      <th>29</th>\n",
       "    </tr>\n",
       "  </thead>\n",
       "  <tbody>\n",
       "    <tr>\n",
       "      <th>0</th>\n",
       "      <td>0.182815</td>\n",
       "      <td>-0.301307</td>\n",
       "      <td>0.213053</td>\n",
       "      <td>0.146813</td>\n",
       "      <td>0.198968</td>\n",
       "      <td>0.531437</td>\n",
       "      <td>0.495081</td>\n",
       "      <td>0.487976</td>\n",
       "      <td>0.306758</td>\n",
       "      <td>0.335139</td>\n",
       "      <td>...</td>\n",
       "      <td>0.324113</td>\n",
       "      <td>-0.222474</td>\n",
       "      <td>0.385173</td>\n",
       "      <td>0.279792</td>\n",
       "      <td>0.196998</td>\n",
       "      <td>0.399079</td>\n",
       "      <td>0.351207</td>\n",
       "      <td>0.518192</td>\n",
       "      <td>0.335156</td>\n",
       "      <td>0.229268</td>\n",
       "    </tr>\n",
       "    <tr>\n",
       "      <th>1</th>\n",
       "      <td>0.304923</td>\n",
       "      <td>-0.051392</td>\n",
       "      <td>0.282848</td>\n",
       "      <td>0.284671</td>\n",
       "      <td>-0.104905</td>\n",
       "      <td>-0.078833</td>\n",
       "      <td>-0.004450</td>\n",
       "      <td>0.105621</td>\n",
       "      <td>0.000193</td>\n",
       "      <td>-0.129057</td>\n",
       "      <td>...</td>\n",
       "      <td>0.310239</td>\n",
       "      <td>-0.060427</td>\n",
       "      <td>0.256680</td>\n",
       "      <td>0.264308</td>\n",
       "      <td>-0.056585</td>\n",
       "      <td>-0.065649</td>\n",
       "      <td>-0.024432</td>\n",
       "      <td>0.245339</td>\n",
       "      <td>-0.029717</td>\n",
       "      <td>0.033282</td>\n",
       "    </tr>\n",
       "    <tr>\n",
       "      <th>2</th>\n",
       "      <td>0.263274</td>\n",
       "      <td>0.066295</td>\n",
       "      <td>0.262808</td>\n",
       "      <td>0.232497</td>\n",
       "      <td>0.119524</td>\n",
       "      <td>0.170416</td>\n",
       "      <td>0.254453</td>\n",
       "      <td>0.392549</td>\n",
       "      <td>0.129991</td>\n",
       "      <td>-0.059132</td>\n",
       "      <td>...</td>\n",
       "      <td>0.259723</td>\n",
       "      <td>-0.003924</td>\n",
       "      <td>0.225304</td>\n",
       "      <td>0.203602</td>\n",
       "      <td>0.079452</td>\n",
       "      <td>0.165163</td>\n",
       "      <td>0.142341</td>\n",
       "      <td>0.441216</td>\n",
       "      <td>0.140399</td>\n",
       "      <td>0.023837</td>\n",
       "    </tr>\n",
       "    <tr>\n",
       "      <th>3</th>\n",
       "      <td>-0.128132</td>\n",
       "      <td>0.036874</td>\n",
       "      <td>-0.099434</td>\n",
       "      <td>-0.114014</td>\n",
       "      <td>0.416536</td>\n",
       "      <td>0.550761</td>\n",
       "      <td>0.357546</td>\n",
       "      <td>0.279726</td>\n",
       "      <td>0.396657</td>\n",
       "      <td>0.729621</td>\n",
       "      <td>...</td>\n",
       "      <td>-0.048353</td>\n",
       "      <td>0.021929</td>\n",
       "      <td>-0.041791</td>\n",
       "      <td>-0.076898</td>\n",
       "      <td>0.511335</td>\n",
       "      <td>0.593799</td>\n",
       "      <td>0.331239</td>\n",
       "      <td>0.491044</td>\n",
       "      <td>0.736693</td>\n",
       "      <td>0.584115</td>\n",
       "    </tr>\n",
       "    <tr>\n",
       "      <th>4</th>\n",
       "      <td>0.291671</td>\n",
       "      <td>-0.167388</td>\n",
       "      <td>0.298051</td>\n",
       "      <td>0.272369</td>\n",
       "      <td>0.035567</td>\n",
       "      <td>0.087292</td>\n",
       "      <td>0.255859</td>\n",
       "      <td>0.275253</td>\n",
       "      <td>-0.001323</td>\n",
       "      <td>-0.083564</td>\n",
       "      <td>...</td>\n",
       "      <td>0.223081</td>\n",
       "      <td>-0.240065</td>\n",
       "      <td>0.223810</td>\n",
       "      <td>0.170669</td>\n",
       "      <td>0.033226</td>\n",
       "      <td>-0.047797</td>\n",
       "      <td>0.102086</td>\n",
       "      <td>0.164583</td>\n",
       "      <td>-0.105806</td>\n",
       "      <td>-0.047001</td>\n",
       "    </tr>\n",
       "  </tbody>\n",
       "</table>\n",
       "<p>5 rows × 30 columns</p>\n",
       "</div>"
      ],
      "text/plain": [
       "         0         1         2         3         4         5         6   \\\n",
       "0  0.182815 -0.301307  0.213053  0.146813  0.198968  0.531437  0.495081   \n",
       "1  0.304923 -0.051392  0.282848  0.284671 -0.104905 -0.078833 -0.004450   \n",
       "2  0.263274  0.066295  0.262808  0.232497  0.119524  0.170416  0.254453   \n",
       "3 -0.128132  0.036874 -0.099434 -0.114014  0.416536  0.550761  0.357546   \n",
       "4  0.291671 -0.167388  0.298051  0.272369  0.035567  0.087292  0.255859   \n",
       "\n",
       "         7         8         9     ...           20        21        22  \\\n",
       "0  0.487976  0.306758  0.335139    ...     0.324113 -0.222474  0.385173   \n",
       "1  0.105621  0.000193 -0.129057    ...     0.310239 -0.060427  0.256680   \n",
       "2  0.392549  0.129991 -0.059132    ...     0.259723 -0.003924  0.225304   \n",
       "3  0.279726  0.396657  0.729621    ...    -0.048353  0.021929 -0.041791   \n",
       "4  0.275253 -0.001323 -0.083564    ...     0.223081 -0.240065  0.223810   \n",
       "\n",
       "         23        24        25        26        27        28        29  \n",
       "0  0.279792  0.196998  0.399079  0.351207  0.518192  0.335156  0.229268  \n",
       "1  0.264308 -0.056585 -0.065649 -0.024432  0.245339 -0.029717  0.033282  \n",
       "2  0.203602  0.079452  0.165163  0.142341  0.441216  0.140399  0.023837  \n",
       "3 -0.076898  0.511335  0.593799  0.331239  0.491044  0.736693  0.584115  \n",
       "4  0.170669  0.033226 -0.047797  0.102086  0.164583 -0.105806 -0.047001  \n",
       "\n",
       "[5 rows x 30 columns]"
      ]
     },
     "execution_count": 3,
     "metadata": {},
     "output_type": "execute_result"
    }
   ],
   "source": [
    "dataset = load_breast_cancer()\n",
    "# dataset = load_boston()\n",
    "df = pd.DataFrame(dataset['data'])\n",
    "target = dataset['target']\n",
    "df = (df - df.mean())/(df.max() - df.min())\n",
    "df0 = df.copy()\n",
    "print(df.shape)\n",
    "print(target)\n",
    "df.head()"
   ]
  },
  {
   "cell_type": "code",
   "execution_count": 4,
   "metadata": {
    "scrolled": true
   },
   "outputs": [
    {
     "name": "stderr",
     "output_type": "stream",
     "text": [
      "/Users/kek/mlenv/lib/python3.6/site-packages/ipykernel_launcher.py:3: DeprecationWarning: This function is deprecated. Please call randint(0, 29 + 1) instead\n",
      "  This is separate from the ipykernel package so we can avoid doing imports until\n"
     ]
    }
   ],
   "source": [
    "num_nan_cols = 2\n",
    "nan_fraction = 0.3\n",
    "nan_cols = np.random.random_integers(0, df.shape[1] - 1, num_nan_cols)\n",
    "# print(df.isnull().mean())\n",
    "for col in set(nan_cols):\n",
    "    df.loc[df.sample(int(nan_fraction * len(df))).index, col] = np.nan\n",
    "# print(df.isnull().mean())\n",
    "# print(df.isnull().mean())"
   ]
  },
  {
   "cell_type": "code",
   "execution_count": 5,
   "metadata": {
    "scrolled": true
   },
   "outputs": [
    {
     "name": "stdout",
     "output_type": "stream",
     "text": [
      "Num nan places: 340\n"
     ]
    }
   ],
   "source": [
    "nan_coords = np.array(np.where(df.isnull().values)).T\n",
    "print('Num nan places: {}'.format(nan_coords.shape[0]))"
   ]
  },
  {
   "cell_type": "code",
   "execution_count": null,
   "metadata": {},
   "outputs": [],
   "source": [
    "df1 = df.loc[:, df.isnull().sum() == 0]\n",
    "df2 = df.fillna(df.mean())\n",
    "print(df1.shape, df2.shape)\n",
    "arr0 = df0.values\n",
    "arr1 = df1.values\n",
    "arr2 = df2.values\n",
    "print(arr0.shape, arr1.shape, arr2.shape)\n",
    "print(np.isnan(arr0).sum(), np.isnan(arr1).sum(), np.isnan(arr2).sum())"
   ]
  },
  {
   "cell_type": "code",
   "execution_count": null,
   "metadata": {},
   "outputs": [],
   "source": [
    "arr2.shape"
   ]
  },
  {
   "cell_type": "markdown",
   "metadata": {},
   "source": [
    "# Пилим необходимые функции\n",
    "\n",
    "df - исходная с прочерками    \n",
    "df0 - копия исходной таблицы без прочерков  \n",
    "df1 - сокращенная до ненулевых признаков  \n",
    "df2 - исходная с восстановленными  \n",
    "arr0,arr1,arr2 аналогично"
   ]
  },
  {
   "cell_type": "code",
   "execution_count": null,
   "metadata": {
    "scrolled": true
   },
   "outputs": [],
   "source": [
    "n = len(df0)\n",
    "# таблица старых значений\n",
    "Exp1_table = np.zeros((n, n))\n",
    "for i in tqdm(range(n)):\n",
    "    for j in range(n):\n",
    "        Exp1_table[i][j] = np.exp(-norm(arr1[i] - arr1[j])**2)\n",
    "        \n",
    "P1_table = np.zeros((n, n))\n",
    "for i in tqdm(range(n)):\n",
    "    for j in range(n):\n",
    "        a = Exp1_table[j][i]\n",
    "        b = Exp1_table[i].sum() - 1 # 1 = Exp1_table[i][i]\n",
    "        P1_table[j][i] = a / b"
   ]
  },
  {
   "cell_type": "code",
   "execution_count": null,
   "metadata": {
    "scrolled": true
   },
   "outputs": [],
   "source": [
    "def get_exp2_table():\n",
    "    Exp2_table = np.zeros((n, n))\n",
    "    for i in tqdm(range(n)):\n",
    "        for j in range(n):\n",
    "            Exp2_table[i][j] = np.exp(-norm(arr2[i] - arr2[j])**2)\n",
    "    return Exp2_table\n",
    "\n",
    "def get_p2_table():\n",
    "    Exp2_table = get_exp2_table()\n",
    "    P2_table = np.zeros((n, n))\n",
    "    for i in tqdm(range(n)):\n",
    "        for j in range(n):\n",
    "            a = Exp2_table[j][i]\n",
    "            b = Exp2_table[i].sum() - 1 # 1 = Exp1_table[i][i]\n",
    "            P2_table[j][i] = a / b\n",
    "    return P2_table\n",
    "P2_table = get_p2_table()"
   ]
  },
  {
   "cell_type": "code",
   "execution_count": null,
   "metadata": {},
   "outputs": [],
   "source": [
    "def KL():\n",
    "    s = 0\n",
    "    for i in range(n):\n",
    "        for j in range(n):\n",
    "            s += P1_table[j][i] * np.log(P1_table[j][i] / P2_table[j][i])\n",
    "    return s\n",
    "\n",
    "def get_grad(i1, i2):\n",
    "    def get_i_part(i):\n",
    "        d = 2*(arr2[i1][i2] - arr2[i][i2])\n",
    "        s = (P1_table[i1][i]+P1_table[i][i1]) - \\\n",
    "            P2_table[i1][i]*(1+P1_table[i][i]) - \\\n",
    "            P2_table[i][i1]*(1+P1_table[i1][i1])\n",
    "        return s*d\n",
    "    return sum(get_i_part(i) for i in range(n) if i!=i1)\n",
    "\n",
    "def get_full_grad(nan_coords):\n",
    "    n_gaps = len(nan_coords)\n",
    "    grad = np.zeros(n_gaps)\n",
    "    for i in range(n_gaps):\n",
    "        i1, i2 = nan_coords[i]\n",
    "        grad[i] = get_grad(i1, i2)\n",
    "    return grad"
   ]
  },
  {
   "cell_type": "markdown",
   "metadata": {},
   "source": [
    "Тестовый прогон"
   ]
  },
  {
   "cell_type": "markdown",
   "metadata": {},
   "source": [
    "# Iterative process"
   ]
  },
  {
   "cell_type": "code",
   "execution_count": null,
   "metadata": {},
   "outputs": [],
   "source": [
    "c = KL()\n",
    "c"
   ]
  },
  {
   "cell_type": "code",
   "execution_count": null,
   "metadata": {},
   "outputs": [],
   "source": [
    "mae = functions.get_mae(arr0, arr2, nan_coords)\n",
    "mae"
   ]
  },
  {
   "cell_type": "code",
   "execution_count": null,
   "metadata": {},
   "outputs": [],
   "source": [
    "cs = []\n",
    "maes = []\n",
    "msqes = []\n",
    "accs = []\n",
    "\n",
    "mae = functions.get_mae(arr0, arr2, nan_coords)\n",
    "msqe = functions.get_msqe(arr0, arr2, nan_coords)\n",
    "acc = functions.get_acc(arr2, target)\n",
    "\n",
    "cs.append(c)\n",
    "maes.append(mae)\n",
    "msqes.append(msqe)\n",
    "accs.append(acc)"
   ]
  },
  {
   "cell_type": "code",
   "execution_count": null,
   "metadata": {
    "scrolled": false
   },
   "outputs": [],
   "source": [
    "alpha = 0.1\n",
    "max_iter = 30\n",
    "print('\\tIteration {} //  c {:.6} // mae {:.6} // rmse {:.6} // acc {}'.format(0, c, mae, msqe, acc))\n",
    "for i in range(max_iter):\n",
    "    grad = get_full_grad(nan_coords)\n",
    "    for j, (x,y) in enumerate(nan_coords):\n",
    "        arr2[x, y] = arr2[x, y] - alpha*grad[j]\n",
    "    P2_table = get_p2_table()\n",
    "    c = KL()\n",
    "    mae = functions.get_mae(arr0, arr2, nan_coords)\n",
    "    msqe = functions.get_msqe(arr0, arr2, nan_coords)\n",
    "    acc = functions.get_acc(arr2, target)\n",
    "    \n",
    "    accs.append(acc)\n",
    "    cs.append(c)\n",
    "    maes.append(mae)\n",
    "    msqes.append(msqe)\n",
    "    print('\\tIteration {} // c {:.6} // mae {:.6} // rmse {:.6} // acc {}'.format(i+1, c,mae, \n",
    "                                                                                                   msqe, acc))"
   ]
  },
  {
   "cell_type": "code",
   "execution_count": null,
   "metadata": {},
   "outputs": [],
   "source": []
  }
 ],
 "metadata": {
  "kernelspec": {
   "display_name": "Python 3",
   "language": "python",
   "name": "python3"
  },
  "language_info": {
   "codemirror_mode": {
    "name": "ipython",
    "version": 3
   },
   "file_extension": ".py",
   "mimetype": "text/x-python",
   "name": "python",
   "nbconvert_exporter": "python",
   "pygments_lexer": "ipython3",
   "version": "3.6.3"
  }
 },
 "nbformat": 4,
 "nbformat_minor": 2
}
