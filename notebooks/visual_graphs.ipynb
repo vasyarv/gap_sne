{
 "cells": [
  {
   "cell_type": "code",
   "execution_count": null,
   "metadata": {},
   "outputs": [],
   "source": [
    "%load_ext autoreload\n",
    "%autoreload 2"
   ]
  },
  {
   "cell_type": "code",
   "execution_count": null,
   "metadata": {},
   "outputs": [],
   "source": [
    "import pandas as pd\n",
    "import numpy as np\n",
    "np.random.seed(132)\n",
    "from functools import lru_cache\n",
    "\n",
    "import sys\n",
    "\n",
    "CODE_PATH = '../code'\n",
    "\n",
    "sys.path.append(CODE_PATH)\n",
    "import functions\n",
    "\n",
    "from sklearn.metrics import accuracy_score, f1_score\n",
    "from sklearn.datasets import load_iris, load_boston, load_breast_cancer, load_wine, load_digits\n",
    "from scipy.optimize import minimize\n",
    "from sklearn.linear_model import LogisticRegression\n",
    "from tqdm import tqdm\n",
    "\n",
    "%pylab inline"
   ]
  },
  {
   "cell_type": "code",
   "execution_count": null,
   "metadata": {},
   "outputs": [],
   "source": [
    "import matplotlib\n",
    "matplotlib.rcParams.update({'errorbar.capsize': 2})\n",
    "figsize(16, 10)"
   ]
  },
  {
   "cell_type": "code",
   "execution_count": null,
   "metadata": {
    "scrolled": true
   },
   "outputs": [],
   "source": [
    "# new format\n",
    "df = pd.read_csv('../data/graphs/pivot_data_newformat.csv')\n",
    "df.head()"
   ]
  },
  {
   "cell_type": "markdown",
   "metadata": {},
   "source": [
    "# LINEAR SVC"
   ]
  },
  {
   "cell_type": "code",
   "execution_count": null,
   "metadata": {},
   "outputs": [],
   "source": [
    "functions.plot_max_gap_many(df, datasets=['digits', 'sensorless', 'model_16'], dich_range=[40, 180],\n",
    "                            labels=['Распознавание цифр (10 классов)', \n",
    "                                    'Диагностика двигателя (11 классов)', \n",
    "                                    'Модельная задача (16 классов)'])"
   ]
  },
  {
   "cell_type": "code",
   "execution_count": null,
   "metadata": {},
   "outputs": [],
   "source": [
    "xticks=np.arange(0, 500, 10)\n",
    "yticks=np.arange(10, 310, 2)\n",
    "functions.plot_max_gap(df, dataset='sensorless', dich_range=[10, 400], xticks=xticks, yticks=yticks)"
   ]
  },
  {
   "cell_type": "code",
   "execution_count": null,
   "metadata": {},
   "outputs": [],
   "source": [
    "sdf = df[df['dataset'] == 'model_16']\n",
    "sdf = sdf[sdf['approach'] == 'max_gap']\n",
    "sdf = sdf[sdf['clf'] == 'log_reg_default']\n",
    "\n",
    "sdf = sdf[sdf['confusion_list_std'] < 0.1]"
   ]
  },
  {
   "cell_type": "code",
   "execution_count": null,
   "metadata": {},
   "outputs": [],
   "source": [
    "sdf"
   ]
  },
  {
   "cell_type": "code",
   "execution_count": null,
   "metadata": {
    "scrolled": false
   },
   "outputs": [],
   "source": [
    "functions.plot_approach(df, \n",
    "                        dataset='sensorless', \n",
    "                        clf='log_reg_default', \n",
    "                        approach='random',\n",
    "                        yticks=np.arange(0, 1., 0.01), \n",
    "                        xticks=np.arange(0, 500, 5),\n",
    "                        shift_step=0.3, \n",
    "                        dich_range=[10,195])"
   ]
  },
  {
   "cell_type": "code",
   "execution_count": null,
   "metadata": {},
   "outputs": [],
   "source": [
    "aps = ['random', 'max_gap', 'best_f1', 'local_f1']\n",
    "# log_reg_default linearsvc\n",
    "legs = ['Случайные дихотомии', 'Максимизация межклассового зазора', \n",
    "        'Отбор дихотомий с лучшей F-мерой из случайных', 'Поиск лучших(по F-мере) локальным методом']\n",
    "tl = 'Сравнение многоклассовой точности, взвешивание кодовых слов по точности'\n",
    "functions.plot_score(df, dataset='model_16', clf='linearsvc', \n",
    "                     approaches=aps, legends=legs, score_type='confusion_list',\n",
    "                    yticks=np.arange(0, 1., 0.05), \n",
    "                    xticks=np.arange(0, 500, 5),\n",
    "                     title=tl, dich_range=[10, 140])"
   ]
  },
  {
   "cell_type": "code",
   "execution_count": null,
   "metadata": {
    "scrolled": false
   },
   "outputs": [],
   "source": [
    "aps = ['random', 'max_gap', 'best_acc', 'local_acc']\n",
    "legs = ['Случайные дихотомии', 'Максимизация межклассового зазора', \n",
    "        'Отбор дихотомий с лучшей точностью из случайных', 'Поиск лучших(по точности) локальным методом']\n",
    "tl = 'Сравнение многоклассовой точности, взвешивание кодовых слов по точности'\n",
    "functions.plot_score(df, dataset='model_16', clf='log_reg_default', \n",
    "                     approaches=aps, legends=legs, score_type='confusion_list', title=tl, \n",
    "                     dich_range=[20, 100], shift_step=0.07)"
   ]
  },
  {
   "cell_type": "code",
   "execution_count": null,
   "metadata": {},
   "outputs": [],
   "source": [
    "aps = ['random', 'max_gap', 'best_f1', 'local_f1']\n",
    "legs = ['Случайные дихотомии', 'Максимизация межклассового зазора', \n",
    "        'Отбор дихотомий с лучшей F-мерой из случайных', 'Поиск лучших(по F-мере) локальным методом']\n",
    "tl = 'Сравнение многоклассовой точности, взвешивание кодовых слов по F-мере'\n",
    "functions.plot_score(df, dataset='model_16', clf='log_reg_default', yticks=np.arange(0, 1., 0.05),\n",
    "                     approaches=aps, legends=legs, score_type='confusion_list', title=tl, dich_range=[30, 140])"
   ]
  },
  {
   "cell_type": "code",
   "execution_count": null,
   "metadata": {},
   "outputs": [],
   "source": [
    "aps = ['random', 'max_gap', 'best_f1', 'local_f1']\n",
    "legs = ['Случайные дихотомии', 'Максимизация межклассового зазора', \n",
    "        'Отбор дихотомий с лучшей F-мерой из случайных', 'Поиск лучших(по F-мере) локальным методом']\n",
    "tl = 'Сравнение многоклассовой точности, взвешивание кодовых слов по F-мере'\n",
    "functions.plot_score(df, dataset='model_16', clf='log_reg_default', yticks=np.arange(0, 1., 0.01),\n",
    "                     approaches=aps, legends=legs, score_type='confusion_list', title=tl, dich_range=[30, 140])"
   ]
  }
 ],
 "metadata": {
  "kernelspec": {
   "display_name": "Python 3.6",
   "language": "python",
   "name": "myenv"
  },
  "language_info": {
   "codemirror_mode": {
    "name": "ipython",
    "version": 3
   },
   "file_extension": ".py",
   "mimetype": "text/x-python",
   "name": "python",
   "nbconvert_exporter": "python",
   "pygments_lexer": "ipython3",
   "version": "3.6.6"
  }
 },
 "nbformat": 4,
 "nbformat_minor": 2
}
