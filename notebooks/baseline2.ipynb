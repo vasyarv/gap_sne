{
 "cells": [
  {
   "cell_type": "code",
   "execution_count": 1,
   "metadata": {},
   "outputs": [
    {
     "name": "stdout",
     "output_type": "stream",
     "text": [
      "Populating the interactive namespace from numpy and matplotlib\n"
     ]
    }
   ],
   "source": [
    "import pandas as pd\n",
    "import numpy as np\n",
    "np.random.seed(132)\n",
    "from functools import lru_cache\n",
    "\n",
    "from sklearn.datasets import load_iris, load_boston, load_breast_cancer, load_wine\n",
    "from scipy.optimize import minimize\n",
    "from tqdm import tqdm\n",
    "%pylab inline"
   ]
  },
  {
   "cell_type": "code",
   "execution_count": 2,
   "metadata": {},
   "outputs": [
    {
     "name": "stdout",
     "output_type": "stream",
     "text": [
      "(178, 13)\n"
     ]
    },
    {
     "data": {
      "text/html": [
       "<div>\n",
       "<style>\n",
       "    .dataframe thead tr:only-child th {\n",
       "        text-align: right;\n",
       "    }\n",
       "\n",
       "    .dataframe thead th {\n",
       "        text-align: left;\n",
       "    }\n",
       "\n",
       "    .dataframe tbody tr th {\n",
       "        vertical-align: top;\n",
       "    }\n",
       "</style>\n",
       "<table border=\"1\" class=\"dataframe\">\n",
       "  <thead>\n",
       "    <tr style=\"text-align: right;\">\n",
       "      <th></th>\n",
       "      <th>0</th>\n",
       "      <th>1</th>\n",
       "      <th>2</th>\n",
       "      <th>3</th>\n",
       "      <th>4</th>\n",
       "      <th>5</th>\n",
       "      <th>6</th>\n",
       "      <th>7</th>\n",
       "      <th>8</th>\n",
       "      <th>9</th>\n",
       "      <th>10</th>\n",
       "      <th>11</th>\n",
       "      <th>12</th>\n",
       "    </tr>\n",
       "  </thead>\n",
       "  <tbody>\n",
       "    <tr>\n",
       "      <th>0</th>\n",
       "      <td>0.323522</td>\n",
       "      <td>-0.123784</td>\n",
       "      <td>0.033948</td>\n",
       "      <td>-0.200770</td>\n",
       "      <td>0.296287</td>\n",
       "      <td>0.174099</td>\n",
       "      <td>0.217454</td>\n",
       "      <td>-0.154441</td>\n",
       "      <td>0.220537</td>\n",
       "      <td>0.049651</td>\n",
       "      <td>0.067114</td>\n",
       "      <td>0.479236</td>\n",
       "      <td>0.226895</td>\n",
       "    </tr>\n",
       "    <tr>\n",
       "      <th>1</th>\n",
       "      <td>0.052469</td>\n",
       "      <td>-0.109950</td>\n",
       "      <td>-0.121132</td>\n",
       "      <td>-0.427574</td>\n",
       "      <td>0.002809</td>\n",
       "      <td>0.122375</td>\n",
       "      <td>0.154163</td>\n",
       "      <td>-0.192177</td>\n",
       "      <td>-0.098075</td>\n",
       "      <td>-0.057857</td>\n",
       "      <td>0.075244</td>\n",
       "      <td>0.288760</td>\n",
       "      <td>0.216196</td>\n",
       "    </tr>\n",
       "    <tr>\n",
       "      <th>2</th>\n",
       "      <td>0.041943</td>\n",
       "      <td>0.004674</td>\n",
       "      <td>0.162290</td>\n",
       "      <td>-0.046131</td>\n",
       "      <td>0.013679</td>\n",
       "      <td>0.174099</td>\n",
       "      <td>0.255428</td>\n",
       "      <td>-0.116706</td>\n",
       "      <td>0.384574</td>\n",
       "      <td>0.053064</td>\n",
       "      <td>0.058984</td>\n",
       "      <td>0.204511</td>\n",
       "      <td>0.312487</td>\n",
       "    </tr>\n",
       "    <tr>\n",
       "      <th>3</th>\n",
       "      <td>0.360364</td>\n",
       "      <td>-0.076353</td>\n",
       "      <td>0.071381</td>\n",
       "      <td>-0.138915</td>\n",
       "      <td>0.144113</td>\n",
       "      <td>0.536168</td>\n",
       "      <td>0.308171</td>\n",
       "      <td>-0.229913</td>\n",
       "      <td>0.185836</td>\n",
       "      <td>0.233951</td>\n",
       "      <td>-0.079227</td>\n",
       "      <td>0.307075</td>\n",
       "      <td>0.522901</td>\n",
       "    </tr>\n",
       "    <tr>\n",
       "      <th>4</th>\n",
       "      <td>0.062995</td>\n",
       "      <td>0.050129</td>\n",
       "      <td>0.269242</td>\n",
       "      <td>0.077580</td>\n",
       "      <td>0.198461</td>\n",
       "      <td>0.174099</td>\n",
       "      <td>0.139395</td>\n",
       "      <td>0.053106</td>\n",
       "      <td>0.072272</td>\n",
       "      <td>-0.062977</td>\n",
       "      <td>0.067114</td>\n",
       "      <td>0.116599</td>\n",
       "      <td>-0.008483</td>\n",
       "    </tr>\n",
       "  </tbody>\n",
       "</table>\n",
       "</div>"
      ],
      "text/plain": [
       "         0         1         2         3         4         5         6   \\\n",
       "0  0.323522 -0.123784  0.033948 -0.200770  0.296287  0.174099  0.217454   \n",
       "1  0.052469 -0.109950 -0.121132 -0.427574  0.002809  0.122375  0.154163   \n",
       "2  0.041943  0.004674  0.162290 -0.046131  0.013679  0.174099  0.255428   \n",
       "3  0.360364 -0.076353  0.071381 -0.138915  0.144113  0.536168  0.308171   \n",
       "4  0.062995  0.050129  0.269242  0.077580  0.198461  0.174099  0.139395   \n",
       "\n",
       "         7         8         9         10        11        12  \n",
       "0 -0.154441  0.220537  0.049651  0.067114  0.479236  0.226895  \n",
       "1 -0.192177 -0.098075 -0.057857  0.075244  0.288760  0.216196  \n",
       "2 -0.116706  0.384574  0.053064  0.058984  0.204511  0.312487  \n",
       "3 -0.229913  0.185836  0.233951 -0.079227  0.307075  0.522901  \n",
       "4  0.053106  0.072272 -0.062977  0.067114  0.116599 -0.008483  "
      ]
     },
     "execution_count": 2,
     "metadata": {},
     "output_type": "execute_result"
    }
   ],
   "source": [
    "dataset = load_wine()\n",
    "df = pd.DataFrame(dataset['data'])\n",
    "target = dataset['target']\n",
    "df = (df - df.mean())/(df.max() - df.min())\n",
    "df0 = df.copy()\n",
    "print(df.shape)\n",
    "df.head()"
   ]
  },
  {
   "cell_type": "code",
   "execution_count": 4,
   "metadata": {
    "scrolled": true
   },
   "outputs": [
    {
     "name": "stderr",
     "output_type": "stream",
     "text": [
      "/Users/kek/mlenv/lib/python3.6/site-packages/ipykernel_launcher.py:3: DeprecationWarning: This function is deprecated. Please call randint(0, 12 + 1) instead\n",
      "  This is separate from the ipykernel package so we can avoid doing imports until\n"
     ]
    }
   ],
   "source": [
    "num_nan_cols = 3\n",
    "nan_fraction = 0.10\n",
    "nan_cols = np.random.random_integers(0, df.shape[1] - 1, num_nan_cols)\n",
    "# print(df.isnull().mean())\n",
    "for col in set(nan_cols):\n",
    "    df.loc[df.sample(int(nan_fraction * len(df))).index, col] = np.nan\n",
    "# print(df.isnull().mean())\n",
    "# print(df.isnull().mean())"
   ]
  },
  {
   "cell_type": "code",
   "execution_count": 5,
   "metadata": {
    "scrolled": true
   },
   "outputs": [
    {
     "name": "stdout",
     "output_type": "stream",
     "text": [
      "Num nan places: 85\n"
     ]
    }
   ],
   "source": [
    "nan_coords = np.array(np.where(df.isnull().values)).T\n",
    "print('Num nan places: {}'.format(nan_coords.shape[0]))"
   ]
  },
  {
   "cell_type": "markdown",
   "metadata": {},
   "source": [
    "Считаем по каждой паре i_1 i_2 из coords градиент"
   ]
  },
  {
   "cell_type": "code",
   "execution_count": 6,
   "metadata": {},
   "outputs": [],
   "source": [
    "from numpy.linalg import norm\n",
    "\n",
    "def ex(arr, j, i):\n",
    "    return np.exp(-norm(arr[i] - arr[j])**2)\n",
    "\n",
    "def p(arr, j, i):\n",
    "    a = ex(arr, j, i)\n",
    "    b = sum(ex(arr, k, i) for k in range(len(arr)) if k!=i)\n",
    "    return a / b\n",
    "\n",
    "def d(arr, i, j, i2):\n",
    "    return np.abs(arr[i, i2] - arr[j, i2])"
   ]
  },
  {
   "cell_type": "code",
   "execution_count": 7,
   "metadata": {},
   "outputs": [
    {
     "name": "stdout",
     "output_type": "stream",
     "text": [
      "(178, 8) (178, 13)\n"
     ]
    }
   ],
   "source": [
    "df1 = df.loc[:, df.isnull().sum() == 0]\n",
    "df2 = df.fillna(df.mean())\n",
    "print(df1.shape, df2.shape)"
   ]
  },
  {
   "cell_type": "code",
   "execution_count": 8,
   "metadata": {},
   "outputs": [
    {
     "name": "stdout",
     "output_type": "stream",
     "text": [
      "(178, 13) (178, 8) (178, 13)\n",
      "0 0 0\n"
     ]
    }
   ],
   "source": [
    "arr0 = df0.values\n",
    "arr1 = df1.values\n",
    "arr2 = df2.values\n",
    "print(arr0.shape, arr1.shape, arr2.shape)\n",
    "print(np.isnan(arr0).sum(), np.isnan(arr1).sum(), np.isnan(arr2).sum())"
   ]
  },
  {
   "cell_type": "code",
   "execution_count": 9,
   "metadata": {},
   "outputs": [],
   "source": [
    "def norm1(i, j):\n",
    "    return norm(arr1[i] - arr1[j])**2"
   ]
  },
  {
   "cell_type": "code",
   "execution_count": 10,
   "metadata": {
    "scrolled": true
   },
   "outputs": [],
   "source": [
    "def cost(arr1, arr2):\n",
    "    @lru_cache(maxsize=None)\n",
    "    def norm1(i, j):\n",
    "        return norm(arr1[i] - arr1[j])**2\n",
    "    @lru_cache(maxsize=None)\n",
    "    def ex1(i, j):\n",
    "        return np.exp(-norm1(i, j))\n",
    "    @lru_cache(maxsize=None)\n",
    "    def p1(j, i):\n",
    "        a = ex1(j, i)\n",
    "        b = sum(ex1(k, i) for k in range(len(arr1)) if k!=i)\n",
    "        return a / b\n",
    "    @lru_cache(maxsize=None)\n",
    "    def norm2(i, j):\n",
    "        return norm(arr2[i] - arr2[j])**2\n",
    "    @lru_cache(maxsize=None)\n",
    "    def ex2(i, j):\n",
    "        return np.exp(-norm2(i, j))\n",
    "    @lru_cache(maxsize=None)\n",
    "    def p2(j, i):\n",
    "        a = ex2(j, i)\n",
    "        b = sum(ex2(k, i) for k in range(len(arr2)) if k!=i)\n",
    "        return a / b\n",
    "    s = 0\n",
    "    for i in range(len(arr1)):\n",
    "        for j in range(len(arr1)):\n",
    "            s += p1(j, i) * np.log(p1(j, i) / p2(j, i))\n",
    "    return s"
   ]
  },
  {
   "cell_type": "code",
   "execution_count": 11,
   "metadata": {},
   "outputs": [
    {
     "data": {
      "text/plain": [
       "3.1746806447724749"
      ]
     },
     "execution_count": 11,
     "metadata": {},
     "output_type": "execute_result"
    }
   ],
   "source": [
    "c = cost(arr1, arr2)\n",
    "c"
   ]
  },
  {
   "cell_type": "code",
   "execution_count": 13,
   "metadata": {},
   "outputs": [],
   "source": [
    "def get_grad(arr1, arr2, i1, i2):\n",
    "    '''\n",
    "    arr1 - массив без пропусков(укороченный)\n",
    "    arr2 - массив с прочерками(удлиенный)\n",
    "    i1, i2 -  координаты nan\n",
    "    '''\n",
    "    @lru_cache(maxsize=None)\n",
    "    def norm1(i, j):\n",
    "        return norm(arr1[i] - arr1[j])\n",
    "\n",
    "    @lru_cache(maxsize=None)\n",
    "    def ex1(i, j):\n",
    "        return np.exp(-norm1(i, j))\n",
    "\n",
    "    @lru_cache(maxsize=None)\n",
    "    def p1(j, i):\n",
    "        a = ex1(j, i)\n",
    "        b = sum(ex1(k, i) for k in range(len(arr1)) if k!=i)\n",
    "        return a / b\n",
    "\n",
    "    @lru_cache(maxsize=None)\n",
    "    def norm2(i, j):\n",
    "        return norm(arr2[i] - arr2[j])\n",
    "    @lru_cache(maxsize=None)\n",
    "    def ex2(i, j):\n",
    "        return np.exp(-norm2(i, j))\n",
    "    @lru_cache(maxsize=None)\n",
    "    def p2(j, i):\n",
    "        a = ex2(j, i)\n",
    "        b = sum(ex2(k, i) for k in range(len(arr2)) if k!=i)\n",
    "        return a / b\n",
    "    \n",
    "    @lru_cache(maxsize=None)\n",
    "    def d(i, j):\n",
    "        '''\n",
    "        \"Дистанция после дифференцирования\" - то же самое, только arr == arr2 и i2 == i2\n",
    "        '''\n",
    "        a = np.abs(arr2[i, i2] - arr2[j, i2])\n",
    "        return a\n",
    "    def get_i_part(i):\n",
    "        '''\n",
    "        считаем i часть суммы\n",
    "        '''\n",
    "        s = 0\n",
    "        s += p1(i1, i) + p1(i, i1)\n",
    "        s -= p2(i1, i)*(1 + p1(i, i))\n",
    "        s -= p2(i, i1)*(1 + p1(i1, i1))\n",
    "        return s * d(i, i1)\n",
    "    return sum(get_i_part(i) for i in range(len(arr1)) if i!=i1)\n",
    "\n",
    "def get_full_grad(arr1, arr2, nan_coords):\n",
    "    '''\n",
    "    arr1 - массив без пропусков(укороченный)\n",
    "    arr2 - массив с прочерками(удлиенный)\n",
    "    i1, i2 -  координаты nan\n",
    "    '''\n",
    "    grads = []\n",
    "    for i1, i2 in nan_coords:\n",
    "        grads.append(get_grad(arr1, arr2, i1, i2))\n",
    "    return np.array(grads)"
   ]
  },
  {
   "cell_type": "code",
   "execution_count": 14,
   "metadata": {
    "scrolled": true
   },
   "outputs": [],
   "source": [
    "grad = get_full_grad(arr1, arr2, nan_coords)"
   ]
  },
  {
   "cell_type": "code",
   "execution_count": 15,
   "metadata": {},
   "outputs": [],
   "source": [
    "from sklearn.metrics import mean_absolute_error\n",
    "from sklearn.metrics import mean_squared_error\n",
    "\n",
    "def get_mae(arr1, arr2, nan_coords):\n",
    "    vec1 = []\n",
    "    vec2 = []\n",
    "    for j, (x,y) in enumerate(nan_coords):\n",
    "        vec1.append(arr1[x, y])\n",
    "        vec2.append(arr2[x, y])\n",
    "    return mean_absolute_error(vec1, vec2)\n",
    "\n",
    "def get_msqe(arr1, arr2, nan_coords):\n",
    "    vec1 = []\n",
    "    vec2 = []\n",
    "    for j, (x,y) in enumerate(nan_coords):\n",
    "        vec1.append(arr1[x, y])\n",
    "        vec2.append(arr2[x, y])\n",
    "    return mean_squared_error(vec1, vec2)\n",
    "\n",
    "from sklearn.ensemble import RandomForestClassifier\n",
    "from sklearn.model_selection import cross_val_score\n",
    "def get_acc(arr2, target):\n",
    "#     df_acc = pd.DataFrame(arr2)\n",
    "#     df_acc['target'] = target\n",
    "    forest = RandomForestClassifier()\n",
    "    return cross_val_score(forest, arr2, target, scoring='accuracy', cv=7).mean()"
   ]
  },
  {
   "cell_type": "code",
   "execution_count": 14,
   "metadata": {
    "scrolled": true
   },
   "outputs": [],
   "source": [
    "# test\n",
    "# def minimize_f(alpha):\n",
    "#     arr_tmp = arr2.copy()\n",
    "#     for j, (x,y) in enumerate(nan_coords):\n",
    "#         arr_tmp[x, y] = arr2[x, y] - alpha*grad[j]\n",
    "#     c = cost(arr1, arr_tmp)\n",
    "#     print(alpha, c)\n",
    "#     return c\n",
    "\n",
    "# res = minimize(minimize_f, 0.1, method='Nelder-Mead', tol=1e-4, options={'maxiter': 10})\n",
    "# alpha = res.final_simplex[0][0][0]\n",
    "# for j, (x,y) in enumerate(nan_coords):\n",
    "#     arr2[x, y] = arr2[x, y] - alpha*grad[j]"
   ]
  },
  {
   "cell_type": "markdown",
   "metadata": {},
   "source": [
    "# Iterative process"
   ]
  },
  {
   "cell_type": "code",
   "execution_count": 41,
   "metadata": {},
   "outputs": [],
   "source": [
    "c = cost(arr1, arr2)\n",
    "c"
   ]
  },
  {
   "cell_type": "code",
   "execution_count": 42,
   "metadata": {},
   "outputs": [
    {
     "data": {
      "text/plain": [
       "0.1555597687585078"
      ]
     },
     "execution_count": 42,
     "metadata": {},
     "output_type": "execute_result"
    }
   ],
   "source": [
    "mae = get_mae(arr0, arr2, nan_coords)\n",
    "mae"
   ]
  },
  {
   "cell_type": "code",
   "execution_count": 43,
   "metadata": {},
   "outputs": [],
   "source": [
    "cs = []\n",
    "maes = []\n",
    "msqes = []\n",
    "accs = []\n",
    "\n",
    "mae = get_mae(arr0, arr2, nan_coords)\n",
    "msqe = get_msqe(arr0, arr2, nan_coords)\n",
    "acc = get_acc(arr2, target)\n",
    "\n",
    "cs.append(c)\n",
    "maes.append(mae)\n",
    "msqes.append(msqe)\n",
    "accs.append(acc)"
   ]
  },
  {
   "cell_type": "code",
   "execution_count": 44,
   "metadata": {},
   "outputs": [
    {
     "name": "stdout",
     "output_type": "stream",
     "text": [
      "Iteration 0 // best c 3.17272 // c 3.17272 // mae 0.15556 // msqe 0.0357938 // acc 0.939748\n",
      "[ 0.3] 3.17269203741\n",
      "[ 0.3] 3.17269203741\n",
      "[ 0.30000001] 3.17269203742\n",
      "[ 0.29999992] 3.1726920374\n",
      "[ 0.29999992] 3.1726920374\n",
      "[ 0.29999993] 3.17269203741\n",
      "[ 0.] 3.17271939717\n",
      "[ 0.] 3.17271939717\n",
      "[  1.00000000e-08] 3.17271939716\n",
      "[ 0.15] 3.17269003041\n",
      "[ 0.15] 3.17269003041\n",
      "[ 0.15000001] 3.17269003041\n",
      "[ 0.225] 3.17268711716\n",
      "[ 0.225] 3.17268711716\n",
      "[ 0.22500001] 3.17268711716\n",
      "[ 0.225] 3.17268711716\n",
      "[ 0.225] 3.17268711716\n",
      "[ 0.22500001] 3.17268711716\n",
      "Iteration 1 // best c 3.17269 // c 3.17269 // mae 0.15525 // msqe 0.035697 // acc 0.934644\n",
      "[ 0.3] 3.17276045472\n",
      "[ 0.3] 3.17276045472\n",
      "[ 0.30000001] 3.17276045473\n",
      "[ 0.29999992] 3.17276045468\n",
      "[ 0.29999992] 3.17276045468\n",
      "[ 0.29999993] 3.17276045469\n",
      "[ 0.] 3.17268711716\n",
      "[ 0.] 3.17268711716\n",
      "[  1.00000000e-08] 3.17268711716\n",
      "[ 0.] 3.17268711716\n",
      "[ 0.] 3.17268711716\n",
      "[  1.00000000e-08] 3.17268711716\n",
      "Iteration 2 // best c 3.17269 // c 3.17269 // mae 0.15525 // msqe 0.035697 // acc 0.950313\n",
      "[ 0.3] 3.17276045472\n",
      "[ 0.3] 3.17276045472\n",
      "[ 0.30000001] 3.17276045473\n",
      "[ 0.29999992] 3.17276045468\n",
      "[ 0.29999992] 3.17276045468\n",
      "[ 0.29999993] 3.17276045469\n",
      "[ 0.] 3.17268711716\n",
      "[ 0.] 3.17268711716\n",
      "[  1.00000000e-08] 3.17268711716\n",
      "[ 0.] 3.17268711716\n",
      "[ 0.] 3.17268711716\n",
      "[  1.00000000e-08] 3.17268711716\n",
      "Iteration 3 // best c 3.17269 // c 3.17269 // mae 0.15525 // msqe 0.035697 // acc 0.961726\n"
     ]
    },
    {
     "ename": "KeyboardInterrupt",
     "evalue": "",
     "output_type": "error",
     "traceback": [
      "\u001b[0;31m---------------------------------------------------------------------------\u001b[0m",
      "\u001b[0;31mKeyboardInterrupt\u001b[0m                         Traceback (most recent call last)",
      "\u001b[0;32m<ipython-input-44-5c89ba3a7edf>\u001b[0m in \u001b[0;36m<module>\u001b[0;34m()\u001b[0m\n\u001b[1;32m      2\u001b[0m \u001b[0mprint\u001b[0m\u001b[0;34m(\u001b[0m\u001b[0;34m'Iteration {} // best c {:.6} // c {:.6} // mae {:.6} // msqe {:.6} // acc {:.6}'\u001b[0m\u001b[0;34m.\u001b[0m\u001b[0mformat\u001b[0m\u001b[0;34m(\u001b[0m\u001b[0;36m0\u001b[0m\u001b[0;34m,\u001b[0m \u001b[0mc\u001b[0m\u001b[0;34m,\u001b[0m \u001b[0mc\u001b[0m\u001b[0;34m,\u001b[0m \u001b[0mmae\u001b[0m\u001b[0;34m,\u001b[0m \u001b[0mmsqe\u001b[0m\u001b[0;34m,\u001b[0m \u001b[0macc\u001b[0m\u001b[0;34m)\u001b[0m\u001b[0;34m)\u001b[0m\u001b[0;34m\u001b[0m\u001b[0m\n\u001b[1;32m      3\u001b[0m \u001b[0;32mfor\u001b[0m \u001b[0mi\u001b[0m \u001b[0;32min\u001b[0m \u001b[0mrange\u001b[0m\u001b[0;34m(\u001b[0m\u001b[0mmax_iter\u001b[0m\u001b[0;34m)\u001b[0m\u001b[0;34m:\u001b[0m\u001b[0;34m\u001b[0m\u001b[0m\n\u001b[0;32m----> 4\u001b[0;31m     \u001b[0mgrad\u001b[0m \u001b[0;34m=\u001b[0m \u001b[0mget_full_grad\u001b[0m\u001b[0;34m(\u001b[0m\u001b[0marr1\u001b[0m\u001b[0;34m,\u001b[0m \u001b[0marr2\u001b[0m\u001b[0;34m,\u001b[0m \u001b[0mnan_coords\u001b[0m\u001b[0;34m)\u001b[0m\u001b[0;34m\u001b[0m\u001b[0m\n\u001b[0m\u001b[1;32m      5\u001b[0m     \u001b[0;32mdef\u001b[0m \u001b[0mminimize_f\u001b[0m\u001b[0;34m(\u001b[0m\u001b[0malpha\u001b[0m\u001b[0;34m)\u001b[0m\u001b[0;34m:\u001b[0m\u001b[0;34m\u001b[0m\u001b[0m\n\u001b[1;32m      6\u001b[0m         \u001b[0marr_tmp\u001b[0m \u001b[0;34m=\u001b[0m \u001b[0marr2\u001b[0m\u001b[0;34m.\u001b[0m\u001b[0mcopy\u001b[0m\u001b[0;34m(\u001b[0m\u001b[0;34m)\u001b[0m\u001b[0;34m\u001b[0m\u001b[0m\n",
      "\u001b[0;32m<ipython-input-13-c7b144c3db06>\u001b[0m in \u001b[0;36mget_full_grad\u001b[0;34m(arr1, arr2, nan_coords)\u001b[0m\n\u001b[1;32m     57\u001b[0m     \u001b[0mgrads\u001b[0m \u001b[0;34m=\u001b[0m \u001b[0;34m[\u001b[0m\u001b[0;34m]\u001b[0m\u001b[0;34m\u001b[0m\u001b[0m\n\u001b[1;32m     58\u001b[0m     \u001b[0;32mfor\u001b[0m \u001b[0mi1\u001b[0m\u001b[0;34m,\u001b[0m \u001b[0mi2\u001b[0m \u001b[0;32min\u001b[0m \u001b[0mnan_coords\u001b[0m\u001b[0;34m:\u001b[0m\u001b[0;34m\u001b[0m\u001b[0m\n\u001b[0;32m---> 59\u001b[0;31m         \u001b[0mgrads\u001b[0m\u001b[0;34m.\u001b[0m\u001b[0mappend\u001b[0m\u001b[0;34m(\u001b[0m\u001b[0mget_grad\u001b[0m\u001b[0;34m(\u001b[0m\u001b[0marr1\u001b[0m\u001b[0;34m,\u001b[0m \u001b[0marr2\u001b[0m\u001b[0;34m,\u001b[0m \u001b[0mi1\u001b[0m\u001b[0;34m,\u001b[0m \u001b[0mi2\u001b[0m\u001b[0;34m)\u001b[0m\u001b[0;34m)\u001b[0m\u001b[0;34m\u001b[0m\u001b[0m\n\u001b[0m\u001b[1;32m     60\u001b[0m     \u001b[0;32mreturn\u001b[0m \u001b[0mnp\u001b[0m\u001b[0;34m.\u001b[0m\u001b[0marray\u001b[0m\u001b[0;34m(\u001b[0m\u001b[0mgrads\u001b[0m\u001b[0;34m)\u001b[0m\u001b[0;34m\u001b[0m\u001b[0m\n",
      "\u001b[0;32m<ipython-input-13-c7b144c3db06>\u001b[0m in \u001b[0;36mget_grad\u001b[0;34m(arr1, arr2, i1, i2)\u001b[0m\n\u001b[1;32m     47\u001b[0m         \u001b[0ms\u001b[0m \u001b[0;34m-=\u001b[0m \u001b[0mp2\u001b[0m\u001b[0;34m(\u001b[0m\u001b[0mi\u001b[0m\u001b[0;34m,\u001b[0m \u001b[0mi1\u001b[0m\u001b[0;34m)\u001b[0m\u001b[0;34m*\u001b[0m\u001b[0;34m(\u001b[0m\u001b[0;36m1\u001b[0m \u001b[0;34m+\u001b[0m \u001b[0mp1\u001b[0m\u001b[0;34m(\u001b[0m\u001b[0mi1\u001b[0m\u001b[0;34m,\u001b[0m \u001b[0mi1\u001b[0m\u001b[0;34m)\u001b[0m\u001b[0;34m)\u001b[0m\u001b[0;34m\u001b[0m\u001b[0m\n\u001b[1;32m     48\u001b[0m         \u001b[0;32mreturn\u001b[0m \u001b[0ms\u001b[0m \u001b[0;34m*\u001b[0m \u001b[0md\u001b[0m\u001b[0;34m(\u001b[0m\u001b[0mi\u001b[0m\u001b[0;34m,\u001b[0m \u001b[0mi1\u001b[0m\u001b[0;34m)\u001b[0m\u001b[0;34m\u001b[0m\u001b[0m\n\u001b[0;32m---> 49\u001b[0;31m     \u001b[0;32mreturn\u001b[0m \u001b[0msum\u001b[0m\u001b[0;34m(\u001b[0m\u001b[0mget_i_part\u001b[0m\u001b[0;34m(\u001b[0m\u001b[0mi\u001b[0m\u001b[0;34m)\u001b[0m \u001b[0;32mfor\u001b[0m \u001b[0mi\u001b[0m \u001b[0;32min\u001b[0m \u001b[0mrange\u001b[0m\u001b[0;34m(\u001b[0m\u001b[0mlen\u001b[0m\u001b[0;34m(\u001b[0m\u001b[0marr1\u001b[0m\u001b[0;34m)\u001b[0m\u001b[0;34m)\u001b[0m \u001b[0;32mif\u001b[0m \u001b[0mi\u001b[0m\u001b[0;34m!=\u001b[0m\u001b[0mi1\u001b[0m\u001b[0;34m)\u001b[0m\u001b[0;34m\u001b[0m\u001b[0m\n\u001b[0m\u001b[1;32m     50\u001b[0m \u001b[0;34m\u001b[0m\u001b[0m\n\u001b[1;32m     51\u001b[0m \u001b[0;32mdef\u001b[0m \u001b[0mget_full_grad\u001b[0m\u001b[0;34m(\u001b[0m\u001b[0marr1\u001b[0m\u001b[0;34m,\u001b[0m \u001b[0marr2\u001b[0m\u001b[0;34m,\u001b[0m \u001b[0mnan_coords\u001b[0m\u001b[0;34m)\u001b[0m\u001b[0;34m:\u001b[0m\u001b[0;34m\u001b[0m\u001b[0m\n",
      "\u001b[0;32m~/mlenv/lib/python3.6/site-packages/numpy/core/fromnumeric.py\u001b[0m in \u001b[0;36msum\u001b[0;34m(a, axis, dtype, out, keepdims)\u001b[0m\n\u001b[1;32m   1819\u001b[0m         \u001b[0mkwargs\u001b[0m\u001b[0;34m[\u001b[0m\u001b[0;34m'keepdims'\u001b[0m\u001b[0;34m]\u001b[0m \u001b[0;34m=\u001b[0m \u001b[0mkeepdims\u001b[0m\u001b[0;34m\u001b[0m\u001b[0m\n\u001b[1;32m   1820\u001b[0m     \u001b[0;32mif\u001b[0m \u001b[0misinstance\u001b[0m\u001b[0;34m(\u001b[0m\u001b[0ma\u001b[0m\u001b[0;34m,\u001b[0m \u001b[0m_gentype\u001b[0m\u001b[0;34m)\u001b[0m\u001b[0;34m:\u001b[0m\u001b[0;34m\u001b[0m\u001b[0m\n\u001b[0;32m-> 1821\u001b[0;31m         \u001b[0mres\u001b[0m \u001b[0;34m=\u001b[0m \u001b[0m_sum_\u001b[0m\u001b[0;34m(\u001b[0m\u001b[0ma\u001b[0m\u001b[0;34m)\u001b[0m\u001b[0;34m\u001b[0m\u001b[0m\n\u001b[0m\u001b[1;32m   1822\u001b[0m         \u001b[0;32mif\u001b[0m \u001b[0mout\u001b[0m \u001b[0;32mis\u001b[0m \u001b[0;32mnot\u001b[0m \u001b[0;32mNone\u001b[0m\u001b[0;34m:\u001b[0m\u001b[0;34m\u001b[0m\u001b[0m\n\u001b[1;32m   1823\u001b[0m             \u001b[0mout\u001b[0m\u001b[0;34m[\u001b[0m\u001b[0;34m...\u001b[0m\u001b[0;34m]\u001b[0m \u001b[0;34m=\u001b[0m \u001b[0mres\u001b[0m\u001b[0;34m\u001b[0m\u001b[0m\n",
      "\u001b[0;32m<ipython-input-13-c7b144c3db06>\u001b[0m in \u001b[0;36m<genexpr>\u001b[0;34m(.0)\u001b[0m\n\u001b[1;32m     47\u001b[0m         \u001b[0ms\u001b[0m \u001b[0;34m-=\u001b[0m \u001b[0mp2\u001b[0m\u001b[0;34m(\u001b[0m\u001b[0mi\u001b[0m\u001b[0;34m,\u001b[0m \u001b[0mi1\u001b[0m\u001b[0;34m)\u001b[0m\u001b[0;34m*\u001b[0m\u001b[0;34m(\u001b[0m\u001b[0;36m1\u001b[0m \u001b[0;34m+\u001b[0m \u001b[0mp1\u001b[0m\u001b[0;34m(\u001b[0m\u001b[0mi1\u001b[0m\u001b[0;34m,\u001b[0m \u001b[0mi1\u001b[0m\u001b[0;34m)\u001b[0m\u001b[0;34m)\u001b[0m\u001b[0;34m\u001b[0m\u001b[0m\n\u001b[1;32m     48\u001b[0m         \u001b[0;32mreturn\u001b[0m \u001b[0ms\u001b[0m \u001b[0;34m*\u001b[0m \u001b[0md\u001b[0m\u001b[0;34m(\u001b[0m\u001b[0mi\u001b[0m\u001b[0;34m,\u001b[0m \u001b[0mi1\u001b[0m\u001b[0;34m)\u001b[0m\u001b[0;34m\u001b[0m\u001b[0m\n\u001b[0;32m---> 49\u001b[0;31m     \u001b[0;32mreturn\u001b[0m \u001b[0msum\u001b[0m\u001b[0;34m(\u001b[0m\u001b[0mget_i_part\u001b[0m\u001b[0;34m(\u001b[0m\u001b[0mi\u001b[0m\u001b[0;34m)\u001b[0m \u001b[0;32mfor\u001b[0m \u001b[0mi\u001b[0m \u001b[0;32min\u001b[0m \u001b[0mrange\u001b[0m\u001b[0;34m(\u001b[0m\u001b[0mlen\u001b[0m\u001b[0;34m(\u001b[0m\u001b[0marr1\u001b[0m\u001b[0;34m)\u001b[0m\u001b[0;34m)\u001b[0m \u001b[0;32mif\u001b[0m \u001b[0mi\u001b[0m\u001b[0;34m!=\u001b[0m\u001b[0mi1\u001b[0m\u001b[0;34m)\u001b[0m\u001b[0;34m\u001b[0m\u001b[0m\n\u001b[0m\u001b[1;32m     50\u001b[0m \u001b[0;34m\u001b[0m\u001b[0m\n\u001b[1;32m     51\u001b[0m \u001b[0;32mdef\u001b[0m \u001b[0mget_full_grad\u001b[0m\u001b[0;34m(\u001b[0m\u001b[0marr1\u001b[0m\u001b[0;34m,\u001b[0m \u001b[0marr2\u001b[0m\u001b[0;34m,\u001b[0m \u001b[0mnan_coords\u001b[0m\u001b[0;34m)\u001b[0m\u001b[0;34m:\u001b[0m\u001b[0;34m\u001b[0m\u001b[0m\n",
      "\u001b[0;32m<ipython-input-13-c7b144c3db06>\u001b[0m in \u001b[0;36mget_i_part\u001b[0;34m(i)\u001b[0m\n\u001b[1;32m     44\u001b[0m         \u001b[0ms\u001b[0m \u001b[0;34m=\u001b[0m \u001b[0;36m0\u001b[0m\u001b[0;34m\u001b[0m\u001b[0m\n\u001b[1;32m     45\u001b[0m         \u001b[0ms\u001b[0m \u001b[0;34m+=\u001b[0m \u001b[0mp1\u001b[0m\u001b[0;34m(\u001b[0m\u001b[0mi1\u001b[0m\u001b[0;34m,\u001b[0m \u001b[0mi\u001b[0m\u001b[0;34m)\u001b[0m \u001b[0;34m+\u001b[0m \u001b[0mp1\u001b[0m\u001b[0;34m(\u001b[0m\u001b[0mi\u001b[0m\u001b[0;34m,\u001b[0m \u001b[0mi1\u001b[0m\u001b[0;34m)\u001b[0m\u001b[0;34m\u001b[0m\u001b[0m\n\u001b[0;32m---> 46\u001b[0;31m         \u001b[0ms\u001b[0m \u001b[0;34m-=\u001b[0m \u001b[0mp2\u001b[0m\u001b[0;34m(\u001b[0m\u001b[0mi1\u001b[0m\u001b[0;34m,\u001b[0m \u001b[0mi\u001b[0m\u001b[0;34m)\u001b[0m\u001b[0;34m*\u001b[0m\u001b[0;34m(\u001b[0m\u001b[0;36m1\u001b[0m \u001b[0;34m+\u001b[0m \u001b[0mp1\u001b[0m\u001b[0;34m(\u001b[0m\u001b[0mi\u001b[0m\u001b[0;34m,\u001b[0m \u001b[0mi\u001b[0m\u001b[0;34m)\u001b[0m\u001b[0;34m)\u001b[0m\u001b[0;34m\u001b[0m\u001b[0m\n\u001b[0m\u001b[1;32m     47\u001b[0m         \u001b[0ms\u001b[0m \u001b[0;34m-=\u001b[0m \u001b[0mp2\u001b[0m\u001b[0;34m(\u001b[0m\u001b[0mi\u001b[0m\u001b[0;34m,\u001b[0m \u001b[0mi1\u001b[0m\u001b[0;34m)\u001b[0m\u001b[0;34m*\u001b[0m\u001b[0;34m(\u001b[0m\u001b[0;36m1\u001b[0m \u001b[0;34m+\u001b[0m \u001b[0mp1\u001b[0m\u001b[0;34m(\u001b[0m\u001b[0mi1\u001b[0m\u001b[0;34m,\u001b[0m \u001b[0mi1\u001b[0m\u001b[0;34m)\u001b[0m\u001b[0;34m)\u001b[0m\u001b[0;34m\u001b[0m\u001b[0m\n\u001b[1;32m     48\u001b[0m         \u001b[0;32mreturn\u001b[0m \u001b[0ms\u001b[0m \u001b[0;34m*\u001b[0m \u001b[0md\u001b[0m\u001b[0;34m(\u001b[0m\u001b[0mi\u001b[0m\u001b[0;34m,\u001b[0m \u001b[0mi1\u001b[0m\u001b[0;34m)\u001b[0m\u001b[0;34m\u001b[0m\u001b[0m\n",
      "\u001b[0;32m<ipython-input-13-c7b144c3db06>\u001b[0m in \u001b[0;36mp2\u001b[0;34m(j, i)\u001b[0m\n\u001b[1;32m     28\u001b[0m     \u001b[0;32mdef\u001b[0m \u001b[0mp2\u001b[0m\u001b[0;34m(\u001b[0m\u001b[0mj\u001b[0m\u001b[0;34m,\u001b[0m \u001b[0mi\u001b[0m\u001b[0;34m)\u001b[0m\u001b[0;34m:\u001b[0m\u001b[0;34m\u001b[0m\u001b[0m\n\u001b[1;32m     29\u001b[0m         \u001b[0ma\u001b[0m \u001b[0;34m=\u001b[0m \u001b[0mex2\u001b[0m\u001b[0;34m(\u001b[0m\u001b[0mj\u001b[0m\u001b[0;34m,\u001b[0m \u001b[0mi\u001b[0m\u001b[0;34m)\u001b[0m\u001b[0;34m\u001b[0m\u001b[0m\n\u001b[0;32m---> 30\u001b[0;31m         \u001b[0mb\u001b[0m \u001b[0;34m=\u001b[0m \u001b[0msum\u001b[0m\u001b[0;34m(\u001b[0m\u001b[0mex2\u001b[0m\u001b[0;34m(\u001b[0m\u001b[0mk\u001b[0m\u001b[0;34m,\u001b[0m \u001b[0mi\u001b[0m\u001b[0;34m)\u001b[0m \u001b[0;32mfor\u001b[0m \u001b[0mk\u001b[0m \u001b[0;32min\u001b[0m \u001b[0mrange\u001b[0m\u001b[0;34m(\u001b[0m\u001b[0mlen\u001b[0m\u001b[0;34m(\u001b[0m\u001b[0marr2\u001b[0m\u001b[0;34m)\u001b[0m\u001b[0;34m)\u001b[0m \u001b[0;32mif\u001b[0m \u001b[0mk\u001b[0m\u001b[0;34m!=\u001b[0m\u001b[0mi\u001b[0m\u001b[0;34m)\u001b[0m\u001b[0;34m\u001b[0m\u001b[0m\n\u001b[0m\u001b[1;32m     31\u001b[0m         \u001b[0;32mreturn\u001b[0m \u001b[0ma\u001b[0m \u001b[0;34m/\u001b[0m \u001b[0mb\u001b[0m\u001b[0;34m\u001b[0m\u001b[0m\n\u001b[1;32m     32\u001b[0m \u001b[0;34m\u001b[0m\u001b[0m\n",
      "\u001b[0;32m~/mlenv/lib/python3.6/site-packages/numpy/core/fromnumeric.py\u001b[0m in \u001b[0;36msum\u001b[0;34m(a, axis, dtype, out, keepdims)\u001b[0m\n\u001b[1;32m   1819\u001b[0m         \u001b[0mkwargs\u001b[0m\u001b[0;34m[\u001b[0m\u001b[0;34m'keepdims'\u001b[0m\u001b[0;34m]\u001b[0m \u001b[0;34m=\u001b[0m \u001b[0mkeepdims\u001b[0m\u001b[0;34m\u001b[0m\u001b[0m\n\u001b[1;32m   1820\u001b[0m     \u001b[0;32mif\u001b[0m \u001b[0misinstance\u001b[0m\u001b[0;34m(\u001b[0m\u001b[0ma\u001b[0m\u001b[0;34m,\u001b[0m \u001b[0m_gentype\u001b[0m\u001b[0;34m)\u001b[0m\u001b[0;34m:\u001b[0m\u001b[0;34m\u001b[0m\u001b[0m\n\u001b[0;32m-> 1821\u001b[0;31m         \u001b[0mres\u001b[0m \u001b[0;34m=\u001b[0m \u001b[0m_sum_\u001b[0m\u001b[0;34m(\u001b[0m\u001b[0ma\u001b[0m\u001b[0;34m)\u001b[0m\u001b[0;34m\u001b[0m\u001b[0m\n\u001b[0m\u001b[1;32m   1822\u001b[0m         \u001b[0;32mif\u001b[0m \u001b[0mout\u001b[0m \u001b[0;32mis\u001b[0m \u001b[0;32mnot\u001b[0m \u001b[0;32mNone\u001b[0m\u001b[0;34m:\u001b[0m\u001b[0;34m\u001b[0m\u001b[0m\n\u001b[1;32m   1823\u001b[0m             \u001b[0mout\u001b[0m\u001b[0;34m[\u001b[0m\u001b[0;34m...\u001b[0m\u001b[0;34m]\u001b[0m \u001b[0;34m=\u001b[0m \u001b[0mres\u001b[0m\u001b[0;34m\u001b[0m\u001b[0m\n",
      "\u001b[0;32m<ipython-input-13-c7b144c3db06>\u001b[0m in \u001b[0;36m<genexpr>\u001b[0;34m(.0)\u001b[0m\n\u001b[1;32m     28\u001b[0m     \u001b[0;32mdef\u001b[0m \u001b[0mp2\u001b[0m\u001b[0;34m(\u001b[0m\u001b[0mj\u001b[0m\u001b[0;34m,\u001b[0m \u001b[0mi\u001b[0m\u001b[0;34m)\u001b[0m\u001b[0;34m:\u001b[0m\u001b[0;34m\u001b[0m\u001b[0m\n\u001b[1;32m     29\u001b[0m         \u001b[0ma\u001b[0m \u001b[0;34m=\u001b[0m \u001b[0mex2\u001b[0m\u001b[0;34m(\u001b[0m\u001b[0mj\u001b[0m\u001b[0;34m,\u001b[0m \u001b[0mi\u001b[0m\u001b[0;34m)\u001b[0m\u001b[0;34m\u001b[0m\u001b[0m\n\u001b[0;32m---> 30\u001b[0;31m         \u001b[0mb\u001b[0m \u001b[0;34m=\u001b[0m \u001b[0msum\u001b[0m\u001b[0;34m(\u001b[0m\u001b[0mex2\u001b[0m\u001b[0;34m(\u001b[0m\u001b[0mk\u001b[0m\u001b[0;34m,\u001b[0m \u001b[0mi\u001b[0m\u001b[0;34m)\u001b[0m \u001b[0;32mfor\u001b[0m \u001b[0mk\u001b[0m \u001b[0;32min\u001b[0m \u001b[0mrange\u001b[0m\u001b[0;34m(\u001b[0m\u001b[0mlen\u001b[0m\u001b[0;34m(\u001b[0m\u001b[0marr2\u001b[0m\u001b[0;34m)\u001b[0m\u001b[0;34m)\u001b[0m \u001b[0;32mif\u001b[0m \u001b[0mk\u001b[0m\u001b[0;34m!=\u001b[0m\u001b[0mi\u001b[0m\u001b[0;34m)\u001b[0m\u001b[0;34m\u001b[0m\u001b[0m\n\u001b[0m\u001b[1;32m     31\u001b[0m         \u001b[0;32mreturn\u001b[0m \u001b[0ma\u001b[0m \u001b[0;34m/\u001b[0m \u001b[0mb\u001b[0m\u001b[0;34m\u001b[0m\u001b[0m\n\u001b[1;32m     32\u001b[0m \u001b[0;34m\u001b[0m\u001b[0m\n",
      "\u001b[0;32m<ipython-input-13-c7b144c3db06>\u001b[0m in \u001b[0;36mex2\u001b[0;34m(i, j)\u001b[0m\n\u001b[1;32m     24\u001b[0m     \u001b[0;34m@\u001b[0m\u001b[0mlru_cache\u001b[0m\u001b[0;34m(\u001b[0m\u001b[0mmaxsize\u001b[0m\u001b[0;34m=\u001b[0m\u001b[0;32mNone\u001b[0m\u001b[0;34m)\u001b[0m\u001b[0;34m\u001b[0m\u001b[0m\n\u001b[1;32m     25\u001b[0m     \u001b[0;32mdef\u001b[0m \u001b[0mex2\u001b[0m\u001b[0;34m(\u001b[0m\u001b[0mi\u001b[0m\u001b[0;34m,\u001b[0m \u001b[0mj\u001b[0m\u001b[0;34m)\u001b[0m\u001b[0;34m:\u001b[0m\u001b[0;34m\u001b[0m\u001b[0m\n\u001b[0;32m---> 26\u001b[0;31m         \u001b[0;32mreturn\u001b[0m \u001b[0mnp\u001b[0m\u001b[0;34m.\u001b[0m\u001b[0mexp\u001b[0m\u001b[0;34m(\u001b[0m\u001b[0;34m-\u001b[0m\u001b[0mnorm2\u001b[0m\u001b[0;34m(\u001b[0m\u001b[0mi\u001b[0m\u001b[0;34m,\u001b[0m \u001b[0mj\u001b[0m\u001b[0;34m)\u001b[0m\u001b[0;34m)\u001b[0m\u001b[0;34m\u001b[0m\u001b[0m\n\u001b[0m\u001b[1;32m     27\u001b[0m     \u001b[0;34m@\u001b[0m\u001b[0mlru_cache\u001b[0m\u001b[0;34m(\u001b[0m\u001b[0mmaxsize\u001b[0m\u001b[0;34m=\u001b[0m\u001b[0;32mNone\u001b[0m\u001b[0;34m)\u001b[0m\u001b[0;34m\u001b[0m\u001b[0m\n\u001b[1;32m     28\u001b[0m     \u001b[0;32mdef\u001b[0m \u001b[0mp2\u001b[0m\u001b[0;34m(\u001b[0m\u001b[0mj\u001b[0m\u001b[0;34m,\u001b[0m \u001b[0mi\u001b[0m\u001b[0;34m)\u001b[0m\u001b[0;34m:\u001b[0m\u001b[0;34m\u001b[0m\u001b[0m\n",
      "\u001b[0;32m<ipython-input-13-c7b144c3db06>\u001b[0m in \u001b[0;36mnorm2\u001b[0;34m(i, j)\u001b[0m\n\u001b[1;32m     21\u001b[0m     \u001b[0;34m@\u001b[0m\u001b[0mlru_cache\u001b[0m\u001b[0;34m(\u001b[0m\u001b[0mmaxsize\u001b[0m\u001b[0;34m=\u001b[0m\u001b[0;32mNone\u001b[0m\u001b[0;34m)\u001b[0m\u001b[0;34m\u001b[0m\u001b[0m\n\u001b[1;32m     22\u001b[0m     \u001b[0;32mdef\u001b[0m \u001b[0mnorm2\u001b[0m\u001b[0;34m(\u001b[0m\u001b[0mi\u001b[0m\u001b[0;34m,\u001b[0m \u001b[0mj\u001b[0m\u001b[0;34m)\u001b[0m\u001b[0;34m:\u001b[0m\u001b[0;34m\u001b[0m\u001b[0m\n\u001b[0;32m---> 23\u001b[0;31m         \u001b[0;32mreturn\u001b[0m \u001b[0mnorm\u001b[0m\u001b[0;34m(\u001b[0m\u001b[0marr2\u001b[0m\u001b[0;34m[\u001b[0m\u001b[0mi\u001b[0m\u001b[0;34m]\u001b[0m \u001b[0;34m-\u001b[0m \u001b[0marr2\u001b[0m\u001b[0;34m[\u001b[0m\u001b[0mj\u001b[0m\u001b[0;34m]\u001b[0m\u001b[0;34m)\u001b[0m\u001b[0;34m\u001b[0m\u001b[0m\n\u001b[0m\u001b[1;32m     24\u001b[0m     \u001b[0;34m@\u001b[0m\u001b[0mlru_cache\u001b[0m\u001b[0;34m(\u001b[0m\u001b[0mmaxsize\u001b[0m\u001b[0;34m=\u001b[0m\u001b[0;32mNone\u001b[0m\u001b[0;34m)\u001b[0m\u001b[0;34m\u001b[0m\u001b[0m\n\u001b[1;32m     25\u001b[0m     \u001b[0;32mdef\u001b[0m \u001b[0mex2\u001b[0m\u001b[0;34m(\u001b[0m\u001b[0mi\u001b[0m\u001b[0;34m,\u001b[0m \u001b[0mj\u001b[0m\u001b[0;34m)\u001b[0m\u001b[0;34m:\u001b[0m\u001b[0;34m\u001b[0m\u001b[0m\n",
      "\u001b[0;32m~/mlenv/lib/python3.6/site-packages/numpy/linalg/linalg.py\u001b[0m in \u001b[0;36mnorm\u001b[0;34m(x, ord, axis, keepdims)\u001b[0m\n\u001b[1;32m   2151\u001b[0m     \u001b[0mx\u001b[0m \u001b[0;34m=\u001b[0m \u001b[0masarray\u001b[0m\u001b[0;34m(\u001b[0m\u001b[0mx\u001b[0m\u001b[0;34m)\u001b[0m\u001b[0;34m\u001b[0m\u001b[0m\n\u001b[1;32m   2152\u001b[0m \u001b[0;34m\u001b[0m\u001b[0m\n\u001b[0;32m-> 2153\u001b[0;31m     \u001b[0;32mif\u001b[0m \u001b[0;32mnot\u001b[0m \u001b[0missubclass\u001b[0m\u001b[0;34m(\u001b[0m\u001b[0mx\u001b[0m\u001b[0;34m.\u001b[0m\u001b[0mdtype\u001b[0m\u001b[0;34m.\u001b[0m\u001b[0mtype\u001b[0m\u001b[0;34m,\u001b[0m \u001b[0;34m(\u001b[0m\u001b[0minexact\u001b[0m\u001b[0;34m,\u001b[0m \u001b[0mobject_\u001b[0m\u001b[0;34m)\u001b[0m\u001b[0;34m)\u001b[0m\u001b[0;34m:\u001b[0m\u001b[0;34m\u001b[0m\u001b[0m\n\u001b[0m\u001b[1;32m   2154\u001b[0m         \u001b[0mx\u001b[0m \u001b[0;34m=\u001b[0m \u001b[0mx\u001b[0m\u001b[0;34m.\u001b[0m\u001b[0mastype\u001b[0m\u001b[0;34m(\u001b[0m\u001b[0mfloat\u001b[0m\u001b[0;34m)\u001b[0m\u001b[0;34m\u001b[0m\u001b[0m\n\u001b[1;32m   2155\u001b[0m \u001b[0;34m\u001b[0m\u001b[0m\n",
      "\u001b[0;31mKeyboardInterrupt\u001b[0m: "
     ]
    }
   ],
   "source": [
    "max_iter = 30\n",
    "print('Iteration {} // best c {:.6} // c {:.6} // mae {:.6} // msqe {:.6} // acc {:.6}'.format(0, c, c, mae, msqe, acc))\n",
    "for i in range(max_iter):\n",
    "    grad = get_full_grad(arr1, arr2, nan_coords)\n",
    "    def minimize_f(alpha):\n",
    "        arr_tmp = arr2.copy()\n",
    "        for j, (x,y) in enumerate(nan_coords):\n",
    "            arr_tmp[x, y] = arr2[x, y] - alpha*grad[j]\n",
    "        c = cost(arr1, arr_tmp)\n",
    "        print(alpha, c)\n",
    "        return c\n",
    "\n",
    "    res = minimize(minimize_f, 0.3, method='TNC', tol=1e-4, options={'maxiter': 10}, bounds=[(0, 4)])\n",
    "    alpha = res.x[0]\n",
    "    for j, (x,y) in enumerate(nan_coords):\n",
    "        arr2[x, y] = arr2[x, y] - alpha*grad[j]\n",
    "    c = cost(arr1, arr2)\n",
    "    mae = get_mae(arr0, arr2, nan_coords)\n",
    "    msqe = get_msqe(arr0, arr2, nan_coords)\n",
    "    acc = get_acc(arr2, target)\n",
    "    accs.append(acc)\n",
    "    cs.append(c)\n",
    "    maes.append(mae)\n",
    "    msqes.append(msqe)\n",
    "    print('Iteration {} // best c {:.6} // c {:.6} // mae {:.6} // msqe {:.6} // acc {:.6}'.format(i+1, min(cs), \n",
    "                                                                                                   c, mae, msqe, acc))"
   ]
  },
  {
   "cell_type": "code",
   "execution_count": null,
   "metadata": {},
   "outputs": [],
   "source": [
    "plot(фссы)"
   ]
  }
 ],
 "metadata": {
  "kernelspec": {
   "display_name": "Python 3",
   "language": "python",
   "name": "python3"
  },
  "language_info": {
   "codemirror_mode": {
    "name": "ipython",
    "version": 3
   },
   "file_extension": ".py",
   "mimetype": "text/x-python",
   "name": "python",
   "nbconvert_exporter": "python",
   "pygments_lexer": "ipython3",
   "version": "3.6.3"
  }
 },
 "nbformat": 4,
 "nbformat_minor": 2
}
