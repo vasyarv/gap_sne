{
 "cells": [
  {
   "cell_type": "code",
   "execution_count": 1,
   "metadata": {},
   "outputs": [],
   "source": [
    "%load_ext autoreload\n",
    "%autoreload 2"
   ]
  },
  {
   "cell_type": "code",
   "execution_count": 2,
   "metadata": {},
   "outputs": [
    {
     "name": "stdout",
     "output_type": "stream",
     "text": [
      "Populating the interactive namespace from numpy and matplotlib\n"
     ]
    }
   ],
   "source": [
    "import pandas as pd\n",
    "import numpy as np\n",
    "np.random.seed(132)\n",
    "from functools import lru_cache\n",
    "\n",
    "import sys\n",
    "\n",
    "CODE_PATH = '../code'\n",
    "\n",
    "sys.path.append(CODE_PATH)\n",
    "import functions\n",
    "\n",
    "\n",
    "from sklearn.datasets import load_iris, load_boston, load_breast_cancer, load_wine, load_digits\n",
    "from scipy.optimize import minimize\n",
    "from tqdm import tqdm\n",
    "%pylab inline"
   ]
  },
  {
   "cell_type": "markdown",
   "metadata": {},
   "source": [
    "бостон - градиент уходит в 0  \n",
    "ирис - спустя пару итераций в 0"
   ]
  },
  {
   "cell_type": "code",
   "execution_count": 3,
   "metadata": {},
   "outputs": [
    {
     "name": "stdout",
     "output_type": "stream",
     "text": [
      "(178, 13)\n",
      "[0 0 0 0 0 0 0 0 0 0 0 0 0 0 0 0 0 0 0 0 0 0 0 0 0 0 0 0 0 0 0 0 0 0 0 0 0\n",
      " 0 0 0 0 0 0 0 0 0 0 0 0 0 0 0 0 0 0 0 0 0 0 1 1 1 1 1 1 1 1 1 1 1 1 1 1 1\n",
      " 1 1 1 1 1 1 1 1 1 1 1 1 1 1 1 1 1 1 1 1 1 1 1 1 1 1 1 1 1 1 1 1 1 1 1 1 1\n",
      " 1 1 1 1 1 1 1 1 1 1 1 1 1 1 1 1 1 1 1 2 2 2 2 2 2 2 2 2 2 2 2 2 2 2 2 2 2\n",
      " 2 2 2 2 2 2 2 2 2 2 2 2 2 2 2 2 2 2 2 2 2 2 2 2 2 2 2 2 2 2]\n"
     ]
    },
    {
     "data": {
      "text/html": [
       "<div>\n",
       "<style>\n",
       "    .dataframe thead tr:only-child th {\n",
       "        text-align: right;\n",
       "    }\n",
       "\n",
       "    .dataframe thead th {\n",
       "        text-align: left;\n",
       "    }\n",
       "\n",
       "    .dataframe tbody tr th {\n",
       "        vertical-align: top;\n",
       "    }\n",
       "</style>\n",
       "<table border=\"1\" class=\"dataframe\">\n",
       "  <thead>\n",
       "    <tr style=\"text-align: right;\">\n",
       "      <th></th>\n",
       "      <th>0</th>\n",
       "      <th>1</th>\n",
       "      <th>2</th>\n",
       "      <th>3</th>\n",
       "      <th>4</th>\n",
       "      <th>5</th>\n",
       "      <th>6</th>\n",
       "      <th>7</th>\n",
       "      <th>8</th>\n",
       "      <th>9</th>\n",
       "      <th>10</th>\n",
       "      <th>11</th>\n",
       "      <th>12</th>\n",
       "    </tr>\n",
       "  </thead>\n",
       "  <tbody>\n",
       "    <tr>\n",
       "      <th>0</th>\n",
       "      <td>0.323522</td>\n",
       "      <td>-0.123784</td>\n",
       "      <td>0.033948</td>\n",
       "      <td>-0.200770</td>\n",
       "      <td>0.296287</td>\n",
       "      <td>0.174099</td>\n",
       "      <td>0.217454</td>\n",
       "      <td>-0.154441</td>\n",
       "      <td>0.220537</td>\n",
       "      <td>0.049651</td>\n",
       "      <td>0.067114</td>\n",
       "      <td>0.479236</td>\n",
       "      <td>0.226895</td>\n",
       "    </tr>\n",
       "    <tr>\n",
       "      <th>1</th>\n",
       "      <td>0.052469</td>\n",
       "      <td>-0.109950</td>\n",
       "      <td>-0.121132</td>\n",
       "      <td>-0.427574</td>\n",
       "      <td>0.002809</td>\n",
       "      <td>0.122375</td>\n",
       "      <td>0.154163</td>\n",
       "      <td>-0.192177</td>\n",
       "      <td>-0.098075</td>\n",
       "      <td>-0.057857</td>\n",
       "      <td>0.075244</td>\n",
       "      <td>0.288760</td>\n",
       "      <td>0.216196</td>\n",
       "    </tr>\n",
       "    <tr>\n",
       "      <th>2</th>\n",
       "      <td>0.041943</td>\n",
       "      <td>0.004674</td>\n",
       "      <td>0.162290</td>\n",
       "      <td>-0.046131</td>\n",
       "      <td>0.013679</td>\n",
       "      <td>0.174099</td>\n",
       "      <td>0.255428</td>\n",
       "      <td>-0.116706</td>\n",
       "      <td>0.384574</td>\n",
       "      <td>0.053064</td>\n",
       "      <td>0.058984</td>\n",
       "      <td>0.204511</td>\n",
       "      <td>0.312487</td>\n",
       "    </tr>\n",
       "    <tr>\n",
       "      <th>3</th>\n",
       "      <td>0.360364</td>\n",
       "      <td>-0.076353</td>\n",
       "      <td>0.071381</td>\n",
       "      <td>-0.138915</td>\n",
       "      <td>0.144113</td>\n",
       "      <td>0.536168</td>\n",
       "      <td>0.308171</td>\n",
       "      <td>-0.229913</td>\n",
       "      <td>0.185836</td>\n",
       "      <td>0.233951</td>\n",
       "      <td>-0.079227</td>\n",
       "      <td>0.307075</td>\n",
       "      <td>0.522901</td>\n",
       "    </tr>\n",
       "    <tr>\n",
       "      <th>4</th>\n",
       "      <td>0.062995</td>\n",
       "      <td>0.050129</td>\n",
       "      <td>0.269242</td>\n",
       "      <td>0.077580</td>\n",
       "      <td>0.198461</td>\n",
       "      <td>0.174099</td>\n",
       "      <td>0.139395</td>\n",
       "      <td>0.053106</td>\n",
       "      <td>0.072272</td>\n",
       "      <td>-0.062977</td>\n",
       "      <td>0.067114</td>\n",
       "      <td>0.116599</td>\n",
       "      <td>-0.008483</td>\n",
       "    </tr>\n",
       "  </tbody>\n",
       "</table>\n",
       "</div>"
      ],
      "text/plain": [
       "         0         1         2         3         4         5         6   \\\n",
       "0  0.323522 -0.123784  0.033948 -0.200770  0.296287  0.174099  0.217454   \n",
       "1  0.052469 -0.109950 -0.121132 -0.427574  0.002809  0.122375  0.154163   \n",
       "2  0.041943  0.004674  0.162290 -0.046131  0.013679  0.174099  0.255428   \n",
       "3  0.360364 -0.076353  0.071381 -0.138915  0.144113  0.536168  0.308171   \n",
       "4  0.062995  0.050129  0.269242  0.077580  0.198461  0.174099  0.139395   \n",
       "\n",
       "         7         8         9         10        11        12  \n",
       "0 -0.154441  0.220537  0.049651  0.067114  0.479236  0.226895  \n",
       "1 -0.192177 -0.098075 -0.057857  0.075244  0.288760  0.216196  \n",
       "2 -0.116706  0.384574  0.053064  0.058984  0.204511  0.312487  \n",
       "3 -0.229913  0.185836  0.233951 -0.079227  0.307075  0.522901  \n",
       "4  0.053106  0.072272 -0.062977  0.067114  0.116599 -0.008483  "
      ]
     },
     "execution_count": 3,
     "metadata": {},
     "output_type": "execute_result"
    }
   ],
   "source": [
    "# dataset = load_breast_cancer()\n",
    "# dataset = load_boston()\n",
    "dataset = load_wine()\n",
    "df = pd.DataFrame(dataset['data'])\n",
    "target = dataset['target']\n",
    "df = (df - df.mean())/(df.max() - df.min())\n",
    "df0 = df.copy()\n",
    "print(df.shape)\n",
    "print(target)\n",
    "df.head()"
   ]
  },
  {
   "cell_type": "code",
   "execution_count": 4,
   "metadata": {
    "scrolled": true
   },
   "outputs": [
    {
     "name": "stderr",
     "output_type": "stream",
     "text": [
      "/Users/kek/mlenv/lib/python3.6/site-packages/ipykernel_launcher.py:3: DeprecationWarning: This function is deprecated. Please call randint(0, 12 + 1) instead\n",
      "  This is separate from the ipykernel package so we can avoid doing imports until\n"
     ]
    }
   ],
   "source": [
    "num_nan_cols = 2\n",
    "nan_fraction = 0.3\n",
    "nan_cols = np.random.random_integers(0, df.shape[1] - 1, num_nan_cols)\n",
    "# print(df.isnull().mean())\n",
    "for col in set(nan_cols):\n",
    "    df.loc[df.sample(int(nan_fraction * len(df))).index, col] = np.nan\n",
    "# print(df.isnull().mean())\n",
    "# print(df.isnull().mean())"
   ]
  },
  {
   "cell_type": "code",
   "execution_count": 5,
   "metadata": {
    "scrolled": true
   },
   "outputs": [
    {
     "name": "stdout",
     "output_type": "stream",
     "text": [
      "Num nan places: 106\n"
     ]
    }
   ],
   "source": [
    "nan_coords = np.array(np.where(df.isnull().values)).T\n",
    "print('Num nan places: {}'.format(nan_coords.shape[0]))"
   ]
  },
  {
   "cell_type": "markdown",
   "metadata": {},
   "source": [
    "Считаем по каждой паре i_1 i_2 из coords градиент"
   ]
  },
  {
   "cell_type": "code",
   "execution_count": 6,
   "metadata": {},
   "outputs": [
    {
     "name": "stdout",
     "output_type": "stream",
     "text": [
      "(178, 11) (178, 13)\n",
      "(178, 13) (178, 11) (178, 13)\n",
      "0 0 0\n"
     ]
    }
   ],
   "source": [
    "df1 = df.loc[:, df.isnull().sum() == 0]\n",
    "df2 = df.fillna(df.mean())\n",
    "print(df1.shape, df2.shape)\n",
    "arr0 = df0.values\n",
    "arr1 = df1.values\n",
    "arr2 = df2.values\n",
    "print(arr0.shape, arr1.shape, arr2.shape)\n",
    "print(np.isnan(arr0).sum(), np.isnan(arr1).sum(), np.isnan(arr2).sum())"
   ]
  },
  {
   "cell_type": "code",
   "execution_count": 8,
   "metadata": {},
   "outputs": [
    {
     "data": {
      "text/plain": [
       "(178, 13)"
      ]
     },
     "execution_count": 8,
     "metadata": {},
     "output_type": "execute_result"
    }
   ],
   "source": [
    "arr2.shape"
   ]
  },
  {
   "cell_type": "markdown",
   "metadata": {},
   "source": [
    "# Пилим необходимые функции\n",
    "\n",
    "df - исходная с прочерками    \n",
    "df0 - копия исходной таблицы без прочерков  \n",
    "df1 - сокращенная до ненулевых признаков  \n",
    "df2 - исходная с восстановленными  \n",
    "arr0,arr1,arr2 аналогично"
   ]
  },
  {
   "cell_type": "code",
   "execution_count": 8,
   "metadata": {},
   "outputs": [],
   "source": [
    "# Алгоритм\n",
    "# 1. Считаем эпсилоны (список)\n",
    "# 2. Считаем оценки за маленькие классы\n",
    "# 3. Выбираем интервал и дробим"
   ]
  },
  {
   "cell_type": "code",
   "execution_count": 7,
   "metadata": {},
   "outputs": [],
   "source": [
    "n = len(df0)\n",
    "def Cnk(n, k):\n",
    "    a = b = c = tmp = 1\n",
    "    for i in range(1, n+1):\n",
    "        tmp *= i\n",
    "        if i == n-k:\n",
    "            a = tmp\n",
    "        if i == k:\n",
    "            b = tmp\n",
    "        if i == n:\n",
    "            c = tmp\n",
    "    return c / (a*b)"
   ]
  },
  {
   "cell_type": "code",
   "execution_count": 24,
   "metadata": {},
   "outputs": [],
   "source": [
    "def get_epsilons(data):\n",
    "    def get_e(a):\n",
    "        return np.abs(a - a[:, None]).mean()\n",
    "    return np.array([get_e(feat) for feat in data.T])"
   ]
  },
  {
   "cell_type": "code",
   "execution_count": 47,
   "metadata": {},
   "outputs": [],
   "source": [
    "def get_gamma(data, x, k, epsilons=None):\n",
    "    '''\n",
    "    необходимо вернуть кол-во пар values которые a<x<b\n",
    "    a1 ... a_i < x < a_i+1 ... an\n",
    "    '''\n",
    "    if epsilons is not None:\n",
    "        Gamma = 0\n",
    "        for x_i in data:\n",
    "            d = (np.abs(x_i - x) < epsilons).sum()\n",
    "            Gamma += Cnk(d, k)\n",
    "        return Gamma\n",
    "    # расстояния между парами объектов   \n",
    "    n = data.shape[0]\n",
    "    n_feat = data.shape[1]\n",
    "    maps = np.zeros(data.T.shape)\n",
    "    for i in range(n_feat):\n",
    "        maps[i] = data.T[i] <= x[i] \n",
    "    maps = maps.T\n",
    "    Gamma = 0\n",
    "    for i in tqdm(range(n)):\n",
    "        for j in range(i, n):\n",
    "            d = (maps[i] + maps[j] == 1).sum()\n",
    "            Gamma += Cnk(d, k)\n",
    "    return Gamma*2/(n*(n-1))"
   ]
  },
  {
   "cell_type": "code",
   "execution_count": 58,
   "metadata": {},
   "outputs": [],
   "source": [
    "def predict(data, y, x, k, epsilons=None, scores=False):\n",
    "    n_class = max(y) + 1\n",
    "    g_classes = np.zeros(n_class)\n",
    "    for i in range(n_class):\n",
    "        c_data = data[y == i]\n",
    "        g_classes[i] = get_gamma(c_data, x, k, epsilons)\n",
    "    if scores:\n",
    "        return g_classes\n",
    "    return np.argmax(g_classes)\n",
    "\n",
    "def predict_vect(X_train, y_train, X_test, k, epsilons=None, scores=False):\n",
    "    return np.array([predict(X_train, y_train, x, k, epsilons, scores) for x in X_test])"
   ]
  },
  {
   "cell_type": "code",
   "execution_count": 11,
   "metadata": {},
   "outputs": [],
   "source": [
    "from sklearn.model_selection import train_test_split\n",
    "X_train, X_test, y_train, y_test = train_test_split(arr0, target, test_size=0.1, random_state=42)"
   ]
  },
  {
   "cell_type": "code",
   "execution_count": 12,
   "metadata": {},
   "outputs": [
    {
     "data": {
      "text/plain": [
       "array([0, 0, 2, 0, 1, 0, 1, 2, 1, 2, 0, 2, 0, 1, 0, 1, 1, 1])"
      ]
     },
     "execution_count": 12,
     "metadata": {},
     "output_type": "execute_result"
    }
   ],
   "source": [
    "from sklearn.ensemble import RandomForestClassifier\n",
    "rfc = RandomForestClassifier()\n",
    "rfc.fit(X_train, y_train)\n",
    "preds = rfc.predict(X_test)\n",
    "preds"
   ]
  },
  {
   "cell_type": "code",
   "execution_count": 13,
   "metadata": {},
   "outputs": [],
   "source": [
    "eps = get_epsilons(X_train)"
   ]
  },
  {
   "cell_type": "code",
   "execution_count": 14,
   "metadata": {},
   "outputs": [],
   "source": [
    "preds = np.array([predict(X_train, y_train, x, 3, eps) for x in X_test])"
   ]
  },
  {
   "cell_type": "code",
   "execution_count": 15,
   "metadata": {},
   "outputs": [
    {
     "data": {
      "text/plain": [
       "0.94444444444444442"
      ]
     },
     "execution_count": 15,
     "metadata": {},
     "output_type": "execute_result"
    }
   ],
   "source": [
    "from sklearn.metrics import accuracy_score\n",
    "accuracy_score(preds, y_test)"
   ]
  },
  {
   "cell_type": "markdown",
   "metadata": {},
   "source": [
    "# Восстановление прочерков с АВО"
   ]
  },
  {
   "cell_type": "code",
   "execution_count": 121,
   "metadata": {},
   "outputs": [],
   "source": [
    "# итеративный процесс\n",
    "def solve_avo(df, x, y):\n",
    "    x_mask = df.iloc[:, y].isnull()\n",
    "    y_mask = df.isnull().sum() > 0\n",
    "    y_mask = y_mask[~y_mask].index\n",
    "\n",
    "    X_train = df.iloc[x_mask[~x_mask].index, y_mask]\n",
    "    X_test = df.iloc[x, y_mask].values.reshape(1, -1)\n",
    "\n",
    "    y_train_raw = df.iloc[x_mask[~x_mask].index, y]\n",
    "    y_train = np.argsort(y_train_raw)\n",
    "    \n",
    "    eps = get_epsilons(X_train.values)\n",
    "    gammas_ki = predict(X_train.values, y_train, X_test, 3, eps, True)\n",
    "    sizes_ki = y_train.value_counts().sort_index().values\n",
    "    sort_index = solve_avo_gap(gammas_ki, sizes_ki, full_range)\n",
    "    return y_train_raw.sort_values().iloc[sort_index]\n",
    "    \n",
    "def solve_avo_gap(gammas_ki, sizes_ki, full_range):\n",
    "#     print(full_range)\n",
    "    if len(full_range) == 1:\n",
    "        return full_range[0]\n",
    "    left_range = full_range[:full_range.size//2]\n",
    "    right_range = full_range[full_range.size//2:]\n",
    "    left_score = get_gamma_range(gammas_ki, sizes_ki, left_range)\n",
    "    right_score = get_gamma_range(gammas_ki, sizes_ki, right_range)\n",
    "    if left_score < right_score:\n",
    "        return solve_avo_gap(gammas_ki, sizes_ki, right_range)\n",
    "    else:\n",
    "        return solve_avo_gap(gammas_ki, sizes_ki, left_range)\n",
    "        \n",
    "def get_gamma_range(gammas_ki, sizes_ki, y_range):\n",
    "    sum_gammas = gammas_ki[y_range].sum()\n",
    "    sum_sizes = sizes_ki[y_range].sum()\n",
    "    if sum_sizes == 0:\n",
    "        return 0\n",
    "    return sum_gammas/sum_sizes"
   ]
  },
  {
   "cell_type": "code",
   "execution_count": 60,
   "metadata": {},
   "outputs": [],
   "source": [
    "x_mask = df.iloc[:, y].isnull()\n",
    "# x_mask = x_mask[~x_mask].index\n",
    "\n",
    "y_mask = df.isnull().sum() > 0\n",
    "y_mask = y_mask[~y_mask].index\n",
    "\n",
    "X_train = df.iloc[x_mask[~x_mask].index, y_mask]\n",
    "# X_test = df.iloc[x_mask[x_mask].index, y_mask]\n",
    "X_test = df.iloc[x, y_mask].values.reshape(1, -1)\n",
    "\n",
    "y_train_raw = df.iloc[x_mask[~x_mask].index, y]\n",
    "y_train = np.argsort(y_train_raw)\n",
    "\n",
    "# preds = predict_vect(X_train, y_train, X_test, 3)"
   ]
  },
  {
   "cell_type": "code",
   "execution_count": 51,
   "metadata": {},
   "outputs": [],
   "source": [
    "# итерация распознавания\n",
    "y_iter = (y_train > y_train.mean()).astype(int)\n",
    "X_iter = X_train.values"
   ]
  },
  {
   "cell_type": "code",
   "execution_count": 54,
   "metadata": {},
   "outputs": [],
   "source": [
    "eps = get_epsilons(X_train.values)\n",
    "aa = predict_vect(X_iter, y_iter.values, X_test, 3, eps)[0]\n",
    "# aa = predict_vect(X_iter, y_iter.values, X_test, 3, eps)[0]"
   ]
  },
  {
   "cell_type": "code",
   "execution_count": null,
   "metadata": {},
   "outputs": [],
   "source": [
    "# выбрать класс для каждого уникального значения\n",
    "# посчитать близость к каждому значению Гi\n",
    "# далее делать бисекцию, в каждой операции сравнивать соотв взвешенные значения\n",
    "def solve_partial_task(X_train, y_train_raw, X_test):\n",
    "    y_iter = (y_train > y_train.mean()).astype(int)\n",
    "    X_iter = X_train.values\n",
    "    y_pred = predict_vect(X_iter, y_iter.values, X_test, 3)[0]\n",
    "    y_train_raw = y_train_raw[y_iter == y_pred]\n",
    "    X_train = X_train[y_iter == y_pred]\n",
    "    \n",
    "    "
   ]
  },
  {
   "cell_type": "markdown",
   "metadata": {},
   "source": [
    "# Iterative process"
   ]
  },
  {
   "cell_type": "code",
   "execution_count": null,
   "metadata": {},
   "outputs": [],
   "source": [
    "c = KL()\n",
    "c"
   ]
  },
  {
   "cell_type": "code",
   "execution_count": null,
   "metadata": {},
   "outputs": [],
   "source": [
    "mae = functions.get_mae(arr0, arr2, nan_coords)\n",
    "mae"
   ]
  },
  {
   "cell_type": "code",
   "execution_count": null,
   "metadata": {},
   "outputs": [],
   "source": [
    "cs = []\n",
    "maes = []\n",
    "msqes = []\n",
    "accs = []\n",
    "\n",
    "mae = functions.get_mae(arr0, arr2, nan_coords)\n",
    "msqe = functions.get_msqe(arr0, arr2, nan_coords)\n",
    "acc = functions.get_acc(arr2, target)\n",
    "\n",
    "cs.append(c)\n",
    "maes.append(mae)\n",
    "msqes.append(msqe)\n",
    "accs.append(acc)"
   ]
  },
  {
   "cell_type": "code",
   "execution_count": null,
   "metadata": {
    "scrolled": false
   },
   "outputs": [],
   "source": [
    "alpha = 0.1\n",
    "max_iter = 30\n",
    "print('\\tIteration {} //  c {:.6} // mae {:.6} // rmse {:.6} // acc {}'.format(0, c, mae, msqe, acc))\n",
    "for i in range(max_iter):\n",
    "    grad = get_full_grad(nan_coords)\n",
    "    for j, (x,y) in enumerate(nan_coords):\n",
    "        arr2[x, y] = arr2[x, y] - alpha*grad[j]\n",
    "    P2_table = get_p2_table()\n",
    "    c = KL()\n",
    "    mae = functions.get_mae(arr0, arr2, nan_coords)\n",
    "    msqe = functions.get_msqe(arr0, arr2, nan_coords)\n",
    "    acc = functions.get_acc(arr2, target)\n",
    "    \n",
    "    accs.append(acc)\n",
    "    cs.append(c)\n",
    "    maes.append(mae)\n",
    "    msqes.append(msqe)\n",
    "    print('\\tIteration {} // c {:.6} // mae {:.6} // rmse {:.6} // acc {}'.format(i+1, c,mae, \n",
    "                                                                                                   msqe, acc))"
   ]
  },
  {
   "cell_type": "code",
   "execution_count": null,
   "metadata": {},
   "outputs": [],
   "source": []
  }
 ],
 "metadata": {
  "kernelspec": {
   "display_name": "Python 3",
   "language": "python",
   "name": "python3"
  },
  "language_info": {
   "codemirror_mode": {
    "name": "ipython",
    "version": 3
   },
   "file_extension": ".py",
   "mimetype": "text/x-python",
   "name": "python",
   "nbconvert_exporter": "python",
   "pygments_lexer": "ipython3",
   "version": "3.6.3"
  }
 },
 "nbformat": 4,
 "nbformat_minor": 2
}
