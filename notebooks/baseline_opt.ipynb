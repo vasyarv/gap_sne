{
 "cells": [
  {
   "cell_type": "code",
   "execution_count": 1,
   "metadata": {},
   "outputs": [],
   "source": [
    "%load_ext autoreload\n",
    "%autoreload 2"
   ]
  },
  {
   "cell_type": "code",
   "execution_count": 2,
   "metadata": {},
   "outputs": [
    {
     "name": "stdout",
     "output_type": "stream",
     "text": [
      "Populating the interactive namespace from numpy and matplotlib\n"
     ]
    }
   ],
   "source": [
    "import pandas as pd\n",
    "import numpy as np\n",
    "np.random.seed(132)\n",
    "from functools import lru_cache\n",
    "\n",
    "import sys\n",
    "\n",
    "CODE_PATH = '../code'\n",
    "\n",
    "sys.path.append(CODE_PATH)\n",
    "import functions\n",
    "\n",
    "\n",
    "from sklearn.datasets import load_iris, load_boston, load_breast_cancer, load_wine, load_digits\n",
    "from scipy.optimize import minimize\n",
    "from tqdm import tqdm\n",
    "%pylab inline"
   ]
  },
  {
   "cell_type": "markdown",
   "metadata": {},
   "source": [
    "бостон - градиент уходит в 0  \n",
    "ирис - спустя пару итераций в 0"
   ]
  },
  {
   "cell_type": "code",
   "execution_count": 3,
   "metadata": {},
   "outputs": [
    {
     "name": "stdout",
     "output_type": "stream",
     "text": [
      "(569, 30)\n",
      "[0 0 0 0 0 0 0 0 0 0 0 0 0 0 0 0 0 0 0 1 1 1 0 0 0 0 0 0 0 0 0 0 0 0 0 0 0\n",
      " 1 0 0 0 0 0 0 0 0 1 0 1 1 1 1 1 0 0 1 0 0 1 1 1 1 0 1 0 0 1 1 1 1 0 1 0 0\n",
      " 1 0 1 0 0 1 1 1 0 0 1 0 0 0 1 1 1 0 1 1 0 0 1 1 1 0 0 1 1 1 1 0 1 1 0 1 1\n",
      " 1 1 1 1 1 1 0 0 0 1 0 0 1 1 1 0 0 1 0 1 0 0 1 0 0 1 1 0 1 1 0 1 1 1 1 0 1\n",
      " 1 1 1 1 1 1 1 1 0 1 1 1 1 0 0 1 0 1 1 0 0 1 1 0 0 1 1 1 1 0 1 1 0 0 0 1 0\n",
      " 1 0 1 1 1 0 1 1 0 0 1 0 0 0 0 1 0 0 0 1 0 1 0 1 1 0 1 0 0 0 0 1 1 0 0 1 1\n",
      " 1 0 1 1 1 1 1 0 0 1 1 0 1 1 0 0 1 0 1 1 1 1 0 1 1 1 1 1 0 1 0 0 0 0 0 0 0\n",
      " 0 0 0 0 0 0 0 1 1 1 1 1 1 0 1 0 1 1 0 1 1 0 1 0 0 1 1 1 1 1 1 1 1 1 1 1 1\n",
      " 1 0 1 1 0 1 0 1 1 1 1 1 1 1 1 1 1 1 1 1 1 0 1 1 1 0 1 0 1 1 1 1 0 0 0 1 1\n",
      " 1 1 0 1 0 1 0 1 1 1 0 1 1 1 1 1 1 1 0 0 0 1 1 1 1 1 1 1 1 1 1 1 0 0 1 0 0\n",
      " 0 1 0 0 1 1 1 1 1 0 1 1 1 1 1 0 1 1 1 0 1 1 0 0 1 1 1 1 1 1 0 1 1 1 1 1 1\n",
      " 1 0 1 1 1 1 1 0 1 1 0 1 1 1 1 1 1 1 1 1 1 1 1 0 1 0 0 1 0 1 1 1 1 1 0 1 1\n",
      " 0 1 0 1 1 0 1 0 1 1 1 1 1 1 1 1 0 0 1 1 1 1 1 1 0 1 1 1 1 1 1 1 1 1 1 0 1\n",
      " 1 1 1 1 1 1 0 1 0 1 1 0 1 1 1 1 1 0 0 1 0 1 0 1 1 1 1 1 0 1 1 0 1 0 1 0 0\n",
      " 1 1 1 0 1 1 1 1 1 1 1 1 1 1 1 0 1 0 0 1 1 1 1 1 1 1 1 1 1 1 1 1 1 1 1 1 1\n",
      " 1 1 1 1 1 1 1 0 0 0 0 0 0 1]\n"
     ]
    },
    {
     "data": {
      "text/html": [
       "<div>\n",
       "<style>\n",
       "    .dataframe thead tr:only-child th {\n",
       "        text-align: right;\n",
       "    }\n",
       "\n",
       "    .dataframe thead th {\n",
       "        text-align: left;\n",
       "    }\n",
       "\n",
       "    .dataframe tbody tr th {\n",
       "        vertical-align: top;\n",
       "    }\n",
       "</style>\n",
       "<table border=\"1\" class=\"dataframe\">\n",
       "  <thead>\n",
       "    <tr style=\"text-align: right;\">\n",
       "      <th></th>\n",
       "      <th>0</th>\n",
       "      <th>1</th>\n",
       "      <th>2</th>\n",
       "      <th>3</th>\n",
       "      <th>4</th>\n",
       "      <th>5</th>\n",
       "      <th>6</th>\n",
       "      <th>7</th>\n",
       "      <th>8</th>\n",
       "      <th>9</th>\n",
       "      <th>...</th>\n",
       "      <th>20</th>\n",
       "      <th>21</th>\n",
       "      <th>22</th>\n",
       "      <th>23</th>\n",
       "      <th>24</th>\n",
       "      <th>25</th>\n",
       "      <th>26</th>\n",
       "      <th>27</th>\n",
       "      <th>28</th>\n",
       "      <th>29</th>\n",
       "    </tr>\n",
       "  </thead>\n",
       "  <tbody>\n",
       "    <tr>\n",
       "      <th>0</th>\n",
       "      <td>0.182815</td>\n",
       "      <td>-0.301307</td>\n",
       "      <td>0.213053</td>\n",
       "      <td>0.146813</td>\n",
       "      <td>0.198968</td>\n",
       "      <td>0.531437</td>\n",
       "      <td>0.495081</td>\n",
       "      <td>0.487976</td>\n",
       "      <td>0.306758</td>\n",
       "      <td>0.335139</td>\n",
       "      <td>...</td>\n",
       "      <td>0.324113</td>\n",
       "      <td>-0.222474</td>\n",
       "      <td>0.385173</td>\n",
       "      <td>0.279792</td>\n",
       "      <td>0.196998</td>\n",
       "      <td>0.399079</td>\n",
       "      <td>0.351207</td>\n",
       "      <td>0.518192</td>\n",
       "      <td>0.335156</td>\n",
       "      <td>0.229268</td>\n",
       "    </tr>\n",
       "    <tr>\n",
       "      <th>1</th>\n",
       "      <td>0.304923</td>\n",
       "      <td>-0.051392</td>\n",
       "      <td>0.282848</td>\n",
       "      <td>0.284671</td>\n",
       "      <td>-0.104905</td>\n",
       "      <td>-0.078833</td>\n",
       "      <td>-0.004450</td>\n",
       "      <td>0.105621</td>\n",
       "      <td>0.000193</td>\n",
       "      <td>-0.129057</td>\n",
       "      <td>...</td>\n",
       "      <td>0.310239</td>\n",
       "      <td>-0.060427</td>\n",
       "      <td>0.256680</td>\n",
       "      <td>0.264308</td>\n",
       "      <td>-0.056585</td>\n",
       "      <td>-0.065649</td>\n",
       "      <td>-0.024432</td>\n",
       "      <td>0.245339</td>\n",
       "      <td>-0.029717</td>\n",
       "      <td>0.033282</td>\n",
       "    </tr>\n",
       "    <tr>\n",
       "      <th>2</th>\n",
       "      <td>0.263274</td>\n",
       "      <td>0.066295</td>\n",
       "      <td>0.262808</td>\n",
       "      <td>0.232497</td>\n",
       "      <td>0.119524</td>\n",
       "      <td>0.170416</td>\n",
       "      <td>0.254453</td>\n",
       "      <td>0.392549</td>\n",
       "      <td>0.129991</td>\n",
       "      <td>-0.059132</td>\n",
       "      <td>...</td>\n",
       "      <td>0.259723</td>\n",
       "      <td>-0.003924</td>\n",
       "      <td>0.225304</td>\n",
       "      <td>0.203602</td>\n",
       "      <td>0.079452</td>\n",
       "      <td>0.165163</td>\n",
       "      <td>0.142341</td>\n",
       "      <td>0.441216</td>\n",
       "      <td>0.140399</td>\n",
       "      <td>0.023837</td>\n",
       "    </tr>\n",
       "    <tr>\n",
       "      <th>3</th>\n",
       "      <td>-0.128132</td>\n",
       "      <td>0.036874</td>\n",
       "      <td>-0.099434</td>\n",
       "      <td>-0.114014</td>\n",
       "      <td>0.416536</td>\n",
       "      <td>0.550761</td>\n",
       "      <td>0.357546</td>\n",
       "      <td>0.279726</td>\n",
       "      <td>0.396657</td>\n",
       "      <td>0.729621</td>\n",
       "      <td>...</td>\n",
       "      <td>-0.048353</td>\n",
       "      <td>0.021929</td>\n",
       "      <td>-0.041791</td>\n",
       "      <td>-0.076898</td>\n",
       "      <td>0.511335</td>\n",
       "      <td>0.593799</td>\n",
       "      <td>0.331239</td>\n",
       "      <td>0.491044</td>\n",
       "      <td>0.736693</td>\n",
       "      <td>0.584115</td>\n",
       "    </tr>\n",
       "    <tr>\n",
       "      <th>4</th>\n",
       "      <td>0.291671</td>\n",
       "      <td>-0.167388</td>\n",
       "      <td>0.298051</td>\n",
       "      <td>0.272369</td>\n",
       "      <td>0.035567</td>\n",
       "      <td>0.087292</td>\n",
       "      <td>0.255859</td>\n",
       "      <td>0.275253</td>\n",
       "      <td>-0.001323</td>\n",
       "      <td>-0.083564</td>\n",
       "      <td>...</td>\n",
       "      <td>0.223081</td>\n",
       "      <td>-0.240065</td>\n",
       "      <td>0.223810</td>\n",
       "      <td>0.170669</td>\n",
       "      <td>0.033226</td>\n",
       "      <td>-0.047797</td>\n",
       "      <td>0.102086</td>\n",
       "      <td>0.164583</td>\n",
       "      <td>-0.105806</td>\n",
       "      <td>-0.047001</td>\n",
       "    </tr>\n",
       "  </tbody>\n",
       "</table>\n",
       "<p>5 rows × 30 columns</p>\n",
       "</div>"
      ],
      "text/plain": [
       "         0         1         2         3         4         5         6   \\\n",
       "0  0.182815 -0.301307  0.213053  0.146813  0.198968  0.531437  0.495081   \n",
       "1  0.304923 -0.051392  0.282848  0.284671 -0.104905 -0.078833 -0.004450   \n",
       "2  0.263274  0.066295  0.262808  0.232497  0.119524  0.170416  0.254453   \n",
       "3 -0.128132  0.036874 -0.099434 -0.114014  0.416536  0.550761  0.357546   \n",
       "4  0.291671 -0.167388  0.298051  0.272369  0.035567  0.087292  0.255859   \n",
       "\n",
       "         7         8         9     ...           20        21        22  \\\n",
       "0  0.487976  0.306758  0.335139    ...     0.324113 -0.222474  0.385173   \n",
       "1  0.105621  0.000193 -0.129057    ...     0.310239 -0.060427  0.256680   \n",
       "2  0.392549  0.129991 -0.059132    ...     0.259723 -0.003924  0.225304   \n",
       "3  0.279726  0.396657  0.729621    ...    -0.048353  0.021929 -0.041791   \n",
       "4  0.275253 -0.001323 -0.083564    ...     0.223081 -0.240065  0.223810   \n",
       "\n",
       "         23        24        25        26        27        28        29  \n",
       "0  0.279792  0.196998  0.399079  0.351207  0.518192  0.335156  0.229268  \n",
       "1  0.264308 -0.056585 -0.065649 -0.024432  0.245339 -0.029717  0.033282  \n",
       "2  0.203602  0.079452  0.165163  0.142341  0.441216  0.140399  0.023837  \n",
       "3 -0.076898  0.511335  0.593799  0.331239  0.491044  0.736693  0.584115  \n",
       "4  0.170669  0.033226 -0.047797  0.102086  0.164583 -0.105806 -0.047001  \n",
       "\n",
       "[5 rows x 30 columns]"
      ]
     },
     "execution_count": 3,
     "metadata": {},
     "output_type": "execute_result"
    }
   ],
   "source": [
    "dataset = load_breast_cancer()\n",
    "# dataset = load_boston()\n",
    "df = pd.DataFrame(dataset['data'])\n",
    "target = dataset['target']\n",
    "df = (df - df.mean())/(df.max() - df.min())\n",
    "df0 = df.copy()\n",
    "print(df.shape)\n",
    "print(target)\n",
    "df.head()"
   ]
  },
  {
   "cell_type": "code",
   "execution_count": 4,
   "metadata": {
    "scrolled": true
   },
   "outputs": [
    {
     "name": "stderr",
     "output_type": "stream",
     "text": [
      "/Users/kek/mlenv/lib/python3.6/site-packages/ipykernel_launcher.py:3: DeprecationWarning: This function is deprecated. Please call randint(0, 29 + 1) instead\n",
      "  This is separate from the ipykernel package so we can avoid doing imports until\n"
     ]
    }
   ],
   "source": [
    "num_nan_cols = 2\n",
    "nan_fraction = 0.3\n",
    "nan_cols = np.random.random_integers(0, df.shape[1] - 1, num_nan_cols)\n",
    "# print(df.isnull().mean())\n",
    "for col in set(nan_cols):\n",
    "    df.loc[df.sample(int(nan_fraction * len(df))).index, col] = np.nan\n",
    "# print(df.isnull().mean())\n",
    "# print(df.isnull().mean())"
   ]
  },
  {
   "cell_type": "code",
   "execution_count": 5,
   "metadata": {
    "scrolled": true
   },
   "outputs": [
    {
     "name": "stdout",
     "output_type": "stream",
     "text": [
      "Num nan places: 340\n"
     ]
    }
   ],
   "source": [
    "nan_coords = np.array(np.where(df.isnull().values)).T\n",
    "print('Num nan places: {}'.format(nan_coords.shape[0]))"
   ]
  },
  {
   "cell_type": "markdown",
   "metadata": {},
   "source": [
    "Считаем по каждой паре i_1 i_2 из coords градиент"
   ]
  },
  {
   "cell_type": "code",
   "execution_count": 6,
   "metadata": {},
   "outputs": [
    {
     "name": "stdout",
     "output_type": "stream",
     "text": [
      "(569, 28) (569, 30)\n"
     ]
    }
   ],
   "source": [
    "df1 = df.loc[:, df.isnull().sum() == 0]\n",
    "df2 = df.fillna(df.mean())\n",
    "print(df1.shape, df2.shape)\n",
    "arr_nan = df.values\n",
    "arr_raw = df0.values # исходные\n",
    "arr_known = df1.values # суженные до известных признаков\n",
    "arr_pred = df2.values # текущие предсказанные \n",
    "# print(arr0.shape, arr1.shape, arr2.shape)\n",
    "# print(np.isnan(arr0).sum(), np.isnan(arr1).sum(), np.isnan(arr2).sum())"
   ]
  },
  {
   "cell_type": "markdown",
   "metadata": {},
   "source": [
    "# Пилим необходимые функции\n",
    "\n",
    "df - исходная с прочерками    \n",
    "df0 - копия исходной таблицы без прочерков  \n",
    "df1 - сокращенная до ненулевых признаков  \n",
    "df2 - исходная с восстановленными  \n",
    "arr0,arr1,arr2 аналогично"
   ]
  },
  {
   "cell_type": "code",
   "execution_count": 7,
   "metadata": {},
   "outputs": [],
   "source": [
    "def sq(a):\n",
    "    return np.dot(a, a)\n",
    "\n",
    "n = len(df0)\n",
    "\n",
    "def get_known_table():\n",
    "    ro_known_table = np.zeros((n, n))\n",
    "    for i in tqdm(range(n)):\n",
    "        for j in range(i, n):\n",
    "            idx_nan_i = np.isnan(arr_nan[i])\n",
    "            idx_nan_j = np.isnan(arr_nan[j])\n",
    "            idx = ~idx_nan_i & ~idx_nan_j\n",
    "            x_i = arr_nan[i, idx]\n",
    "            x_j = arr_nan[j, idx]\n",
    "            ro_known_table[i, j] = ro_known_table[j, i] = sq(x_i - x_j)\n",
    "    return ro_known_table\n",
    "\n",
    "def get_ro_1_unknown_table():\n",
    "    ro_1_unknown_table = np.zeros((n, n))\n",
    "    #это ro прибавить там где 1 компонента\n",
    "    for i in tqdm(range(n)):\n",
    "        for j in range(i, n):\n",
    "            idx_nan_i = np.isnan(arr_nan[i])\n",
    "            idx_nan_j = np.isnan(arr_nan[j])\n",
    "            idx = (idx_nan_i & ~idx_nan_j) | (~idx_nan_i & idx_nan_j)\n",
    "            x_i = arr_pred[i, idx]\n",
    "            x_j = arr_pred[j, idx]\n",
    "            ro_1_unknown_table[i, j] = ro_1_unknown_table[j, i] = sq(x_i - x_j)\n",
    "    return ro_1_unknown_table\n",
    "\n",
    "# по всем признакам\n",
    "def get_ro_2_unknown_table():\n",
    "    ro_2_unknown_table = np.zeros((n, n))\n",
    "    for i in tqdm(range(n)):\n",
    "        for j in range(i, n):\n",
    "            idx_nan_i = np.isnan(arr_nan[i])\n",
    "            idx_nan_j = np.isnan(arr_nan[j])\n",
    "            idx = (idx_nan_i & idx_nan_j)\n",
    "            x_i = arr_pred[i, idx]\n",
    "            x_j = arr_pred[j, idx]\n",
    "            ro_2_unknown_table[i, j] = ro_2_unknown_table[j, i] = sq(x_i - x_j)\n",
    "    return ro_2_unknown_table"
   ]
  },
  {
   "cell_type": "code",
   "execution_count": 8,
   "metadata": {},
   "outputs": [
    {
     "name": "stderr",
     "output_type": "stream",
     "text": [
      "100%|██████████| 569/569 [00:06<00:00, 86.90it/s]\n",
      "100%|██████████| 569/569 [00:11<00:00, 50.54it/s]\n",
      "100%|██████████| 569/569 [00:05<00:00, 95.12it/s]\n"
     ]
    }
   ],
   "source": [
    "ro_known_table = get_known_table()\n",
    "ro_1_unknown_table = get_ro_1_unknown_table()\n",
    "ro_2_unknown_table = get_ro_2_unknown_table()"
   ]
  },
  {
   "cell_type": "code",
   "execution_count": 9,
   "metadata": {},
   "outputs": [],
   "source": [
    "def F1(k_arr):\n",
    "    '''\n",
    "    k - коэффициент при втором расстоянии\n",
    "    '''\n",
    "    f = 0\n",
    "    for i in tqdm(range(n)):\n",
    "        for j in range(i+1, n):\n",
    "            ro1 = ro_known_table[i, j] # известно оба \n",
    "            ro2 = ro_1_unknown_table[i, j] # известен 1 \n",
    "            ro3 = ro_2_unknown_table[i, j] # не известно ниче\n",
    "            \n",
    "            r1 = np.sqrt(ro1 + ro2 + ro3) #по всем признакам(р)\n",
    "            r2 = np.sqrt(ro1) # по известным признакам(р+)\n",
    "            f += (r1 - k_arr[i, j]*r2)**2\n",
    "    return f\n",
    "\n",
    "def F2(k_arr):\n",
    "    '''\n",
    "    k - коэффициент при втором расстоянии\n",
    "    '''\n",
    "    f = 0\n",
    "    for i in tqdm(range(n)):\n",
    "        for j in range(i+1, n):\n",
    "            ro1 = ro_known_table[i, j] # известно оба \n",
    "            ro2 = ro_1_unknown_table[i, j] # известен 1 \n",
    "            ro3 = ro_2_unknown_table[i, j] # не известно ниче\n",
    "            \n",
    "            r1 = np.sqrt(ro1 + ro2 + ro3)\n",
    "            r2 = np.sqrt(ro1 + ro2)\n",
    "            f += (r1 - k_arr[i, j]*r2)**2\n",
    "    return f"
   ]
  },
  {
   "cell_type": "code",
   "execution_count": 10,
   "metadata": {},
   "outputs": [],
   "source": [
    "def grad_f2(i, j, k_arr):\n",
    "    '''\n",
    "    Считает градиент по y_i,j\n",
    "    '''\n",
    "    s = 0\n",
    "    for i1 in range(n):\n",
    "        ro1 = ro_known_table[i, i1]\n",
    "        if ro1 <= 0:\n",
    "            continue\n",
    "        if i1 == i:\n",
    "            continue\n",
    "        ro2 = ro_1_unknown_table[i, i1]\n",
    "        ro3 = ro_2_unknown_table[i, i1]\n",
    "        \n",
    "        r1 = np.sqrt(ro1 + ro2 + ro3) #по всем признакам(р)\n",
    "        r2 = np.sqrt(ro1 + ro2) # по известным признакам(р+)\n",
    "        if r1 > 0 and r2 > 0:\n",
    "            s += 2 * (r1 - k_arr[i1, i]*r2)\n",
    "            delta_x1 = (arr_pred[i, j] - arr_pred[i1, j])\n",
    "            if not np.isnan(arr_nan[i1, j]):\n",
    "                delta_x2 = delta_x1\n",
    "            else:\n",
    "                delta_x2 = 0\n",
    "            delta_s = (r2 - k*r1)*(delta_x1/r2 - k_arr[i1, i]*delta_x2/r1)\n",
    "            s += delta_s\n",
    "    return s\n",
    "\n",
    "def get_full_grad_f2(nan_coords, k_arr):\n",
    "    grad = []\n",
    "    for i, j in nan_coords:\n",
    "        grad.append(grad_f2(i, j, k_arr))\n",
    "    return np.array(grad)"
   ]
  },
  {
   "cell_type": "code",
   "execution_count": 11,
   "metadata": {},
   "outputs": [],
   "source": [
    "def grad_f1(i, j, k_arr):\n",
    "    '''\n",
    "    Считает градиент по y_i,j\n",
    "    '''\n",
    "    s = 0\n",
    "    for i1 in range(n):\n",
    "        ro1 = ro_known_table[i, i1]\n",
    "        if ro1 <= 0:\n",
    "            continue\n",
    "        if i1 == i:\n",
    "            continue\n",
    "        ro2 = ro_1_unknown_table[i, i1]\n",
    "        ro3 = ro_2_unknown_table[i, i1]\n",
    "        r1 = np.sqrt(ro1 + ro2 + ro3) #по всем признакам(р)\n",
    "        r2 = np.sqrt(ro1) # по известным признакам(р+)\n",
    "        s += 2 * (1 - k_arr[i1, i]*r2/r1) * (arr_pred[i, j] - arr_pred[i1, j])\n",
    "    return s\n",
    "\n",
    "def get_full_grad_f1(nan_coords, k_arr):\n",
    "    grad = []\n",
    "    for i, j in nan_coords:\n",
    "        grad.append(grad_f1(i, j, k_arr))\n",
    "    return np.array(grad)\n",
    "\n",
    "from sklearn.metrics import mean_absolute_error\n",
    "from sklearn.metrics import mean_squared_error\n",
    "\n",
    "def get_mae(arr1, arr2, nan_coords):\n",
    "    vec1 = []\n",
    "    vec2 = []\n",
    "    for j, (x,y) in enumerate(nan_coords):\n",
    "        vec1.append(arr1[x, y])\n",
    "        vec2.append(arr2[x, y])\n",
    "    return mean_absolute_error(vec1, vec2)\n",
    "\n",
    "def get_msqe(arr1, arr2, nan_coords):\n",
    "    vec1 = []\n",
    "    vec2 = []\n",
    "    for j, (x,y) in enumerate(nan_coords):\n",
    "        vec1.append(arr1[x, y])\n",
    "        vec2.append(arr2[x, y])\n",
    "    return mean_squared_error(vec1, vec2)"
   ]
  },
  {
   "cell_type": "markdown",
   "metadata": {},
   "source": [
    "Тестовый прогон"
   ]
  },
  {
   "cell_type": "markdown",
   "metadata": {},
   "source": [
    "# Iterative process"
   ]
  },
  {
   "cell_type": "code",
   "execution_count": 12,
   "metadata": {},
   "outputs": [
    {
     "name": "stderr",
     "output_type": "stream",
     "text": [
      "100%|██████████| 569/569 [00:01<00:00, 314.67it/s]\n"
     ]
    }
   ],
   "source": [
    "k_arr = np.ones((n, n))\n",
    "c = F1(k_arr)"
   ]
  },
  {
   "cell_type": "code",
   "execution_count": 1,
   "metadata": {},
   "outputs": [
    {
     "ename": "NameError",
     "evalue": "name 'functions' is not defined",
     "output_type": "error",
     "traceback": [
      "\u001b[0;31m---------------------------------------------------------------------------\u001b[0m",
      "\u001b[0;31mNameError\u001b[0m                                 Traceback (most recent call last)",
      "\u001b[0;32m<ipython-input-1-b4dfda9fb110>\u001b[0m in \u001b[0;36m<module>\u001b[0;34m()\u001b[0m\n\u001b[0;32m----> 1\u001b[0;31m \u001b[0mmae\u001b[0m \u001b[0;34m=\u001b[0m \u001b[0mfunctions\u001b[0m\u001b[0;34m.\u001b[0m\u001b[0mget_mae\u001b[0m\u001b[0;34m(\u001b[0m\u001b[0marr_raw\u001b[0m\u001b[0;34m,\u001b[0m \u001b[0marr_pred\u001b[0m\u001b[0;34m,\u001b[0m \u001b[0mnan_coords\u001b[0m\u001b[0;34m)\u001b[0m\u001b[0;34m\u001b[0m\u001b[0m\n\u001b[0m\u001b[1;32m      2\u001b[0m \u001b[0mmae\u001b[0m\u001b[0;34m\u001b[0m\u001b[0m\n",
      "\u001b[0;31mNameError\u001b[0m: name 'functions' is not defined"
     ]
    }
   ],
   "source": [
    "mae = functions.get_mae(arr_raw, arr_pred, nan_coords)\n",
    "mae"
   ]
  },
  {
   "cell_type": "code",
   "execution_count": 14,
   "metadata": {},
   "outputs": [],
   "source": [
    "cs = []\n",
    "maes = []\n",
    "msqes = []\n",
    "accs = []\n",
    "\n",
    "mae = functions.get_mae(arr_raw, arr_pred, nan_coords)\n",
    "msqe = functions.get_msqe(arr_raw, arr_pred, nan_coords)\n",
    "acc = functions.get_acc(arr_pred, target)\n",
    "\n",
    "cs.append(c)\n",
    "maes.append(mae)\n",
    "msqes.append(msqe)\n",
    "accs.append(acc)"
   ]
  },
  {
   "cell_type": "code",
   "execution_count": 15,
   "metadata": {
    "scrolled": false
   },
   "outputs": [
    {
     "name": "stdout",
     "output_type": "stream",
     "text": [
      "\tIteration 0 //  c 89.5749 // mae 0.120803 // rmse 0.0230583 // acc 0\n"
     ]
    },
    {
     "name": "stderr",
     "output_type": "stream",
     "text": [
      "100%|██████████| 569/569 [00:04<00:00, 122.42it/s]\n",
      "100%|██████████| 569/569 [00:03<00:00, 165.24it/s]\n",
      "100%|██████████| 569/569 [00:01<00:00, 373.82it/s]\n"
     ]
    },
    {
     "name": "stdout",
     "output_type": "stream",
     "text": [
      "\tIteration 1 // c 88.9169 // mae 0.119834 // rmse 0.0227454 // acc 0\n"
     ]
    },
    {
     "name": "stderr",
     "output_type": "stream",
     "text": [
      "100%|██████████| 569/569 [00:04<00:00, 126.02it/s]\n",
      "100%|██████████| 569/569 [00:03<00:00, 166.17it/s]\n",
      "100%|██████████| 569/569 [00:01<00:00, 376.01it/s]\n"
     ]
    },
    {
     "name": "stdout",
     "output_type": "stream",
     "text": [
      "\tIteration 2 // c 88.3199 // mae 0.118917 // rmse 0.0224506 // acc 0\n"
     ]
    },
    {
     "name": "stderr",
     "output_type": "stream",
     "text": [
      "100%|██████████| 569/569 [00:04<00:00, 125.84it/s]\n",
      "100%|██████████| 569/569 [00:03<00:00, 157.80it/s]\n",
      "100%|██████████| 569/569 [00:01<00:00, 343.13it/s]\n"
     ]
    },
    {
     "name": "stdout",
     "output_type": "stream",
     "text": [
      "\tIteration 3 // c 87.7772 // mae 0.118051 // rmse 0.0221727 // acc 0\n"
     ]
    },
    {
     "name": "stderr",
     "output_type": "stream",
     "text": [
      "100%|██████████| 569/569 [00:04<00:00, 125.87it/s]\n",
      "100%|██████████| 569/569 [00:04<00:00, 133.26it/s]\n",
      "100%|██████████| 569/569 [00:01<00:00, 347.57it/s]\n"
     ]
    },
    {
     "name": "stdout",
     "output_type": "stream",
     "text": [
      "\tIteration 4 // c 87.283 // mae 0.117227 // rmse 0.0219104 // acc 0\n"
     ]
    },
    {
     "name": "stderr",
     "output_type": "stream",
     "text": [
      "100%|██████████| 569/569 [00:04<00:00, 122.28it/s]\n",
      "100%|██████████| 569/569 [00:03<00:00, 166.33it/s]\n",
      "100%|██████████| 569/569 [00:01<00:00, 377.15it/s]\n"
     ]
    },
    {
     "name": "stdout",
     "output_type": "stream",
     "text": [
      "\tIteration 5 // c 86.8322 // mae 0.116443 // rmse 0.0216626 // acc 0\n"
     ]
    },
    {
     "name": "stderr",
     "output_type": "stream",
     "text": [
      "100%|██████████| 569/569 [00:04<00:00, 121.86it/s]\n",
      "100%|██████████| 569/569 [00:03<00:00, 165.98it/s]\n",
      "100%|██████████| 569/569 [00:01<00:00, 379.04it/s]\n"
     ]
    },
    {
     "name": "stdout",
     "output_type": "stream",
     "text": [
      "\tIteration 6 // c 86.4205 // mae 0.115699 // rmse 0.0214283 // acc 0\n"
     ]
    },
    {
     "name": "stderr",
     "output_type": "stream",
     "text": [
      "100%|██████████| 569/569 [00:04<00:00, 129.86it/s]\n",
      "100%|██████████| 569/569 [00:03<00:00, 142.85it/s]\n",
      "100%|██████████| 569/569 [00:01<00:00, 364.29it/s]\n"
     ]
    },
    {
     "name": "stdout",
     "output_type": "stream",
     "text": [
      "\tIteration 7 // c 86.0439 // mae 0.115001 // rmse 0.0212064 // acc 0\n"
     ]
    },
    {
     "name": "stderr",
     "output_type": "stream",
     "text": [
      "100%|██████████| 569/569 [00:05<00:00, 105.71it/s]\n",
      "100%|██████████| 569/569 [00:03<00:00, 169.27it/s]\n",
      "100%|██████████| 569/569 [00:01<00:00, 389.45it/s]\n"
     ]
    },
    {
     "name": "stdout",
     "output_type": "stream",
     "text": [
      "\tIteration 8 // c 85.6989 // mae 0.114336 // rmse 0.0209963 // acc 0\n"
     ]
    },
    {
     "name": "stderr",
     "output_type": "stream",
     "text": [
      "100%|██████████| 569/569 [00:04<00:00, 136.07it/s]\n",
      "100%|██████████| 569/569 [00:03<00:00, 173.75it/s]\n",
      "100%|██████████| 569/569 [00:01<00:00, 392.46it/s]\n"
     ]
    },
    {
     "name": "stdout",
     "output_type": "stream",
     "text": [
      "\tIteration 9 // c 85.3825 // mae 0.113702 // rmse 0.0207972 // acc 0\n"
     ]
    },
    {
     "name": "stderr",
     "output_type": "stream",
     "text": [
      "100%|██████████| 569/569 [00:04<00:00, 129.01it/s]\n",
      "100%|██████████| 569/569 [00:03<00:00, 173.78it/s]\n",
      "100%|██████████| 569/569 [00:01<00:00, 391.55it/s]\n"
     ]
    },
    {
     "name": "stdout",
     "output_type": "stream",
     "text": [
      "\tIteration 10 // c 85.092 // mae 0.113105 // rmse 0.0206082 // acc 0\n"
     ]
    },
    {
     "name": "stderr",
     "output_type": "stream",
     "text": [
      "100%|██████████| 569/569 [00:04<00:00, 128.25it/s]\n",
      "100%|██████████| 569/569 [00:03<00:00, 175.58it/s]\n",
      "100%|██████████| 569/569 [00:01<00:00, 391.83it/s]\n"
     ]
    },
    {
     "name": "stdout",
     "output_type": "stream",
     "text": [
      "\tIteration 11 // c 84.825 // mae 0.11254 // rmse 0.0204289 // acc 0\n"
     ]
    },
    {
     "name": "stderr",
     "output_type": "stream",
     "text": [
      "100%|██████████| 569/569 [00:04<00:00, 132.52it/s]\n",
      "100%|██████████| 569/569 [00:03<00:00, 167.29it/s]\n",
      "100%|██████████| 569/569 [00:01<00:00, 388.24it/s]\n"
     ]
    },
    {
     "name": "stdout",
     "output_type": "stream",
     "text": [
      "\tIteration 12 // c 84.5794 // mae 0.112 // rmse 0.0202586 // acc 0\n"
     ]
    },
    {
     "name": "stderr",
     "output_type": "stream",
     "text": [
      "100%|██████████| 569/569 [00:04<00:00, 130.92it/s]\n",
      "100%|██████████| 569/569 [00:03<00:00, 172.84it/s]\n",
      "100%|██████████| 569/569 [00:01<00:00, 391.86it/s]\n"
     ]
    },
    {
     "name": "stdout",
     "output_type": "stream",
     "text": [
      "\tIteration 13 // c 84.3531 // mae 0.111488 // rmse 0.0200966 // acc 0\n"
     ]
    },
    {
     "name": "stderr",
     "output_type": "stream",
     "text": [
      "100%|██████████| 569/569 [00:04<00:00, 131.22it/s]\n",
      "100%|██████████| 569/569 [00:03<00:00, 172.11it/s]\n",
      "100%|██████████| 569/569 [00:01<00:00, 396.15it/s]\n"
     ]
    },
    {
     "name": "stdout",
     "output_type": "stream",
     "text": [
      "\tIteration 14 // c 84.1445 // mae 0.110998 // rmse 0.0199427 // acc 0\n"
     ]
    },
    {
     "name": "stderr",
     "output_type": "stream",
     "text": [
      "100%|██████████| 569/569 [00:04<00:00, 116.36it/s]\n",
      "100%|██████████| 569/569 [00:04<00:00, 132.48it/s]\n",
      "100%|██████████| 569/569 [00:01<00:00, 351.46it/s]\n"
     ]
    },
    {
     "name": "stdout",
     "output_type": "stream",
     "text": [
      "\tIteration 15 // c 83.9521 // mae 0.110531 // rmse 0.0197962 // acc 0\n"
     ]
    },
    {
     "name": "stderr",
     "output_type": "stream",
     "text": [
      "  6%|▌         | 32/569 [00:00<00:10, 49.08it/s]\n"
     ]
    },
    {
     "ename": "KeyboardInterrupt",
     "evalue": "",
     "output_type": "error",
     "traceback": [
      "\u001b[0;31m---------------------------------------------------------------------------\u001b[0m",
      "\u001b[0;31mKeyboardInterrupt\u001b[0m                         Traceback (most recent call last)",
      "\u001b[0;32m<ipython-input-15-5b91521e0bd3>\u001b[0m in \u001b[0;36m<module>\u001b[0;34m()\u001b[0m\n\u001b[1;32m      7\u001b[0m         \u001b[0marr_pred\u001b[0m\u001b[0;34m[\u001b[0m\u001b[0mx\u001b[0m\u001b[0;34m,\u001b[0m \u001b[0my\u001b[0m\u001b[0;34m]\u001b[0m \u001b[0;34m=\u001b[0m \u001b[0marr_pred\u001b[0m\u001b[0;34m[\u001b[0m\u001b[0mx\u001b[0m\u001b[0;34m,\u001b[0m \u001b[0my\u001b[0m\u001b[0;34m]\u001b[0m \u001b[0;34m-\u001b[0m \u001b[0malpha\u001b[0m\u001b[0;34m*\u001b[0m\u001b[0mgrad\u001b[0m\u001b[0;34m[\u001b[0m\u001b[0mj\u001b[0m\u001b[0;34m]\u001b[0m\u001b[0;34m\u001b[0m\u001b[0m\n\u001b[1;32m      8\u001b[0m \u001b[0;34m\u001b[0m\u001b[0m\n\u001b[0;32m----> 9\u001b[0;31m     \u001b[0mro_1_unknown_table\u001b[0m \u001b[0;34m=\u001b[0m \u001b[0mget_ro_1_unknown_table\u001b[0m\u001b[0;34m(\u001b[0m\u001b[0;34m)\u001b[0m\u001b[0;34m\u001b[0m\u001b[0m\n\u001b[0m\u001b[1;32m     10\u001b[0m     \u001b[0mro_2_unknown_table\u001b[0m \u001b[0;34m=\u001b[0m \u001b[0mget_ro_2_unknown_table\u001b[0m\u001b[0;34m(\u001b[0m\u001b[0;34m)\u001b[0m\u001b[0;34m\u001b[0m\u001b[0m\n\u001b[1;32m     11\u001b[0m     \u001b[0mc\u001b[0m \u001b[0;34m=\u001b[0m \u001b[0mF1\u001b[0m\u001b[0;34m(\u001b[0m\u001b[0mk_arr\u001b[0m\u001b[0;34m)\u001b[0m\u001b[0;34m\u001b[0m\u001b[0m\n",
      "\u001b[0;32m<ipython-input-7-ea6175b338ea>\u001b[0m in \u001b[0;36mget_ro_1_unknown_table\u001b[0;34m()\u001b[0m\n\u001b[1;32m     22\u001b[0m         \u001b[0;32mfor\u001b[0m \u001b[0mj\u001b[0m \u001b[0;32min\u001b[0m \u001b[0mrange\u001b[0m\u001b[0;34m(\u001b[0m\u001b[0mi\u001b[0m\u001b[0;34m,\u001b[0m \u001b[0mn\u001b[0m\u001b[0;34m)\u001b[0m\u001b[0;34m:\u001b[0m\u001b[0;34m\u001b[0m\u001b[0m\n\u001b[1;32m     23\u001b[0m             \u001b[0midx_nan_i\u001b[0m \u001b[0;34m=\u001b[0m \u001b[0mnp\u001b[0m\u001b[0;34m.\u001b[0m\u001b[0misnan\u001b[0m\u001b[0;34m(\u001b[0m\u001b[0marr_nan\u001b[0m\u001b[0;34m[\u001b[0m\u001b[0mi\u001b[0m\u001b[0;34m]\u001b[0m\u001b[0;34m)\u001b[0m\u001b[0;34m\u001b[0m\u001b[0m\n\u001b[0;32m---> 24\u001b[0;31m             \u001b[0midx_nan_j\u001b[0m \u001b[0;34m=\u001b[0m \u001b[0mnp\u001b[0m\u001b[0;34m.\u001b[0m\u001b[0misnan\u001b[0m\u001b[0;34m(\u001b[0m\u001b[0marr_nan\u001b[0m\u001b[0;34m[\u001b[0m\u001b[0mj\u001b[0m\u001b[0;34m]\u001b[0m\u001b[0;34m)\u001b[0m\u001b[0;34m\u001b[0m\u001b[0m\n\u001b[0m\u001b[1;32m     25\u001b[0m             \u001b[0midx\u001b[0m \u001b[0;34m=\u001b[0m \u001b[0;34m(\u001b[0m\u001b[0midx_nan_i\u001b[0m \u001b[0;34m&\u001b[0m \u001b[0;34m~\u001b[0m\u001b[0midx_nan_j\u001b[0m\u001b[0;34m)\u001b[0m \u001b[0;34m|\u001b[0m \u001b[0;34m(\u001b[0m\u001b[0;34m~\u001b[0m\u001b[0midx_nan_i\u001b[0m \u001b[0;34m&\u001b[0m \u001b[0midx_nan_j\u001b[0m\u001b[0;34m)\u001b[0m\u001b[0;34m\u001b[0m\u001b[0m\n\u001b[1;32m     26\u001b[0m             \u001b[0mx_i\u001b[0m \u001b[0;34m=\u001b[0m \u001b[0marr_pred\u001b[0m\u001b[0;34m[\u001b[0m\u001b[0mi\u001b[0m\u001b[0;34m,\u001b[0m \u001b[0midx\u001b[0m\u001b[0;34m]\u001b[0m\u001b[0;34m\u001b[0m\u001b[0m\n",
      "\u001b[0;31mKeyboardInterrupt\u001b[0m: "
     ]
    }
   ],
   "source": [
    "alpha = 0.001\n",
    "max_iter = 30\n",
    "print('\\tIteration {} //  c {:.6} // mae {:.6} // rmse {:.6} // acc {}'.format(0, c, mae, msqe, acc))\n",
    "for i in range(max_iter):\n",
    "    grad = get_full_grad_f1(nan_coords, k_arr)\n",
    "    for j, (x,y) in enumerate(nan_coords):\n",
    "        arr_pred[x, y] = arr_pred[x, y] - alpha*grad[j]\n",
    "        \n",
    "    ro_1_unknown_table = get_ro_1_unknown_table()\n",
    "    ro_2_unknown_table = get_ro_2_unknown_table()\n",
    "    c = F1(k_arr)\n",
    "    mae = functions.get_mae(arr_raw, arr_pred, nan_coords)\n",
    "    msqe = functions.get_msqe(arr_raw, arr_pred, nan_coords)\n",
    "    acc = functions.get_acc(arr_pred, target)\n",
    "    \n",
    "    accs.append(acc)\n",
    "    cs.append(c)\n",
    "    maes.append(mae)\n",
    "    msqes.append(msqe)\n",
    "    print('\\tIteration {} // c {:.6} // mae {:.6} // rmse {:.6} // acc {}'.format(i+1, c,mae, msqe, acc))"
   ]
  },
  {
   "cell_type": "code",
   "execution_count": null,
   "metadata": {},
   "outputs": [],
   "source": [
    "grad = get_full_grad_f1(nan_coords, k_arr)"
   ]
  },
  {
   "cell_type": "code",
   "execution_count": null,
   "metadata": {},
   "outputs": [],
   "source": [
    "grad"
   ]
  }
 ],
 "metadata": {
  "kernelspec": {
   "display_name": "Python 3",
   "language": "python",
   "name": "python3"
  },
  "language_info": {
   "codemirror_mode": {
    "name": "ipython",
    "version": 3
   },
   "file_extension": ".py",
   "mimetype": "text/x-python",
   "name": "python",
   "nbconvert_exporter": "python",
   "pygments_lexer": "ipython3",
   "version": "3.6.3"
  }
 },
 "nbformat": 4,
 "nbformat_minor": 2
}
